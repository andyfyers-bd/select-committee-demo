{
 "cells": [
  {
   "cell_type": "code",
   "execution_count": 3,
   "id": "7109fd0b-e0a7-4a3d-81fe-7f60c8b045a5",
   "metadata": {
    "slideshow": {
     "slide_type": "slide"
    },
    "tags": []
   },
   "outputs": [],
   "source": [
    "import pandas as pd\n",
    "from IPython.display import HTML\n",
    "df = pd.read_csv('nbe-sentiment-added.csv')"
   ]
  },
  {
   "cell_type": "code",
   "execution_count": 8,
   "id": "03c1f64b-8d65-4ef6-8624-6afa260f9d58",
   "metadata": {
    "jupyter": {
     "source_hidden": true
    },
    "tags": []
   },
   "outputs": [],
   "source": [
    "# get some subset frames of the data\n",
    "sb = df[df.doc_type == \"Submission\"]\n",
    "ad = df[df.doc_type == \"Official advice\"]\n",
    "\n",
    "# read in the text summaries of high level themes\n",
    "with open('org_sum.txt', 'r') as file:\n",
    "    org_sum = file.read()\n",
    "\n",
    "with open('ind_sum.txt', 'r') as file:\n",
    "    # Read the entire content of the file into a variable\n",
    "    ind_sum = file.read()\n",
    "\n",
    "with open('ad_sum.txt', 'r') as file:\n",
    "    # Read the entire content of the file into a variable\n",
    "    ad_sum = file.read()\n",
    "#print (ad_sum)\n",
    "\n",
    "                                   \n",
    "# get some headline numbers from the data\n",
    "total_subs = len(df[df['doc_type'] == 'Submission']) # total number of submissions\n",
    "total_advice = len(df[df.doc_type == 'Official advice'])# total pieces of advice\n",
    "total_org_subs = len(df[(df.doc_type == 'Submission') & (df.entity_label == 'organisation')]) # total number of subs from orgs\n",
    "total_ind_subs = len(df[(df.doc_type == 'Submission') & (df.entity_label == 'person or persons')]) # total number of subs from person or persons"
   ]
  },
  {
   "cell_type": "code",
   "execution_count": 349,
   "id": "442f1629-330a-4724-8f9c-0ae239952527",
   "metadata": {
    "jupyter": {
     "source_hidden": true
    },
    "tags": []
   },
   "outputs": [
    {
     "data": {
      "text/html": [
       "<h2>Natural and Built Environment Bill – Environment Committee</h2>"
      ],
      "text/plain": [
       "<IPython.core.display.HTML object>"
      ]
     },
     "metadata": {},
     "output_type": "display_data"
    }
   ],
   "source": [
    "display(HTML(f\"<h2>{df.item.unique()[0]} – {df.committee.unique()[0]}</h2>\"))"
   ]
  },
  {
   "cell_type": "code",
   "execution_count": 9,
   "id": "9b5e0f7a-fc23-4a39-9824-da3f26704d6b",
   "metadata": {
    "jupyter": {
     "source_hidden": true
    },
    "tags": []
   },
   "outputs": [
    {
     "data": {
      "text/html": [
       "<h2>Some headline numbers</h2>"
      ],
      "text/plain": [
       "<IPython.core.display.HTML object>"
      ]
     },
     "metadata": {},
     "output_type": "display_data"
    },
    {
     "data": {
      "text/html": [
       "<h5>There are 54 pieces of official advice and 316 submissions (293 from organisations, 23 from members of the public) associated with this bill.</h5>"
      ],
      "text/plain": [
       "<IPython.core.display.HTML object>"
      ]
     },
     "metadata": {},
     "output_type": "display_data"
    }
   ],
   "source": [
    "display(HTML(f\"<h2>Some headline numbers</h2>\"))\n",
    "\n",
    "display(HTML(f\"<h5>There are {total_advice} pieces of official advice and {total_subs} submissions ({total_org_subs} from organisations, \\\n",
    "{total_ind_subs} from members of the public) associated with this bill.</h5>\"))"
   ]
  },
  {
   "cell_type": "code",
   "execution_count": 10,
   "id": "d1e0a925-9476-433b-9dac-21622e7752bc",
   "metadata": {
    "jupyter": {
     "source_hidden": true
    },
    "tags": []
   },
   "outputs": [
    {
     "data": {
      "text/html": [
       "<h2>Summarise the key recommendations from officials<h2>"
      ],
      "text/plain": [
       "<IPython.core.display.HTML object>"
      ]
     },
     "metadata": {},
     "output_type": "display_data"
    },
    {
     "data": {
      "text/html": [
       "<h5> - Include provisions for freshwater farm plans in the Natural and Built Environment Bill to manage farms' impact on freshwater quality. </h5>"
      ],
      "text/plain": [
       "<IPython.core.display.HTML object>"
      ]
     },
     "metadata": {},
     "output_type": "display_data"
    },
    {
     "data": {
      "text/html": [
       "<h5> - Do not reinsert public access areas into the definition of places of national importance due to their replaceable nature and existing legal protections. </h5>"
      ],
      "text/plain": [
       "<IPython.core.display.HTML object>"
      ]
     },
     "metadata": {},
     "output_type": "display_data"
    },
    {
     "data": {
      "text/html": [
       "<h5> - Adopt a more efficient and outcome-focused approach to consenting, including clearer activity categories, strategic notification, and reduced requirements for hearing notified consents. </h5>"
      ],
      "text/plain": [
       "<IPython.core.display.HTML object>"
      ]
     },
     "metadata": {},
     "output_type": "display_data"
    },
    {
     "data": {
      "text/html": [
       "<h5> - Establish Regional Planning Committees (RPCs) with separate legal standing and independence from local authorities to enable integrated and strategic decision-making. </h5>"
      ],
      "text/plain": [
       "<IPython.core.display.HTML object>"
      ]
     },
     "metadata": {},
     "output_type": "display_data"
    },
    {
     "data": {
      "text/html": [
       "<h5> - Amend clause 3 of the Natural and Built Environment Bill to uphold Te Oranga o te Taiao (the health of the natural environment) and clarify that use and development should support intergenerational well-being. </h5>"
      ],
      "text/plain": [
       "<IPython.core.display.HTML object>"
      ]
     },
     "metadata": {},
     "output_type": "display_data"
    },
    {
     "data": {
      "text/html": [
       "<h5> - Replace certain definitions and cross-references in the Marine and Coastal Area (Takutai Moana) Act 2011 with those from the Natural and Built Environments Act 2023. </h5>"
      ],
      "text/plain": [
       "<IPython.core.display.HTML object>"
      ]
     },
     "metadata": {},
     "output_type": "display_data"
    },
    {
     "data": {
      "text/html": [
       "<h5> - Use the term \"give effect\" to provide a strong directive and create a firm obligation on decision-makers. </h5>"
      ],
      "text/plain": [
       "<IPython.core.display.HTML object>"
      ]
     },
     "metadata": {},
     "output_type": "display_data"
    },
    {
     "data": {
      "text/html": [
       "<h5> - Clarify the definitions and application of the resource allocation principles in the Natural and Built Environment Bill. </h5>"
      ],
      "text/plain": [
       "<IPython.core.display.HTML object>"
      ]
     },
     "metadata": {},
     "output_type": "display_data"
    },
    {
     "data": {
      "text/html": [
       "<h5> - Amend clause 102 to include additional matters suggested by submitters, including references to climate change, public access, cumulative effects of permitted activities, geothermal resources, electricity distribution infrastructure, aggregate resources, supply chains, conflict resolution, community safety and resilience, drainage infrastructure, integration of land use and transport, and provisions reflecting limits/minimum targets. </h5>"
      ],
      "text/plain": [
       "<IPython.core.display.HTML object>"
      ]
     },
     "metadata": {},
     "output_type": "display_data"
    },
    {
     "data": {
      "text/html": [
       "<h5> - Proceed with the proposed content for the first National Planning Framework and continue working on determining the scope and content for future amendments. </h5>"
      ],
      "text/plain": [
       "<IPython.core.display.HTML object>"
      ]
     },
     "metadata": {},
     "output_type": "display_data"
    },
    {
     "data": {
      "text/html": [
       "<h5> - Establish independent Regional Planning Committees to enable effective collaboration and decision-making at the regional level. </h5>"
      ],
      "text/plain": [
       "<IPython.core.display.HTML object>"
      ]
     },
     "metadata": {},
     "output_type": "display_data"
    },
    {
     "data": {
      "text/html": [
       "<h5> - Make amendments to the Natural and Built Environment Bill to include specific safeguards and requirements for certain provisions. </h5>"
      ],
      "text/plain": [
       "<IPython.core.display.HTML object>"
      ]
     },
     "metadata": {},
     "output_type": "display_data"
    },
    {
     "data": {
      "text/html": [
       "<h5> - Implement the framework for places of national importance and highly vulnerable biodiversity areas to protect important places and biodiversity. </h5>"
      ],
      "text/plain": [
       "<IPython.core.display.HTML object>"
      ]
     },
     "metadata": {},
     "output_type": "display_data"
    },
    {
     "data": {
      "text/html": [
       "<h5> - Adopt the allocation framework to enable strategic resource allocation. </h5>"
      ],
      "text/plain": [
       "<IPython.core.display.HTML object>"
      ]
     },
     "metadata": {},
     "output_type": "display_data"
    },
    {
     "data": {
      "text/html": [
       "<h5> - Make amendments to the Natural and Built Environment Bill to address the concerns raised by the Chief Justice and ensure that the role and functions of the courts are appropriately defined and protected. </h5>"
      ],
      "text/plain": [
       "<IPython.core.display.HTML object>"
      ]
     },
     "metadata": {},
     "output_type": "display_data"
    },
    {
     "data": {
      "text/html": [
       "<h5> - Require Regional Spatial Strategies to be consistent with environmental limits and targets, include places of national and regional importance in the scope of Regional Spatial Strategies, delay the preparation of Regional Spatial Strategies until limits, targets, and places of importance have been set, and strengthen the language around cumulative effects. </h5>"
      ],
      "text/plain": [
       "<IPython.core.display.HTML object>"
      ]
     },
     "metadata": {},
     "output_type": "display_data"
    },
    {
     "data": {
      "text/html": [
       "<h5> - Retain the purpose and system outcomes of the NBA and ensure that the NPF provides direction on the integrated management of the environment.</h5>"
      ],
      "text/plain": [
       "<IPython.core.display.HTML object>"
      ]
     },
     "metadata": {},
     "output_type": "display_data"
    }
   ],
   "source": [
    "display(HTML(f\"<h2>Summarise the key recommendations from officials<h2>\"))\n",
    "ad_list = ad_sum.split(\"- \")\n",
    "for i in ad_list[1:]:\n",
    "    i = i.replace(\"\\n\", \" \")\n",
    "    display(HTML(f\"<h5> - {i}</h5>\"))"
   ]
  },
  {
   "cell_type": "code",
   "execution_count": 11,
   "id": "ab311518-246c-4782-9028-fae53fdc6062",
   "metadata": {
    "jupyter": {
     "source_hidden": true
    },
    "tags": []
   },
   "outputs": [
    {
     "data": {
      "text/html": [
       "<h3>Highlight some key themes put forward in submissions by organisations such as councils, interest groups, companies and other groups</h3>"
      ],
      "text/plain": [
       "<IPython.core.display.HTML object>"
      ]
     },
     "metadata": {},
     "output_type": "display_data"
    },
    {
     "data": {
      "text/html": [
       "<h5> - Concerns about the speed and complexity of the Resource Management Act (RMA) reform process.\n",
       "</h5>"
      ],
      "text/plain": [
       "<IPython.core.display.HTML object>"
      ]
     },
     "metadata": {},
     "output_type": "display_data"
    },
    {
     "data": {
      "text/html": [
       "<h5> - Need for clearer and more streamlined planning and consenting processes.\n",
       "</h5>"
      ],
      "text/plain": [
       "<IPython.core.display.HTML object>"
      ]
     },
     "metadata": {},
     "output_type": "display_data"
    },
    {
     "data": {
      "text/html": [
       "<h5> - Emphasis on the importance of housing and infrastructure development, particularly for retirement villages and water services.\n",
       "</h5>"
      ],
      "text/plain": [
       "<IPython.core.display.HTML object>"
      ]
     },
     "metadata": {},
     "output_type": "display_data"
    },
    {
     "data": {
      "text/html": [
       "<h5> - Concerns about potential conflicts between environmental limits and infrastructure needs.\n",
       "</h5>"
      ],
      "text/plain": [
       "<IPython.core.display.HTML object>"
      ]
     },
     "metadata": {},
     "output_type": "display_data"
    },
    {
     "data": {
      "text/html": [
       "<h5> - Calls for greater alignment between the new bills and other government reforms.\n",
       "</h5>"
      ],
      "text/plain": [
       "<IPython.core.display.HTML object>"
      ]
     },
     "metadata": {},
     "output_type": "display_data"
    },
    {
     "data": {
      "text/html": [
       "<h5> - Criticisms about the lack of consultation and engagement with various stakeholders, including iwi and hapū.\n",
       "</h5>"
      ],
      "text/plain": [
       "<IPython.core.display.HTML object>"
      ]
     },
     "metadata": {},
     "output_type": "display_data"
    },
    {
     "data": {
      "text/html": [
       "<h5> - Concerns about the potential erosion of property rights and existing use rights.\n",
       "</h5>"
      ],
      "text/plain": [
       "<IPython.core.display.HTML object>"
      ]
     },
     "metadata": {},
     "output_type": "display_data"
    },
    {
     "data": {
      "text/html": [
       "<h5> - Calls for greater clarity and certainty in the new bills, particularly regarding definitions, outcomes, and decision-making principles.\n",
       "</h5>"
      ],
      "text/plain": [
       "<IPython.core.display.HTML object>"
      ]
     },
     "metadata": {},
     "output_type": "display_data"
    },
    {
     "data": {
      "text/html": [
       "<h5> - Emphasis on the need for adequate resourcing and capacity building to implement the new system.\n",
       "</h5>"
      ],
      "text/plain": [
       "<IPython.core.display.HTML object>"
      ]
     },
     "metadata": {},
     "output_type": "display_data"
    },
    {
     "data": {
      "text/html": [
       "<h5> - Concerns about the potential impacts on investment certainty and economic activities, such as the wine industry and energy sector.\n",
       "</h5>"
      ],
      "text/plain": [
       "<IPython.core.display.HTML object>"
      ]
     },
     "metadata": {},
     "output_type": "display_data"
    },
    {
     "data": {
      "text/html": [
       "<h5> - Calls for greater recognition and protection of iwi and hapū rights and interests, particularly in relation to freshwater and Te Tiriti o Waitangi settlements.\n",
       "</h5>"
      ],
      "text/plain": [
       "<IPython.core.display.HTML object>"
      ]
     },
     "metadata": {},
     "output_type": "display_data"
    },
    {
     "data": {
      "text/html": [
       "<h5> - Concerns about the potential implications of the new bills for the operation of courts and the judiciary.</h5>"
      ],
      "text/plain": [
       "<IPython.core.display.HTML object>"
      ]
     },
     "metadata": {},
     "output_type": "display_data"
    }
   ],
   "source": [
    "display(HTML(f\"<h3>Highlight some key themes put forward in submissions by organisations such as councils, interest groups, companies and other groups</h3>\"))\n",
    "org_sum_list = org_sum.split(\"- \")\n",
    "for i in org_sum_list[1:]:\n",
    "    display(HTML(f\"<h5> - {i}</h5>\"))"
   ]
  },
  {
   "cell_type": "code",
   "execution_count": 13,
   "id": "95ea5c41-46c9-4cb0-a14a-6b65a1dff432",
   "metadata": {
    "jupyter": {
     "source_hidden": true
    },
    "tags": []
   },
   "outputs": [
    {
     "data": {
      "text/html": [
       "<h3>What are members of the public concerned about ... submissions by individuals</h3>"
      ],
      "text/plain": [
       "<IPython.core.display.HTML object>"
      ]
     },
     "metadata": {},
     "output_type": "display_data"
    },
    {
     "data": {
      "text/html": [
       "<h5> </h5>"
      ],
      "text/plain": [
       "<IPython.core.display.HTML object>"
      ]
     },
     "metadata": {},
     "output_type": "display_data"
    },
    {
     "data": {
      "text/html": [
       "<h5> Concerns about the protection and regeneration of the natural environment, particularly in relation to legislation such as the Natural and Built Environment Bill (NBEB) and Spatial Planning Bill (SPB).\n",
       "</h5>"
      ],
      "text/plain": [
       "<IPython.core.display.HTML object>"
      ]
     },
     "metadata": {},
     "output_type": "display_data"
    },
    {
     "data": {
      "text/html": [
       "<h5> Arguments for prioritizing ecological and environmental benefits over development and economic considerations.\n",
       "</h5>"
      ],
      "text/plain": [
       "<IPython.core.display.HTML object>"
      ]
     },
     "metadata": {},
     "output_type": "display_data"
    },
    {
     "data": {
      "text/html": [
       "<h5> The importance of public participation and transparency in decision-making processes related to environmental management.\n",
       "</h5>"
      ],
      "text/plain": [
       "<IPython.core.display.HTML object>"
      ]
     },
     "metadata": {},
     "output_type": "display_data"
    },
    {
     "data": {
      "text/html": [
       "<h5> The spiritual significance of natural features, such as Te Waikoropupū Springs, and the need for their protection.\n",
       "</h5>"
      ],
      "text/plain": [
       "<IPython.core.display.HTML object>"
      ]
     },
     "metadata": {},
     "output_type": "display_data"
    },
    {
     "data": {
      "text/html": [
       "<h5> The potential negative impacts of certain practices, such as flood harvesting, on the environment and the need for further research and regulation.\n",
       "</h5>"
      ],
      "text/plain": [
       "<IPython.core.display.HTML object>"
      ]
     },
     "metadata": {},
     "output_type": "display_data"
    },
    {
     "data": {
      "text/html": [
       "<h5> Criticism of current responses to the climate crisis and calls for a shift in attitudes and practices, including a move towards earth-centered legal systems and sustainable architecture.\n",
       "</h5>"
      ],
      "text/plain": [
       "<IPython.core.display.HTML object>"
      ]
     },
     "metadata": {},
     "output_type": "display_data"
    },
    {
     "data": {
      "text/html": [
       "<h5> The use of supplementary photos in submissions to illustrate environmental changes and impacts.\n",
       "</h5>"
      ],
      "text/plain": [
       "<IPython.core.display.HTML object>"
      ]
     },
     "metadata": {},
     "output_type": "display_data"
    },
    {
     "data": {
      "text/html": [
       "<h5> Concerns about the potential negative impacts of reclamation on landscapes and public access to natural areas.\n",
       "</h5>"
      ],
      "text/plain": [
       "<IPython.core.display.HTML object>"
      ]
     },
     "metadata": {},
     "output_type": "display_data"
    },
    {
     "data": {
      "text/html": [
       "<h5> The need for disruptive innovation and non-traditional approaches to address climate change effectively.\n",
       "</h5>"
      ],
      "text/plain": [
       "<IPython.core.display.HTML object>"
      ]
     },
     "metadata": {},
     "output_type": "display_data"
    },
    {
     "data": {
      "text/html": [
       "<h5> Calls for clearer purposes and priorities in environmental legislation.\n",
       "</h5>"
      ],
      "text/plain": [
       "<IPython.core.display.HTML object>"
      ]
     },
     "metadata": {},
     "output_type": "display_data"
    },
    {
     "data": {
      "text/html": [
       "<h5> The importance of considering the quality of both the natural and built environment in planning and consenting decisions.</h5>"
      ],
      "text/plain": [
       "<IPython.core.display.HTML object>"
      ]
     },
     "metadata": {},
     "output_type": "display_data"
    }
   ],
   "source": [
    "display(HTML(f\"<h3>What are members of the public concerned about ... submissions by individuals</h3>\"))\n",
    "ind_sum_list = ind_sum.split(\"- \")\n",
    "for i in ind_sum_list:\n",
    "    display(HTML(f\"<h5> {i}</h5>\"))"
   ]
  },
  {
   "cell_type": "code",
   "execution_count": 28,
   "id": "fe62888e-7db2-4f64-98c7-d713c0b08db4",
   "metadata": {
    "jupyter": {
     "source_hidden": true
    },
    "tags": []
   },
   "outputs": [
    {
     "data": {
      "text/html": [
       "<h2>We can summarise every single submission and piece of official advice<h2>"
      ],
      "text/plain": [
       "<IPython.core.display.HTML object>"
      ]
     },
     "metadata": {},
     "output_type": "display_data"
    },
    {
     "data": {
      "text/html": [
       "<h3>One sentence summaries of submissions sorted from least to most 'positive' (ie most critical submissions shown first)<h3>"
      ],
      "text/plain": [
       "<IPython.core.display.HTML object>"
      ]
     },
     "metadata": {},
     "output_type": "display_data"
    },
    {
     "data": {
      "text/html": [
       "<b>PCE (Comment on departmental report - tranches 3A, 3B, and 4) – Official advice</b>"
      ],
      "text/plain": [
       "<IPython.core.display.HTML object>"
      ]
     },
     "metadata": {},
     "output_type": "display_data"
    },
    {
     "name": "stdout",
     "output_type": "stream",
     "text": [
      "amendments to the Natural and Built Environment Bill in order to clarify and improve the provisions related to community needs, environmental limits, resource allocation, consent decision-making, and adaptive management.\n",
      "\n"
     ]
    },
    {
     "data": {
      "text/html": [
       "<a href=https:////////www.parliament.nz////resource////en-NZ////53SCEN_ADV_129831_EN16932////e3793c5360d084e8d016d93766a8a18b8b2754d6>Read the full submission</a>"
      ],
      "text/plain": [
       "<IPython.core.display.HTML object>"
      ]
     },
     "metadata": {},
     "output_type": "display_data"
    },
    {
     "data": {
      "text/html": [
       "<b>ICOMOS NZ Supp 1 – Submission</b>"
      ],
      "text/plain": [
       "<IPython.core.display.HTML object>"
      ]
     },
     "metadata": {},
     "output_type": "display_data"
    },
    {
     "name": "stdout",
     "output_type": "stream",
     "text": [
      "ICOMOS New Zealand has submitted a response to the Natural and Built Environments Bill and Spatial Planning Bill, expressing support for certain aspects but raising concerns about the lack of emphasis on cultural heritage, insufficient consideration of Maori heritage, and the need for stronger language and clearer frameworks to prioritize outcomes and avoid conflicts.\n",
      "\n"
     ]
    },
    {
     "data": {
      "text/html": [
       "<a href=https:////////www.parliament.nz////resource////en-NZ////53SCEN_EVI_129831_EN16158////8922826e4f70e32efd7c4b4b3f473f382465c053>Read the full submission</a>"
      ],
      "text/plain": [
       "<IPython.core.display.HTML object>"
      ]
     },
     "metadata": {},
     "output_type": "display_data"
    },
    {
     "data": {
      "text/html": [
       "<b>Ministry for the Environment (RM System Efficiency Working Group Report) – Official advice</b>"
      ],
      "text/plain": [
       "<IPython.core.display.HTML object>"
      ]
     },
     "metadata": {},
     "output_type": "display_data"
    },
    {
     "name": "stdout",
     "output_type": "stream",
     "text": [
      "The RM System Efficiency Working Group has released a report with recommendations to improve efficiency and effectiveness in the proposed resource management legislative regime, including supporting regional spatial strategies, providing guidance on te Tiriti o Waitangi principles, reducing resource consents, and clarifying criteria for significant changes.\n",
      "\n"
     ]
    },
    {
     "data": {
      "text/html": [
       "<a href=https:////////www.parliament.nz////resource////en-NZ////53SCEN_ADV_129831_EN16706////c40c52634ec2990178d0b635555de2b3a0ac83ff>Read the full submission</a>"
      ],
      "text/plain": [
       "<IPython.core.display.HTML object>"
      ]
     },
     "metadata": {},
     "output_type": "display_data"
    },
    {
     "data": {
      "text/html": [
       "<b>Fish and Game New Zealand – Submission</b>"
      ],
      "text/plain": [
       "<IPython.core.display.HTML object>"
      ]
     },
     "metadata": {},
     "output_type": "display_data"
    },
    {
     "name": "stdout",
     "output_type": "stream",
     "text": [
      "Fish & Game New Zealand has raised concerns about the Natural and Built Environment Bill 2023, arguing that it puts New Zealand's freshwater resources at risk and proposing amendments to prioritize the environment, protect habitat, and uphold Te Tiriti/The Treaty of Waitangi.\n",
      "\n"
     ]
    },
    {
     "data": {
      "text/html": [
       "<a href=https:////////www.parliament.nz////resource////en-NZ////53SCEN_EVI_129831_EN15474////e889270bb00426fdc224252f21e42ed8922c13b8>Read the full submission</a>"
      ],
      "text/plain": [
       "<IPython.core.display.HTML object>"
      ]
     },
     "metadata": {},
     "output_type": "display_data"
    },
    {
     "data": {
      "text/html": [
       "<b>Te Ohu Kaimoana Supp 1 – Submission</b>"
      ],
      "text/plain": [
       "<IPython.core.display.HTML object>"
      ]
     },
     "metadata": {},
     "output_type": "display_data"
    },
    {
     "name": "stdout",
     "output_type": "stream",
     "text": [
      "Te Ohu Kaimoana, a Māori fisheries organization, raises concerns about the current drafting of environmental bills, arguing that they do not allow for the development of aquaculture and fail to recognize Māori settlements, calling for amendments to ensure appropriate development and use of marine resources while considering terrestrial impacts and Treaty of Waitangi obligations.\n",
      "\n"
     ]
    },
    {
     "data": {
      "text/html": [
       "<a href=https:////////www.parliament.nz////resource////en-NZ////53SCEN_EVI_129831_EN16123////d0292bc3358fe1c388f5547662b88b95e8b9d70b>Read the full submission</a>"
      ],
      "text/plain": [
       "<IPython.core.display.HTML object>"
      ]
     },
     "metadata": {},
     "output_type": "display_data"
    },
    {
     "data": {
      "text/html": [
       "<b>Realnz Limited Supp 1 – Submission</b>"
      ],
      "text/plain": [
       "<IPython.core.display.HTML object>"
      ]
     },
     "metadata": {},
     "output_type": "display_data"
    },
    {
     "name": "stdout",
     "output_type": "stream",
     "text": [
      "Realnz Limited, a company operating in New Zealand, has expressed concerns about the Natural and Built Environment Bill and the Spatial Planning Bill, arguing for the inclusion of economic and social development as system outcomes, protection of outstanding natural features with allowances for development, better definition of infrastructure, tailored local plans, inclusive consultation processes, and a lower threshold for protecting places of national importance to support the tourism industry.\n",
      "\n"
     ]
    },
    {
     "data": {
      "text/html": [
       "<a href=https:////////www.parliament.nz////resource////en-NZ////53SCEN_EVI_129831_EN15499////ec3ba87b21429d5dbffbc5473b2b24cdc5c6170d>Read the full submission</a>"
      ],
      "text/plain": [
       "<IPython.core.display.HTML object>"
      ]
     },
     "metadata": {},
     "output_type": "display_data"
    },
    {
     "data": {
      "text/html": [
       "<b>New Zealand Law Society – Submission</b>"
      ],
      "text/plain": [
       "<IPython.core.display.HTML object>"
      ]
     },
     "metadata": {},
     "output_type": "display_data"
    },
    {
     "name": "stdout",
     "output_type": "stream",
     "text": [
      "The Law Society is requesting an opportunity to discuss bills and is providing contact information for their Law Reform and Advocacy Advisor, with the submission signed by the President, Frazer Barton.\n",
      "\n"
     ]
    },
    {
     "data": {
      "text/html": [
       "<a href=https:////////www.parliament.nz////resource////en-NZ////53SCEN_EVI_129831_EN15484////63cebdc73cb8b89dcc4f34b81b4d088d02032683>Read the full submission</a>"
      ],
      "text/plain": [
       "<IPython.core.display.HTML object>"
      ]
     },
     "metadata": {},
     "output_type": "display_data"
    },
    {
     "data": {
      "text/html": [
       "<b>Wellington Water Supp 2 – Submission</b>"
      ],
      "text/plain": [
       "<IPython.core.display.HTML object>"
      ]
     },
     "metadata": {},
     "output_type": "display_data"
    },
    {
     "name": "stdout",
     "output_type": "stream",
     "text": [
      "Wellington Water supports new legislation integrating environment and land use planning but raises concerns about unintended consequences and an overly protectionist approach that could hinder water infrastructure providers, advocating for clear consenting pathways, exemptions for essential infrastructure, longer consent durations, and increased involvement in planning processes.\n",
      "\n"
     ]
    },
    {
     "data": {
      "text/html": [
       "<a href=https:////////www.parliament.nz////resource////en-NZ////53SCEN_EVI_129831_EN16778////a3bbeb204d9500fddbd3f9d5783221ef9b356f05>Read the full submission</a>"
      ],
      "text/plain": [
       "<IPython.core.display.HTML object>"
      ]
     },
     "metadata": {},
     "output_type": "display_data"
    },
    {
     "data": {
      "text/html": [
       "<b>Auckland Council – Submission</b>"
      ],
      "text/plain": [
       "<IPython.core.display.HTML object>"
      ]
     },
     "metadata": {},
     "output_type": "display_data"
    },
    {
     "name": "stdout",
     "output_type": "stream",
     "text": [
      "Auckland Council supports the need for reform in the resource management system but believes that the current draft of the Natural and Built Environment Bill is unlikely to meet the government's objectives and calls for significant changes, opposing the reduced role for local government and the fragmentation of local governance, raising concerns about the lack of focus on climate change and potential negative impacts on local communities, and advocating for a strong role for local government and local democratic input in the new system.\n",
      "\n"
     ]
    },
    {
     "data": {
      "text/html": [
       "<a href=https:////////www.parliament.nz////resource////en-NZ////53SCEN_EVI_129831_EN15802////987556295d715a9a10560f153c5e6767a7e01bc0>Read the full submission</a>"
      ],
      "text/plain": [
       "<IPython.core.display.HTML object>"
      ]
     },
     "metadata": {},
     "output_type": "display_data"
    },
    {
     "data": {
      "text/html": [
       "<b>Ministry for the Environment (Response to the Chief Justice's submission) – Official advice</b>"
      ],
      "text/plain": [
       "<IPython.core.display.HTML object>"
      ]
     },
     "metadata": {},
     "output_type": "display_data"
    },
    {
     "name": "stdout",
     "output_type": "stream",
     "text": [
      "The briefing recommends amendments to the Natural and Built Environment (NBE) Bill to address concerns raised by the Chief Justice and protect the role and functions of the courts.\n",
      "\n"
     ]
    },
    {
     "data": {
      "text/html": [
       "<a href=https:////////www.parliament.nz////resource////en-NZ////53SCEN_ADV_129831_EN16916////3baf8ab92552e52e3ae759192af8363755b5a7a1>Read the full submission</a>"
      ],
      "text/plain": [
       "<IPython.core.display.HTML object>"
      ]
     },
     "metadata": {},
     "output_type": "display_data"
    },
    {
     "data": {
      "text/html": [
       "<b>Fletcher Building – Submission</b>"
      ],
      "text/plain": [
       "<IPython.core.display.HTML object>"
      ]
     },
     "metadata": {},
     "output_type": "display_data"
    },
    {
     "name": "stdout",
     "output_type": "stream",
     "text": [
      "Fletcher Building expresses concerns about current regulatory processes and funding of infrastructure in their submission on the Natural and Built Environment Bill, supporting some aspects but calling for further work to ensure a transformational change.\n",
      "\n"
     ]
    },
    {
     "data": {
      "text/html": [
       "<a href=https:////////www.parliament.nz////resource////en-NZ////53SCEN_EVI_129831_EN15443////2d4e082c213d841d2c6ce270ea4994cb21d4d204>Read the full submission</a>"
      ],
      "text/plain": [
       "<IPython.core.display.HTML object>"
      ]
     },
     "metadata": {},
     "output_type": "display_data"
    },
    {
     "data": {
      "text/html": [
       "<b>Irrigation NZ Supp 1 – Submission</b>"
      ],
      "text/plain": [
       "<IPython.core.display.HTML object>"
      ]
     },
     "metadata": {},
     "output_type": "display_data"
    },
    {
     "name": "stdout",
     "output_type": "stream",
     "text": [
      "The NBE Bill creates investment uncertainty for the Amuri Irrigation Company and farmers, hindering their ability to adapt to climate change and improve water quality, and jeopardizing existing investments in infrastructure and environmental mitigations.\n",
      "\n"
     ]
    },
    {
     "data": {
      "text/html": [
       "<a href=https:////////www.parliament.nz////resource////en-NZ////53SCEN_EVI_129831_EN15838////f364451e11194e5689330e602f1e3a1d14a80471>Read the full submission</a>"
      ],
      "text/plain": [
       "<IPython.core.display.HTML object>"
      ]
     },
     "metadata": {},
     "output_type": "display_data"
    },
    {
     "data": {
      "text/html": [
       "<b>Ministry for the Environment (Table to assist with DR Navigation on Monday 3 April) – Official advice</b>"
      ],
      "text/plain": [
       "<IPython.core.display.HTML object>"
      ]
     },
     "metadata": {},
     "output_type": "display_data"
    },
    {
     "name": "stdout",
     "output_type": "stream",
     "text": [
      "The main recommendation is to proceed with proposed changes to the process for making a proposed plan or plan change operative, including clarifying the role of the Resource Management Planning Committee and requiring notification of operative plans on the RPC website and to relevant local authorities.\n",
      "\n"
     ]
    },
    {
     "data": {
      "text/html": [
       "<a href=https:////////www.parliament.nz////resource////en-NZ////53SCEN_ADV_129831_EN16772////7634afaeeb7ce2d5543c75ca80f995244c9d40bf>Read the full submission</a>"
      ],
      "text/plain": [
       "<IPython.core.display.HTML object>"
      ]
     },
     "metadata": {},
     "output_type": "display_data"
    },
    {
     "data": {
      "text/html": [
       "<b>Ministry for the Environment (Additional content for consideration - EMF and PNI) – Official advice</b>"
      ],
      "text/plain": [
       "<IPython.core.display.HTML object>"
      ]
     },
     "metadata": {},
     "output_type": "display_data"
    },
    {
     "name": "stdout",
     "output_type": "stream",
     "text": [
      "The briefing recommends several amendments to provisions related to Places of National Importance (PNIs) in the National Planning Framework, including rewording provisions on geothermal biodiversity areas, climate outcomes, the national grid, activities managed under other legislation, and fishing activities, as well as adding a consultation requirement for fishing activities.\n",
      "\n"
     ]
    },
    {
     "data": {
      "text/html": [
       "<a href=https:////////www.parliament.nz////resource////en-NZ////53SCEN_ADV_129831_EN17000////146b41f5798adadb57e36ccbd3e5746c3bfdf570>Read the full submission</a>"
      ],
      "text/plain": [
       "<IPython.core.display.HTML object>"
      ]
     },
     "metadata": {},
     "output_type": "display_data"
    },
    {
     "data": {
      "text/html": [
       "<b>Hamilton City Council Supp3 – Submission</b>"
      ],
      "text/plain": [
       "<IPython.core.display.HTML object>"
      ]
     },
     "metadata": {},
     "output_type": "display_data"
    },
    {
     "name": "stdout",
     "output_type": "stream",
     "text": [
      "The submission highlights the strengths and weaknesses of existing Urban Growth partnerships and discusses the opportunities and risks presented by the legislative reform process.\n",
      "\n"
     ]
    },
    {
     "data": {
      "text/html": [
       "<a href=https:////////www.parliament.nz////resource////en-NZ////53SCEN_EVI_129831_EN16152////b5de381ffd42fa1eb94bfa34a89fd87b0e84b1d5>Read the full submission</a>"
      ],
      "text/plain": [
       "<IPython.core.display.HTML object>"
      ]
     },
     "metadata": {},
     "output_type": "display_data"
    },
    {
     "data": {
      "text/html": [
       "<b>New Zealand Law Society Supp 1 – Submission</b>"
      ],
      "text/plain": [
       "<IPython.core.display.HTML object>"
      ]
     },
     "metadata": {},
     "output_type": "display_data"
    },
    {
     "name": "stdout",
     "output_type": "stream",
     "text": [
      "The submission provides a detailed analysis of the Natural and Built Environment Bill, suggesting amendments and clarifications in areas such as compliance, adverse effects, decision-making principles, cultural terms, system outcomes, allocation methods, transitional provisions, and plan-making competency.\n",
      "\n"
     ]
    },
    {
     "data": {
      "text/html": [
       "<a href=https:////////www.parliament.nz////resource////en-NZ////53SCEN_EVI_129831_EN15482////55a407ca93926adfeb5a3c065ef03a527849d541>Read the full submission</a>"
      ],
      "text/plain": [
       "<IPython.core.display.HTML object>"
      ]
     },
     "metadata": {},
     "output_type": "display_data"
    },
    {
     "data": {
      "text/html": [
       "<b>Dunedin District Council Supp 1 – Submission</b>"
      ],
      "text/plain": [
       "<IPython.core.display.HTML object>"
      ]
     },
     "metadata": {},
     "output_type": "display_data"
    },
    {
     "name": "stdout",
     "output_type": "stream",
     "text": [
      "The Dunedin City Council has submitted a technical submission on the Natural and Built Environment Bill and Spatial Planning Bill, supporting the objective of improving system efficiency and effectiveness while calling for the reduction of subjective language and tests, clearer notification provisions, and provisions for the protection and enhancement of heritage character and good urban design principles.\n",
      "\n"
     ]
    },
    {
     "data": {
      "text/html": [
       "<a href=https:////////www.parliament.nz////resource////en-NZ////53SCEN_EVI_129831_EN15323////e994146e07897a6e5f1ec4f0310d857a0988e90f>Read the full submission</a>"
      ],
      "text/plain": [
       "<IPython.core.display.HTML object>"
      ]
     },
     "metadata": {},
     "output_type": "display_data"
    },
    {
     "data": {
      "text/html": [
       "<b>Ministry for the Environment (replacement pages 16-17 for Departmental report - Tranche 4) – Official advice</b>"
      ],
      "text/plain": [
       "<IPython.core.display.HTML object>"
      ]
     },
     "metadata": {},
     "output_type": "display_data"
    },
    {
     "name": "stdout",
     "output_type": "stream",
     "text": [
      "The briefing recommends implementing provisions for protecting places of national importance and highly vulnerable biodiversity areas, as well as adopting an allocation framework for strategic resource allocation.\n",
      "\n"
     ]
    },
    {
     "data": {
      "text/html": [
       "<a href=https:////////www.parliament.nz////resource////en-NZ////53SCEN_ADV_129831_EN16919////168dc2a497f3c9e9225896c8d31d8c75642f831a>Read the full submission</a>"
      ],
      "text/plain": [
       "<IPython.core.display.HTML object>"
      ]
     },
     "metadata": {},
     "output_type": "display_data"
    },
    {
     "data": {
      "text/html": [
       "<b>Mercury NZ Supp 1 – Submission</b>"
      ],
      "text/plain": [
       "<IPython.core.display.HTML object>"
      ]
     },
     "metadata": {},
     "output_type": "display_data"
    },
    {
     "name": "stdout",
     "output_type": "stream",
     "text": [
      "The submission argues for the importance of enabling renewable energy generation development in New Zealand to support decarbonization goals, and calls for provisions that allow for reconsenting and upgrading of existing REG, fast track consenting processes, and improved notification and consent duration provisions.\n",
      "\n"
     ]
    },
    {
     "data": {
      "text/html": [
       "<a href=https:////////www.parliament.nz////resource////en-NZ////53SCEN_EVI_129831_EN15825////c1fd472df8c612d071c8b6bf763716db7e34b9cb>Read the full submission</a>"
      ],
      "text/plain": [
       "<IPython.core.display.HTML object>"
      ]
     },
     "metadata": {},
     "output_type": "display_data"
    },
    {
     "data": {
      "text/html": [
       "<b>Te Rūnanga o Ngāi Tahu – Submission</b>"
      ],
      "text/plain": [
       "<IPython.core.display.HTML object>"
      ]
     },
     "metadata": {},
     "output_type": "display_data"
    },
    {
     "name": "stdout",
     "output_type": "stream",
     "text": [
      "Te Rūnanga o Ngāi Tahu has submitted feedback on the Natural and Built Environment Bill and the Spatial Planning Bill, arguing that the bills do not adequately recognize Ngāi Tahu rangatiratanga and urging for the inclusion of Ngāi Tahu specific schedules and alignment with regional strategies and plans.\n",
      "\n"
     ]
    },
    {
     "data": {
      "text/html": [
       "<a href=https:////////www.parliament.nz////resource////en-NZ////53SCEN_EVI_129831_EN15509////456bd1cb07a423cd433ee42e6feec393b7f17a30>Read the full submission</a>"
      ],
      "text/plain": [
       "<IPython.core.display.HTML object>"
      ]
     },
     "metadata": {},
     "output_type": "display_data"
    },
    {
     "data": {
      "text/html": [
       "<b>Ministry for the Environment (Departmental report - Schedule 1 Transitional, savings, and related provisions) – Official advice</b>"
      ],
      "text/plain": [
       "<IPython.core.display.HTML object>"
      ]
     },
     "metadata": {},
     "output_type": "display_data"
    },
    {
     "name": "stdout",
     "output_type": "stream",
     "text": [
      "The briefing recommends amending the Natural and Built Environment Bill to provide more clarity and specificity in the transition from the Resource Management Act 1991, including upholding Treaty settlements, defining RMA documents, clarifying the transition period and plan-making processes, and addressing concerns about the lack of detail in the NBE Bill.\n",
      "\n"
     ]
    },
    {
     "data": {
      "text/html": [
       "<a href=https:////////www.parliament.nz////resource////en-NZ////53SCEN_ADV_129831_EN16918////5d07f0e716b7e03ab4630e822485f2b9f3e32733>Read the full submission</a>"
      ],
      "text/plain": [
       "<IPython.core.display.HTML object>"
      ]
     },
     "metadata": {},
     "output_type": "display_data"
    },
    {
     "data": {
      "text/html": [
       "<b>Queenstown Lakes District Council – Submission</b>"
      ],
      "text/plain": [
       "<IPython.core.display.HTML object>"
      ]
     },
     "metadata": {},
     "output_type": "display_data"
    },
    {
     "name": "stdout",
     "output_type": "stream",
     "text": [
      "The Queenstown Lakes District Council supports certain aspects of the Natural and Built Environment Bill and Spatial Planning Bill, but has concerns about the scope, lack of council involvement, reduction of local democratic input, and calls for funding agreements, comprehensive hazard management, housing affordability measures, and maintaining a strong local voice in the new system.\n",
      "\n"
     ]
    },
    {
     "data": {
      "text/html": [
       "<a href=https:////////www.parliament.nz////resource////en-NZ////53SCEN_EVI_129831_EN15498////2440c0f9e54542327ed8eaae88eb758aa04f36ac>Read the full submission</a>"
      ],
      "text/plain": [
       "<IPython.core.display.HTML object>"
      ]
     },
     "metadata": {},
     "output_type": "display_data"
    },
    {
     "data": {
      "text/html": [
       "<b>Greymouth Petroleum – Submission</b>"
      ],
      "text/plain": [
       "<IPython.core.display.HTML object>"
      ]
     },
     "metadata": {},
     "output_type": "display_data"
    },
    {
     "name": "stdout",
     "output_type": "stream",
     "text": [
      "Greymouth Petroleum Ltd supports some aspects of the proposed Natural and Built Environment Bill but raises concerns about its complexity, centralization of power, and potential negative impacts on investment certainty, suggesting amendments to address these issues.\n",
      "\n"
     ]
    },
    {
     "data": {
      "text/html": [
       "<a href=https:////////www.parliament.nz////resource////en-NZ////53SCEN_EVI_129831_EN15592////88b3842fd5bf14f293357d36a73eb88087a1b6ea>Read the full submission</a>"
      ],
      "text/plain": [
       "<IPython.core.display.HTML object>"
      ]
     },
     "metadata": {},
     "output_type": "display_data"
    },
    {
     "data": {
      "text/html": [
       "<b>Emily Grace (Comments on Natural and Built Environment Bill departmental report 3A and 3B) – Official advice</b>"
      ],
      "text/plain": [
       "<IPython.core.display.HTML object>"
      ]
     },
     "metadata": {},
     "output_type": "display_data"
    },
    {
     "name": "stdout",
     "output_type": "stream",
     "text": [
      "The main recommendation in this briefing is to delete certain recommendations in the Departmental Report related to the Natural and Built Environment Bill, including additions that could cause confusion and inconsistencies, and to reconsider the need for separate Te Oranga o te Taiao statements.\n",
      "\n"
     ]
    },
    {
     "data": {
      "text/html": [
       "<a href=https:////////www.parliament.nz////resource////en-NZ////53SCEN_ADV_129831_EN16956////6b1d1759e1543c17779fc3e01096d695b9d483e1>Read the full submission</a>"
      ],
      "text/plain": [
       "<IPython.core.display.HTML object>"
      ]
     },
     "metadata": {},
     "output_type": "display_data"
    },
    {
     "data": {
      "text/html": [
       "<b>Papa Pounamu (NZ Planning Institute Special Interest Group) – Submission</b>"
      ],
      "text/plain": [
       "<IPython.core.display.HTML object>"
      ]
     },
     "metadata": {},
     "output_type": "display_data"
    },
    {
     "name": "stdout",
     "output_type": "stream",
     "text": [
      "Papa Pounamu, a special interest group, supports the Natural and Built Environment and Spatial Planning Bills and plans to make an oral submission in addition to their written submission, which includes key matters, overarching comments, and a review of the Natural and Built Environment Bill.\n",
      "\n"
     ]
    },
    {
     "data": {
      "text/html": [
       "<a href=https:////////www.parliament.nz////resource////en-NZ////53SCEN_EVI_129831_EN15799////78b1668a2e09520a09878b67cf705f072892b93e>Read the full submission</a>"
      ],
      "text/plain": [
       "<IPython.core.display.HTML object>"
      ]
     },
     "metadata": {},
     "output_type": "display_data"
    },
    {
     "data": {
      "text/html": [
       "<b>Whanganui District Council – Submission</b>"
      ],
      "text/plain": [
       "<IPython.core.display.HTML object>"
      ]
     },
     "metadata": {},
     "output_type": "display_data"
    },
    {
     "name": "stdout",
     "output_type": "stream",
     "text": [
      "The Whanganui District Council supports the need for reform in the resource management system but has concerns about the current state of the Spatial Planning and Natural and Built Environment Bill, including the regionalization of planning, lack of alignment with other government reforms, strain on the workforce, and potential inefficiencies and limited community engagement with the establishment of Regional Planning Committees and regional plans. They suggest several recommendations to make the proposals more workable, including appointees to RPCs reporting back to their appointing bodies, careful\n",
      "\n"
     ]
    },
    {
     "data": {
      "text/html": [
       "<a href=https:////////www.parliament.nz////resource////en-NZ////53SCEN_EVI_129831_EN15512////e0131c94cb07ca83d643c7b1b70a763f8f5c112a>Read the full submission</a>"
      ],
      "text/plain": [
       "<IPython.core.display.HTML object>"
      ]
     },
     "metadata": {},
     "output_type": "display_data"
    },
    {
     "data": {
      "text/html": [
       "<b>Genesis Energy Limited – Submission</b>"
      ],
      "text/plain": [
       "<IPython.core.display.HTML object>"
      ]
     },
     "metadata": {},
     "output_type": "display_data"
    },
    {
     "name": "stdout",
     "output_type": "stream",
     "text": [
      "Genesis Energy Limited has expressed concerns about the Natural and Built Environment Bill and the Spatial Planning Bill in New Zealand, arguing that the current drafting of the bills could hinder the consenting of renewable electricity generation and hinder the country's ability to achieve its climate change commitments, and recommends amendments to ensure a clear consenting pathway for electricity generation and meaningful participation of the electricity sector in the development of planning frameworks.\n",
      "\n"
     ]
    },
    {
     "data": {
      "text/html": [
       "<a href=https:////////www.parliament.nz////resource////en-NZ////53SCEN_EVI_129831_EN15444////c4fc061661822e49be1694d8d3d23527b50398a2>Read the full submission</a>"
      ],
      "text/plain": [
       "<IPython.core.display.HTML object>"
      ]
     },
     "metadata": {},
     "output_type": "display_data"
    },
    {
     "data": {
      "text/html": [
       "<b>Waikato District Council Supp2 – Submission</b>"
      ],
      "text/plain": [
       "<IPython.core.display.HTML object>"
      ]
     },
     "metadata": {},
     "output_type": "display_data"
    },
    {
     "name": "stdout",
     "output_type": "stream",
     "text": [
      "The Waikato District Council supports the need for reform in the Natural and Built Environment Bill but has concerns about its potential outcomes, loss of local voice, complex arrangements for Regional Planning Committees, lack of central government investment, misalignment between the three reform bills, transition and integration issues, funding support, recognition of Te Tiriti o Waitangi and Mātauranga Māori, alignment with the Spatial Planning Bill, availability of land for infrastructure changes, addressing climate change and natural hazards,\n",
      "\n"
     ]
    },
    {
     "data": {
      "text/html": [
       "<a href=https:////////www.parliament.nz////resource////en-NZ////53SCEN_EVI_129831_EN15326////035598023c092af19cf6ef203fee7c21d3f6e2db>Read the full submission</a>"
      ],
      "text/plain": [
       "<IPython.core.display.HTML object>"
      ]
     },
     "metadata": {},
     "output_type": "display_data"
    },
    {
     "data": {
      "text/html": [
       "<b>Engineering New Zealand – Submission</b>"
      ],
      "text/plain": [
       "<IPython.core.display.HTML object>"
      ]
     },
     "metadata": {},
     "output_type": "display_data"
    },
    {
     "name": "stdout",
     "output_type": "stream",
     "text": [
      "Engineering New Zealand supports the need for reform in the resource management system, but has concerns about the lack of clear guidance and provisions for monitoring and enforcement in the Natural and Built Environment Bill, as well as the need for stronger recognition of Te Tiriti and Te Ao Māori.\n",
      "\n"
     ]
    },
    {
     "data": {
      "text/html": [
       "<a href=https:////////www.parliament.nz////resource////en-NZ////53SCEN_EVI_129831_EN15597////6432fa4ada21fa409fa7c7fb393fe3ae6b0d946f>Read the full submission</a>"
      ],
      "text/plain": [
       "<IPython.core.display.HTML object>"
      ]
     },
     "metadata": {},
     "output_type": "display_data"
    },
    {
     "data": {
      "text/html": [
       "<b>PCE (Comments on SP and NBE departmental reports all tranches) – Official advice</b>"
      ],
      "text/plain": [
       "<IPython.core.display.HTML object>"
      ]
     },
     "metadata": {},
     "output_type": "display_data"
    },
    {
     "name": "stdout",
     "output_type": "stream",
     "text": [
      "The Parliamentary Commissioner for the Environment (PCE) recommends strengthening the wording in the Spatial Planning Bill and the Natural and Built Environment Bill to ensure consistency with environmental limits and targets, as well as addressing concerns about exemptions and minimum level limits.\n",
      "\n"
     ]
    },
    {
     "data": {
      "text/html": [
       "<a href=https:////////www.parliament.nz////resource////en-NZ////53SCEN_ADV_129831_EN16937////d1951299912a60b15819f4ff6186b48246ac43d0>Read the full submission</a>"
      ],
      "text/plain": [
       "<IPython.core.display.HTML object>"
      ]
     },
     "metadata": {},
     "output_type": "display_data"
    },
    {
     "data": {
      "text/html": [
       "<b>MfE (NBE Bill Departmental Report 1 - Corrections - Replacement pages 46, 47, 49, 50, 51) – Official advice</b>"
      ],
      "text/plain": [
       "<IPython.core.display.HTML object>"
      ]
     },
     "metadata": {},
     "output_type": "display_data"
    },
    {
     "name": "stdout",
     "output_type": "stream",
     "text": [
      "The main recommendation in this briefing is to amend clause 6 and clause 805 of the Bill by adding a new decision-making principle and simplifying the obligation to use the best available information.\n",
      "\n"
     ]
    },
    {
     "data": {
      "text/html": [
       "<a href=https:////////www.parliament.nz////resource////en-NZ////53SCEN_ADV_129831_EN16740////8ce6aff6a59a693fd4b761f4065bc41950edcab6>Read the full submission</a>"
      ],
      "text/plain": [
       "<IPython.core.display.HTML object>"
      ]
     },
     "metadata": {},
     "output_type": "display_data"
    },
    {
     "data": {
      "text/html": [
       "<b>Ministry for the Environment (Departmental report - Tranche 3(A)) – Official advice</b>"
      ],
      "text/plain": [
       "<IPython.core.display.HTML object>"
      ]
     },
     "metadata": {},
     "output_type": "display_data"
    },
    {
     "name": "stdout",
     "output_type": "stream",
     "text": [
      "The clause should be amended to include references to climate change, public access, cumulative effects of permitted activities, geothermal resources, electricity distribution infrastructure, aggregate resources, supply chains, conflict resolution, community safety and resilience, drainage infrastructure, integration of land use and transport, and provisions reflecting limits/minimum targets.\n",
      "\n"
     ]
    },
    {
     "data": {
      "text/html": [
       "<a href=https:////////www.parliament.nz////resource////en-NZ////53SCEN_ADV_129831_EN16743////0600c5c9b216119b2e262149643fac08c71a1c57>Read the full submission</a>"
      ],
      "text/plain": [
       "<IPython.core.display.HTML object>"
      ]
     },
     "metadata": {},
     "output_type": "display_data"
    },
    {
     "data": {
      "text/html": [
       "<b>Save Our Springs Aotearoa New Zealand Inc – Submission</b>"
      ],
      "text/plain": [
       "<IPython.core.display.HTML object>"
      ]
     },
     "metadata": {},
     "output_type": "display_data"
    },
    {
     "name": "stdout",
     "output_type": "stream",
     "text": [
      "Save Our Springs Aotearoa New Zealand Inc (SOS) has submitted a response to the Natural and Built Environment Bill, advocating for the recognition and protection of the spiritual and intrinsic values of water bodies, as well as the inclusion of provisions for water conservation orders and the review of existing use rights and consent conditions.\n",
      "\n"
     ]
    },
    {
     "data": {
      "text/html": [
       "<a href=https:////////www.parliament.nz////resource////en-NZ////53SCEN_EVI_129831_EN15879////1346e17ce5e545a0cb78d876a9e2192c1a2fd40e>Read the full submission</a>"
      ],
      "text/plain": [
       "<IPython.core.display.HTML object>"
      ]
     },
     "metadata": {},
     "output_type": "display_data"
    },
    {
     "data": {
      "text/html": [
       "<b>Revision tracked version 22 [NBE Bill - draft only] – Official advice</b>"
      ],
      "text/plain": [
       "<IPython.core.display.HTML object>"
      ]
     },
     "metadata": {},
     "output_type": "display_data"
    },
    {
     "name": "stdout",
     "output_type": "stream",
     "text": [
      "The briefing proposes amendments to the Natural and Built Environment Bill, including the inclusion of provisions for freshwater farm plans to manage the impact of farms on freshwater quality.\n",
      "\n"
     ]
    },
    {
     "data": {
      "text/html": [
       "<a href=https:////////www.parliament.nz////resource////en-NZ////53SCEN_ADV_129831_EN17380////63f890800caaf350647f6650e6b1746cd6d48d67>Read the full submission</a>"
      ],
      "text/plain": [
       "<IPython.core.display.HTML object>"
      ]
     },
     "metadata": {},
     "output_type": "display_data"
    },
    {
     "data": {
      "text/html": [
       "<b>Roderick Aldridge Supp 2 – Submission</b>"
      ],
      "text/plain": [
       "<IPython.core.display.HTML object>"
      ]
     },
     "metadata": {},
     "output_type": "display_data"
    },
    {
     "name": "stdout",
     "output_type": "stream",
     "text": [
      "The submitter argues that the Natural and Built Environment Bill and Spatial Planning Bill should prioritize ecosystem regeneration to address climate change and protect the environment, and suggests changes to the bills to better align with this objective.\n",
      "\n"
     ]
    },
    {
     "data": {
      "text/html": [
       "<a href=https:////////www.parliament.nz////resource////en-NZ////53SCEN_EVI_129831_EN15810////b083e568c584ea1b458533eefde7e164d9fde1b3>Read the full submission</a>"
      ],
      "text/plain": [
       "<IPython.core.display.HTML object>"
      ]
     },
     "metadata": {},
     "output_type": "display_data"
    },
    {
     "data": {
      "text/html": [
       "<b>Damon McPhail Supp 1 – Submission</b>"
      ],
      "text/plain": [
       "<IPython.core.display.HTML object>"
      ]
     },
     "metadata": {},
     "output_type": "display_data"
    },
    {
     "name": "stdout",
     "output_type": "stream",
     "text": [
      "The submission includes supplementary photos illustrating the spread of wilding pine in Otago and a fisherman reclamation that received retrospective resource consent.\n",
      "\n"
     ]
    },
    {
     "data": {
      "text/html": [
       "<a href=https:////////www.parliament.nz////resource////en-NZ////53SCEN_EVI_129831_EN15726////64ded7f09e0af8a02cba1c55105620ac2916fed1>Read the full submission</a>"
      ],
      "text/plain": [
       "<IPython.core.display.HTML object>"
      ]
     },
     "metadata": {},
     "output_type": "display_data"
    },
    {
     "data": {
      "text/html": [
       "<b>Electricity Sector Environment Group – Submission</b>"
      ],
      "text/plain": [
       "<IPython.core.display.HTML object>"
      ]
     },
     "metadata": {},
     "output_type": "display_data"
    },
    {
     "name": "stdout",
     "output_type": "stream",
     "text": [
      "The Electricity Sector Environment Group (ESEG) supports the objectives of the Natural and Built Environments Bill but argues that the current draft is unworkable and needs significant changes to prioritize decarbonization and effectively address climate change.\n",
      "\n"
     ]
    },
    {
     "data": {
      "text/html": [
       "<a href=https:////////www.parliament.nz////resource////en-NZ////53SCEN_EVI_129831_EN15438////0a65aa7fbdb5787a68c84c6c6f39bd17813ae6ad>Read the full submission</a>"
      ],
      "text/plain": [
       "<IPython.core.display.HTML object>"
      ]
     },
     "metadata": {},
     "output_type": "display_data"
    },
    {
     "data": {
      "text/html": [
       "<b>Chief Justice – Submission</b>"
      ],
      "text/plain": [
       "<IPython.core.display.HTML object>"
      ]
     },
     "metadata": {},
     "output_type": "display_data"
    },
    {
     "name": "stdout",
     "output_type": "stream",
     "text": [
      "The judiciary raises concerns about the lack of consultation, complexity, and practicality of the Natural and Built Environment Bill, particularly regarding the principles of te Tiriti o Waitangi, appointment of serving judges, appeal rights, allocation of jurisdictions, and other provisions.\n",
      "\n"
     ]
    },
    {
     "data": {
      "text/html": [
       "<a href=https:////////www.parliament.nz////resource////en-NZ////53SCEN_EVI_129831_EN15615////3459cd57de62e50497811b8173d5001fe5d22fab>Read the full submission</a>"
      ],
      "text/plain": [
       "<IPython.core.display.HTML object>"
      ]
     },
     "metadata": {},
     "output_type": "display_data"
    },
    {
     "data": {
      "text/html": [
       "<b>Ministry for the Environment (RPCs in regions with unitary authorities) – Official advice</b>"
      ],
      "text/plain": [
       "<IPython.core.display.HTML object>"
      ]
     },
     "metadata": {},
     "output_type": "display_data"
    },
    {
     "name": "stdout",
     "output_type": "stream",
     "text": [
      "The main recommendation in this briefing is to include an additional clause in the Bill that enables unitary authorities to continue using existing committee processes, while still maintaining joint decision-making and consistency with regional planning committee arrangements.\n",
      "\n"
     ]
    },
    {
     "data": {
      "text/html": [
       "<a href=https:////////www.parliament.nz////resource////en-NZ////53SCEN_ADV_129831_EN16797////fafa50406b760e98b43e6f9a17e98b5f234a06f2>Read the full submission</a>"
      ],
      "text/plain": [
       "<IPython.core.display.HTML object>"
      ]
     },
     "metadata": {},
     "output_type": "display_data"
    },
    {
     "data": {
      "text/html": [
       "<b>Port of Tauranga Limited – Submission</b>"
      ],
      "text/plain": [
       "<IPython.core.display.HTML object>"
      ]
     },
     "metadata": {},
     "output_type": "display_data"
    },
    {
     "name": "stdout",
     "output_type": "stream",
     "text": [
      "Port of Tauranga has expressed concerns about the impact of the Natural and Built Environment Bill on port infrastructure, arguing that the proposed bill does not meet expectations and disincentivizes investment into new port infrastructure.\n",
      "\n"
     ]
    },
    {
     "data": {
      "text/html": [
       "<a href=https:////////www.parliament.nz////resource////en-NZ////53SCEN_EVI_129831_EN15610////eab5328e9e89b1801fa482066ff3d91999e010f0>Read the full submission</a>"
      ],
      "text/plain": [
       "<IPython.core.display.HTML object>"
      ]
     },
     "metadata": {},
     "output_type": "display_data"
    },
    {
     "data": {
      "text/html": [
       "<b>Clerk of committee (Legislative scrutiny memo- Natural and Built Environment Bill) – Official advice</b>"
      ],
      "text/plain": [
       "<IPython.core.display.HTML object>"
      ]
     },
     "metadata": {},
     "output_type": "display_data"
    },
    {
     "name": "stdout",
     "output_type": "stream",
     "text": [
      "The briefing memorandum recommends greater parliamentary scrutiny of the National Planning Framework, clarifying various aspects of the bill, reviewing time limits and lack of appeal processes, and assessing ministerial powers in the Natural and Built Environment Bill.\n",
      "\n"
     ]
    },
    {
     "data": {
      "text/html": [
       "<a href=https:////////www.parliament.nz////resource////en-NZ////53SCEN_ADV_129831_EN16991////9ce34146e042f4f74c66b6ff05822f6cfa03bc4a>Read the full submission</a>"
      ],
      "text/plain": [
       "<IPython.core.display.HTML object>"
      ]
     },
     "metadata": {},
     "output_type": "display_data"
    },
    {
     "data": {
      "text/html": [
       "<b>Aggregate and Quarry Association – Submission</b>"
      ],
      "text/plain": [
       "<IPython.core.display.HTML object>"
      ]
     },
     "metadata": {},
     "output_type": "display_data"
    },
    {
     "name": "stdout",
     "output_type": "stream",
     "text": [
      "The Aggregate and Quarry Association (AQA) raises concerns about property rights and the need for clarity in the Spatial Planning Bill, while also supporting the inclusion of Māori principles and recognition of te ao Māori.\n",
      "\n"
     ]
    },
    {
     "data": {
      "text/html": [
       "<a href=https:////////www.parliament.nz////resource////en-NZ////53SCEN_EVI_129831_EN15320////ee57d74264027abb30ffedfccfe1cb3b16925e8e>Read the full submission</a>"
      ],
      "text/plain": [
       "<IPython.core.display.HTML object>"
      ]
     },
     "metadata": {},
     "output_type": "display_data"
    },
    {
     "data": {
      "text/html": [
       "<b>Ministry for the Environment (CST - Planning and consenting stopping and commencement - overview) – Official advice</b>"
      ],
      "text/plain": [
       "<IPython.core.display.HTML object>"
      ]
     },
     "metadata": {},
     "output_type": "display_data"
    },
    {
     "name": "stdout",
     "output_type": "stream",
     "text": [
      "The briefing recommends following the outlined process for planning and consenting for the National Built Environment (NBE) plan, including using the RMA Integrated streamlined planning process and transitioning existing RMA Regional Authorities to NBE Regional Authorities.\n",
      "\n"
     ]
    },
    {
     "data": {
      "text/html": [
       "<a href=https:////////www.parliament.nz////resource////en-NZ////53SCEN_ADV_129831_EN16925////73486f13f7fe2d5fc4e9127ec0b3aedc83c0d13f>Read the full submission</a>"
      ],
      "text/plain": [
       "<IPython.core.display.HTML object>"
      ]
     },
     "metadata": {},
     "output_type": "display_data"
    },
    {
     "data": {
      "text/html": [
       "<b>Royal Forest and Bird Protection Society of New Zealand Inc Supp 5 – Submission</b>"
      ],
      "text/plain": [
       "<IPython.core.display.HTML object>"
      ]
     },
     "metadata": {},
     "output_type": "display_data"
    },
    {
     "name": "stdout",
     "output_type": "stream",
     "text": [
      "Forest & Bird has proposed amendments to the Natural and Built Environment Bill to ensure that adverse effects on biodiversity and cultural heritage are avoided, minimized, remedied, and offset wherever possible, while also outlining principles for biodiversity offsetting and redress.\n",
      "\n"
     ]
    },
    {
     "data": {
      "text/html": [
       "<a href=https:////////www.parliament.nz////resource////en-NZ////53SCEN_EVI_129831_EN16147////941790e20b171046cd4413855fd0dd7c408ef53d>Read the full submission</a>"
      ],
      "text/plain": [
       "<IPython.core.display.HTML object>"
      ]
     },
     "metadata": {},
     "output_type": "display_data"
    },
    {
     "data": {
      "text/html": [
       "<b>Ryman Healthcare Limited – Submission</b>"
      ],
      "text/plain": [
       "<IPython.core.display.HTML object>"
      ]
     },
     "metadata": {},
     "output_type": "display_data"
    },
    {
     "name": "stdout",
     "output_type": "stream",
     "text": [
      "Ryman Healthcare supports the Retirement Villages Association's submission on the Natural and Built Environment Bill and Spatial Planning Bill, emphasizing the need for streamlined planning processes to address the retirement housing crisis, while also raising concerns about implementation time and the impact of wetland protection regulations on urban development.\n",
      "\n"
     ]
    },
    {
     "data": {
      "text/html": [
       "<a href=https:////////www.parliament.nz////resource////en-NZ////53SCEN_EVI_129831_EN15739////dcc62df19b77d7638bf43f696c3c1a9f55011aa2>Read the full submission</a>"
      ],
      "text/plain": [
       "<IPython.core.display.HTML object>"
      ]
     },
     "metadata": {},
     "output_type": "display_data"
    },
    {
     "data": {
      "text/html": [
       "<b>Northland Regional Council – Submission</b>"
      ],
      "text/plain": [
       "<IPython.core.display.HTML object>"
      ]
     },
     "metadata": {},
     "output_type": "display_data"
    },
    {
     "name": "stdout",
     "output_type": "stream",
     "text": [
      "The Northland Regional Council supports the government's objectives for reforming the resource management system but has reservations about certain aspects of the proposed changes, including the lack of resourcing for Māori engagement, expensive appeals processes, difficulties in interpreting national policy direction, and the allocation of water resources on a 'first in first served' basis.\n",
      "\n"
     ]
    },
    {
     "data": {
      "text/html": [
       "<a href=https:////////www.parliament.nz////resource////en-NZ////53SCEN_EVI_129831_EN15599////85239bb8113237058f677236e851f05b06dff0c9>Read the full submission</a>"
      ],
      "text/plain": [
       "<IPython.core.display.HTML object>"
      ]
     },
     "metadata": {},
     "output_type": "display_data"
    },
    {
     "data": {
      "text/html": [
       "<b>New Zealand Telecommunications Forum Inc – Submission</b>"
      ],
      "text/plain": [
       "<IPython.core.display.HTML object>"
      ]
     },
     "metadata": {},
     "output_type": "display_data"
    },
    {
     "name": "stdout",
     "output_type": "stream",
     "text": [
      "The New Zealand Telecommunications Forum (TCF) supports the aims of the Natural and Built Environment (NBE) and Spatial Planning (SP) Bills but raises concerns and proposes changes to ensure that the telecommunications industry can effectively provide critical infrastructure and contribute to the goals of the reforms.\n",
      "\n"
     ]
    },
    {
     "data": {
      "text/html": [
       "<a href=https:////////www.parliament.nz////resource////en-NZ////53SCEN_EVI_129831_EN15612////fe1264fbd237e9ef89e3cc6bd23fbbc004abad2c>Read the full submission</a>"
      ],
      "text/plain": [
       "<IPython.core.display.HTML object>"
      ]
     },
     "metadata": {},
     "output_type": "display_data"
    },
    {
     "data": {
      "text/html": [
       "<b>The Retirement Villages Association of New Zealand Supp 1 – Submission</b>"
      ],
      "text/plain": [
       "<IPython.core.display.HTML object>"
      ]
     },
     "metadata": {},
     "output_type": "display_data"
    },
    {
     "name": "stdout",
     "output_type": "stream",
     "text": [
      "The Retirement Villages Association and Ryman Healthcare argue that the current Resource Management Act has caused delays in the development of retirement villages, and propose that the National Planning Framework and new bills should streamline planning and consenting processes to meet the increasing demand for retirement housing.\n",
      "\n"
     ]
    },
    {
     "data": {
      "text/html": [
       "<a href=https:////////www.parliament.nz////resource////en-NZ////53SCEN_EVI_129831_EN16777////d658f2e0f80f8c76bf0c7ad9bd459d145d88d530>Read the full submission</a>"
      ],
      "text/plain": [
       "<IPython.core.display.HTML object>"
      ]
     },
     "metadata": {},
     "output_type": "display_data"
    },
    {
     "data": {
      "text/html": [
       "<b>Ashburton Lyndhurst Irrigation Limited (ALIL) – Submission</b>"
      ],
      "text/plain": [
       "<IPython.core.display.HTML object>"
      ]
     },
     "metadata": {},
     "output_type": "display_data"
    },
    {
     "name": "stdout",
     "output_type": "stream",
     "text": [
      "Ashburton Lyndhurst Irrigation Limited (ALIL) supports the Natural and Built Environments Bill (NBEB) and the Spatial Planning Bill (SPB) but provides feedback on certain aspects, including the need for more explicit recognition of climate change adaptation, the inclusion of environmental limits for freshwater and air, and the removal of duplication and confusion in freshwater management provisions.\n",
      "\n"
     ]
    },
    {
     "data": {
      "text/html": [
       "<a href=https:////////www.parliament.nz////resource////en-NZ////53SCEN_EVI_129831_EN15723////198d8335d17523c77c82ab8169d0313c1d1d8c1a>Read the full submission</a>"
      ],
      "text/plain": [
       "<IPython.core.display.HTML object>"
      ]
     },
     "metadata": {},
     "output_type": "display_data"
    },
    {
     "data": {
      "text/html": [
       "<b>PCE (Comment on departmental report - tranches 1 and 2) – Official advice</b>"
      ],
      "text/plain": [
       "<IPython.core.display.HTML object>"
      ]
     },
     "metadata": {},
     "output_type": "display_data"
    },
    {
     "name": "stdout",
     "output_type": "stream",
     "text": [
      "The main recommendation in this briefing is to make several amendments to the Spatial Planning Bill and Tranches 1 & 2 of the Natural and Built Environment Bill to ensure consistency with environmental limits and targets, include places of national and regional importance, delay preparation until limits and targets are set, strengthen language around cumulative effects, clarify the purpose of the Act to protect the natural environment, require regard to the Biodiversity Strategy, and amend the exemptions regime.\n",
      "\n"
     ]
    },
    {
     "data": {
      "text/html": [
       "<a href=https:////////www.parliament.nz////resource////en-NZ////53SCEN_ADV_129831_EN16914////647b8348605214d6f50fbc4c70e36c45749959ca>Read the full submission</a>"
      ],
      "text/plain": [
       "<IPython.core.display.HTML object>"
      ]
     },
     "metadata": {},
     "output_type": "display_data"
    },
    {
     "data": {
      "text/html": [
       "<b>Rangitata Diversion Race Management Ltd Supp 1 – Submission</b>"
      ],
      "text/plain": [
       "<IPython.core.display.HTML object>"
      ]
     },
     "metadata": {},
     "output_type": "display_data"
    },
    {
     "name": "stdout",
     "output_type": "stream",
     "text": [
      "The CEO of Rangitata Diversion Race Management Ltd argues that the Natural and Built Environment Bill does not adequately address the security of infrastructure, particularly in relation to water supply, and advocates for a maximum consent term of 35 years to be included in the new legislation.\n",
      "\n"
     ]
    },
    {
     "data": {
      "text/html": [
       "<a href=https:////////www.parliament.nz////resource////en-NZ////53SCEN_EVI_129831_EN15871////9218b775f9fa2e82fbfd3d87e3bd8e9080b969ee>Read the full submission</a>"
      ],
      "text/plain": [
       "<IPython.core.display.HTML object>"
      ]
     },
     "metadata": {},
     "output_type": "display_data"
    },
    {
     "data": {
      "text/html": [
       "<b>Ministry for the Environment (Aquaculture fact sheet) – Official advice</b>"
      ],
      "text/plain": [
       "<IPython.core.display.HTML object>"
      ]
     },
     "metadata": {},
     "output_type": "display_data"
    },
    {
     "name": "stdout",
     "output_type": "stream",
     "text": [
      "The briefing recommends improving the management of aquaculture through strategic planning, streamlined consenting processes, and enhanced leadership at a national and regional level.\n",
      "\n"
     ]
    },
    {
     "data": {
      "text/html": [
       "<a href=https:////////www.parliament.nz////resource////en-NZ////53SCEN_ADV_129831_EN16923////de22b4ca1ca37319336386d324be3ad156fe55b7>Read the full submission</a>"
      ],
      "text/plain": [
       "<IPython.core.display.HTML object>"
      ]
     },
     "metadata": {},
     "output_type": "display_data"
    },
    {
     "data": {
      "text/html": [
       "<b>New Zealand Game Animal Council Supp 2 – Submission</b>"
      ],
      "text/plain": [
       "<IPython.core.display.HTML object>"
      ]
     },
     "metadata": {},
     "output_type": "display_data"
    },
    {
     "name": "stdout",
     "output_type": "stream",
     "text": [
      "The main argument of this submission is that adaptive co-management is a necessary approach for social-ecological governance in order to address the challenges of maintaining social and natural assets while sustaining ecosystem services.\n",
      "\n"
     ]
    },
    {
     "data": {
      "text/html": [
       "<a href=https:////////www.parliament.nz////resource////en-NZ////53SCEN_EVI_129831_EN15933////3ebb9eb0b7af370132566a5d4a9c04606aad7b69>Read the full submission</a>"
      ],
      "text/plain": [
       "<IPython.core.display.HTML object>"
      ]
     },
     "metadata": {},
     "output_type": "display_data"
    },
    {
     "data": {
      "text/html": [
       "<b>Emily Grace (Comments on NBE Bill departmental report 3B - Notification provisions) – Official advice</b>"
      ],
      "text/plain": [
       "<IPython.core.display.HTML object>"
      ]
     },
     "metadata": {},
     "output_type": "display_data"
    },
    {
     "name": "stdout",
     "output_type": "stream",
     "text": [
      "The briefing report provides recommendations for improving the notification provisions in the Departmental Reports on the Natural and Built Environment Bill and the Spatial Planning Bill, suggesting changes such as relocating provisions, clarifying the purpose of notification, and considering alternative approaches to identifying affected parties.\n",
      "\n"
     ]
    },
    {
     "data": {
      "text/html": [
       "<a href=https:////////www.parliament.nz////resource////en-NZ////53SCEN_ADV_129831_EN16959////f1b009405d1650630cc637995ee291cf6766120b>Read the full submission</a>"
      ],
      "text/plain": [
       "<IPython.core.display.HTML object>"
      ]
     },
     "metadata": {},
     "output_type": "display_data"
    },
    {
     "data": {
      "text/html": [
       "<b>Ministry for the Environment (Additional content for consideration customary fishing) – Official advice</b>"
      ],
      "text/plain": [
       "<IPython.core.display.HTML object>"
      ]
     },
     "metadata": {},
     "output_type": "display_data"
    },
    {
     "name": "stdout",
     "output_type": "stream",
     "text": [
      "The briefing recommends amending clause 117 to protect fishing rights and ensure the Fisheries Settlement is upheld, as well as making other improvements to the National Planning Framework.\n",
      "\n"
     ]
    },
    {
     "data": {
      "text/html": [
       "<a href=https:////////www.parliament.nz////resource////en-NZ////53SCEN_ADV_129831_EN16926////4b6bf615c7b2c5243021b52176199272f42d16a6>Read the full submission</a>"
      ],
      "text/plain": [
       "<IPython.core.display.HTML object>"
      ]
     },
     "metadata": {},
     "output_type": "display_data"
    },
    {
     "data": {
      "text/html": [
       "<b>Rotokawa Joint Venture Limited – Submission</b>"
      ],
      "text/plain": [
       "<IPython.core.display.HTML object>"
      ]
     },
     "metadata": {},
     "output_type": "display_data"
    },
    {
     "name": "stdout",
     "output_type": "stream",
     "text": [
      "The Rotokawa Joint Venture Limited (RJV) supports the Natural and Built Environment Bill (NBE Bill) and Spatial Planning Bill (SP Bill) but raises concerns and suggests amendments to better support geothermal electricity generation activities and provide clarity and certainty for investment and development in the sector.\n",
      "\n"
     ]
    },
    {
     "data": {
      "text/html": [
       "<a href=https:////////www.parliament.nz////resource////en-NZ////53SCEN_EVI_129831_EN15500////5bdd437482458cf80c6ff605f1af4b4fe87be53b>Read the full submission</a>"
      ],
      "text/plain": [
       "<IPython.core.display.HTML object>"
      ]
     },
     "metadata": {},
     "output_type": "display_data"
    },
    {
     "data": {
      "text/html": [
       "<b>New Zealand Federation of Freshwater Anglers Supp 1 – Submission</b>"
      ],
      "text/plain": [
       "<IPython.core.display.HTML object>"
      ]
     },
     "metadata": {},
     "output_type": "display_data"
    },
    {
     "name": "stdout",
     "output_type": "stream",
     "text": [
      "The author supports the Natural and Built Environment Bill in New Zealand but raises concerns about its compatibility with protecting the environment, criticizing its lack of public notification, central government control, and reliance on collaboration rather than science, while highlighting the failures of the Canterbury Regional Council and the negative impacts on the Rakaia River, and recommending provisions to compel regional councils to fulfill their role and improve measurement and monitoring of complex systems.\n",
      "\n"
     ]
    },
    {
     "data": {
      "text/html": [
       "<a href=https:////////www.parliament.nz////resource////en-NZ////53SCEN_EVI_129831_EN15734////fa7b7ddd319cb7950260e16f3ee9225d933298ed>Read the full submission</a>"
      ],
      "text/plain": [
       "<IPython.core.display.HTML object>"
      ]
     },
     "metadata": {},
     "output_type": "display_data"
    },
    {
     "data": {
      "text/html": [
       "<b>Quarry Operators joint submission – Submission</b>"
      ],
      "text/plain": [
       "<IPython.core.display.HTML object>"
      ]
     },
     "metadata": {},
     "output_type": "display_data"
    },
    {
     "name": "stdout",
     "output_type": "stream",
     "text": [
      "The Quarry Operators in New Zealand are advocating for the recognition and protection of aggregate resources in the proposed Resource Management System Reform Bills, highlighting concerns about the current system's lack of prioritization and proposing amendments to ensure their protection and efficient extraction.\n",
      "\n"
     ]
    },
    {
     "data": {
      "text/html": [
       "<a href=https:////////www.parliament.nz////resource////en-NZ////53SCEN_EVI_129831_EN15497////35c6756cbae232e9d2bfd85a68b7ef920129a562>Read the full submission</a>"
      ],
      "text/plain": [
       "<IPython.core.display.HTML object>"
      ]
     },
     "metadata": {},
     "output_type": "display_data"
    },
    {
     "data": {
      "text/html": [
       "<b>National Council of Women of New Zealand Supp 1 – Submission</b>"
      ],
      "text/plain": [
       "<IPython.core.display.HTML object>"
      ]
     },
     "metadata": {},
     "output_type": "display_data"
    },
    {
     "name": "stdout",
     "output_type": "stream",
     "text": [
      "The National Council of Women of New Zealand advocates for healthier environments that prioritize the wellbeing of all individuals, including women, children, Māori, diverse communities, and those with disabilities, and recommends major changes to the Natural and Built Environments Bill to achieve this.\n",
      "\n"
     ]
    },
    {
     "data": {
      "text/html": [
       "<a href=https:////////www.parliament.nz////resource////en-NZ////53SCEN_EVI_129831_EN15931////0fbad555b57cebd48ebce75173f796c8f3a8720f>Read the full submission</a>"
      ],
      "text/plain": [
       "<IPython.core.display.HTML object>"
      ]
     },
     "metadata": {},
     "output_type": "display_data"
    },
    {
     "data": {
      "text/html": [
       "<b>Taupō District Council – Submission</b>"
      ],
      "text/plain": [
       "<IPython.core.display.HTML object>"
      ]
     },
     "metadata": {},
     "output_type": "display_data"
    },
    {
     "name": "stdout",
     "output_type": "stream",
     "text": [
      "The Taupō District Council generally supports the Natural and Built Environment Bill and the Spatial Planning Bill but raises concerns about the scale and pace of government-driven reforms, the poor alignment between the Bills and the Three Waters reform, the disconnect between the proposed planning model and existing institutions, the drain on practitioners and limited subject matter experts, the need for tailored involvement in regional planning for councils spanning multiple regions, and the value of subregional planning.\n",
      "\n"
     ]
    },
    {
     "data": {
      "text/html": [
       "<a href=https:////////www.parliament.nz////resource////en-NZ////53SCEN_EVI_129831_EN15588////b9282f6e4869cb4d6767ef441bc3f1e699c4fb01>Read the full submission</a>"
      ],
      "text/plain": [
       "<IPython.core.display.HTML object>"
      ]
     },
     "metadata": {},
     "output_type": "display_data"
    },
    {
     "data": {
      "text/html": [
       "<b>Bay of Plenty Regional Council – Submission</b>"
      ],
      "text/plain": [
       "<IPython.core.display.HTML object>"
      ]
     },
     "metadata": {},
     "output_type": "display_data"
    },
    {
     "name": "stdout",
     "output_type": "stream",
     "text": [
      "The submission on the Natural and Built Environment and Spatial Planning Bills supports changes to improve the resource management system but raises concerns about Regional Planning Committees, Treaty of Waitangi principles, exemptions to environmental limits, geothermal resource management, local government involvement, resource allocation, and the fast-track consenting process.\n",
      "\n"
     ]
    },
    {
     "data": {
      "text/html": [
       "<a href=https:////////www.parliament.nz////resource////en-NZ////53SCEN_EVI_129831_EN15316////0a34531b9a32fd53ad5122850b931c975e9be1b0>Read the full submission</a>"
      ],
      "text/plain": [
       "<IPython.core.display.HTML object>"
      ]
     },
     "metadata": {},
     "output_type": "display_data"
    },
    {
     "data": {
      "text/html": [
       "<b>Ministry for the Environment (Explanation of weighting terminology for SP and NBE Bills) – Official advice</b>"
      ],
      "text/plain": [
       "<IPython.core.display.HTML object>"
      ]
     },
     "metadata": {},
     "output_type": "display_data"
    },
    {
     "name": "stdout",
     "output_type": "stream",
     "text": [
      "The briefing recommends using the term \"give effect\" to provide a strong directive and firm obligation on decision-makers in the Spatial Planning Bill and Natural and Built Environment Bill.\n",
      "\n"
     ]
    },
    {
     "data": {
      "text/html": [
       "<a href=https:////////www.parliament.nz////resource////en-NZ////53SCEN_ADV_129831_EN16738////3b15c8bff2ff18bf191a5ca100433b551b28ac7e>Read the full submission</a>"
      ],
      "text/plain": [
       "<IPython.core.display.HTML object>"
      ]
     },
     "metadata": {},
     "output_type": "display_data"
    },
    {
     "data": {
      "text/html": [
       "<b>Far North District Council – Submission</b>"
      ],
      "text/plain": [
       "<IPython.core.display.HTML object>"
      ]
     },
     "metadata": {},
     "output_type": "display_data"
    },
    {
     "name": "stdout",
     "output_type": "stream",
     "text": [
      "The Far North District Council has submitted feedback on the Natural and Built Environment Bill and Spatial Planning Bill, raising concerns about limited financial resources, restrictions on Māori land development, prescriptive policies, burden on landowners, lack of clarity on local government's role, challenges of meaningful participation for Māori, and the need for clear processes, resourcing, and alignment with other reforms.\n",
      "\n"
     ]
    },
    {
     "data": {
      "text/html": [
       "<a href=https:////////www.parliament.nz////resource////en-NZ////53SCEN_EVI_129831_EN15473////5fdfaf79786ecf9bf9484293edb012836d36ea3e>Read the full submission</a>"
      ],
      "text/plain": [
       "<IPython.core.display.HTML object>"
      ]
     },
     "metadata": {},
     "output_type": "display_data"
    },
    {
     "data": {
      "text/html": [
       "<b>Northland Regional Council Supp2 – Submission</b>"
      ],
      "text/plain": [
       "<IPython.core.display.HTML object>"
      ]
     },
     "metadata": {},
     "output_type": "display_data"
    },
    {
     "name": "stdout",
     "output_type": "stream",
     "text": [
      "The submission requests amendments to the NBE Bill and SP Bill to prioritize environmental protection, Māori values, and local government involvement, and to provide clarity, consistency, and adequate funding for implementation.\n",
      "\n"
     ]
    },
    {
     "data": {
      "text/html": [
       "<a href=https:////////www.parliament.nz////resource////en-NZ////53SCEN_EVI_129831_EN15601////2e93e75b82d84cc39da8e2ece3b5544a17f4d035>Read the full submission</a>"
      ],
      "text/plain": [
       "<IPython.core.display.HTML object>"
      ]
     },
     "metadata": {},
     "output_type": "display_data"
    },
    {
     "data": {
      "text/html": [
       "<b>Queen Elizabeth the Second National Trust – Submission</b>"
      ],
      "text/plain": [
       "<IPython.core.display.HTML object>"
      ]
     },
     "metadata": {},
     "output_type": "display_data"
    },
    {
     "name": "stdout",
     "output_type": "stream",
     "text": [
      "The Queen Elizabeth the Second National Trust supports the principles of the Natural and Built Environment Bill but has concerns about certain aspects of the bill's language and drafting that may lead to uncertainty and poor environmental outcomes, and suggests simplifying and clarifying these aspects for better protection of the environment.\n",
      "\n"
     ]
    },
    {
     "data": {
      "text/html": [
       "<a href=https:////////www.parliament.nz////resource////en-NZ////53SCEN_EVI_129831_EN15584////cd997e56598f3d8718ec338186d1d62dd9260dad>Read the full submission</a>"
      ],
      "text/plain": [
       "<IPython.core.display.HTML object>"
      ]
     },
     "metadata": {},
     "output_type": "display_data"
    },
    {
     "data": {
      "text/html": [
       "<b>Te Korowai o Ngāruahine Trust – Submission</b>"
      ],
      "text/plain": [
       "<IPython.core.display.HTML object>"
      ]
     },
     "metadata": {},
     "output_type": "display_data"
    },
    {
     "name": "stdout",
     "output_type": "stream",
     "text": [
      "The submission argues that the Natural and Built Environment Bill and Spatial Planning Bill are not compliant with Te Tiriti o Waitangi and calls for stronger provisions to protect and uphold the rights and interests of Ngāruahine and other iwi and hapū.\n",
      "\n"
     ]
    },
    {
     "data": {
      "text/html": [
       "<a href=https:////////www.parliament.nz////resource////en-NZ////53SCEN_EVI_129831_EN15581////879e1cd76da72c4e77d42e22b3185b446558b8d2>Read the full submission</a>"
      ],
      "text/plain": [
       "<IPython.core.display.HTML object>"
      ]
     },
     "metadata": {},
     "output_type": "display_data"
    },
    {
     "data": {
      "text/html": [
       "<b>EnviroNZ – Submission</b>"
      ],
      "text/plain": [
       "<IPython.core.display.HTML object>"
      ]
     },
     "metadata": {},
     "output_type": "display_data"
    },
    {
     "name": "stdout",
     "output_type": "stream",
     "text": [
      "Waste management company Enviro NZ supports the reform of New Zealand's resource management system but has concerns about certain aspects of the Natural and Built Environment Bill and the Spatial Planning Bill, particularly regarding the recognition and provision for the waste industry and the preparation and implementation of environmental limits.\n",
      "\n"
     ]
    },
    {
     "data": {
      "text/html": [
       "<a href=https:////////www.parliament.nz////resource////en-NZ////53SCEN_EVI_129831_EN15472////59fc2c1b339d45f539a2e687e8b163b9a032d069>Read the full submission</a>"
      ],
      "text/plain": [
       "<IPython.core.display.HTML object>"
      ]
     },
     "metadata": {},
     "output_type": "display_data"
    },
    {
     "data": {
      "text/html": [
       "<b>Ministry for the Environment (Response to Regulations Review Committee Letter) – Official advice</b>"
      ],
      "text/plain": [
       "<IPython.core.display.HTML object>"
      ]
     },
     "metadata": {},
     "output_type": "display_data"
    },
    {
     "name": "stdout",
     "output_type": "stream",
     "text": [
      "The main recommendation in this briefing is to amend the Natural and Built Environment Bill to include specific safeguards and requirements for certain provisions.\n",
      "\n"
     ]
    },
    {
     "data": {
      "text/html": [
       "<a href=https:////////www.parliament.nz////resource////en-NZ////53SCEN_ADV_129831_EN16922////4b80596e2ad18603436596f7ad7f728054f654bb>Read the full submission</a>"
      ],
      "text/plain": [
       "<IPython.core.display.HTML object>"
      ]
     },
     "metadata": {},
     "output_type": "display_data"
    },
    {
     "data": {
      "text/html": [
       "<b>New Zealand Telecommunications Forum – Submission</b>"
      ],
      "text/plain": [
       "<IPython.core.display.HTML object>"
      ]
     },
     "metadata": {},
     "output_type": "display_data"
    },
    {
     "name": "stdout",
     "output_type": "stream",
     "text": [
      "The New Zealand Telecommunications Forum (TCF) has submitted a response to the Natural and Built Environment (NBE) and Spatial Planning (SP) Bills, supporting the aims of the bills but raising concerns and suggesting changes in several areas, including the need to update existing standards for telecommunications before transitioning into the new National Planning Framework, requiring earlier consultation with network utility operators, addressing funding for infrastructure, clarifying the role of decision-makers in managing conflicts between incompatible land uses, and exempting network utility operators\n",
      "\n"
     ]
    },
    {
     "data": {
      "text/html": [
       "<a href=https:////////www.parliament.nz////resource////en-NZ////53SCEN_EVI_129831_EN15486////fe1264fbd237e9ef89e3cc6bd23fbbc004abad2c>Read the full submission</a>"
      ],
      "text/plain": [
       "<IPython.core.display.HTML object>"
      ]
     },
     "metadata": {},
     "output_type": "display_data"
    },
    {
     "data": {
      "text/html": [
       "<b>Insurance Council of New Zealand Supp 1 – Submission</b>"
      ],
      "text/plain": [
       "<IPython.core.display.HTML object>"
      ]
     },
     "metadata": {},
     "output_type": "display_data"
    },
    {
     "name": "stdout",
     "output_type": "stream",
     "text": [
      "The Insurance Council of New Zealand supports the Natural and Built Environment Bill, advocating for a precautionary approach to managing climate risks, a \"build back better\" approach after natural disasters, reducing risks and improving resilience, and clear roles and responsibilities between related bills.\n",
      "\n"
     ]
    },
    {
     "data": {
      "text/html": [
       "<a href=https:////////www.parliament.nz////resource////en-NZ////53SCEN_EVI_129831_EN15477////fdd2024cdaf840f62d8db2e2829f355462f70497>Read the full submission</a>"
      ],
      "text/plain": [
       "<IPython.core.display.HTML object>"
      ]
     },
     "metadata": {},
     "output_type": "display_data"
    },
    {
     "data": {
      "text/html": [
       "<b>Manawa Energy – Submission</b>"
      ],
      "text/plain": [
       "<IPython.core.display.HTML object>"
      ]
     },
     "metadata": {},
     "output_type": "display_data"
    },
    {
     "name": "stdout",
     "output_type": "stream",
     "text": [
      "Renewable electricity generator Manawa Energy Ltd raises concerns about the Natural and Built Environment Bill in New Zealand, arguing that it fails to enable renewable electricity generation and creates a market imbalance between grid-connected and non-grid-connected schemes. They call for amendments to ensure a level playing field and recognition of infrastructure services.\n",
      "\n"
     ]
    },
    {
     "data": {
      "text/html": [
       "<a href=https:////////www.parliament.nz////resource////en-NZ////53SCEN_EVI_129831_EN15813////363c8d4e137466e6e84ca2532f036c3c8e1559ed>Read the full submission</a>"
      ],
      "text/plain": [
       "<IPython.core.display.HTML object>"
      ]
     },
     "metadata": {},
     "output_type": "display_data"
    },
    {
     "data": {
      "text/html": [
       "<b>MfE (Initial briefing 3 - Attachment 5.1 (b10)- Consenting slides) [updated] – Official advice</b>"
      ],
      "text/plain": [
       "<IPython.core.display.HTML object>"
      ]
     },
     "metadata": {},
     "output_type": "display_data"
    },
    {
     "name": "stdout",
     "output_type": "stream",
     "text": [
      "The briefing recommends adopting a more efficient and outcome-focused approach to consenting, including clearer activity categories, reduced requirements for hearing notified consents, and the establishment of voluntary regional alternative dispute resolution (ADR) for controlled activities.\n",
      "\n"
     ]
    },
    {
     "data": {
      "text/html": [
       "<a href=https:////////www.parliament.nz////resource////en-NZ////53SCEN_ADV_129831_EN17221////3a82e19bb289505eb96cb9b16568b95dda36e840>Read the full submission</a>"
      ],
      "text/plain": [
       "<IPython.core.display.HTML object>"
      ]
     },
     "metadata": {},
     "output_type": "display_data"
    },
    {
     "data": {
      "text/html": [
       "<b>New Zealand Law Society Supp 2 – Submission</b>"
      ],
      "text/plain": [
       "<IPython.core.display.HTML object>"
      ]
     },
     "metadata": {},
     "output_type": "display_data"
    },
    {
     "name": "stdout",
     "output_type": "stream",
     "text": [
      "The Law Society's Property Law Section has identified issues with road vesting on subdivisions in the Natural and Built Environment Bill, recommending amendments to simplify the process and avoid delays and costs.\n",
      "\n"
     ]
    },
    {
     "data": {
      "text/html": [
       "<a href=https:////////www.parliament.nz////resource////en-NZ////53SCEN_EVI_129831_EN15483////ce1cb0ff236870c8868d4e80c3228ee5776f2c7c>Read the full submission</a>"
      ],
      "text/plain": [
       "<IPython.core.display.HTML object>"
      ]
     },
     "metadata": {},
     "output_type": "display_data"
    },
    {
     "data": {
      "text/html": [
       "<b>Save the Basin Campaign Incorporated Supp 1 – Submission</b>"
      ],
      "text/plain": [
       "<IPython.core.display.HTML object>"
      ]
     },
     "metadata": {},
     "output_type": "display_data"
    },
    {
     "name": "stdout",
     "output_type": "stream",
     "text": [
      "The Save the Basin Campaign opposes the designation provisions in the Natural and Built Environment Bill and Spatial Planning Bill, arguing that the current process allows for environmentally destructive projects to progress, and proposes amendments to prioritize environmental well-being and community interests.\n",
      "\n"
     ]
    },
    {
     "data": {
      "text/html": [
       "<a href=https:////////www.parliament.nz////resource////en-NZ////53SCEN_EVI_129831_EN16134////f8d715a133eedc54e68bc4b3bcf56aea59b40de1>Read the full submission</a>"
      ],
      "text/plain": [
       "<IPython.core.display.HTML object>"
      ]
     },
     "metadata": {},
     "output_type": "display_data"
    },
    {
     "data": {
      "text/html": [
       "<b>Sustainable Seas National Science Challenge Supp 1 – Submission</b>"
      ],
      "text/plain": [
       "<IPython.core.display.HTML object>"
      ]
     },
     "metadata": {},
     "output_type": "display_data"
    },
    {
     "name": "stdout",
     "output_type": "stream",
     "text": [
      "The submission argues for amendments to the NBEB and SPB Bill to accommodate the unique attributes of the coastal marine ecosystem, establish a clear hierarchy of purposes and outcomes, provide further definitions, consider connectivity and cumulative effects, and define management units and spatial planning.\n",
      "\n"
     ]
    },
    {
     "data": {
      "text/html": [
       "<a href=https:////////www.parliament.nz////resource////en-NZ////53SCEN_EVI_129831_EN16125////cd5c2fe94d160e51dcf3cb69ac677698d793e6b7>Read the full submission</a>"
      ],
      "text/plain": [
       "<IPython.core.display.HTML object>"
      ]
     },
     "metadata": {},
     "output_type": "display_data"
    },
    {
     "data": {
      "text/html": [
       "<b>Ministry for the Environment (Additional advice on SP Bill hearings, 24 March 2023) – Official advice</b>"
      ],
      "text/plain": [
       "<IPython.core.display.HTML object>"
      ]
     },
     "metadata": {},
     "output_type": "display_data"
    },
    {
     "name": "stdout",
     "output_type": "stream",
     "text": [
      "The briefing recommends incorporating mandatory hearings, or \"presentations,\" into the regional spatial strategy development process in a way that meets the needs of participants, including virtual presentations and early-stage opportunities, and proposes a new requirement in the Spatial Planning Bill to provide clearer direction on the engagement process.\n",
      "\n"
     ]
    },
    {
     "data": {
      "text/html": [
       "<a href=https:////////www.parliament.nz////resource////en-NZ////53SCEN_ADV_129831_EN16913////cc2b6a4e7f8ca6fc7f078290678e215f0a3e6010>Read the full submission</a>"
      ],
      "text/plain": [
       "<IPython.core.display.HTML object>"
      ]
     },
     "metadata": {},
     "output_type": "display_data"
    },
    {
     "data": {
      "text/html": [
       "<b>Ngai Tāmanuhiri, Rongowhakaata, and Te Aitanga A Mahaki – Submission</b>"
      ],
      "text/plain": [
       "<IPython.core.display.HTML object>"
      ]
     },
     "metadata": {},
     "output_type": "display_data"
    },
    {
     "name": "stdout",
     "output_type": "stream",
     "text": [
      "The three Iwi of Tūranga submit that the Natural and Built Environment Bill and Spatial Planning Bill should uphold Treaty settlements and respect their rights and interests in natural resources and taonga, supporting the Freshwater Iwi Leaders Group's submission and requesting amendments to address concerns about notification processes, regional planning committees, iwi planning documents, Crown ownership of resources, and water access for public use.\n",
      "\n"
     ]
    },
    {
     "data": {
      "text/html": [
       "<a href=https:////////www.parliament.nz////resource////en-NZ////53SCEN_EVI_129831_EN15937////f328359a9769ce716eb4f4efd8d20f06f6f75202>Read the full submission</a>"
      ],
      "text/plain": [
       "<IPython.core.display.HTML object>"
      ]
     },
     "metadata": {},
     "output_type": "display_data"
    },
    {
     "data": {
      "text/html": [
       "<b>Roderick Aldridge Supp 1 – Submission</b>"
      ],
      "text/plain": [
       "<IPython.core.display.HTML object>"
      ]
     },
     "metadata": {},
     "output_type": "display_data"
    },
    {
     "name": "stdout",
     "output_type": "stream",
     "text": [
      "An 82-year-old retired orchardist and service worker expresses support for the Natural and Built Environment Bill and Spatial Planning Bill, emphasizing the need to prioritize the environment and transform our way of life to regenerate ecosystems and prevent their collapse.\n",
      "\n"
     ]
    },
    {
     "data": {
      "text/html": [
       "<a href=https:////////www.parliament.nz////resource////en-NZ////53SCEN_EVI_129831_EN15808////b20471bc20345fbf87186f97a5bdd63db84bda6b>Read the full submission</a>"
      ],
      "text/plain": [
       "<IPython.core.display.HTML object>"
      ]
     },
     "metadata": {},
     "output_type": "display_data"
    },
    {
     "data": {
      "text/html": [
       "<b>Wellington Water Supp 1 – Submission</b>"
      ],
      "text/plain": [
       "<IPython.core.display.HTML object>"
      ]
     },
     "metadata": {},
     "output_type": "display_data"
    },
    {
     "name": "stdout",
     "output_type": "stream",
     "text": [
      "Wellington Water Limited has submitted a supplementary submission on the Natural and Built Environment Bill, requesting amendments to align it with the government's three waters reforms and proposing specific changes to various clauses.\n",
      "\n"
     ]
    },
    {
     "data": {
      "text/html": [
       "<a href=https:////////www.parliament.nz////resource////en-NZ////53SCEN_EVI_129831_EN15501////4258ce6ce589406e58931f5cb41bed716d59a618>Read the full submission</a>"
      ],
      "text/plain": [
       "<IPython.core.display.HTML object>"
      ]
     },
     "metadata": {},
     "output_type": "display_data"
    },
    {
     "data": {
      "text/html": [
       "<b>Ministry for the Environment (Info request - resource allocation) – Official advice</b>"
      ],
      "text/plain": [
       "<IPython.core.display.HTML object>"
      ]
     },
     "metadata": {},
     "output_type": "display_data"
    },
    {
     "name": "stdout",
     "output_type": "stream",
     "text": [
      "The briefing recommends implementing the resource allocation proposals in the NBE Bill to address the unsustainable, inefficient, and inequitable current system of resource allocation under the Resource Management Act 1991, particularly for Māori, and move towards a more deliberate and strategic approach.\n",
      "\n"
     ]
    },
    {
     "data": {
      "text/html": [
       "<a href=https:////////www.parliament.nz////resource////en-NZ////53SCEN_ADV_129831_EN11607////80b1d047483051b2174326fa89fa5dd0fdc3f7e4>Read the full submission</a>"
      ],
      "text/plain": [
       "<IPython.core.display.HTML object>"
      ]
     },
     "metadata": {},
     "output_type": "display_data"
    },
    {
     "data": {
      "text/html": [
       "<b>Ministry for the Environment (Issues relating to regional planning committees) – Official advice</b>"
      ],
      "text/plain": [
       "<IPython.core.display.HTML object>"
      ]
     },
     "metadata": {},
     "output_type": "display_data"
    },
    {
     "name": "stdout",
     "output_type": "stream",
     "text": [
      "The main recommendation in this briefing is to establish regional planning committees (RPCs) with independent decision-making powers to facilitate collaboration and decision-making at the regional level.\n",
      "\n"
     ]
    },
    {
     "data": {
      "text/html": [
       "<a href=https:////////www.parliament.nz////resource////en-NZ////53SCEN_ADV_129831_EN16756////c8c40b94b41b23410aa22c1a0c5789972e0aefa5>Read the full submission</a>"
      ],
      "text/plain": [
       "<IPython.core.display.HTML object>"
      ]
     },
     "metadata": {},
     "output_type": "display_data"
    },
    {
     "data": {
      "text/html": [
       "<b>Emily Grace (independent advice on NBE Bill departmental report 1) – Official advice</b>"
      ],
      "text/plain": [
       "<IPython.core.display.HTML object>"
      ]
     },
     "metadata": {},
     "output_type": "display_data"
    },
    {
     "name": "stdout",
     "output_type": "stream",
     "text": [
      "The briefing recommends amendments to the Natural and Built Environment Bill to improve its workability, including clarifying drafting, defining outcomes, and making changes to decision-making principles, with a generally neutral or positive effect on the bill's workability.\n",
      "\n"
     ]
    },
    {
     "data": {
      "text/html": [
       "<a href=https:////////www.parliament.nz////resource////en-NZ////53SCEN_ADV_129831_EN16941////acfb718e83d8a96c992ad8c2379f9f503b7b2caf>Read the full submission</a>"
      ],
      "text/plain": [
       "<IPython.core.display.HTML object>"
      ]
     },
     "metadata": {},
     "output_type": "display_data"
    },
    {
     "data": {
      "text/html": [
       "<b>Environment Institute of Australia and New Zealand – Submission</b>"
      ],
      "text/plain": [
       "<IPython.core.display.HTML object>"
      ]
     },
     "metadata": {},
     "output_type": "display_data"
    },
    {
     "name": "stdout",
     "output_type": "stream",
     "text": [
      "The Environment Institute of Australia and New Zealand (EIANZ) supports the Draft Natural and Built Environment Act (NBEA) but has concerns about specific provisions, including language and terminology, and suggests amendments for greater clarity, consistency, and practicality in implementation.\n",
      "\n"
     ]
    },
    {
     "data": {
      "text/html": [
       "<a href=https:////////www.parliament.nz////resource////en-NZ////53SCEN_EVI_129831_EN15738////938b1d1741e496f27280ae6599715266d06e833f>Read the full submission</a>"
      ],
      "text/plain": [
       "<IPython.core.display.HTML object>"
      ]
     },
     "metadata": {},
     "output_type": "display_data"
    },
    {
     "data": {
      "text/html": [
       "<b>Ministry for the Environment (Info request - NBE consent categories) – Official advice</b>"
      ],
      "text/plain": [
       "<IPython.core.display.HTML object>"
      ]
     },
     "metadata": {},
     "output_type": "display_data"
    },
    {
     "name": "stdout",
     "output_type": "stream",
     "text": [
      "The briefing recommends adopting the NBE plan, which includes a shift towards less focus on managing effects, being specific about consent types, reducing categories, expanding permitted activities, balancing urban vegetation protection with development, removing blanket tree protection rules, increasing consent numbers, rebating environmental contributions, and enabling the NPF to signal wider tree protection rules.\n",
      "\n"
     ]
    },
    {
     "data": {
      "text/html": [
       "<a href=https:////////www.parliament.nz////resource////en-NZ////53SCEN_ADV_129831_EN11608////aebcd3ea653e6e0b55ede51b4a13b21b2276fb34>Read the full submission</a>"
      ],
      "text/plain": [
       "<IPython.core.display.HTML object>"
      ]
     },
     "metadata": {},
     "output_type": "display_data"
    },
    {
     "data": {
      "text/html": [
       "<b>Hamilton City Council Supp4 – Submission</b>"
      ],
      "text/plain": [
       "<IPython.core.display.HTML object>"
      ]
     },
     "metadata": {},
     "output_type": "display_data"
    },
    {
     "name": "stdout",
     "output_type": "stream",
     "text": [
      "The Hamilton City Council is advocating for the Future Proof partnership to be the foundation for sub-regional spatial planning in the Waikato region, arguing that the existing regional boundaries are not suitable for the proposed planning frameworks in the Spatial Planning Bill and the Natural and Built Environment Bill.\n",
      "\n"
     ]
    },
    {
     "data": {
      "text/html": [
       "<a href=https:////////www.parliament.nz////resource////en-NZ////53SCEN_EVI_129831_EN16153////e80de2212b1e88cce1ed3a4951fc10f3344343b9>Read the full submission</a>"
      ],
      "text/plain": [
       "<IPython.core.display.HTML object>"
      ]
     },
     "metadata": {},
     "output_type": "display_data"
    },
    {
     "data": {
      "text/html": [
       "<b>Port Nicholson Settlement Block Trust – Submission</b>"
      ],
      "text/plain": [
       "<IPython.core.display.HTML object>"
      ]
     },
     "metadata": {},
     "output_type": "display_data"
    },
    {
     "name": "stdout",
     "output_type": "stream",
     "text": [
      "The Port Nicholson Block Settlement Trust (PNBST) has submitted a response to the Natural and Built Environments (NBE) Bill and Spatial Planning Bill, advocating for the durability of their settlement, equal representation for Māori on Regional Planning Committees, and stronger notification processes for iwi and hapū.\n",
      "\n"
     ]
    },
    {
     "data": {
      "text/html": [
       "<a href=https:////////www.parliament.nz////resource////en-NZ////53SCEN_EVI_129831_EN15496////c78422ff9d288d9fa6b93a6b14e9631981d40c82>Read the full submission</a>"
      ],
      "text/plain": [
       "<IPython.core.display.HTML object>"
      ]
     },
     "metadata": {},
     "output_type": "display_data"
    },
    {
     "data": {
      "text/html": [
       "<b>Ministry for the Environment (Table of departmental report changes for navigation) – Official advice</b>"
      ],
      "text/plain": [
       "<IPython.core.display.HTML object>"
      ]
     },
     "metadata": {},
     "output_type": "display_data"
    },
    {
     "name": "stdout",
     "output_type": "stream",
     "text": [
      "The main recommendation in this briefing is to amend various clauses in the NBE Bill to clarify and improve their wording, with specific recommendations including clarifying development capacity, enabling fresh vegetable supply, clarifying recreational accessibility, amending the definition of 'bed' for braided rivers, clarifying consent authority for framework rules, engaging with local government and iwi, clarifying the review process, and amending notification provisions.\n",
      "\n"
     ]
    },
    {
     "data": {
      "text/html": [
       "<a href=https:////////www.parliament.nz////resource////en-NZ////53SCEN_ADV_129831_EN17084////81233071df0eb7403c681b23c14e98f5219b82fd>Read the full submission</a>"
      ],
      "text/plain": [
       "<IPython.core.display.HTML object>"
      ]
     },
     "metadata": {},
     "output_type": "display_data"
    },
    {
     "data": {
      "text/html": [
       "<b>Ministry for the Environment (Info request - case law on amenity) – Official advice</b>"
      ],
      "text/plain": [
       "<IPython.core.display.HTML object>"
      ]
     },
     "metadata": {},
     "output_type": "display_data"
    },
    {
     "name": "stdout",
     "output_type": "stream",
     "text": [
      "No summary is available for this document.\n",
      "\n"
     ]
    },
    {
     "data": {
      "text/html": [
       "<a href=https:////////www.parliament.nz////resource////en-NZ////53SCEN_ADV_129831_EN11609////fb11414217c669b5b3785ba87b68f0df3fb53672>Read the full submission</a>"
      ],
      "text/plain": [
       "<IPython.core.display.HTML object>"
      ]
     },
     "metadata": {},
     "output_type": "display_data"
    },
    {
     "data": {
      "text/html": [
       "<b>Tony Watkins Supp 2 – Submission</b>"
      ],
      "text/plain": [
       "<IPython.core.display.HTML object>"
      ]
     },
     "metadata": {},
     "output_type": "display_data"
    },
    {
     "name": "stdout",
     "output_type": "stream",
     "text": [
      "The author argues that a change in attitude and thinking is necessary to address the climate crisis, criticizing the current response as an excuse to avoid fundamental change and advocating for an earth-centered legal system and embracing nature.\n",
      "\n"
     ]
    },
    {
     "data": {
      "text/html": [
       "<a href=https:////////www.parliament.nz////resource////en-NZ////53SCEN_EVI_129831_EN15818////802009442c3d4e9b1a0c66ea8ccf9aa92312e3a4>Read the full submission</a>"
      ],
      "text/plain": [
       "<IPython.core.display.HTML object>"
      ]
     },
     "metadata": {},
     "output_type": "display_data"
    },
    {
     "data": {
      "text/html": [
       "<b>Ryman Healthcare Limited Supp 1 – Submission</b>"
      ],
      "text/plain": [
       "<IPython.core.display.HTML object>"
      ]
     },
     "metadata": {},
     "output_type": "display_data"
    },
    {
     "name": "stdout",
     "output_type": "stream",
     "text": [
      "The Retirement Villages Association (RVA) and Ryman Healthcare Limited argue that the current Resource Management Act (RMA) processes are slow and complex, causing delays and uncertainty in the retirement housing sector, and support the Natural and Built Environment Bill and the Spatial Planning Bill as opportunities to improve and streamline the regulatory framework for retirement villages.\n",
      "\n"
     ]
    },
    {
     "data": {
      "text/html": [
       "<a href=https:////////www.parliament.nz////resource////en-NZ////53SCEN_EVI_129831_EN16776////8a7d8c2de94bb2e749ade232c43e485f503b9dd2>Read the full submission</a>"
      ],
      "text/plain": [
       "<IPython.core.display.HTML object>"
      ]
     },
     "metadata": {},
     "output_type": "display_data"
    },
    {
     "data": {
      "text/html": [
       "<b>Karaponga Hydro Limited Supp 1 – Submission</b>"
      ],
      "text/plain": [
       "<IPython.core.display.HTML object>"
      ]
     },
     "metadata": {},
     "output_type": "display_data"
    },
    {
     "name": "stdout",
     "output_type": "stream",
     "text": [
      "The author argues that distributed generation of electricity, specifically small-scale hydroelectric power schemes, should be eligible for 35-year consents to promote renewable energy, build resilience, and achieve climate change goals.\n",
      "\n"
     ]
    },
    {
     "data": {
      "text/html": [
       "<a href=https:////////www.parliament.nz////resource////en-NZ////53SCEN_EVI_129831_EN15896////40237325f2f68fba2711db71829c742432fbde80>Read the full submission</a>"
      ],
      "text/plain": [
       "<IPython.core.display.HTML object>"
      ]
     },
     "metadata": {},
     "output_type": "display_data"
    },
    {
     "data": {
      "text/html": [
       "<b>Ministry for the Environment (Indicative NPF content) – Official advice</b>"
      ],
      "text/plain": [
       "<IPython.core.display.HTML object>"
      ]
     },
     "metadata": {},
     "output_type": "display_data"
    },
    {
     "name": "stdout",
     "output_type": "stream",
     "text": [
      "The briefing proposes the content for the National Planning Framework (NPF) in various domains and recommends proceeding with the proposed content for the first NPF while continuing to work on future amendments.\n",
      "\n"
     ]
    },
    {
     "data": {
      "text/html": [
       "<a href=https:////////www.parliament.nz////resource////en-NZ////53SCEN_ADV_129831_EN16737////2919b376ec9766b08552297801081bdabafc7dd1>Read the full submission</a>"
      ],
      "text/plain": [
       "<IPython.core.display.HTML object>"
      ]
     },
     "metadata": {},
     "output_type": "display_data"
    },
    {
     "data": {
      "text/html": [
       "<b>Bay of Plenty Regional Councils – Submission</b>"
      ],
      "text/plain": [
       "<IPython.core.display.HTML object>"
      ]
     },
     "metadata": {},
     "output_type": "display_data"
    },
    {
     "name": "stdout",
     "output_type": "stream",
     "text": [
      "The Bay of Plenty Councils have submitted a joint submission expressing concerns about the lack of integration and accountability in the government's major reform areas, including the NBE Bill and SP Bill, and recommend better integration, increased local and regional council involvement, and clarity on Te Tiriti obligations and logistical challenges.\n",
      "\n"
     ]
    },
    {
     "data": {
      "text/html": [
       "<a href=https:////////www.parliament.nz////resource////en-NZ////53SCEN_EVI_129831_EN15587////3d0a1a80a26764bda55d951cd59e25de9741bc70>Read the full submission</a>"
      ],
      "text/plain": [
       "<IPython.core.display.HTML object>"
      ]
     },
     "metadata": {},
     "output_type": "display_data"
    },
    {
     "data": {
      "text/html": [
       "<b>Kaikōura District Council Supp 1 – Submission</b>"
      ],
      "text/plain": [
       "<IPython.core.display.HTML object>"
      ]
     },
     "metadata": {},
     "output_type": "display_data"
    },
    {
     "name": "stdout",
     "output_type": "stream",
     "text": [
      "The Kaikōura District Council supports the need for greater integration of resource management and infrastructure legislative systems but argues for amendments to the Spatial Planning Bill to reduce political interference, broaden the scope of review, recognize existing planning strategies, and ensure integration with other relevant legislation.\n",
      "\n"
     ]
    },
    {
     "data": {
      "text/html": [
       "<a href=https:////////www.parliament.nz////resource////en-NZ////53SCEN_EVI_129831_EN15936////6af3ef5ccb9c1710a4ba0b9d5bd9ba0b2c92e5b0>Read the full submission</a>"
      ],
      "text/plain": [
       "<IPython.core.display.HTML object>"
      ]
     },
     "metadata": {},
     "output_type": "display_data"
    },
    {
     "data": {
      "text/html": [
       "<b>Ministry for the Environment (Departmental report - Tranche 2 - Appendix 2) – Official advice</b>"
      ],
      "text/plain": [
       "<IPython.core.display.HTML object>"
      ]
     },
     "metadata": {},
     "output_type": "display_data"
    },
    {
     "name": "stdout",
     "output_type": "stream",
     "text": [
      "The briefing recommends amending the Marine and Coastal Area (Takutai Moana) Act 2011 by replacing certain definitions and cross-references with those from the Natural and Built Environments Act 2023, as well as making other amendments to align with the NBA and Spatial Planning Act 2023.\n",
      "\n"
     ]
    },
    {
     "data": {
      "text/html": [
       "<a href=https:////////www.parliament.nz////resource////en-NZ////53SCEN_ADV_129831_EN16744////4aa46842ccc11384b88dfee1766a407a28c31f84>Read the full submission</a>"
      ],
      "text/plain": [
       "<IPython.core.display.HTML object>"
      ]
     },
     "metadata": {},
     "output_type": "display_data"
    },
    {
     "data": {
      "text/html": [
       "<b>MfE (Further advice about reinserting public access areas as a place of national importance) – Official advice</b>"
      ],
      "text/plain": [
       "<IPython.core.display.HTML object>"
      ]
     },
     "metadata": {},
     "output_type": "display_data"
    },
    {
     "name": "stdout",
     "output_type": "stream",
     "text": [
      "Officials do not recommend including public access areas in the definition of places of national importance due to the replaceability of public access, existing legal protections, potential reduction of public access, and the lack of coverage in the Australian framework.\n",
      "\n"
     ]
    },
    {
     "data": {
      "text/html": [
       "<a href=https:////////www.parliament.nz////resource////en-NZ////53SCEN_ADV_129831_EN17230////2691c644b9aa14abc513b98d774ff0b2ff188704>Read the full submission</a>"
      ],
      "text/plain": [
       "<IPython.core.display.HTML object>"
      ]
     },
     "metadata": {},
     "output_type": "display_data"
    },
    {
     "data": {
      "text/html": [
       "<b>Northport Limited – Submission</b>"
      ],
      "text/plain": [
       "<IPython.core.display.HTML object>"
      ]
     },
     "metadata": {},
     "output_type": "display_data"
    },
    {
     "name": "stdout",
     "output_type": "stream",
     "text": [
      "Northport supports the protection of cultural heritage, landscapes, and natural character but raises concerns about the practical implications and suggests clear definitions and appropriate pathways for development.\n",
      "\n"
     ]
    },
    {
     "data": {
      "text/html": [
       "<a href=https:////////www.parliament.nz////resource////en-NZ////53SCEN_EVI_129831_EN15616////f22448ac736c4756396fb262fbf5e52065f55415>Read the full submission</a>"
      ],
      "text/plain": [
       "<IPython.core.display.HTML object>"
      ]
     },
     "metadata": {},
     "output_type": "display_data"
    },
    {
     "data": {
      "text/html": [
       "<b>New Zealand Planning Institute Emerging Planners Group – Submission</b>"
      ],
      "text/plain": [
       "<IPython.core.display.HTML object>"
      ]
     },
     "metadata": {},
     "output_type": "display_data"
    },
    {
     "name": "stdout",
     "output_type": "stream",
     "text": [
      "The Emerging Planners Group (EPs) argues that the proposed reform of the resource management system in New Zealand falls short in protecting the natural environment and honoring Te Tiriti o Waitangi, and calls for a single priority, true co-governance with iwi and hapū, a less complex and more accessible system, and a future-focused and innovative approach.\n",
      "\n"
     ]
    },
    {
     "data": {
      "text/html": [
       "<a href=https:////////www.parliament.nz////resource////en-NZ////53SCEN_EVI_129831_EN15797////3d4f953fbfab5a202ad41c02431602be06782ad7>Read the full submission</a>"
      ],
      "text/plain": [
       "<IPython.core.display.HTML object>"
      ]
     },
     "metadata": {},
     "output_type": "display_data"
    },
    {
     "data": {
      "text/html": [
       "<b>Ministry for the Environment (Departmental report - Tranche 1 - Natural and Built Environment Bill) – Official advice</b>"
      ],
      "text/plain": [
       "<IPython.core.display.HTML object>"
      ]
     },
     "metadata": {},
     "output_type": "display_data"
    },
    {
     "name": "stdout",
     "output_type": "stream",
     "text": [
      "The briefing recommends amending the Natural and Built Environment Bill to clarify and strengthen its purpose, ensuring it upholds the health of the natural environment and supports intergenerational well-being, while also giving effect to the principles of Te Tiriti o Waitangi.\n",
      "\n"
     ]
    },
    {
     "data": {
      "text/html": [
       "<a href=https:////////www.parliament.nz////resource////en-NZ////53SCEN_ADV_129831_EN16722////39907c9894d341de5b1cd44a63856b9973d29088>Read the full submission</a>"
      ],
      "text/plain": [
       "<IPython.core.display.HTML object>"
      ]
     },
     "metadata": {},
     "output_type": "display_data"
    },
    {
     "data": {
      "text/html": [
       "<b>Environmental Defence Society – Submission</b>"
      ],
      "text/plain": [
       "<IPython.core.display.HTML object>"
      ]
     },
     "metadata": {},
     "output_type": "display_data"
    },
    {
     "name": "stdout",
     "output_type": "stream",
     "text": [
      "The purpose clause of the NBEB should be revised to prioritize environmental protection and explicitly recognize te Oranga o te Taiao.\n",
      "\n"
     ]
    },
    {
     "data": {
      "text/html": [
       "<a href=https:////////www.parliament.nz////resource////en-NZ////53SCEN_EVI_129831_EN15464////d440521a870be072b331a6462755d6a59c108966>Read the full submission</a>"
      ],
      "text/plain": [
       "<IPython.core.display.HTML object>"
      ]
     },
     "metadata": {},
     "output_type": "display_data"
    },
    {
     "data": {
      "text/html": [
       "<b>Delegat Limited – Submission</b>"
      ],
      "text/plain": [
       "<IPython.core.display.HTML object>"
      ]
     },
     "metadata": {},
     "output_type": "display_data"
    },
    {
     "name": "stdout",
     "output_type": "stream",
     "text": [
      "Grape grower and winemaker Delegat Limited supports the intent of the Natural and Built Environments Bill but has concerns about certain provisions, including potential undermining of freshwater management in Marlborough, unworkable offsetting and compensation provisions, and the need for separate planning for Marlborough.\n",
      "\n"
     ]
    },
    {
     "data": {
      "text/html": [
       "<a href=https:////////www.parliament.nz////resource////en-NZ////53SCEN_EVI_129831_EN15736////721f0e80615c127d40cf1538cc7e66c2827e0598>Read the full submission</a>"
      ],
      "text/plain": [
       "<IPython.core.display.HTML object>"
      ]
     },
     "metadata": {},
     "output_type": "display_data"
    },
    {
     "data": {
      "text/html": [
       "<b>Ministry for the Environment (Departmental report - Tranche 3(B)) – Official advice</b>"
      ],
      "text/plain": [
       "<IPython.core.display.HTML object>"
      ]
     },
     "metadata": {},
     "output_type": "display_data"
    },
    {
     "name": "stdout",
     "output_type": "stream",
     "text": [
      "The briefing recommends clarifying and strengthening the resource allocation principles in the Natural and Built Environment Bill, while addressing concerns about freshwater resource allocation raised by Māori submitters.\n",
      "\n"
     ]
    },
    {
     "data": {
      "text/html": [
       "<a href=https:////////www.parliament.nz////resource////en-NZ////53SCEN_ADV_129831_EN16761////fa2f2c8404f7dab4ed65ca78997b6aac93c5d7ea>Read the full submission</a>"
      ],
      "text/plain": [
       "<IPython.core.display.HTML object>"
      ]
     },
     "metadata": {},
     "output_type": "display_data"
    },
    {
     "data": {
      "text/html": [
       "<b>Ministry for the Environment (Responses to questions from 12 December) – Official advice</b>"
      ],
      "text/plain": [
       "<IPython.core.display.HTML object>"
      ]
     },
     "metadata": {},
     "output_type": "display_data"
    },
    {
     "name": "stdout",
     "output_type": "stream",
     "text": [
      "The main recommendation in this briefing is to include criteria for identifying significant biodiversity areas, outstanding natural features and landscapes, and urban trees in the Natural and Built Environment Bill, while also addressing concerns about potential negative responses, land transport management, funding arrangements, and the risk of losing legal precedents.\n",
      "\n"
     ]
    },
    {
     "data": {
      "text/html": [
       "<a href=https:////////www.parliament.nz////resource////en-NZ////53SCEN_ADV_129831_EN11606////b20d25513dbec8ffcf459df00ab97aeca151bb57>Read the full submission</a>"
      ],
      "text/plain": [
       "<IPython.core.display.HTML object>"
      ]
     },
     "metadata": {},
     "output_type": "display_data"
    },
    {
     "data": {
      "text/html": [
       "<b>Ministry for the Environment (Overview of CST provisions in SP and NBE Bills) – Official advice</b>"
      ],
      "text/plain": [
       "<IPython.core.display.HTML object>"
      ]
     },
     "metadata": {},
     "output_type": "display_data"
    },
    {
     "name": "stdout",
     "output_type": "stream",
     "text": [
      "The briefing provides an overview of the transition and implementation process for the Spatial Planning and Natural and Built Environment Bills, recommending a region-by-region approach and highlighting key steps and considerations in the process.\n",
      "\n"
     ]
    },
    {
     "data": {
      "text/html": [
       "<a href=https:////////www.parliament.nz////resource////en-NZ////53SCEN_ADV_129831_EN16724////ce9426a344c6a7660a931604258930bf2b18242f>Read the full submission</a>"
      ],
      "text/plain": [
       "<IPython.core.display.HTML object>"
      ]
     },
     "metadata": {},
     "output_type": "display_data"
    },
    {
     "data": {
      "text/html": [
       "<b>Ministry for the Environment (Proposed changes to recommendations in SP and NBE dept reports) – Official advice</b>"
      ],
      "text/plain": [
       "<IPython.core.display.HTML object>"
      ]
     },
     "metadata": {},
     "output_type": "display_data"
    },
    {
     "name": "stdout",
     "output_type": "stream",
     "text": [
      "The main recommendation in this briefing is to amend the Spatial Planning Bill to provide more transparency and accessibility to information related to regional spatial strategies, as well as to clarify terminology and add additional matters that the National Planning Framework must provide direction on.\n",
      "\n"
     ]
    },
    {
     "data": {
      "text/html": [
       "<a href=https:////////www.parliament.nz////resource////en-NZ////53SCEN_ADV_129831_EN16921////71ec74e04c5e3a096a6a6345f0b08b23d5bbc50b>Read the full submission</a>"
      ],
      "text/plain": [
       "<IPython.core.display.HTML object>"
      ]
     },
     "metadata": {},
     "output_type": "display_data"
    },
    {
     "data": {
      "text/html": [
       "<b>Northland Regional Council Supp1 – Submission</b>"
      ],
      "text/plain": [
       "<IPython.core.display.HTML object>"
      ]
     },
     "metadata": {},
     "output_type": "display_data"
    },
    {
     "name": "stdout",
     "output_type": "stream",
     "text": [
      "The Northland Regional Council supports the aims of resource management system reform, but highlights potential tensions between Māori rights and environmental limits, and suggests the inclusion of a national Māori entity for input and targeted engagement on representation issues. They also support the use of regional spatial strategies, suggest including RSS requirements in the NBA, and emphasize the need for good representation on joint committees and robust public consultation processes.\n",
      "\n"
     ]
    },
    {
     "data": {
      "text/html": [
       "<a href=https:////////www.parliament.nz////resource////en-NZ////53SCEN_EVI_129831_EN15600////fda0f8e934c9628a20f93341ec15172be5195756>Read the full submission</a>"
      ],
      "text/plain": [
       "<IPython.core.display.HTML object>"
      ]
     },
     "metadata": {},
     "output_type": "display_data"
    },
    {
     "data": {
      "text/html": [
       "<b>Kevin Moran – Submission</b>"
      ],
      "text/plain": [
       "<IPython.core.display.HTML object>"
      ]
     },
     "metadata": {},
     "output_type": "display_data"
    },
    {
     "name": "stdout",
     "output_type": "stream",
     "text": [
      "The submitter expresses concern about the omission of the word \"spiritual\" in the Natural and Built Environment Bill and argues for its inclusion to protect the spiritual characteristics of Te Waikoropupū Springs and ensure non-Māori can make submissions on spirituality.\n",
      "\n"
     ]
    },
    {
     "data": {
      "text/html": [
       "<a href=https:////////www.parliament.nz////resource////en-NZ////53SCEN_EVI_129831_EN15878////5f967345c3a87c6b82cd01a9178558c839a10d8c>Read the full submission</a>"
      ],
      "text/plain": [
       "<IPython.core.display.HTML object>"
      ]
     },
     "metadata": {},
     "output_type": "display_data"
    },
    {
     "data": {
      "text/html": [
       "<b>North Otago Irrigation Company Supp 1 – Submission</b>"
      ],
      "text/plain": [
       "<IPython.core.display.HTML object>"
      ]
     },
     "metadata": {},
     "output_type": "display_data"
    },
    {
     "name": "stdout",
     "output_type": "stream",
     "text": [
      "The North Otago Irrigation Co (NOIC) has submitted concerns about the Resource Management Act reform bill, specifically regarding the consideration of existing investment value and the proposed truncation of water consents to a maximum of 10 years, which they argue will have significant consequences for water infrastructure businesses and hinder their ability to fund new projects and upgrades.\n",
      "\n"
     ]
    },
    {
     "data": {
      "text/html": [
       "<a href=https:////////www.parliament.nz////resource////en-NZ////53SCEN_EVI_129831_EN15908////f5727da58a09e43c3f5ed1eecc5ae40a05bea8ca>Read the full submission</a>"
      ],
      "text/plain": [
       "<IPython.core.display.HTML object>"
      ]
     },
     "metadata": {},
     "output_type": "display_data"
    },
    {
     "data": {
      "text/html": [
       "<b>King Country Energy – Submission</b>"
      ],
      "text/plain": [
       "<IPython.core.display.HTML object>"
      ]
     },
     "metadata": {},
     "output_type": "display_data"
    },
    {
     "name": "stdout",
     "output_type": "stream",
     "text": [
      "King Country Energy, a renewable electricity generator, is concerned that the Natural and Built Environment Bill will harm their hydroelectric power schemes, discourage investment, fail to incentivize renewable electricity generation, and add complexity to regulations, and they request amendments to prevent these negative impacts.\n",
      "\n"
     ]
    },
    {
     "data": {
      "text/html": [
       "<a href=https:////////www.parliament.nz////resource////en-NZ////53SCEN_EVI_129831_EN15311////66b1c5111b4053d906a81f0ed3e70d2ef0376b79>Read the full submission</a>"
      ],
      "text/plain": [
       "<IPython.core.display.HTML object>"
      ]
     },
     "metadata": {},
     "output_type": "display_data"
    },
    {
     "data": {
      "text/html": [
       "<b>Meridian Energy – Submission</b>"
      ],
      "text/plain": [
       "<IPython.core.display.HTML object>"
      ]
     },
     "metadata": {},
     "output_type": "display_data"
    },
    {
     "name": "stdout",
     "output_type": "stream",
     "text": [
      "Meridian Energy Limited has submitted a joint submission on the Natural and Built Environment Bill and Spatial Planning Bill, advocating for stronger provisions and clearer direction to prioritize climate change mitigation and renewable electricity.\n",
      "\n"
     ]
    },
    {
     "data": {
      "text/html": [
       "<a href=https:////////www.parliament.nz////resource////en-NZ////53SCEN_EVI_129831_EN15479////9ecff6c7dbb70bbb81d99a484478136d1f551f9e>Read the full submission</a>"
      ],
      "text/plain": [
       "<IPython.core.display.HTML object>"
      ]
     },
     "metadata": {},
     "output_type": "display_data"
    },
    {
     "data": {
      "text/html": [
       "<b>Hurunui District Council – Submission</b>"
      ],
      "text/plain": [
       "<IPython.core.display.HTML object>"
      ]
     },
     "metadata": {},
     "output_type": "display_data"
    },
    {
     "name": "stdout",
     "output_type": "stream",
     "text": [
      "The Hurunui District Council supports the objectives of the Natural and Built Environment Bill but raises concerns about the short plan making timeframe, limited public participation opportunities, and uncertainties regarding the composition and funding of regional planning committees.\n",
      "\n"
     ]
    },
    {
     "data": {
      "text/html": [
       "<a href=https:////////www.parliament.nz////resource////en-NZ////53SCEN_EVI_129831_EN15340////074f9dee2e16cdb14e068560bb094f37568c3a46>Read the full submission</a>"
      ],
      "text/plain": [
       "<IPython.core.display.HTML object>"
      ]
     },
     "metadata": {},
     "output_type": "display_data"
    },
    {
     "data": {
      "text/html": [
       "<b>New Zealand Game Animal Council Supp 1 – Submission</b>"
      ],
      "text/plain": [
       "<IPython.core.display.HTML object>"
      ]
     },
     "metadata": {},
     "output_type": "display_data"
    },
    {
     "name": "stdout",
     "output_type": "stream",
     "text": [
      "The New Zealand Game Animal Council (GAC) is concerned about the NBE Bill, arguing that the omission of valued introduced species and the use of ecological integrity fails to recognize the importance of game animals for the wellbeing of current and future generations, and suggests replacing ecological integrity with ecological health for a more inclusive and adaptive approach to management.\n",
      "\n"
     ]
    },
    {
     "data": {
      "text/html": [
       "<a href=https:////////www.parliament.nz////resource////en-NZ////53SCEN_EVI_129831_EN15932////4c2a43a3acc86b57472844cee0c589fe2a9c6f0d>Read the full submission</a>"
      ],
      "text/plain": [
       "<IPython.core.display.HTML object>"
      ]
     },
     "metadata": {},
     "output_type": "display_data"
    },
    {
     "data": {
      "text/html": [
       "<b>Paul Hodgson Supp 11 – Submission</b>"
      ],
      "text/plain": [
       "<IPython.core.display.HTML object>"
      ]
     },
     "metadata": {},
     "output_type": "display_data"
    },
    {
     "name": "stdout",
     "output_type": "stream",
     "text": [
      "The submission discusses the potential negative effects of flood harvesting on braided river geomorphology, including disruptions to bedload supply, increased deposition of fine sediment, and impacts on vegetation, river biota, and fish migration.\n",
      "\n"
     ]
    },
    {
     "data": {
      "text/html": [
       "<a href=https:////////www.parliament.nz////resource////en-NZ////53SCEN_EVI_129831_EN15925////2bf1b6b99bf7d72d1e17432fdae8b2dd9849ffc2>Read the full submission</a>"
      ],
      "text/plain": [
       "<IPython.core.display.HTML object>"
      ]
     },
     "metadata": {},
     "output_type": "display_data"
    },
    {
     "data": {
      "text/html": [
       "<b>Waikato Regional Council – Submission</b>"
      ],
      "text/plain": [
       "<IPython.core.display.HTML object>"
      ]
     },
     "metadata": {},
     "output_type": "display_data"
    },
    {
     "name": "stdout",
     "output_type": "stream",
     "text": [
      "The Waikato Regional Council has submitted concerns about the Natural and Built Environment Bill, highlighting issues with democratic accountability, system simplification, funding, iwi and hapū impact, and the need for clarity and support in implementing the new system.\n",
      "\n"
     ]
    },
    {
     "data": {
      "text/html": [
       "<a href=https:////////www.parliament.nz////resource////en-NZ////53SCEN_EVI_129831_EN15450////9e110fd553a98ac339e3a1b27730b62e082d6bae>Read the full submission</a>"
      ],
      "text/plain": [
       "<IPython.core.display.HTML object>"
      ]
     },
     "metadata": {},
     "output_type": "display_data"
    },
    {
     "data": {
      "text/html": [
       "<b>Damon McPhail Supp 3 – Submission</b>"
      ],
      "text/plain": [
       "<IPython.core.display.HTML object>"
      ]
     },
     "metadata": {},
     "output_type": "display_data"
    },
    {
     "name": "stdout",
     "output_type": "stream",
     "text": [
      "The submission includes supplementary photos that demonstrate the negative impact of reclamation on the landscape and public access in Kaikoura.\n",
      "\n"
     ]
    },
    {
     "data": {
      "text/html": [
       "<a href=https:////////www.parliament.nz////resource////en-NZ////53SCEN_EVI_129831_EN15728////5c25a5d40a359865b85337ebfcdbbe7792c5ff30>Read the full submission</a>"
      ],
      "text/plain": [
       "<IPython.core.display.HTML object>"
      ]
     },
     "metadata": {},
     "output_type": "display_data"
    },
    {
     "data": {
      "text/html": [
       "<b>Transpower New Zealand Ltd Supp 1 – Submission</b>"
      ],
      "text/plain": [
       "<IPython.core.display.HTML object>"
      ]
     },
     "metadata": {},
     "output_type": "display_data"
    },
    {
     "name": "stdout",
     "output_type": "stream",
     "text": [
      "Transpower supports certain aspects of the Natural and Built Environment Bill and Spatial Planning Bill in New Zealand but raises concerns about the lack of direction on national priorities, unclear processes, and misalignment with climate change priorities, proposing improvements such as a \"Statement of National Priorities\" and better links to climate change legislation and energy strategy.\n",
      "\n"
     ]
    },
    {
     "data": {
      "text/html": [
       "<a href=https:////////www.parliament.nz////resource////en-NZ////53SCEN_EVI_129831_EN16144////85ddefaa6433216e3b8d3f7de1741448d263b617>Read the full submission</a>"
      ],
      "text/plain": [
       "<IPython.core.display.HTML object>"
      ]
     },
     "metadata": {},
     "output_type": "display_data"
    },
    {
     "data": {
      "text/html": [
       "<b>Rangitāne o Wairau – Submission</b>"
      ],
      "text/plain": [
       "<IPython.core.display.HTML object>"
      ]
     },
     "metadata": {},
     "output_type": "display_data"
    },
    {
     "name": "stdout",
     "output_type": "stream",
     "text": [
      "The submission on the Natural and Built Environment Bill and Spatial Planning Bill raises concerns about rushed drafting, lack of clear direction, and failure to address iwi and hapū rights and interests, emphasizing the need to uphold Te Tiriti o Waitangi and recognize the relationship of iwi and hapū with te Taiao.\n",
      "\n"
     ]
    },
    {
     "data": {
      "text/html": [
       "<a href=https:////////www.parliament.nz////resource////en-NZ////53SCEN_EVI_129831_EN15318////eb1042e7d09a5a8677d58d7c3389af76bc370a52>Read the full submission</a>"
      ],
      "text/plain": [
       "<IPython.core.display.HTML object>"
      ]
     },
     "metadata": {},
     "output_type": "display_data"
    },
    {
     "data": {
      "text/html": [
       "<b>New Zealand King Salmon Co Ltd – Submission</b>"
      ],
      "text/plain": [
       "<IPython.core.display.HTML object>"
      ]
     },
     "metadata": {},
     "output_type": "display_data"
    },
    {
     "name": "stdout",
     "output_type": "stream",
     "text": [
      "The New Zealand King Salmon Company Limited supports the proposed changes in the Natural and Built Environment Bill, particularly the retention of aquaculture-specific provisions and the focus on outcomes rather than activities, but opposes the inclusion of natural character and suggests refinements to the Bill.\n",
      "\n"
     ]
    },
    {
     "data": {
      "text/html": [
       "<a href=https:////////www.parliament.nz////resource////en-NZ////53SCEN_EVI_129831_EN15481////4e5370618e79c1e3b5d7235ebbbbcb98a3502d20>Read the full submission</a>"
      ],
      "text/plain": [
       "<IPython.core.display.HTML object>"
      ]
     },
     "metadata": {},
     "output_type": "display_data"
    },
    {
     "data": {
      "text/html": [
       "<b>Te Ohu Kaimoana – Submission</b>"
      ],
      "text/plain": [
       "<IPython.core.display.HTML object>"
      ]
     },
     "metadata": {},
     "output_type": "display_data"
    },
    {
     "name": "stdout",
     "output_type": "stream",
     "text": [
      "Te Ohu Kaimoana, the trustee of the Māori Fisheries and Aquaculture Settlements, is concerned that the Natural Built Environment and Spatial Planning Bills in New Zealand do not adequately recognize and uphold the relationship between iwi, hapū, and the environment, and they recommend including a 'use' outcome in the coastal marine area to allow for sustainable utilization of marine resources.\n",
      "\n"
     ]
    },
    {
     "data": {
      "text/html": [
       "<a href=https:////////www.parliament.nz////resource////en-NZ////53SCEN_EVI_129831_EN15508////e37f61390cdc0b84b1831a6fb376241ef9b2de4c>Read the full submission</a>"
      ],
      "text/plain": [
       "<IPython.core.display.HTML object>"
      ]
     },
     "metadata": {},
     "output_type": "display_data"
    },
    {
     "data": {
      "text/html": [
       "<b>Ministry for the Environment (Departmental report - themes on regional planning committees) – Official advice</b>"
      ],
      "text/plain": [
       "<IPython.core.display.HTML object>"
      ]
     },
     "metadata": {},
     "output_type": "display_data"
    },
    {
     "name": "stdout",
     "output_type": "stream",
     "text": [
      "The main recommendation of this briefing is to establish Regional Planning Committees (RPCs) with independent decision-making powers, allowing for a joint decision-making approach and a strategic role for Māori and central government, while also accommodating unitary authorities and setting specific timeframes for the composition and appointment process of RPCs.\n",
      "\n"
     ]
    },
    {
     "data": {
      "text/html": [
       "<a href=https:////////www.parliament.nz////resource////en-NZ////53SCEN_ADV_129831_EN16742////92e11aaf9fc997ce17828f2b30e7ea4104a8e444>Read the full submission</a>"
      ],
      "text/plain": [
       "<IPython.core.display.HTML object>"
      ]
     },
     "metadata": {},
     "output_type": "display_data"
    },
    {
     "data": {
      "text/html": [
       "<b>Rural Women New Zealand – Submission</b>"
      ],
      "text/plain": [
       "<IPython.core.display.HTML object>"
      ]
     },
     "metadata": {},
     "output_type": "display_data"
    },
    {
     "name": "stdout",
     "output_type": "stream",
     "text": [
      "Rural Women New Zealand (RWNZ) has submitted a response to the Natural and Built Environment (NBE) Bill, expressing concerns about the lack of recognition of the rural environment, the proposed shift of planning decisions to regional control, and the need for effective representation of rural interests and gender balance in planning committees.\n",
      "\n"
     ]
    },
    {
     "data": {
      "text/html": [
       "<a href=https:////////www.parliament.nz////resource////en-NZ////53SCEN_EVI_129831_EN15504////aea2d72bef9fac1a234c8c8dcd4dbf9b690cc17f>Read the full submission</a>"
      ],
      "text/plain": [
       "<IPython.core.display.HTML object>"
      ]
     },
     "metadata": {},
     "output_type": "display_data"
    },
    {
     "data": {
      "text/html": [
       "<b>Foodstuffs (NZ) Ltd Supp 1 – Submission</b>"
      ],
      "text/plain": [
       "<IPython.core.display.HTML object>"
      ]
     },
     "metadata": {},
     "output_type": "display_data"
    },
    {
     "name": "stdout",
     "output_type": "stream",
     "text": [
      "The submission argues for amendments to the Natural and Built Environment Bill to address recommendations for promoting competition in the retail grocery sector, enabling supermarket development during emergencies, enhancing decision-making processes, preventing dysfunction in Regional Planning Committees, addressing concerns about strategic content prohibition, and providing clarity and certainty for developers.\n",
      "\n"
     ]
    },
    {
     "data": {
      "text/html": [
       "<a href=https:////////www.parliament.nz////resource////en-NZ////53SCEN_EVI_129831_EN16114////d5cd2eca20ad580fc9144405a2c5a45fe9d55a02>Read the full submission</a>"
      ],
      "text/plain": [
       "<IPython.core.display.HTML object>"
      ]
     },
     "metadata": {},
     "output_type": "display_data"
    },
    {
     "data": {
      "text/html": [
       "<b>Save Our Springs Aotearoa New Zealand Inc Supp 3 – Submission</b>"
      ],
      "text/plain": [
       "<IPython.core.display.HTML object>"
      ]
     },
     "metadata": {},
     "output_type": "display_data"
    },
    {
     "name": "stdout",
     "output_type": "stream",
     "text": [
      "Save Our Springs Inc (SOS) is advocating for the inclusion of spiritual and intrinsic values in the Natural and Built Environment Bill, as well as improvements to the operation of Water Conservation Orders.\n",
      "\n"
     ]
    },
    {
     "data": {
      "text/html": [
       "<a href=https:////////www.parliament.nz////resource////en-NZ////53SCEN_EVI_129831_EN16126////4fa8549951fa897a504cc6cc2426f3fc26698b8e>Read the full submission</a>"
      ],
      "text/plain": [
       "<IPython.core.display.HTML object>"
      ]
     },
     "metadata": {},
     "output_type": "display_data"
    },
    {
     "data": {
      "text/html": [
       "<b>Ministry for the Environment (Additional information - RPCs in regions with unitary authorities (amended)) – Official advice</b>"
      ],
      "text/plain": [
       "<IPython.core.display.HTML object>"
      ]
     },
     "metadata": {},
     "output_type": "display_data"
    },
    {
     "name": "stdout",
     "output_type": "stream",
     "text": [
      "The briefing recommends including an additional clause in the Bill to allow unitary authorities to deem existing committees to have the functions, duties, and powers of regional planning committees, while still ensuring representation of Māori and central government members, and providing guidance to unitary authorities on flexibility and inclusiveness in existing arrangements.\n",
      "\n"
     ]
    },
    {
     "data": {
      "text/html": [
       "<a href=https:////////www.parliament.nz////resource////en-NZ////53SCEN_ADV_129831_EN16927////e5a5e8e33d4a7ce596c2a085899618b982bf46e6>Read the full submission</a>"
      ],
      "text/plain": [
       "<IPython.core.display.HTML object>"
      ]
     },
     "metadata": {},
     "output_type": "display_data"
    },
    {
     "data": {
      "text/html": [
       "<b>Irrigation NZ Supp 4 – Submission</b>"
      ],
      "text/plain": [
       "<IPython.core.display.HTML object>"
      ]
     },
     "metadata": {},
     "output_type": "display_data"
    },
    {
     "name": "stdout",
     "output_type": "stream",
     "text": [
      "Rangitata Diversion Race Management Ltd (RDRML) has expressed concerns about provisions in the Natural and Built Environment Bill that could create uncertainty and disincentivize investment in water supply infrastructure, calling for amendments to protect freshwater resources while supporting efficient and secure infrastructure.\n",
      "\n"
     ]
    },
    {
     "data": {
      "text/html": [
       "<a href=https:////////www.parliament.nz////resource////en-NZ////53SCEN_EVI_129831_EN15835////a60cae70a72f36531701d5e581d0b9e9c98f4d6c>Read the full submission</a>"
      ],
      "text/plain": [
       "<IPython.core.display.HTML object>"
      ]
     },
     "metadata": {},
     "output_type": "display_data"
    },
    {
     "data": {
      "text/html": [
       "<b>Western Bay of Plenty District Council – Submission</b>"
      ],
      "text/plain": [
       "<IPython.core.display.HTML object>"
      ]
     },
     "metadata": {},
     "output_type": "display_data"
    },
    {
     "name": "stdout",
     "output_type": "stream",
     "text": [
      "The Western Bay of Plenty District Council has submitted feedback on the Natural and Built Environment Bill and Spatial Planning Bill, expressing concerns about the speed of the reform, loss of local decision-making, lack of clarity on key issues, and the need for alignment with other reform processes, funding, and resourcing.\n",
      "\n"
     ]
    },
    {
     "data": {
      "text/html": [
       "<a href=https:////////www.parliament.nz////resource////en-NZ////53SCEN_EVI_129831_EN15596////fc202a2d5828db4bd365bb8b2910b71fc293c8f0>Read the full submission</a>"
      ],
      "text/plain": [
       "<IPython.core.display.HTML object>"
      ]
     },
     "metadata": {},
     "output_type": "display_data"
    },
    {
     "data": {
      "text/html": [
       "<b>Boffa Miskell – Submission</b>"
      ],
      "text/plain": [
       "<IPython.core.display.HTML object>"
      ]
     },
     "metadata": {},
     "output_type": "display_data"
    },
    {
     "name": "stdout",
     "output_type": "stream",
     "text": [
      "Boffa Miskell supports the Natural and Built Environment Bill but suggests amendments to ensure the quality of the environment is considered in planning and consenting decisions.\n",
      "\n"
     ]
    },
    {
     "data": {
      "text/html": [
       "<a href=https:////////www.parliament.nz////resource////en-NZ////53SCEN_EVI_129831_EN15431////76b4954421853a6af8062561ac70b5cb69b9766f>Read the full submission</a>"
      ],
      "text/plain": [
       "<IPython.core.display.HTML object>"
      ]
     },
     "metadata": {},
     "output_type": "display_data"
    },
    {
     "data": {
      "text/html": [
       "<b>Tony Watkins Supp 1 – Submission</b>"
      ],
      "text/plain": [
       "<IPython.core.display.HTML object>"
      ]
     },
     "metadata": {},
     "output_type": "display_data"
    },
    {
     "name": "stdout",
     "output_type": "stream",
     "text": [
      "The main argument in this submission is that architecture and spatial planning need to be reevaluated in the midst of the climate crisis, with a focus on embracing uncertainty, enhancing our relationship with nature, and creating a more sustainable future.\n",
      "\n"
     ]
    },
    {
     "data": {
      "text/html": [
       "<a href=https:////////www.parliament.nz////resource////en-NZ////53SCEN_EVI_129831_EN15817////87fe57c12a52bfe5f03602bd130dc0fb1615b4ae>Read the full submission</a>"
      ],
      "text/plain": [
       "<IPython.core.display.HTML object>"
      ]
     },
     "metadata": {},
     "output_type": "display_data"
    },
    {
     "data": {
      "text/html": [
       "<b>Te Kāhui o Taranaki – Submission</b>"
      ],
      "text/plain": [
       "<IPython.core.display.HTML object>"
      ]
     },
     "metadata": {},
     "output_type": "display_data"
    },
    {
     "name": "stdout",
     "output_type": "stream",
     "text": [
      "Te Kāhui o Taranaki Trust and Ngā Iwi o Taranaki have expressed support for the reform of New Zealand's resource management system but have raised concerns about the lack of consideration for Tiriti settlements and the role of iwi and hapū, calling for changes to the proposed bills to ensure proper representation and recognition of Māori interests.\n",
      "\n"
     ]
    },
    {
     "data": {
      "text/html": [
       "<a href=https:////////www.parliament.nz////resource////en-NZ////53SCEN_EVI_129831_EN15621////1cf715c63607ef8ff5b94ee54cea17441e36d589>Read the full submission</a>"
      ],
      "text/plain": [
       "<IPython.core.display.HTML object>"
      ]
     },
     "metadata": {},
     "output_type": "display_data"
    },
    {
     "data": {
      "text/html": [
       "<b>Taituarā – Submission</b>"
      ],
      "text/plain": [
       "<IPython.core.display.HTML object>"
      ]
     },
     "metadata": {},
     "output_type": "display_data"
    },
    {
     "name": "stdout",
     "output_type": "stream",
     "text": [
      "Taituarā, an organization representing local government professionals in New Zealand, has submitted feedback on proposed natural and built environment reforms, expressing concerns about their effectiveness, complexity, and potential loss of local democratic input.\n",
      "\n"
     ]
    },
    {
     "data": {
      "text/html": [
       "<a href=https:////////www.parliament.nz////resource////en-NZ////53SCEN_EVI_129831_EN15506////7eb76d534bf65bc98b4d106362b52f1e8d9842d0>Read the full submission</a>"
      ],
      "text/plain": [
       "<IPython.core.display.HTML object>"
      ]
     },
     "metadata": {},
     "output_type": "display_data"
    },
    {
     "data": {
      "text/html": [
       "<b>Save the Basin Campaign Incorporated Supp 3 – Submission</b>"
      ],
      "text/plain": [
       "<IPython.core.display.HTML object>"
      ]
     },
     "metadata": {},
     "output_type": "display_data"
    },
    {
     "name": "stdout",
     "output_type": "stream",
     "text": [
      "This submission outlines the key process steps for the preparation of regional spatial strategies under the Spatial Planning Bill, emphasizing the importance of public participation and the need for thorough evaluation and review.\n",
      "\n"
     ]
    },
    {
     "data": {
      "text/html": [
       "<a href=https:////////www.parliament.nz////resource////en-NZ////53SCEN_EVI_129831_EN16137////bf9931fc6604ff376c899a5736c5bfec46ee2653>Read the full submission</a>"
      ],
      "text/plain": [
       "<IPython.core.display.HTML object>"
      ]
     },
     "metadata": {},
     "output_type": "display_data"
    },
    {
     "data": {
      "text/html": [
       "<b>Channel Infrastructure NZ Limited – Submission</b>"
      ],
      "text/plain": [
       "<IPython.core.display.HTML object>"
      ]
     },
     "metadata": {},
     "output_type": "display_data"
    },
    {
     "name": "stdout",
     "output_type": "stream",
     "text": [
      "Channel Infrastructure NZ Limited has raised concerns about the Natural and Built Environment Bill, arguing that it undermines certainty and permanence for resource consents and existing use rights, potentially impacting investment certainty and fuel infrastructure operations. They call for amendments to address these concerns and ensure a more effective resource management system.\n",
      "\n"
     ]
    },
    {
     "data": {
      "text/html": [
       "<a href=https:////////www.parliament.nz////resource////en-NZ////53SCEN_EVI_129831_EN15617////5059dae2c582cbf5a61575e9a0648594313b273c>Read the full submission</a>"
      ],
      "text/plain": [
       "<IPython.core.display.HTML object>"
      ]
     },
     "metadata": {},
     "output_type": "display_data"
    },
    {
     "data": {
      "text/html": [
       "<b>Taranaki Energy Watch Supp 1. – Submission</b>"
      ],
      "text/plain": [
       "<IPython.core.display.HTML object>"
      ]
     },
     "metadata": {},
     "output_type": "display_data"
    },
    {
     "name": "stdout",
     "output_type": "stream",
     "text": [
      "The submission argues that the Natural and Built Environment and Spatial Planning Bills need to address the issue of land use planning and the incompatibility of hazardous facilities with sensitive activities, such as homes, by including explicit definitions and assessments of adverse effects and risks.\n",
      "\n"
     ]
    },
    {
     "data": {
      "text/html": [
       "<a href=https:////////www.parliament.nz////resource////en-NZ////53SCEN_EVI_129831_EN15729////bc33849a8a0138a89a200f63da16d5c9fdf4eabb>Read the full submission</a>"
      ],
      "text/plain": [
       "<IPython.core.display.HTML object>"
      ]
     },
     "metadata": {},
     "output_type": "display_data"
    },
    {
     "data": {
      "text/html": [
       "<b>Te Nehenehenui – Submission</b>"
      ],
      "text/plain": [
       "<IPython.core.display.HTML object>"
      ]
     },
     "metadata": {},
     "output_type": "display_data"
    },
    {
     "name": "stdout",
     "output_type": "stream",
     "text": [
      "Te Nehenehenui, representing Maniapoto, has submitted a response to the Natural and Built Environment Bill and Spatial Planning Bill, highlighting concerns about the impact on customary rights and interests, and calling for amendments to uphold settlement acts and involve iwi and hapū in planning processes.\n",
      "\n"
     ]
    },
    {
     "data": {
      "text/html": [
       "<a href=https:////////www.parliament.nz////resource////en-NZ////53SCEN_EVI_129831_EN15507////5dc8751cf2ed3b7b150483c62b1c1b9a13f196f6>Read the full submission</a>"
      ],
      "text/plain": [
       "<IPython.core.display.HTML object>"
      ]
     },
     "metadata": {},
     "output_type": "display_data"
    },
    {
     "data": {
      "text/html": [
       "<b>Ministry for the Environment (Response to Emily Grace's Comments on NBE and SP Department report) – Official advice</b>"
      ],
      "text/plain": [
       "<IPython.core.display.HTML object>"
      ]
     },
     "metadata": {},
     "output_type": "display_data"
    },
    {
     "name": "stdout",
     "output_type": "stream",
     "text": [
      "The briefing recommends changes to the Natural and Built Environment Bill and the Spatial Planning Bill, including clarifying language, incorporating management of effects, and addressing concerns about Te Oranga o te Taiao statements.\n",
      "\n"
     ]
    },
    {
     "data": {
      "text/html": [
       "<a href=https:////////www.parliament.nz////resource////en-NZ////53SCEN_ADV_129831_EN16968////e704b7eda369d803a34718b333d0acbd780e3b5f>Read the full submission</a>"
      ],
      "text/plain": [
       "<IPython.core.display.HTML object>"
      ]
     },
     "metadata": {},
     "output_type": "display_data"
    },
    {
     "data": {
      "text/html": [
       "<b>Board of Airline Representatives New Zealand Inc – Submission</b>"
      ],
      "text/plain": [
       "<IPython.core.display.HTML object>"
      ]
     },
     "metadata": {},
     "output_type": "display_data"
    },
    {
     "name": "stdout",
     "output_type": "stream",
     "text": [
      "The Board of Airline Representatives New Zealand Inc (BARNZ) has submitted its views on the Natural and Built Environment Bill and the Spatial Planning Bill, raising concerns about infrastructure outcomes, conflicts between residential development and airport operations, participation in planning processes, overflying aircraft provisions, lack of notification for residential developments near airports, consultation and direction in regional spatial strategies, hearings processes, and alignment with the Civil Aviation Bill, in order to protect airports and support their efficient operation.\n",
      "\n"
     ]
    },
    {
     "data": {
      "text/html": [
       "<a href=https:////////www.parliament.nz////resource////en-NZ////53SCEN_EVI_129831_EN15430////8988ddbd946c9c994cb66f435a878c9c7822f498>Read the full submission</a>"
      ],
      "text/plain": [
       "<IPython.core.display.HTML object>"
      ]
     },
     "metadata": {},
     "output_type": "display_data"
    },
    {
     "data": {
      "text/html": [
       "<b>McGuinness Institute – Submission</b>"
      ],
      "text/plain": [
       "<IPython.core.display.HTML object>"
      ]
     },
     "metadata": {},
     "output_type": "display_data"
    },
    {
     "name": "stdout",
     "output_type": "stream",
     "text": [
      "The McGuinness Institute has submitted feedback on the Natural and Built Environment (NBE) Bill and the Spatial Planning (SP) Bill, expressing concerns about the lack of prioritization of climate change adaptation, lack of analysis and review, timing of the reforms, consistency and alignment between the bills, protection of places of national importance, and inclusion of the precautionary principle and the polluter pays principle.\n",
      "\n"
     ]
    },
    {
     "data": {
      "text/html": [
       "<a href=https:////////www.parliament.nz////resource////en-NZ////53SCEN_EVI_129831_EN15798////be645e12046ea6b4de14087d137ba787ba9445dd>Read the full submission</a>"
      ],
      "text/plain": [
       "<IPython.core.display.HTML object>"
      ]
     },
     "metadata": {},
     "output_type": "display_data"
    },
    {
     "data": {
      "text/html": [
       "<b>Waste Management NZ – Submission</b>"
      ],
      "text/plain": [
       "<IPython.core.display.HTML object>"
      ]
     },
     "metadata": {},
     "output_type": "display_data"
    },
    {
     "name": "stdout",
     "output_type": "stream",
     "text": [
      "Waste Management NZ Limited supports the Natural and Built Environment Bill and the Spatial Planning Bill, emphasizing the importance of waste infrastructure in protecting the environment and supporting economic development, and requesting amendments to prioritize waste infrastructure and recognize Waste Management as a network utility operator.\n",
      "\n"
     ]
    },
    {
     "data": {
      "text/html": [
       "<a href=https:////////www.parliament.nz////resource////en-NZ////53SCEN_EVI_129831_EN15744////7f55db48df20fe71671dc692f41b9e889f224650>Read the full submission</a>"
      ],
      "text/plain": [
       "<IPython.core.display.HTML object>"
      ]
     },
     "metadata": {},
     "output_type": "display_data"
    },
    {
     "data": {
      "text/html": [
       "<b>Pukekohe Vegetable Growers Assocation – Submission</b>"
      ],
      "text/plain": [
       "<IPython.core.display.HTML object>"
      ]
     },
     "metadata": {},
     "output_type": "display_data"
    },
    {
     "name": "stdout",
     "output_type": "stream",
     "text": [
      "The Pukekohe Vegetable Growers Association (PVGA) urges the Natural and Built Environments Bill to prioritize resources for vegetable production, extend consents for securing these resources, and include definitions and provisions that support the industry's growth and the health of New Zealanders.\n",
      "\n"
     ]
    },
    {
     "data": {
      "text/html": [
       "<a href=https:////////www.parliament.nz////resource////en-NZ////53SCEN_EVI_129831_EN15625////b982f9e62e5c251cb8c149f0b2f6b44aca2439ea>Read the full submission</a>"
      ],
      "text/plain": [
       "<IPython.core.display.HTML object>"
      ]
     },
     "metadata": {},
     "output_type": "display_data"
    },
    {
     "data": {
      "text/html": [
       "<b>PCE (Cover letter - Comments on departmental report - Tranches 3A, 3B, and 4) – Official advice</b>"
      ],
      "text/plain": [
       "<IPython.core.display.HTML object>"
      ]
     },
     "metadata": {},
     "output_type": "display_data"
    },
    {
     "name": "stdout",
     "output_type": "stream",
     "text": [
      "The Parliamentary Commissioner for the Environment, Simon Upton, provides recommendations for changes to tranches 3A and 3B of the NBE departmental report, highlighting areas that need improvement and further scrutiny, while acknowledging that the changes proposed by the Ministry for the Environment are generally positive for the environment.\n",
      "\n"
     ]
    },
    {
     "data": {
      "text/html": [
       "<a href=https:////////www.parliament.nz////resource////en-NZ////53SCEN_ADV_129831_EN16931////95d8b66c8ecc3b42c49d74c0f7ca98dbd0a348e0>Read the full submission</a>"
      ],
      "text/plain": [
       "<IPython.core.display.HTML object>"
      ]
     },
     "metadata": {},
     "output_type": "display_data"
    },
    {
     "data": {
      "text/html": [
       "<b>Westpower Ltd – Submission</b>"
      ],
      "text/plain": [
       "<IPython.core.display.HTML object>"
      ]
     },
     "metadata": {},
     "output_type": "display_data"
    },
    {
     "name": "stdout",
     "output_type": "stream",
     "text": [
      "Westpower Limited has submitted a response to the Natural and Built Environments Bill, expressing concerns about the complexity of the bill and potential implementation issues that could hinder their ability to provide a secure supply of energy, including renewable generation, to West Coast communities.\n",
      "\n"
     ]
    },
    {
     "data": {
      "text/html": [
       "<a href=https:////////www.parliament.nz////resource////en-NZ////53SCEN_EVI_129831_EN15614////eda5cc079913466d6bde90df05a660ef6e03fa65>Read the full submission</a>"
      ],
      "text/plain": [
       "<IPython.core.display.HTML object>"
      ]
     },
     "metadata": {},
     "output_type": "display_data"
    },
    {
     "data": {
      "text/html": [
       "<b>Te Arawa Lakes Trust – Submission</b>"
      ],
      "text/plain": [
       "<IPython.core.display.HTML object>"
      ]
     },
     "metadata": {},
     "output_type": "display_data"
    },
    {
     "name": "stdout",
     "output_type": "stream",
     "text": [
      "The Te Arawa Lakes Trust has submitted a response to the NBE and SPA Bills, calling for the recognition of iwi and hapū rights, the preservation of Te Tiriti o Waitangi settlements, and the inclusion of Te Oranga o te Taiao as a foundational principle, while also emphasizing the need for adequate resourcing for iwi and hapū participation in the system.\n",
      "\n"
     ]
    },
    {
     "data": {
      "text/html": [
       "<a href=https:////////www.parliament.nz////resource////en-NZ////53SCEN_EVI_129831_EN15814////24a2e1e22e21bfb962b7b808d9a8539a4af24470>Read the full submission</a>"
      ],
      "text/plain": [
       "<IPython.core.display.HTML object>"
      ]
     },
     "metadata": {},
     "output_type": "display_data"
    },
    {
     "data": {
      "text/html": [
       "<b>Ministry for the Environment (Notification diagram - 6 April) – Official advice</b>"
      ],
      "text/plain": [
       "<IPython.core.display.HTML object>"
      ]
     },
     "metadata": {},
     "output_type": "display_data"
    },
    {
     "name": "stdout",
     "output_type": "stream",
     "text": [
      "The briefing discusses the purpose and requirements of notification for discretionary activities, including the identification of affected persons and the circumstances in which notification may or may not be necessary.\n",
      "\n"
     ]
    },
    {
     "data": {
      "text/html": [
       "<a href=https:////////www.parliament.nz////resource////en-NZ////53SCEN_ADV_129831_EN16798////66ecea5bf21f420d9fffda96421e94ed93a55b59>Read the full submission</a>"
      ],
      "text/plain": [
       "<IPython.core.display.HTML object>"
      ]
     },
     "metadata": {},
     "output_type": "display_data"
    },
    {
     "data": {
      "text/html": [
       "<b>Te Tumu Paeroa – Submission</b>"
      ],
      "text/plain": [
       "<IPython.core.display.HTML object>"
      ]
     },
     "metadata": {},
     "output_type": "display_data"
    },
    {
     "name": "stdout",
     "output_type": "stream",
     "text": [
      "The Māori Trustee supports the inclusion of te Tiriti o Waitangi principles in the NBE Bill but believes that the current drafting does not give sufficient effect to these principles and proposes several measures to strengthen Māori representation and ensure meaningful impact, as well as addressing concerns about the purpose, definition, and discretionary powers in the bill.\n",
      "\n"
     ]
    },
    {
     "data": {
      "text/html": [
       "<a href=https:////////www.parliament.nz////resource////en-NZ////53SCEN_EVI_129831_EN15327////44768282eae0912bf06bbe53667699ed580f7af9>Read the full submission</a>"
      ],
      "text/plain": [
       "<IPython.core.display.HTML object>"
      ]
     },
     "metadata": {},
     "output_type": "display_data"
    },
    {
     "data": {
      "text/html": [
       "<b>Apiculture New Zealand – Submission</b>"
      ],
      "text/plain": [
       "<IPython.core.display.HTML object>"
      ]
     },
     "metadata": {},
     "output_type": "display_data"
    },
    {
     "name": "stdout",
     "output_type": "stream",
     "text": [
      "Apiculture New Zealand has raised concerns about the Natural and Built Environment Bill and the Spatial Planning Bill, arguing that the bills lack clear definitions, focus too much on urban outcomes, and could negatively impact the apiculture industry in terms of legal disputes, inefficiencies, and urban encroachment on processing facilities.\n",
      "\n"
     ]
    },
    {
     "data": {
      "text/html": [
       "<a href=https:////////www.parliament.nz////resource////en-NZ////53SCEN_EVI_129831_EN15740////785da2727277604560d09b841d544ac90739e05d>Read the full submission</a>"
      ],
      "text/plain": [
       "<IPython.core.display.HTML object>"
      ]
     },
     "metadata": {},
     "output_type": "display_data"
    },
    {
     "data": {
      "text/html": [
       "<b>WasteMINZ Territorial Authorities’ Officers Forum – Submission</b>"
      ],
      "text/plain": [
       "<IPython.core.display.HTML object>"
      ]
     },
     "metadata": {},
     "output_type": "display_data"
    },
    {
     "name": "stdout",
     "output_type": "stream",
     "text": [
      "The Territorial Authorities' Officers (TAO) Forum supports a more outcomes-based approach and streamlined planning framework in the Natural and Built Environment (NBE) Bill, advocating for the inclusion of resource recovery and waste disposal as eligible activities and alignment with the National Infrastructure Strategy, while also raising concerns about resourcing and delivery timeline.\n",
      "\n"
     ]
    },
    {
     "data": {
      "text/html": [
       "<a href=https:////////www.parliament.nz////resource////en-NZ////53SCEN_EVI_129831_EN15589////3510326dcc267863f9341e4828433e885db7019c>Read the full submission</a>"
      ],
      "text/plain": [
       "<IPython.core.display.HTML object>"
      ]
     },
     "metadata": {},
     "output_type": "display_data"
    },
    {
     "data": {
      "text/html": [
       "<b>Ministry for the Environment (Designations Diagram) – Official advice</b>"
      ],
      "text/plain": [
       "<IPython.core.display.HTML object>"
      ]
     },
     "metadata": {},
     "output_type": "display_data"
    },
    {
     "name": "stdout",
     "output_type": "stream",
     "text": [
      "The briefing recommends using the Notice of Requirement (NOR) and primary construction and implementation plan (primary CIP) processes for route or site protection in order to provide the necessary information and assessment for future infrastructure development.\n",
      "\n"
     ]
    },
    {
     "data": {
      "text/html": [
       "<a href=https:////////www.parliament.nz////resource////en-NZ////53SCEN_ADV_129831_EN16924////a99d427e14a50dd7ce1927168ed871be50cc3583>Read the full submission</a>"
      ],
      "text/plain": [
       "<IPython.core.display.HTML object>"
      ]
     },
     "metadata": {},
     "output_type": "display_data"
    },
    {
     "data": {
      "text/html": [
       "<b>South Taranaki District Council – Submission</b>"
      ],
      "text/plain": [
       "<IPython.core.display.HTML object>"
      ]
     },
     "metadata": {},
     "output_type": "display_data"
    },
    {
     "name": "stdout",
     "output_type": "stream",
     "text": [
      "has concerns about the proposed changes to the funding and financing of the resource management system, particularly the potential for increased costs for local authorities and the lack of clarity on how these costs will be allocated.\n",
      "\n"
     ]
    },
    {
     "data": {
      "text/html": [
       "<a href=https:////////www.parliament.nz////resource////en-NZ////53SCEN_EVI_129831_EN15503////9021ebf30c74fbd2ee187e9986a673882675bd9c>Read the full submission</a>"
      ],
      "text/plain": [
       "<IPython.core.display.HTML object>"
      ]
     },
     "metadata": {},
     "output_type": "display_data"
    },
    {
     "data": {
      "text/html": [
       "<b>Christchurch International Airport Ltd Supp 1 – Submission</b>"
      ],
      "text/plain": [
       "<IPython.core.display.HTML object>"
      ]
     },
     "metadata": {},
     "output_type": "display_data"
    },
    {
     "name": "stdout",
     "output_type": "stream",
     "text": [
      "Christchurch International Airport (CIAL) supports the Natural and Built Environment Bill and Spatial Planning Bill but raises concerns about the complexity and lengthiness of the new regime, the need for clear direction on infrastructure, and the lack of clarity in the designation process and notification provisions for designations. CIAL also emphasizes the importance of building resilience to climate change effects and transitioning to low-carbon aviation.\n",
      "\n"
     ]
    },
    {
     "data": {
      "text/html": [
       "<a href=https:////////www.parliament.nz////resource////en-NZ////53SCEN_EVI_129831_EN15737////3348ea7d03b71e75be1c01998c03d78ecbebd631>Read the full submission</a>"
      ],
      "text/plain": [
       "<IPython.core.display.HTML object>"
      ]
     },
     "metadata": {},
     "output_type": "display_data"
    },
    {
     "data": {
      "text/html": [
       "<b>Ministry for the Environment (Departmental report - Tranche 2 - Natural and Built Environment Bill). – Official advice</b>"
      ],
      "text/plain": [
       "<IPython.core.display.HTML object>"
      ]
     },
     "metadata": {},
     "output_type": "display_data"
    },
    {
     "name": "stdout",
     "output_type": "stream",
     "text": [
      "The main recommendation in this briefing is to amend the NBE Bill to establish independent Regional Planning Committees with a role in decision-making and representation in the development of the RSS and NBE plan.\n",
      "\n"
     ]
    },
    {
     "data": {
      "text/html": [
       "<a href=https:////////www.parliament.nz////resource////en-NZ////53SCEN_ADV_129831_EN16741////07ba6c2736b244187b88c751da8be7dbfe9c4cb8>Read the full submission</a>"
      ],
      "text/plain": [
       "<IPython.core.display.HTML object>"
      ]
     },
     "metadata": {},
     "output_type": "display_data"
    },
    {
     "data": {
      "text/html": [
       "<b>MfE (NBE Bill Departmental Report 1 - Corrections- Replacement pages 102,146, 232, 233) – Official advice</b>"
      ],
      "text/plain": [
       "<IPython.core.display.HTML object>"
      ]
     },
     "metadata": {},
     "output_type": "display_data"
    },
    {
     "name": "stdout",
     "output_type": "stream",
     "text": [
      "The main recommendation in this briefing is to amend subclause 80(2) for consistency, and there are additional recommendations regarding exemption applications, consultation with Customary Marine Title groups, and the evaluation report.\n",
      "\n"
     ]
    },
    {
     "data": {
      "text/html": [
       "<a href=https:////////www.parliament.nz////resource////en-NZ////53SCEN_ADV_129831_EN16739////ec8e19399f8164b9cc47638d9e7c5455e0bf42ff>Read the full submission</a>"
      ],
      "text/plain": [
       "<IPython.core.display.HTML object>"
      ]
     },
     "metadata": {},
     "output_type": "display_data"
    },
    {
     "data": {
      "text/html": [
       "<b>Ministry for the Environment (Responses to questions from 7 and 8 February) – Official advice</b>"
      ],
      "text/plain": [
       "<IPython.core.display.HTML object>"
      ]
     },
     "metadata": {},
     "output_type": "display_data"
    },
    {
     "name": "stdout",
     "output_type": "stream",
     "text": [
      "The main recommendation in this briefing is to refine and tighten the drafting of the NBE Bill to address issues with the existing approach to notification in the RMA, as well as other recommendations related to appeals, recreation, secretariat issues, and the digital resource management system.\n",
      "\n"
     ]
    },
    {
     "data": {
      "text/html": [
       "<a href=https:////////www.parliament.nz////resource////en-NZ////53SCEN_ADV_129831_EN15315////461d52e2fa3b2670416fe9af48a5f1423258b43a>Read the full submission</a>"
      ],
      "text/plain": [
       "<IPython.core.display.HTML object>"
      ]
     },
     "metadata": {},
     "output_type": "display_data"
    },
    {
     "data": {
      "text/html": [
       "<b>PCE (Additional comments on departmental report - Tranche 4) – Official advice</b>"
      ],
      "text/plain": [
       "<IPython.core.display.HTML object>"
      ]
     },
     "metadata": {},
     "output_type": "display_data"
    },
    {
     "name": "stdout",
     "output_type": "stream",
     "text": [
      "The Parliamentary Commissioner for the Environment, Simon Upton, commends officials for their work on proposed environmental reforms but raises concerns about legal uncertainty and suggests more work is needed before the bills are sent back to the House for consideration.\n",
      "\n"
     ]
    },
    {
     "data": {
      "text/html": [
       "<a href=https:////////www.parliament.nz////resource////en-NZ////53SCEN_ADV_129831_EN16933////d66dde5251f67b233c7c11791cc32e12366d5e60>Read the full submission</a>"
      ],
      "text/plain": [
       "<IPython.core.display.HTML object>"
      ]
     },
     "metadata": {},
     "output_type": "display_data"
    },
    {
     "data": {
      "text/html": [
       "<b>Opaea Whanau Trust Supp 1 – Submission</b>"
      ],
      "text/plain": [
       "<IPython.core.display.HTML object>"
      ]
     },
     "metadata": {},
     "output_type": "display_data"
    },
    {
     "name": "stdout",
     "output_type": "stream",
     "text": [
      "The submission argues that the Therapeutics Bill should incorporate provisions that recognize and protect the rights of Māori people, as outlined in the Treaty of Waitangi, and should include consultation and input from those likely to be affected by the legislation and those with knowledge of relevant Māori perspectives.\n",
      "\n"
     ]
    },
    {
     "data": {
      "text/html": [
       "<a href=https:////////www.parliament.nz////resource////en-NZ////53SCEN_EVI_129831_EN15492////b0fd8ed62b35f5904ef9402db5ee3bc1157de0b6>Read the full submission</a>"
      ],
      "text/plain": [
       "<IPython.core.display.HTML object>"
      ]
     },
     "metadata": {},
     "output_type": "display_data"
    },
    {
     "data": {
      "text/html": [
       "<b>Waikato District Council Supp1 – Submission</b>"
      ],
      "text/plain": [
       "<IPython.core.display.HTML object>"
      ]
     },
     "metadata": {},
     "output_type": "display_data"
    },
    {
     "name": "stdout",
     "output_type": "stream",
     "text": [
      "The Waikato District Council supports the intent of the Spatial Planning Bill but raises concerns about its relationship with other reform legislation, funding, loss of local voice, and lack of clarity, and recommends integrating it into the Natural and Built Environment Bill, addressing funding options, recognizing Te Tiriti o Waitangi and Te ao Māori, and ensuring consistency and public participation.\n",
      "\n"
     ]
    },
    {
     "data": {
      "text/html": [
       "<a href=https:////////www.parliament.nz////resource////en-NZ////53SCEN_EVI_129831_EN15325////6133b7a7009f70849f21d9472874bb5d65780ac0>Read the full submission</a>"
      ],
      "text/plain": [
       "<IPython.core.display.HTML object>"
      ]
     },
     "metadata": {},
     "output_type": "display_data"
    },
    {
     "data": {
      "text/html": [
       "<b>PCE (Comment on departmental report - cover letter) – Official advice</b>"
      ],
      "text/plain": [
       "<IPython.core.display.HTML object>"
      ]
     },
     "metadata": {},
     "output_type": "display_data"
    },
    {
     "name": "stdout",
     "output_type": "stream",
     "text": [
      "The Parliamentary Commissioner for the Environment, Simon Upton, provides independent advice on the departmental reports for the Spatial Planning Bill and the Natural and Built Environment Bill, highlighting flaws and areas for improvement to protect and improve the natural environment.\n",
      "\n"
     ]
    },
    {
     "data": {
      "text/html": [
       "<a href=https:////////www.parliament.nz////resource////en-NZ////53SCEN_ADV_129831_EN16915////203ee32d39488674db1ba6fc1eb8a8d04916cf0c>Read the full submission</a>"
      ],
      "text/plain": [
       "<IPython.core.display.HTML object>"
      ]
     },
     "metadata": {},
     "output_type": "display_data"
    },
    {
     "data": {
      "text/html": [
       "<b>Spark, Vodafone, Connexa and Fortysouth Supp 2 – Submission</b>"
      ],
      "text/plain": [
       "<IPython.core.display.HTML object>"
      ]
     },
     "metadata": {},
     "output_type": "display_data"
    },
    {
     "name": "stdout",
     "output_type": "stream",
     "text": [
      "The submission supports the proposed reform of the Resource Management system in New Zealand, emphasizing the need for efficient planning and the development of a national framework and standards for telecommunications infrastructure, while also suggesting a review of the National Environmental Standard for Telecommunications Facilities to accommodate technological advancements and requesting an extension of the implementation timeframe.\n",
      "\n"
     ]
    },
    {
     "data": {
      "text/html": [
       "<a href=https:////////www.parliament.nz////resource////en-NZ////53SCEN_EVI_129831_EN16132////f5087d308b0435d3830e8e13078707d1016484a8>Read the full submission</a>"
      ],
      "text/plain": [
       "<IPython.core.display.HTML object>"
      ]
     },
     "metadata": {},
     "output_type": "display_data"
    },
    {
     "data": {
      "text/html": [
       "<b>Wellington Water Supp 3 – Submission</b>"
      ],
      "text/plain": [
       "<IPython.core.display.HTML object>"
      ]
     },
     "metadata": {},
     "output_type": "display_data"
    },
    {
     "name": "stdout",
     "output_type": "stream",
     "text": [
      "The submission argues for the need to support the success of new water services entities and their ability to provide essential services and infrastructure through spatial planning, clear consenting pathways, and protections, as well as the inclusion of WSE representatives in planning committees and alignment of environmental limits with WSE obligations.\n",
      "\n"
     ]
    },
    {
     "data": {
      "text/html": [
       "<a href=https:////////www.parliament.nz////resource////en-NZ////53SCEN_EVI_129831_EN16779////0ccd689db1185456ac46359132bbe37950aad88f>Read the full submission</a>"
      ],
      "text/plain": [
       "<IPython.core.display.HTML object>"
      ]
     },
     "metadata": {},
     "output_type": "display_data"
    },
    {
     "data": {
      "text/html": [
       "<b>Aquaculture New Zealand – Submission</b>"
      ],
      "text/plain": [
       "<IPython.core.display.HTML object>"
      ]
     },
     "metadata": {},
     "output_type": "display_data"
    },
    {
     "name": "stdout",
     "output_type": "stream",
     "text": [
      "Aquaculture New Zealand supports the Natural and Built Environments Bill and the Spatial Planning Bill, stating that the reform of the Resource Management Act is long overdue and that the new bills have the potential to provide better outcomes for the aquaculture industry, communities, and the environment.\n",
      "\n"
     ]
    },
    {
     "data": {
      "text/html": [
       "<a href=https:////////www.parliament.nz////resource////en-NZ////53SCEN_EVI_129831_EN15427////548d3c768e01a483bf82c0108891117b73242a51>Read the full submission</a>"
      ],
      "text/plain": [
       "<IPython.core.display.HTML object>"
      ]
     },
     "metadata": {},
     "output_type": "display_data"
    },
    {
     "data": {
      "text/html": [
       "<b>Royal Forest and Bird Protection Society of New Zealand Inc Supp 4 – Submission</b>"
      ],
      "text/plain": [
       "<IPython.core.display.HTML object>"
      ]
     },
     "metadata": {},
     "output_type": "display_data"
    },
    {
     "name": "stdout",
     "output_type": "stream",
     "text": [
      "The submission criticizes the Select Committee on Natural and Built Environment Bill and Spatial Planning Bill, arguing against the lack of consideration for limits and targets in spatial planning, the inadequate protection of places of national importance, and the need for improvement in the limits and targets framework.\n",
      "\n"
     ]
    },
    {
     "data": {
      "text/html": [
       "<a href=https:////////www.parliament.nz////resource////en-NZ////53SCEN_EVI_129831_EN16146////17bf702a9f1981aec9b18457d5fd92e55f4ca055>Read the full submission</a>"
      ],
      "text/plain": [
       "<IPython.core.display.HTML object>"
      ]
     },
     "metadata": {},
     "output_type": "display_data"
    },
    {
     "data": {
      "text/html": [
       "<b>Ōtorohanga District Council – Submission</b>"
      ],
      "text/plain": [
       "<IPython.core.display.HTML object>"
      ]
     },
     "metadata": {},
     "output_type": "display_data"
    },
    {
     "name": "stdout",
     "output_type": "stream",
     "text": [
      "The Ōtorohanga District Council supports resource management reform but has concerns about the current bills, including lack of integration, loss of local decision-making, complexity, and resourcing challenges, and suggests considering an alternative integrated model like Scotland's.\n",
      "\n"
     ]
    },
    {
     "data": {
      "text/html": [
       "<a href=https:////////www.parliament.nz////resource////en-NZ////53SCEN_EVI_129831_EN15493////58346afafa8076bb7169b99e3774be74d2747446>Read the full submission</a>"
      ],
      "text/plain": [
       "<IPython.core.display.HTML object>"
      ]
     },
     "metadata": {},
     "output_type": "display_data"
    },
    {
     "data": {
      "text/html": [
       "<b>Fish and Game New Zealand Supp 1 – Submission</b>"
      ],
      "text/plain": [
       "<IPython.core.display.HTML object>"
      ]
     },
     "metadata": {},
     "output_type": "display_data"
    },
    {
     "name": "stdout",
     "output_type": "stream",
     "text": [
      "Fish & Game New Zealand supports the development of legislation to replace the Resource Management Act (RMA) but believes that the exposure draft of the Natural and Built Environments Act needs to address environmental impacts and provide a consistent framework for resource management planning.\n",
      "\n"
     ]
    },
    {
     "data": {
      "text/html": [
       "<a href=https:////////www.parliament.nz////resource////en-NZ////53SCEN_EVI_129831_EN15582////8eca8a174f466d24b3562e4e34f80fb68e30faf1>Read the full submission</a>"
      ],
      "text/plain": [
       "<IPython.core.display.HTML object>"
      ]
     },
     "metadata": {},
     "output_type": "display_data"
    },
    {
     "data": {
      "text/html": [
       "<b>New Zealand Humans Right Commission – Submission</b>"
      ],
      "text/plain": [
       "<IPython.core.display.HTML object>"
      ]
     },
     "metadata": {},
     "output_type": "display_data"
    },
    {
     "name": "stdout",
     "output_type": "stream",
     "text": [
      "The New Zealand Human Rights Commission supports the Natural and Built Environment Bill and Spatial Planning Bill but recommends strengthening them by explicitly committing to uphold human rights obligations and incorporating a human rights-based approach to public consultation processes, as well as ensuring full recognition and effect of Te Tiriti o Waitangi and protection of Māori rights and practices.\n",
      "\n"
     ]
    },
    {
     "data": {
      "text/html": [
       "<a href=https:////////www.parliament.nz////resource////en-NZ////53SCEN_EVI_129831_EN15613////c92b944faffcc8b92fb05e09543794567efc4b5a>Read the full submission</a>"
      ],
      "text/plain": [
       "<IPython.core.display.HTML object>"
      ]
     },
     "metadata": {},
     "output_type": "display_data"
    },
    {
     "data": {
      "text/html": [
       "<b>IEGA Supp 1 – Submission</b>"
      ],
      "text/plain": [
       "<IPython.core.display.HTML object>"
      ]
     },
     "metadata": {},
     "output_type": "display_data"
    },
    {
     "name": "stdout",
     "output_type": "stream",
     "text": [
      "The Independent Electricity Generators Association (IEGA) is concerned that proposed legislation will negatively impact their members' hydro schemes, leading to increased costs, uncertainty, and a lack of investment in improving efficiency or expanding capacity. They argue for all hydro generation to be treated the same and exempt from the proposed 10-year consent duration.\n",
      "\n"
     ]
    },
    {
     "data": {
      "text/html": [
       "<a href=https:////////www.parliament.nz////resource////en-NZ////53SCEN_EVI_129831_EN16116////21437b03b16cc78681b00618ae0bf95b12c77961>Read the full submission</a>"
      ],
      "text/plain": [
       "<IPython.core.display.HTML object>"
      ]
     },
     "metadata": {},
     "output_type": "display_data"
    },
    {
     "data": {
      "text/html": [
       "<b>Papa Pounamu (NZ Planning Institute Special Interest Group) Supp2 – Submission</b>"
      ],
      "text/plain": [
       "<IPython.core.display.HTML object>"
      ]
     },
     "metadata": {},
     "output_type": "display_data"
    },
    {
     "name": "stdout",
     "output_type": "stream",
     "text": [
      "The submission discusses sections of a bill related to Māori land and the natural and built environment, including the National Planning Framework, Māori Land Act 1993, land use regulations, Papakāinga housing, and the importance of protecting cultural heritage.\n",
      "\n"
     ]
    },
    {
     "data": {
      "text/html": [
       "<a href=https:////////www.parliament.nz////resource////en-NZ////53SCEN_EVI_129831_EN15801////9519844c1f905f1834a357fc93b340c20d3b0aaa>Read the full submission</a>"
      ],
      "text/plain": [
       "<IPython.core.display.HTML object>"
      ]
     },
     "metadata": {},
     "output_type": "display_data"
    },
    {
     "data": {
      "text/html": [
       "<b>New Zealand Planning Institute – Submission</b>"
      ],
      "text/plain": [
       "<IPython.core.display.HTML object>"
      ]
     },
     "metadata": {},
     "output_type": "display_data"
    },
    {
     "name": "stdout",
     "output_type": "stream",
     "text": [
      "The New Zealand Planning Institute (NZPI) believes that the outcomes-based planning system proposed in the Natural and Built Environments Bill (NBE Bill) and the Spatial Planning Bill (SP Bill) can be improved by making changes such as streamlining the transition process, setting more aspirational outcomes, incorporating Te Ao Māori and Te Tiriti o Waitangi principles, and implementing a digitally enabled system, among others, to achieve true transformational change and create a better New Zealand.\n",
      "\n"
     ]
    },
    {
     "data": {
      "text/html": [
       "<a href=https:////////www.parliament.nz////resource////en-NZ////53SCEN_EVI_129831_EN15485////115055253960fc96c6e4b452ef96af16c23b51af>Read the full submission</a>"
      ],
      "text/plain": [
       "<IPython.core.display.HTML object>"
      ]
     },
     "metadata": {},
     "output_type": "display_data"
    },
    {
     "data": {
      "text/html": [
       "<b>Waikato District Council – Submission</b>"
      ],
      "text/plain": [
       "<IPython.core.display.HTML object>"
      ]
     },
     "metadata": {},
     "output_type": "display_data"
    },
    {
     "name": "stdout",
     "output_type": "stream",
     "text": [
      "The Waikato District Council has made several recommendations for changes to the Natural and Built Environment Bill and Spatial Planning Bill, including investigating innovative funding options, improving representation for rural communities and Māori, adding safeguards for vulnerable species and the Waikato River, recognizing Te Ture Whaimana, and clarifying transitional processes and funding in the Spatial Planning Bill.\n",
      "\n"
     ]
    },
    {
     "data": {
      "text/html": [
       "<a href=https:////////www.parliament.nz////resource////en-NZ////53SCEN_EVI_129831_EN15324////3dcacd9ad128f350304f0a09fa05598689e3b4be>Read the full submission</a>"
      ],
      "text/plain": [
       "<IPython.core.display.HTML object>"
      ]
     },
     "metadata": {},
     "output_type": "display_data"
    },
    {
     "data": {
      "text/html": [
       "<b>The Management Arrangements recognised under the Ngā Rohe Moana o Ngā Hapū o Ngāti Porou Act 2019 – Submission</b>"
      ],
      "text/plain": [
       "<IPython.core.display.HTML object>"
      ]
     },
     "metadata": {},
     "output_type": "display_data"
    },
    {
     "name": "stdout",
     "output_type": "stream",
     "text": [
      "The submission made on behalf of several trusts representing different hapū of Ngāti Porou supports the Natural and Built Environment Bill and Spatial Planning Bill, but recommends extending the delayed commencement period and making amendments to address specific arrangements and concerns.\n",
      "\n"
     ]
    },
    {
     "data": {
      "text/html": [
       "<a href=https:////////www.parliament.nz////resource////en-NZ////53SCEN_EVI_129831_EN15733////27d2ed3797122872d8253ab7f69374f32f7d7c08>Read the full submission</a>"
      ],
      "text/plain": [
       "<IPython.core.display.HTML object>"
      ]
     },
     "metadata": {},
     "output_type": "display_data"
    },
    {
     "data": {
      "text/html": [
       "<b>Northpower – Submission</b>"
      ],
      "text/plain": [
       "<IPython.core.display.HTML object>"
      ]
     },
     "metadata": {},
     "output_type": "display_data"
    },
    {
     "name": "stdout",
     "output_type": "stream",
     "text": [
      "Northpower Limited supports resource management reforms in New Zealand but raises concerns about the lack of clear guidance and potential erosion of existing use rights in the Natural and Built Environments Bill, suggesting amendments and additions to address these issues and ensure adequate recognition and provision for infrastructure.\n",
      "\n"
     ]
    },
    {
     "data": {
      "text/html": [
       "<a href=https:////////www.parliament.nz////resource////en-NZ////53SCEN_EVI_129831_EN15449////3e69b90ec521626391e797f30109d7b82ada8142>Read the full submission</a>"
      ],
      "text/plain": [
       "<IPython.core.display.HTML object>"
      ]
     },
     "metadata": {},
     "output_type": "display_data"
    },
    {
     "data": {
      "text/html": [
       "<b>New Zealand Game Animal Council Supp 3 – Submission</b>"
      ],
      "text/plain": [
       "<IPython.core.display.HTML object>"
      ]
     },
     "metadata": {},
     "output_type": "display_data"
    },
    {
     "name": "stdout",
     "output_type": "stream",
     "text": [
      "The article emphasizes the importance of stakeholder involvement in natural resource management and suggests strategies to improve and innovate stakeholder engagement processes.\n",
      "\n"
     ]
    },
    {
     "data": {
      "text/html": [
       "<a href=https:////////www.parliament.nz////resource////en-NZ////53SCEN_EVI_129831_EN15934////fbfe77e4a13109a9c6ed5ffb009c7ed8d9ce5439>Read the full submission</a>"
      ],
      "text/plain": [
       "<IPython.core.display.HTML object>"
      ]
     },
     "metadata": {},
     "output_type": "display_data"
    },
    {
     "data": {
      "text/html": [
       "<b>Electricity Networks Association – Submission</b>"
      ],
      "text/plain": [
       "<IPython.core.display.HTML object>"
      ]
     },
     "metadata": {},
     "output_type": "display_data"
    },
    {
     "name": "stdout",
     "output_type": "stream",
     "text": [
      "The Electricity Networks Association (ENA) has submitted a response to the Environment Committee's inquiry on the Natural and Built Environments Bill (NBEB), emphasizing the importance of electricity networks in enabling New Zealand's transition to a low-carbon economy and suggesting specific amendments to the bill to support the development and maintenance of distribution infrastructure.\n",
      "\n"
     ]
    },
    {
     "data": {
      "text/html": [
       "<a href=https:////////www.parliament.nz////resource////en-NZ////53SCEN_EVI_129831_EN15439////992b3331a6fe021e62078978f894adec7def7ed2>Read the full submission</a>"
      ],
      "text/plain": [
       "<IPython.core.display.HTML object>"
      ]
     },
     "metadata": {},
     "output_type": "display_data"
    },
    {
     "data": {
      "text/html": [
       "<b>Te Rūnanga o Ngāti Mutunga – Submission</b>"
      ],
      "text/plain": [
       "<IPython.core.display.HTML object>"
      ]
     },
     "metadata": {},
     "output_type": "display_data"
    },
    {
     "name": "stdout",
     "output_type": "stream",
     "text": [
      "Te Rūnanga o Ngāti Mutunga has submitted their views on the Natural and Built Environments and Spatial Planning Bills, advocating for the recognition and protection of Tiriti Settlements, equal representation of Iwi/hapū on Regional Planning Committees, inclusion of a cultural element in environmental limits and targets, clearer provisions for managing contaminated sites, support for compliance measures, and adequate funding for Iwi and hapū participation in planning processes.\n",
      "\n"
     ]
    },
    {
     "data": {
      "text/html": [
       "<a href=https:////////www.parliament.nz////resource////en-NZ////53SCEN_EVI_129831_EN15595////44a9b5335726d130a8e5293728eb49d1b7622806>Read the full submission</a>"
      ],
      "text/plain": [
       "<IPython.core.display.HTML object>"
      ]
     },
     "metadata": {},
     "output_type": "display_data"
    },
    {
     "data": {
      "text/html": [
       "<b>Irrigation NZ Supp 2 – Submission</b>"
      ],
      "text/plain": [
       "<IPython.core.display.HTML object>"
      ]
     },
     "metadata": {},
     "output_type": "display_data"
    },
    {
     "name": "stdout",
     "output_type": "stream",
     "text": [
      "Opuha Water Limited (OWL) has submitted a response to the Natural and Built Environments Bill, expressing concerns about its implications for their operations and calling for a comprehensive review and revision of the Bill.\n",
      "\n"
     ]
    },
    {
     "data": {
      "text/html": [
       "<a href=https:////////www.parliament.nz////resource////en-NZ////53SCEN_EVI_129831_EN15837////c7bf321d2d25a79546cfae1e153c069c37bbd5a2>Read the full submission</a>"
      ],
      "text/plain": [
       "<IPython.core.display.HTML object>"
      ]
     },
     "metadata": {},
     "output_type": "display_data"
    },
    {
     "data": {
      "text/html": [
       "<b>Dunedin City Council – Submission</b>"
      ],
      "text/plain": [
       "<IPython.core.display.HTML object>"
      ]
     },
     "metadata": {},
     "output_type": "display_data"
    },
    {
     "name": "stdout",
     "output_type": "stream",
     "text": [
      "The Dunedin City Council supports the Natural and Built Environment Bill and the Spatial Planning Bill but has concerns about the reform process, the concentration of power in the government, and the costs of implementation, while emphasizing the need for alignment with climate change goals, provisions for neglected heritage buildings, and engagement with Māori communities.\n",
      "\n"
     ]
    },
    {
     "data": {
      "text/html": [
       "<a href=https:////////www.parliament.nz////resource////en-NZ////53SCEN_EVI_129831_EN15321////4d04b535c7407bb58ecb4ac0d8a78a70811402b6>Read the full submission</a>"
      ],
      "text/plain": [
       "<IPython.core.display.HTML object>"
      ]
     },
     "metadata": {},
     "output_type": "display_data"
    },
    {
     "data": {
      "text/html": [
       "<b>Protect our Gulf Supp 1 – Submission</b>"
      ],
      "text/plain": [
       "<IPython.core.display.HTML object>"
      ]
     },
     "metadata": {},
     "output_type": "display_data"
    },
    {
     "name": "stdout",
     "output_type": "stream",
     "text": [
      "The bill is criticized for its lack of consideration for community concerns, environmental destruction, criminalization of community members, high costs, and inadequate addressing of climate change factors, while the main argument for the bill is its potential for urban development and employment opportunities, suggesting the need for mediation with the community and stronger roles for local boards to ensure community views are recognized and the importance of protecting biodiversity and considering the four well beings is emphasized.\n",
      "\n"
     ]
    },
    {
     "data": {
      "text/html": [
       "<a href=https:////////www.parliament.nz////resource////en-NZ////53SCEN_EVI_129831_EN15921////cf26c3a59c0d1dbd24a81e51beb70b00559ac31c>Read the full submission</a>"
      ],
      "text/plain": [
       "<IPython.core.display.HTML object>"
      ]
     },
     "metadata": {},
     "output_type": "display_data"
    },
    {
     "data": {
      "text/html": [
       "<b>Damon McPhail Supp 2 – Submission</b>"
      ],
      "text/plain": [
       "<IPython.core.display.HTML object>"
      ]
     },
     "metadata": {},
     "output_type": "display_data"
    },
    {
     "name": "stdout",
     "output_type": "stream",
     "text": [
      "The submission includes before and after photos of the South Bay Amenity landscape, illustrating the changes in beach access and overall landscape after reclamation.\n",
      "\n"
     ]
    },
    {
     "data": {
      "text/html": [
       "<a href=https:////////www.parliament.nz////resource////en-NZ////53SCEN_EVI_129831_EN15727////b4917a502bea0f6c06f119a04cef52ee0b744b95>Read the full submission</a>"
      ],
      "text/plain": [
       "<IPython.core.display.HTML object>"
      ]
     },
     "metadata": {},
     "output_type": "display_data"
    },
    {
     "data": {
      "text/html": [
       "<b>Paula Hunter (Independent advice 14 April 2023) – Official advice</b>"
      ],
      "text/plain": [
       "<IPython.core.display.HTML object>"
      ]
     },
     "metadata": {},
     "output_type": "display_data"
    },
    {
     "name": "stdout",
     "output_type": "stream",
     "text": [
      "The briefing recommends adopting existing unitary authorities instead of establishing Regional Planning Committees and emphasizes the importance of local input, representation, and technology in successful plan making processes.\n",
      "\n"
     ]
    },
    {
     "data": {
      "text/html": [
       "<a href=https:////////www.parliament.nz////resource////en-NZ////53SCEN_ADV_129831_EN16912////d32df35512235fd08fc894de0eb669c5326bd30c>Read the full submission</a>"
      ],
      "text/plain": [
       "<IPython.core.display.HTML object>"
      ]
     },
     "metadata": {},
     "output_type": "display_data"
    },
    {
     "data": {
      "text/html": [
       "<b>Horticulture New Zealand – Submission</b>"
      ],
      "text/plain": [
       "<IPython.core.display.HTML object>"
      ]
     },
     "metadata": {},
     "output_type": "display_data"
    },
    {
     "name": "stdout",
     "output_type": "stream",
     "text": [
      "Horticulture New Zealand has submitted a response to the Natural and Built Environment Bill and Spatial Planning Bill, calling for amendments that recognize the importance of the horticulture sector, protect productive land, address food production and supply, and promote sustainability and equity.\n",
      "\n"
     ]
    },
    {
     "data": {
      "text/html": [
       "<a href=https:////////www.parliament.nz////resource////en-NZ////53SCEN_EVI_129831_EN15476////5d706e21808721bff0822a7117e529d5faa38979>Read the full submission</a>"
      ],
      "text/plain": [
       "<IPython.core.display.HTML object>"
      ]
     },
     "metadata": {},
     "output_type": "display_data"
    },
    {
     "data": {
      "text/html": [
       "<b>Napier City Council – Submission</b>"
      ],
      "text/plain": [
       "<IPython.core.display.HTML object>"
      ]
     },
     "metadata": {},
     "output_type": "display_data"
    },
    {
     "name": "stdout",
     "output_type": "stream",
     "text": [
      "The Napier City Council generally supports the Natural and Built Environments Bill and Spatial Planning Bill but has concerns about resolving tension between system outcomes, prioritizing investment in urban areas, protecting amenity and special character, involving local authorities in the National Planning Framework, and providing flexibility and funding for Regional Planning Committees.\n",
      "\n"
     ]
    },
    {
     "data": {
      "text/html": [
       "<a href=https:////////www.parliament.nz////resource////en-NZ////53SCEN_EVI_129831_EN15594////c63584358936cf0b2c47eb4793c78d19aec11b60>Read the full submission</a>"
      ],
      "text/plain": [
       "<IPython.core.display.HTML object>"
      ]
     },
     "metadata": {},
     "output_type": "display_data"
    },
    {
     "data": {
      "text/html": [
       "<b>BusinessNZ – Submission</b>"
      ],
      "text/plain": [
       "<IPython.core.display.HTML object>"
      ]
     },
     "metadata": {},
     "output_type": "display_data"
    },
    {
     "name": "stdout",
     "output_type": "stream",
     "text": [
      "BusinessNZ supports the government's efforts to reform the resource management system but has concerns about the implementation of the Natural and Built Environment Bill, particularly in relation to sector and industry requirements, and argues for a better balance between environmental outcomes and economic development.\n",
      "\n"
     ]
    },
    {
     "data": {
      "text/html": [
       "<a href=https:////////www.parliament.nz////resource////en-NZ////53SCEN_EVI_129831_EN15342////0005c1b9eac4d47a68e9a27e022910285246af5c>Read the full submission</a>"
      ],
      "text/plain": [
       "<IPython.core.display.HTML object>"
      ]
     },
     "metadata": {},
     "output_type": "display_data"
    },
    {
     "data": {
      "text/html": [
       "<b>Ngāti Hauā Iwi Trust – Submission</b>"
      ],
      "text/plain": [
       "<IPython.core.display.HTML object>"
      ]
     },
     "metadata": {},
     "output_type": "display_data"
    },
    {
     "name": "stdout",
     "output_type": "stream",
     "text": [
      "Ngāti Hauā Iwi Trust has submitted to the Environment Select Committee on the Natural and Built Environment (NBE) and Spatial Planning Bills, emphasizing the need for clear terminology, recognition of iwi and hapū rights, and the protection of Te Oranga o te Taiao (the wellbeing of the environment) as foundational principles, while expressing concerns about the rushed reform process and the powers of the proposed National Māori Entity.\n",
      "\n"
     ]
    },
    {
     "data": {
      "text/html": [
       "<a href=https:////////www.parliament.nz////resource////en-NZ////53SCEN_EVI_129831_EN15730////19da4f2c066839455a53341a559bb1fe64dffbdf>Read the full submission</a>"
      ],
      "text/plain": [
       "<IPython.core.display.HTML object>"
      ]
     },
     "metadata": {},
     "output_type": "display_data"
    },
    {
     "data": {
      "text/html": [
       "<b>Parliamentary Commissioner for the Environment – Submission</b>"
      ],
      "text/plain": [
       "<IPython.core.display.HTML object>"
      ]
     },
     "metadata": {},
     "output_type": "display_data"
    },
    {
     "name": "stdout",
     "output_type": "stream",
     "text": [
      "The Parliamentary Commissioner for the Environment, Simon Upton, supports certain aspects of the proposed Natural and Built Environment Bill and Spatial Planning Bill but raises concerns about accountability, prioritization of outcomes, and the protection of the natural environment, suggesting that more work needs to be done.\n",
      "\n"
     ]
    },
    {
     "data": {
      "text/html": [
       "<a href=https:////////www.parliament.nz////resource////en-NZ////53SCEN_EVI_129831_EN15494////c2842062bc9cbb086c40306420a3ba6bf36ced27>Read the full submission</a>"
      ],
      "text/plain": [
       "<IPython.core.display.HTML object>"
      ]
     },
     "metadata": {},
     "output_type": "display_data"
    },
    {
     "data": {
      "text/html": [
       "<b>Wine Marlborough Limited – Submission</b>"
      ],
      "text/plain": [
       "<IPython.core.display.HTML object>"
      ]
     },
     "metadata": {},
     "output_type": "display_data"
    },
    {
     "name": "stdout",
     "output_type": "stream",
     "text": [
      "Wine Marlborough Limited opposes the proposed freshwater provisions in the Natural and Built Environment Bill, arguing that the wine industry in Marlborough relies on clean freshwater and that the region's rivers are already in good health due to historical regulation by the Marlborough District Council.\n",
      "\n"
     ]
    },
    {
     "data": {
      "text/html": [
       "<a href=https:////////www.parliament.nz////resource////en-NZ////53SCEN_EVI_129831_EN15513////7a88f378515fa25f0bdaffad40a571b17a984be6>Read the full submission</a>"
      ],
      "text/plain": [
       "<IPython.core.display.HTML object>"
      ]
     },
     "metadata": {},
     "output_type": "display_data"
    },
    {
     "data": {
      "text/html": [
       "<b>Te Kotahitanga o Te Atiawa – Submission</b>"
      ],
      "text/plain": [
       "<IPython.core.display.HTML object>"
      ]
     },
     "metadata": {},
     "output_type": "display_data"
    },
    {
     "name": "stdout",
     "output_type": "stream",
     "text": [
      "Te Kotahitanga o Te Atiawa Trust supports the Natural and Built Environment Bill and Spatial Planning Bill, emphasizing the importance of upholding Te Tiriti settlements, Māori representation, transitional arrangements, recognition and protection of cultural and environmental resources, transition to a low emission economy, and proper implementation of statutory acknowledgements and iwi and hapū planning documents in decision-making processes.\n",
      "\n"
     ]
    },
    {
     "data": {
      "text/html": [
       "<a href=https:////////www.parliament.nz////resource////en-NZ////53SCEN_EVI_129831_EN15619////afb05fde71a50ec442588db17ae008fea6b978a5>Read the full submission</a>"
      ],
      "text/plain": [
       "<IPython.core.display.HTML object>"
      ]
     },
     "metadata": {},
     "output_type": "display_data"
    },
    {
     "data": {
      "text/html": [
       "<b>Ngāti Maru and Te Kāhui Maru Trust – Submission</b>"
      ],
      "text/plain": [
       "<IPython.core.display.HTML object>"
      ]
     },
     "metadata": {},
     "output_type": "display_data"
    },
    {
     "name": "stdout",
     "output_type": "stream",
     "text": [
      "The submission by Te Kāhui Maru Trust highlights the importance of upholding the Ngāti Maru settlement, advocating for proper Māori representation, and protecting significant rivers.\n",
      "\n"
     ]
    },
    {
     "data": {
      "text/html": [
       "<a href=https:////////www.parliament.nz////resource////en-NZ////53SCEN_EVI_129831_EN15488////0892fb323a4b94bf0d50f55e1dbcb0c02727e443>Read the full submission</a>"
      ],
      "text/plain": [
       "<IPython.core.display.HTML object>"
      ]
     },
     "metadata": {},
     "output_type": "display_data"
    },
    {
     "data": {
      "text/html": [
       "<b>New Zealand Planning Institute Supp 1 – Submission</b>"
      ],
      "text/plain": [
       "<IPython.core.display.HTML object>"
      ]
     },
     "metadata": {},
     "output_type": "display_data"
    },
    {
     "name": "stdout",
     "output_type": "stream",
     "text": [
      "The New Zealand Planning Institute (NZPI) is recommending that the phrase \"tangata Tiriti communities\" be used instead of \"diverse communities\" in a submission to the Environment Committee, in order to specifically capture cultural diversity in the development of Regional Spatial Strategies.\n",
      "\n"
     ]
    },
    {
     "data": {
      "text/html": [
       "<a href=https:////////www.parliament.nz////resource////en-NZ////53SCEN_EVI_129831_EN15911////deb218964315d7bc78959405b9bbcaedc53ef837>Read the full submission</a>"
      ],
      "text/plain": [
       "<IPython.core.display.HTML object>"
      ]
     },
     "metadata": {},
     "output_type": "display_data"
    },
    {
     "data": {
      "text/html": [
       "<b>Environmental Defence Society Supp 1 – Submission</b>"
      ],
      "text/plain": [
       "<IPython.core.display.HTML object>"
      ]
     },
     "metadata": {},
     "output_type": "display_data"
    },
    {
     "name": "stdout",
     "output_type": "stream",
     "text": [
      "The submission emphasizes the importance of promoting outcomes, implementing a limits/targets framework, and protecting places of national importance in the Natural and Built Environment Bill and Spatial Planning Bill, while also suggesting improvements such as clearer purpose, more ambitious outcomes framework, and tighter exemptions for PONIs.\n",
      "\n"
     ]
    },
    {
     "data": {
      "text/html": [
       "<a href=https:////////www.parliament.nz////resource////en-NZ////53SCEN_EVI_129831_EN15465////42dbed7996bbda9b9fa80f8845143127308bd96d>Read the full submission</a>"
      ],
      "text/plain": [
       "<IPython.core.display.HTML object>"
      ]
     },
     "metadata": {},
     "output_type": "display_data"
    },
    {
     "data": {
      "text/html": [
       "<b>Civil Contractors New Zealand – Submission</b>"
      ],
      "text/plain": [
       "<IPython.core.display.HTML object>"
      ]
     },
     "metadata": {},
     "output_type": "display_data"
    },
    {
     "name": "stdout",
     "output_type": "stream",
     "text": [
      "Civil Contractors New Zealand (CCNZ) supports the reform of the Resource Management Act (RMA) but finds the Natural and Built Environment Bill unworkable and lacking clarity, recommending its rescission and amendment of the Spatial Planning Bill, while also raising concerns about environmental limits, impact on existing infrastructure, and the need for stronger property rights protection, advocating for a prioritization of both environmental protection and development facilitation to address New Zealand's infrastructure deficit.\n",
      "\n"
     ]
    },
    {
     "data": {
      "text/html": [
       "<a href=https:////////www.parliament.nz////resource////en-NZ////53SCEN_EVI_129831_EN15433////66f3847a1e860c1e17b7b68d44ff62beb6c50b3b>Read the full submission</a>"
      ],
      "text/plain": [
       "<IPython.core.display.HTML object>"
      ]
     },
     "metadata": {},
     "output_type": "display_data"
    },
    {
     "data": {
      "text/html": [
       "<b>Clare Ryan Supp 1 – Submission</b>"
      ],
      "text/plain": [
       "<IPython.core.display.HTML object>"
      ]
     },
     "metadata": {},
     "output_type": "display_data"
    },
    {
     "name": "stdout",
     "output_type": "stream",
     "text": [
      "Clare Ryan expresses ambivalence towards a proposed bill, arguing for a clearer purpose and the inclusion of disruptive innovation to address climate change.\n",
      "\n"
     ]
    },
    {
     "data": {
      "text/html": [
       "<a href=https:////////www.parliament.nz////resource////en-NZ////53SCEN_EVI_129831_EN15434////f2fe15697eccac1d1b5afbe119b2d2192b1c655b>Read the full submission</a>"
      ],
      "text/plain": [
       "<IPython.core.display.HTML object>"
      ]
     },
     "metadata": {},
     "output_type": "display_data"
    },
    {
     "data": {
      "text/html": [
       "<b>Quarry Operators joint submission Supp 1 – Submission</b>"
      ],
      "text/plain": [
       "<IPython.core.display.HTML object>"
      ]
     },
     "metadata": {},
     "output_type": "display_data"
    },
    {
     "name": "stdout",
     "output_type": "stream",
     "text": [
      "The quarry operators oppose proposed reform bills due to changes and ambiguity, emphasizing the importance of aggregate in infrastructure development, the need to protect quarries, and the elimination of regional interpretation, while advocating for long-term planning and the deletion of maximum term limits for permits.\n",
      "\n"
     ]
    },
    {
     "data": {
      "text/html": [
       "<a href=https:////////www.parliament.nz////resource////en-NZ////53SCEN_EVI_129831_EN15918////8841a4c3ca3e3699a30df0233a0a3e2e14ceb713>Read the full submission</a>"
      ],
      "text/plain": [
       "<IPython.core.display.HTML object>"
      ]
     },
     "metadata": {},
     "output_type": "display_data"
    },
    {
     "data": {
      "text/html": [
       "<b>Kaikōura District Council – Submission</b>"
      ],
      "text/plain": [
       "<IPython.core.display.HTML object>"
      ]
     },
     "metadata": {},
     "output_type": "display_data"
    },
    {
     "name": "stdout",
     "output_type": "stream",
     "text": [
      "The Kaikōura District Council supports the objectives of the Natural and Built Environment Bill but raises concerns about the short plan making period, lack of public participation opportunities, potential political interference, and calls for amendments to clarify the purpose of the bill and address specific district circumstances.\n",
      "\n"
     ]
    },
    {
     "data": {
      "text/html": [
       "<a href=https:////////www.parliament.nz////resource////en-NZ////53SCEN_EVI_129831_EN15789////70cbbfb5271fa524cf4af5a5755b97e6ab0221ec>Read the full submission</a>"
      ],
      "text/plain": [
       "<IPython.core.display.HTML object>"
      ]
     },
     "metadata": {},
     "output_type": "display_data"
    },
    {
     "data": {
      "text/html": [
       "<b>Te Rūnanga o Ngāti Ruanui Trust – Submission</b>"
      ],
      "text/plain": [
       "<IPython.core.display.HTML object>"
      ]
     },
     "metadata": {},
     "output_type": "display_data"
    },
    {
     "name": "stdout",
     "output_type": "stream",
     "text": [
      "Te Rūnanga o Ngāti Ruanui Trust has submitted concerns and recommendations about the Natural and Built Environment Bill and Spatial Planning Bill, arguing that they do not uphold Tiriti settlements and that the process for addressing this needs improvement, while also expressing concerns about Iwi representation on Regional Planning Committees and recommending 50:50 representation and Iwi-appointed representatives.\n",
      "\n"
     ]
    },
    {
     "data": {
      "text/html": [
       "<a href=https:////////www.parliament.nz////resource////en-NZ////53SCEN_EVI_129831_EN15510////ef8658c331b63f87a7c22280e742c1701164c46d>Read the full submission</a>"
      ],
      "text/plain": [
       "<IPython.core.display.HTML object>"
      ]
     },
     "metadata": {},
     "output_type": "display_data"
    },
    {
     "data": {
      "text/html": [
       "<b>Mercury NZ – Submission</b>"
      ],
      "text/plain": [
       "<IPython.core.display.HTML object>"
      ]
     },
     "metadata": {},
     "output_type": "display_data"
    },
    {
     "name": "stdout",
     "output_type": "stream",
     "text": [
      "Mercury NZ Limited supports the Natural and Built Environment Bill but proposes amendments to remove barriers to renewable electricity activities and enhance the bill's potential to support renewable electrification in New Zealand.\n",
      "\n"
     ]
    },
    {
     "data": {
      "text/html": [
       "<a href=https:////////www.parliament.nz////resource////en-NZ////53SCEN_EVI_129831_EN15447////754a69bc81476cd1a8807ae3d78227ab29683eac>Read the full submission</a>"
      ],
      "text/plain": [
       "<IPython.core.display.HTML object>"
      ]
     },
     "metadata": {},
     "output_type": "display_data"
    },
    {
     "data": {
      "text/html": [
       "<b>Onions New Zealand – Submission</b>"
      ],
      "text/plain": [
       "<IPython.core.display.HTML object>"
      ]
     },
     "metadata": {},
     "output_type": "display_data"
    },
    {
     "name": "stdout",
     "output_type": "stream",
     "text": [
      "Onions New Zealand supports the Natural and Built Environment Bill, emphasizing the importance of access to fresh vegetables for human health, the need to make fresh produce affordable, and the inclusion of vegetation production on highly productive land, while also expressing concerns about consents for vegetable production, the attention given to the rural sector, and suggesting specific amendments to the bill.\n",
      "\n"
     ]
    },
    {
     "data": {
      "text/html": [
       "<a href=https:////////www.parliament.nz////resource////en-NZ////53SCEN_EVI_129831_EN15624////52f3c5cd8a079620dc4de51943c67d109d7c444f>Read the full submission</a>"
      ],
      "text/plain": [
       "<IPython.core.display.HTML object>"
      ]
     },
     "metadata": {},
     "output_type": "display_data"
    },
    {
     "data": {
      "text/html": [
       "<b>Papa Pounamu (NZ Planning Institute Special Interest Group) Supp1 – Submission</b>"
      ],
      "text/plain": [
       "<IPython.core.display.HTML object>"
      ]
     },
     "metadata": {},
     "output_type": "display_data"
    },
    {
     "name": "stdout",
     "output_type": "stream",
     "text": [
      "The submission discusses various concerns and opportunities in the proposed Natural and Built Environment consent process, including issues related to exclusive use rights, compliance waivers, prohibited activities, consultation with iwi and hapū, cost recovery, information requests, reports, notification, and application consideration, while also expressing support for certain sections of the Act.\n",
      "\n"
     ]
    },
    {
     "data": {
      "text/html": [
       "<a href=https:////////www.parliament.nz////resource////en-NZ////53SCEN_EVI_129831_EN15800////d0a1cf32e0b82b18b582ab94b72d97eaf4b380de>Read the full submission</a>"
      ],
      "text/plain": [
       "<IPython.core.display.HTML object>"
      ]
     },
     "metadata": {},
     "output_type": "display_data"
    },
    {
     "data": {
      "text/html": [
       "<b>Rotorua Lakes Council – Submission</b>"
      ],
      "text/plain": [
       "<IPython.core.display.HTML object>"
      ]
     },
     "metadata": {},
     "output_type": "display_data"
    },
    {
     "name": "stdout",
     "output_type": "stream",
     "text": [
      "The submission by the Bay of Plenty Councils expresses concerns about the lack of integration, accountability, and clarity in the proposed NBE and SP bills, and the potential negative impacts on local government, tangata whenua, and communities.\n",
      "\n"
     ]
    },
    {
     "data": {
      "text/html": [
       "<a href=https:////////www.parliament.nz////resource////en-NZ////53SCEN_EVI_129831_EN15314////170936de467bea460ad2466d3834c665cbafd593>Read the full submission</a>"
      ],
      "text/plain": [
       "<IPython.core.display.HTML object>"
      ]
     },
     "metadata": {},
     "output_type": "display_data"
    },
    {
     "data": {
      "text/html": [
       "<b>Ministry for the Environment (Table for dept report navigation, Thursday 6 April) – Official advice</b>"
      ],
      "text/plain": [
       "<IPython.core.display.HTML object>"
      ]
     },
     "metadata": {},
     "output_type": "display_data"
    },
    {
     "name": "stdout",
     "output_type": "stream",
     "text": [
      "The proposed amendments aim to clarify the role and decision-making process of the expert consenting panel in determining the necessity of a hearing and issuing the final decision on the application, while suggesting technical changes for clauses 321 and 326.\n",
      "\n"
     ]
    },
    {
     "data": {
      "text/html": [
       "<a href=https:////////www.parliament.nz////resource////en-NZ////53SCEN_ADV_129831_EN16796////f25a5c467b871a636fa26ae89e554636fbb9afd9>Read the full submission</a>"
      ],
      "text/plain": [
       "<IPython.core.display.HTML object>"
      ]
     },
     "metadata": {},
     "output_type": "display_data"
    },
    {
     "data": {
      "text/html": [
       "<b>Northland Regional Council Supp3 – Submission</b>"
      ],
      "text/plain": [
       "<IPython.core.display.HTML object>"
      ]
     },
     "metadata": {},
     "output_type": "display_data"
    },
    {
     "name": "stdout",
     "output_type": "stream",
     "text": [
      "The Northland Regional Council supports the reform of the resource management system but identifies several issues that need to be addressed and suggests integrating the NBE Bill and SP Bill into one piece of legislation.\n",
      "\n"
     ]
    },
    {
     "data": {
      "text/html": [
       "<a href=https:////////www.parliament.nz////resource////en-NZ////53SCEN_EVI_129831_EN15602////4f511d87f32eee708ae092f5db4a0d4ccadd6e0c>Read the full submission</a>"
      ],
      "text/plain": [
       "<IPython.core.display.HTML object>"
      ]
     },
     "metadata": {},
     "output_type": "display_data"
    },
    {
     "data": {
      "text/html": [
       "<b>Summerset – Submission</b>"
      ],
      "text/plain": [
       "<IPython.core.display.HTML object>"
      ]
     },
     "metadata": {},
     "output_type": "display_data"
    },
    {
     "name": "stdout",
     "output_type": "stream",
     "text": [
      "Summerset Group Holdings Limited supports new legislation regulating the management of the environment and land use planning, but expresses concerns about unintended consequences and the need for practical implementation, while also addressing specific concerns and proposing amendments to ensure effectiveness and simplify the notification process.\n",
      "\n"
     ]
    },
    {
     "data": {
      "text/html": [
       "<a href=https:////////www.parliament.nz////resource////en-NZ////53SCEN_EVI_129831_EN15505////497e858426485e2d940fa880f403122686ef1c68>Read the full submission</a>"
      ],
      "text/plain": [
       "<IPython.core.display.HTML object>"
      ]
     },
     "metadata": {},
     "output_type": "display_data"
    },
    {
     "data": {
      "text/html": [
       "<b>Kevin Moran Supp 2 – Submission</b>"
      ],
      "text/plain": [
       "<IPython.core.display.HTML object>"
      ]
     },
     "metadata": {},
     "output_type": "display_data"
    },
    {
     "name": "stdout",
     "output_type": "stream",
     "text": [
      "The Te Waikoropupū Springs, or Marble Mountain, are described as a spiritual and peaceful place that symbolizes our connection to the natural world and serves as a reminder of our evolutionary origins and potential within Creation.\n",
      "\n"
     ]
    },
    {
     "data": {
      "text/html": [
       "<a href=https:////////www.parliament.nz////resource////en-NZ////53SCEN_EVI_129831_EN15876////295ab52bca7128f6c9eba81588ce4d69555cd20e>Read the full submission</a>"
      ],
      "text/plain": [
       "<IPython.core.display.HTML object>"
      ]
     },
     "metadata": {},
     "output_type": "display_data"
    },
    {
     "data": {
      "text/html": [
       "<b>Save the Basin Campaign Incorporated Supp 2 – Submission</b>"
      ],
      "text/plain": [
       "<IPython.core.display.HTML object>"
      ]
     },
     "metadata": {},
     "output_type": "display_data"
    },
    {
     "name": "stdout",
     "output_type": "stream",
     "text": [
      "The submission proposes amendments to the Natural and Built Environment Bill to prioritize environmental protection, enhance public participation, and ensure a balanced approach to infrastructure development.\n",
      "\n"
     ]
    },
    {
     "data": {
      "text/html": [
       "<a href=https:////////www.parliament.nz////resource////en-NZ////53SCEN_EVI_129831_EN16136////9425b7ce3677155efdb26c645df6f0edbd4e8c12>Read the full submission</a>"
      ],
      "text/plain": [
       "<IPython.core.display.HTML object>"
      ]
     },
     "metadata": {},
     "output_type": "display_data"
    },
    {
     "data": {
      "text/html": [
       "<b>Herenga a Nuku Aotearoa, the Outdoor Access Commission Supp 1 – Submission</b>"
      ],
      "text/plain": [
       "<IPython.core.display.HTML object>"
      ]
     },
     "metadata": {},
     "output_type": "display_data"
    },
    {
     "name": "stdout",
     "output_type": "stream",
     "text": [
      "The submission argues that public access to land is crucial for maintaining cultural authority, unity, and wellbeing, and proposes changes to the Natural & Built Environment Bill to support this.\n",
      "\n"
     ]
    },
    {
     "data": {
      "text/html": [
       "<a href=https:////////www.parliament.nz////resource////en-NZ////53SCEN_EVI_129831_EN16115////2cdf2a9bba250b0ca595b70810719a0cfb7957de>Read the full submission</a>"
      ],
      "text/plain": [
       "<IPython.core.display.HTML object>"
      ]
     },
     "metadata": {},
     "output_type": "display_data"
    },
    {
     "data": {
      "text/html": [
       "<b>Paul Hodgson Supp 10 – Submission</b>"
      ],
      "text/plain": [
       "<IPython.core.display.HTML object>"
      ]
     },
     "metadata": {},
     "output_type": "display_data"
    },
    {
     "name": "stdout",
     "output_type": "stream",
     "text": [
      "The submitter argues that the bill lacks clarity and requirements to restore Canterbury rivers, and calls for provisions for rivers to move naturally, consideration of climate change, an environmental ombudsman, and an independent environment agency.\n",
      "\n"
     ]
    },
    {
     "data": {
      "text/html": [
       "<a href=https:////////www.parliament.nz////resource////en-NZ////53SCEN_EVI_129831_EN15928////b340431d3467846d21ff4688b2a015a695bc5560>Read the full submission</a>"
      ],
      "text/plain": [
       "<IPython.core.display.HTML object>"
      ]
     },
     "metadata": {},
     "output_type": "display_data"
    },
    {
     "data": {
      "text/html": [
       "<b>Te Whakakitenga o Waikato Incorporated (Waikato-Tainui) – Submission</b>"
      ],
      "text/plain": [
       "<IPython.core.display.HTML object>"
      ]
     },
     "metadata": {},
     "output_type": "display_data"
    },
    {
     "name": "stdout",
     "output_type": "stream",
     "text": [
      "The submission criticizes the Natural and Built Environment Bill and the Spatial Planning Bill for failing to uphold Treaty settlements and arrangements, and calls for the recognition and preservation of iwi and hapuu rights and interests in freshwater and the relationship with te Taiao.\n",
      "\n"
     ]
    },
    {
     "data": {
      "text/html": [
       "<a href=https:////////www.parliament.nz////resource////en-NZ////53SCEN_EVI_129831_EN15732////d2f4fcc90c6262dfbcd142fc23b7254564a2e79d>Read the full submission</a>"
      ],
      "text/plain": [
       "<IPython.core.display.HTML object>"
      ]
     },
     "metadata": {},
     "output_type": "display_data"
    },
    {
     "data": {
      "text/html": [
       "<b>King Country Energy Supp 1 – Submission</b>"
      ],
      "text/plain": [
       "<IPython.core.display.HTML object>"
      ]
     },
     "metadata": {},
     "output_type": "display_data"
    },
    {
     "name": "stdout",
     "output_type": "stream",
     "text": [
      "The bill's limitation on the maximum consent term for embedded hydro generation is seen as anti-competitive and creates an uneven playing field, as it disrupts long-term investment plans and poses challenges for investment in new generation opportunities with long payback periods, while also hindering the resilience and sustainability of existing schemes.\n",
      "\n"
     ]
    },
    {
     "data": {
      "text/html": [
       "<a href=https:////////www.parliament.nz////resource////en-NZ////53SCEN_EVI_129831_EN16142////69043a65d3e2934c21476ca3995a760dd166a9e1>Read the full submission</a>"
      ],
      "text/plain": [
       "<IPython.core.display.HTML object>"
      ]
     },
     "metadata": {},
     "output_type": "display_data"
    },
    {
     "data": {
      "text/html": [
       "<b>Emily Grace (Notification procedure) – Official advice</b>"
      ],
      "text/plain": [
       "<IPython.core.display.HTML object>"
      ]
     },
     "metadata": {},
     "output_type": "display_data"
    },
    {
     "name": "stdout",
     "output_type": "stream",
     "text": [
      "The briefing recommends reorganizing and amending the provisions of the NBE Bill to improve the clarity of the notification procedure for anticipated and discretionary activities.\n",
      "\n"
     ]
    },
    {
     "data": {
      "text/html": [
       "<a href=https:////////www.parliament.nz////resource////en-NZ////53SCEN_ADV_129831_EN16957////ef539316c56e9208ba1b322e19a60d424a66e185>Read the full submission</a>"
      ],
      "text/plain": [
       "<IPython.core.display.HTML object>"
      ]
     },
     "metadata": {},
     "output_type": "display_data"
    },
    {
     "data": {
      "text/html": [
       "<b>Paul Hodgson Supp 12 – Submission</b>"
      ],
      "text/plain": [
       "<IPython.core.display.HTML object>"
      ]
     },
     "metadata": {},
     "output_type": "display_data"
    },
    {
     "name": "stdout",
     "output_type": "stream",
     "text": [
      "Backwaters are stagnant or slow-moving areas of a river that are disconnected from the main flow and do not have riffles or runs.\n",
      "\n"
     ]
    },
    {
     "data": {
      "text/html": [
       "<a href=https:////////www.parliament.nz////resource////en-NZ////53SCEN_EVI_129831_EN15926////554964c4663bb5ad7a6eaa687970da845367c0dd>Read the full submission</a>"
      ],
      "text/plain": [
       "<IPython.core.display.HTML object>"
      ]
     },
     "metadata": {},
     "output_type": "display_data"
    },
    {
     "data": {
      "text/html": [
       "<b>Mackenzie District Council – Submission</b>"
      ],
      "text/plain": [
       "<IPython.core.display.HTML object>"
      ]
     },
     "metadata": {},
     "output_type": "display_data"
    },
    {
     "name": "stdout",
     "output_type": "stream",
     "text": [
      "The Mackenzie District Council supports the objectives of the Natural and Built Environment Bill but has submitted a response expressing concerns about the proposed four-year plan making period, lack of public participation opportunities, and the need for clarity and amendments in various areas to ensure effective implementation and avoid failures similar to the current system.\n",
      "\n"
     ]
    },
    {
     "data": {
      "text/html": [
       "<a href=https:////////www.parliament.nz////resource////en-NZ////53SCEN_EVI_129831_EN15590////1da1caffff44f58580ed15e618727df138b07f6a>Read the full submission</a>"
      ],
      "text/plain": [
       "<IPython.core.display.HTML object>"
      ]
     },
     "metadata": {},
     "output_type": "display_data"
    },
    {
     "data": {
      "text/html": [
       "<b>Porirua City Council – Submission</b>"
      ],
      "text/plain": [
       "<IPython.core.display.HTML object>"
      ]
     },
     "metadata": {},
     "output_type": "display_data"
    },
    {
     "name": "stdout",
     "output_type": "stream",
     "text": [
      "The Porirua City Council has submitted recommendations on the Natural and Built Environment Bill, calling for revisions to the bill's purpose, more guidance on implementing te Oranga o te Taiao and Te Tiriti o Waitangi principles, an extended timeframe for preparing NBE plans, the inclusion of compensation as an option for redress, clarity on the role of the Minister, the establishment of independent hearing panels, and stronger transitional provisions.\n",
      "\n"
     ]
    },
    {
     "data": {
      "text/html": [
       "<a href=https:////////www.parliament.nz////resource////en-NZ////53SCEN_EVI_129831_EN15495////9aa250e3604da6b7e8adbe12ba856e4d981898aa>Read the full submission</a>"
      ],
      "text/plain": [
       "<IPython.core.display.HTML object>"
      ]
     },
     "metadata": {},
     "output_type": "display_data"
    },
    {
     "data": {
      "text/html": [
       "<b>Paua Industry Council Supp 2 – Submission</b>"
      ],
      "text/plain": [
       "<IPython.core.display.HTML object>"
      ]
     },
     "metadata": {},
     "output_type": "display_data"
    },
    {
     "name": "stdout",
     "output_type": "stream",
     "text": [
      "The submission argues against the NBE Bill's provisions that enable the prohibition of pāua harvesting, stating that it has negligible environmental impacts and is already well-regulated under the Fisheries Act, and that the bill imposes unnecessary costs and threatens the sustainable management of pāua.\n",
      "\n"
     ]
    },
    {
     "data": {
      "text/html": [
       "<a href=https:////////www.parliament.nz////resource////en-NZ////53SCEN_EVI_129831_EN15893////dae313e841b34042f62081c4a9fb1a99e06999a3>Read the full submission</a>"
      ],
      "text/plain": [
       "<IPython.core.display.HTML object>"
      ]
     },
     "metadata": {},
     "output_type": "display_data"
    },
    {
     "data": {
      "text/html": [
       "<b>Oji Fibre Solutions – Submission</b>"
      ],
      "text/plain": [
       "<IPython.core.display.HTML object>"
      ]
     },
     "metadata": {},
     "output_type": "display_data"
    },
    {
     "name": "stdout",
     "output_type": "stream",
     "text": [
      "Oji Fibre Solutions (NZ) Limited supports streamlining consenting processes and improving certainty in resource management but has concerns about the lack of clarity and practicality in achieving environmental outcomes in the Natural and Built Environment Bill and the Spatial Planning Bill, particularly regarding the \"no net effects\" approach and its impact on businesses. They also have concerns about consenting costs and certainty, existing national policy statements and environmental standards, targets and limits, hearings processes, and forestry management, and make recommendations for amendments to address these\n",
      "\n"
     ]
    },
    {
     "data": {
      "text/html": [
       "<a href=https:////////www.parliament.nz////resource////en-NZ////53SCEN_EVI_129831_EN15491////874ee661a9e54522403bfd50cf525d0bf1266945>Read the full submission</a>"
      ],
      "text/plain": [
       "<IPython.core.display.HTML object>"
      ]
     },
     "metadata": {},
     "output_type": "display_data"
    },
    {
     "data": {
      "text/html": [
       "<b>Aotearoa Water Action – Submission</b>"
      ],
      "text/plain": [
       "<IPython.core.display.HTML object>"
      ]
     },
     "metadata": {},
     "output_type": "display_data"
    },
    {
     "name": "stdout",
     "output_type": "stream",
     "text": [
      "The Aotearoa Water Action (AWA) opposes the Natural and Built Environment Bill due to concerns about its lack of clarity, undefined terms, and excessive Ministerial discretion, and calls for stronger commitments to environmental protection, community benefits, and the allocation of fresh water.\n",
      "\n"
     ]
    },
    {
     "data": {
      "text/html": [
       "<a href=https:////////www.parliament.nz////resource////en-NZ////53SCEN_EVI_129831_EN15620////8d9d8c0073d2f7ea8931ec2f5592a4d5986ce8eb>Read the full submission</a>"
      ],
      "text/plain": [
       "<IPython.core.display.HTML object>"
      ]
     },
     "metadata": {},
     "output_type": "display_data"
    },
    {
     "data": {
      "text/html": [
       "<b>Ministry for the Environment (Departmental report - Tranche 4) – Official advice</b>"
      ],
      "text/plain": [
       "<IPython.core.display.HTML object>"
      ]
     },
     "metadata": {},
     "output_type": "display_data"
    },
    {
     "name": "stdout",
     "output_type": "stream",
     "text": [
      "The briefing provides an overview and analysis of the Natural and Built Environment Bill, recommending the retention of its purpose and system outcomes and the establishment of a Freshwater Working Group to address freshwater allocation.\n",
      "\n"
     ]
    },
    {
     "data": {
      "text/html": [
       "<a href=https:////////www.parliament.nz////resource////en-NZ////53SCEN_ADV_129831_EN16799////4a817647dea37cc35114dd797dfefb57197380fc>Read the full submission</a>"
      ],
      "text/plain": [
       "<IPython.core.display.HTML object>"
      ]
     },
     "metadata": {},
     "output_type": "display_data"
    },
    {
     "data": {
      "text/html": [
       "<b>Waikato River Authority – Submission</b>"
      ],
      "text/plain": [
       "<IPython.core.display.HTML object>"
      ]
     },
     "metadata": {},
     "output_type": "display_data"
    },
    {
     "name": "stdout",
     "output_type": "stream",
     "text": [
      "The Waikato River Authority supports the Natural and Built Environment Bill and Spatial Planning Bill, emphasizing the need to protect statutory provisions that enable the authority to fulfill its objectives and preserve the mana of Te Ture Whaimana o te Awa o Waikato (the Vision and Strategy) for the Waikato and Waipaa Rivers, while also highlighting the importance of upholding the principles of Te Tiriti o Waitangi and addressing potential conflicts with the River Settlement Act.\n",
      "\n"
     ]
    },
    {
     "data": {
      "text/html": [
       "<a href=https:////////www.parliament.nz////resource////en-NZ////53SCEN_EVI_129831_EN15511////61aac91d069353025904598244a0d403b602aec6>Read the full submission</a>"
      ],
      "text/plain": [
       "<IPython.core.display.HTML object>"
      ]
     },
     "metadata": {},
     "output_type": "display_data"
    },
    {
     "data": {
      "text/html": [
       "<b>Wellington Electricity – Submission</b>"
      ],
      "text/plain": [
       "<IPython.core.display.HTML object>"
      ]
     },
     "metadata": {},
     "output_type": "display_data"
    },
    {
     "name": "stdout",
     "output_type": "stream",
     "text": [
      "Wellington Electricity Lines Limited (WE) submits feedback on the Natural and Built Environments Bill, emphasizing the need for a clear framework to manage the electricity distribution network, concerns about the hierarchy of natural environment outcomes, and the importance of flexibility, certainty, and stakeholder engagement in the bill's development and implementation.\n",
      "\n"
     ]
    },
    {
     "data": {
      "text/html": [
       "<a href=https:////////www.parliament.nz////resource////en-NZ////53SCEN_EVI_129831_EN15453////57b2cc7ba5fde7b94548b7eb19fabcd80ab63ffb>Read the full submission</a>"
      ],
      "text/plain": [
       "<IPython.core.display.HTML object>"
      ]
     },
     "metadata": {},
     "output_type": "display_data"
    },
    {
     "data": {
      "text/html": [
       "<b>Koi Tū and Ngā Ara Whetu Centres – Submission</b>"
      ],
      "text/plain": [
       "<IPython.core.display.HTML object>"
      ]
     },
     "metadata": {},
     "output_type": "display_data"
    },
    {
     "name": "stdout",
     "output_type": "stream",
     "text": [
      "The submission argues that the Natural and Built Environment Bill and the Spatial Planning Bill in their current form pose risks and should prioritize the intrinsic value of nature and address the climate crisis, while also recommending reconciling the bills, establishing independent oversight, and clarifying interrelationships and decision-making principles.\n",
      "\n"
     ]
    },
    {
     "data": {
      "text/html": [
       "<a href=https:////////www.parliament.nz////resource////en-NZ////53SCEN_EVI_129831_EN15731////8067492cdf1051ee846ab034ebf6b62460fa47ae>Read the full submission</a>"
      ],
      "text/plain": [
       "<IPython.core.display.HTML object>"
      ]
     },
     "metadata": {},
     "output_type": "display_data"
    },
    {
     "data": {
      "text/html": [
       "<b>Pioneer Energy – Submission</b>"
      ],
      "text/plain": [
       "<IPython.core.display.HTML object>"
      ]
     },
     "metadata": {},
     "output_type": "display_data"
    },
    {
     "name": "stdout",
     "output_type": "stream",
     "text": [
      "Pioneer Energy expresses concerns about the Natural and Built Environment Bill, arguing that it places them at a competitive disadvantage and hinders their ability to invest in new capacity or refurbishment due to shorter consent durations and increased costs of reconsenting.\n",
      "\n"
     ]
    },
    {
     "data": {
      "text/html": [
       "<a href=https:////////www.parliament.nz////resource////en-NZ////53SCEN_EVI_129831_EN15787////19c4651b999a6882a50a0ac714afc80c351eb91f>Read the full submission</a>"
      ],
      "text/plain": [
       "<IPython.core.display.HTML object>"
      ]
     },
     "metadata": {},
     "output_type": "display_data"
    },
    {
     "data": {
      "text/html": [
       "<b>Linda Conning Supp 1 – Submission</b>"
      ],
      "text/plain": [
       "<IPython.core.display.HTML object>"
      ]
     },
     "metadata": {},
     "output_type": "display_data"
    },
    {
     "name": "stdout",
     "output_type": "stream",
     "text": [
      "The submitter argues that the Natural and Built Environments and Spatial Planning Bills should prioritize public participation and protect the natural environment, expressing concerns about the lack of public voice, the notification process, exemptions from environmental limits, and the coordination between the two bills.\n",
      "\n"
     ]
    },
    {
     "data": {
      "text/html": [
       "<a href=https:////////www.parliament.nz////resource////en-NZ////53SCEN_EVI_129831_EN15919////7b1a207c4f949df76e6f5f9378121d320766a716>Read the full submission</a>"
      ],
      "text/plain": [
       "<IPython.core.display.HTML object>"
      ]
     },
     "metadata": {},
     "output_type": "display_data"
    },
    {
     "data": {
      "text/html": [
       "<b>Irrigation NZ Supp 6 – Submission</b>"
      ],
      "text/plain": [
       "<IPython.core.display.HTML object>"
      ]
     },
     "metadata": {},
     "output_type": "display_data"
    },
    {
     "name": "stdout",
     "output_type": "stream",
     "text": [
      "Central Plains Water Limited (CPWL) has raised concerns about the Natural and Built Environment Bill (NBEB) and the Spatial Planning Bill (SPB), arguing that they could restrict their use of irrigation infrastructure and environmental management systems, and requesting an opportunity to present their concerns to the Environment Select Committee.\n",
      "\n"
     ]
    },
    {
     "data": {
      "text/html": [
       "<a href=https:////////www.parliament.nz////resource////en-NZ////53SCEN_EVI_129831_EN15833////9e6fc36b38f8d1b1ffc485ff760299a7a2c36bcf>Read the full submission</a>"
      ],
      "text/plain": [
       "<IPython.core.display.HTML object>"
      ]
     },
     "metadata": {},
     "output_type": "display_data"
    },
    {
     "data": {
      "text/html": [
       "<b>Ministry for the Environment (Departmental report - Tranche 4 - Natural and Built Environment Bill - Version 2) – Official advice</b>"
      ],
      "text/plain": [
       "<IPython.core.display.HTML object>"
      ]
     },
     "metadata": {},
     "output_type": "display_data"
    },
    {
     "name": "stdout",
     "output_type": "stream",
     "text": [
      "The briefing recommends retaining separate acts for spatial planning and the natural and built environment, while emphasizing the need for an outcomes-driven approach, managing adverse effects, protecting important places, and implementing an allocation framework.\n",
      "\n"
     ]
    },
    {
     "data": {
      "text/html": [
       "<a href=https:////////www.parliament.nz////resource////en-NZ////53SCEN_ADV_129831_EN17079////78e0082bb1082ddb9120cabe2607b25a88fd0303>Read the full submission</a>"
      ],
      "text/plain": [
       "<IPython.core.display.HTML object>"
      ]
     },
     "metadata": {},
     "output_type": "display_data"
    },
    {
     "data": {
      "text/html": [
       "<b>Beef and Lamb New Zealand – Submission</b>"
      ],
      "text/plain": [
       "<IPython.core.display.HTML object>"
      ]
     },
     "metadata": {},
     "output_type": "display_data"
    },
    {
     "name": "stdout",
     "output_type": "stream",
     "text": [
      "Beef + Lamb New Zealand opposes the Natural and Built Environment Bill and the Spatial Planning Bill in their current form, citing concerns about complexity, lack of detail, and excessive government power, and calls for the Bills to be withdrawn and reworked to improve the current resource management system.\n",
      "\n"
     ]
    },
    {
     "data": {
      "text/html": [
       "<a href=https:////////www.parliament.nz////resource////en-NZ////53SCEN_EVI_129831_EN15429////ff5cb7f7554217251c720e30f7f9cce5d5f7868a>Read the full submission</a>"
      ],
      "text/plain": [
       "<IPython.core.display.HTML object>"
      ]
     },
     "metadata": {},
     "output_type": "display_data"
    },
    {
     "data": {
      "text/html": [
       "<b>Irrigation NZ – Submission</b>"
      ],
      "text/plain": [
       "<IPython.core.display.HTML object>"
      ]
     },
     "metadata": {},
     "output_type": "display_data"
    },
    {
     "name": "stdout",
     "output_type": "stream",
     "text": [
      "Irrigation NZ supports the need for reform in the Resource Management Act and the development of the Natural and Built Environment Bill and Spatial Planning Bill, but raises concerns about the current form of the bills and calls for improvements to ensure certainty and practicality for irrigation schemes and water users.\n",
      "\n"
     ]
    },
    {
     "data": {
      "text/html": [
       "<a href=https:////////www.parliament.nz////resource////en-NZ////53SCEN_EVI_129831_EN15839////d12d4336291ec714dfe588de2a59f47da8d1ec70>Read the full submission</a>"
      ],
      "text/plain": [
       "<IPython.core.display.HTML object>"
      ]
     },
     "metadata": {},
     "output_type": "display_data"
    },
    {
     "data": {
      "text/html": [
       "<b>Roderick Aldridge – Submission</b>"
      ],
      "text/plain": [
       "<IPython.core.display.HTML object>"
      ]
     },
     "metadata": {},
     "output_type": "display_data"
    },
    {
     "name": "stdout",
     "output_type": "stream",
     "text": [
      "The bill's opponents argue that it violates personal privacy and civil liberties, while supporters claim it is necessary for national security and combating terrorism.\n",
      "\n"
     ]
    },
    {
     "data": {
      "text/html": [
       "<a href=https:////////www.parliament.nz////resource////en-NZ////53SCEN_EVI_129831_EN15809////f001acf3234548f314fd226a2813a20d8012ff73>Read the full submission</a>"
      ],
      "text/plain": [
       "<IPython.core.display.HTML object>"
      ]
     },
     "metadata": {},
     "output_type": "display_data"
    },
    {
     "data": {
      "text/html": [
       "<b>Te Rūnanga o Ngāi Tahu Supp 1 – Submission</b>"
      ],
      "text/plain": [
       "<IPython.core.display.HTML object>"
      ]
     },
     "metadata": {},
     "output_type": "display_data"
    },
    {
     "name": "stdout",
     "output_type": "stream",
     "text": [
      "Te Rūnanga o Ngāi Tahu responds to the Natural and Built Environment Bill and Spatial Planning Bill, emphasizing the need to recognize Ngāi Tahu rangatiratanga and the Ngāi Tahu Takiwā, and calling for direct engagement, adequate resourcing, and protection of settlements and taonga.\n",
      "\n"
     ]
    },
    {
     "data": {
      "text/html": [
       "<a href=https:////////www.parliament.nz////resource////en-NZ////53SCEN_EVI_129831_EN16122////2c6cc3bd846568f7695532347c487727b9db21db>Read the full submission</a>"
      ],
      "text/plain": [
       "<IPython.core.display.HTML object>"
      ]
     },
     "metadata": {},
     "output_type": "display_data"
    },
    {
     "data": {
      "text/html": [
       "<b>Hastings District Council – Submission</b>"
      ],
      "text/plain": [
       "<IPython.core.display.HTML object>"
      ]
     },
     "metadata": {},
     "output_type": "display_data"
    },
    {
     "name": "stdout",
     "output_type": "stream",
     "text": [
      "The Hastings District Council has submitted its comments on the Natural and Built Environments Bill, expressing concerns about the loss of local voice, the composition of Regional Planning Committees, clarity on transitional provisions, funding and administrative details, consenting matters, and the inclusion of waste and resource recovery services.\n",
      "\n"
     ]
    },
    {
     "data": {
      "text/html": [
       "<a href=https:////////www.parliament.nz////resource////en-NZ////53SCEN_EVI_129831_EN15623////12efe01ade3f2a9a0aa81257b86f7eb8317e3bb8>Read the full submission</a>"
      ],
      "text/plain": [
       "<IPython.core.display.HTML object>"
      ]
     },
     "metadata": {},
     "output_type": "display_data"
    },
    {
     "data": {
      "text/html": [
       "<b>Powerco Supp 1 – Submission</b>"
      ],
      "text/plain": [
       "<IPython.core.display.HTML object>"
      ]
     },
     "metadata": {},
     "output_type": "display_data"
    },
    {
     "name": "stdout",
     "output_type": "stream",
     "text": [
      "The submission argues for the improvement of bills related to the natural and built environment in New Zealand to support the country's energy future, emphasizing the need for protection and enablement of the energy system, decarbonization efforts, and involvement of lifeline utility providers in regional planning.\n",
      "\n"
     ]
    },
    {
     "data": {
      "text/html": [
       "<a href=https:////////www.parliament.nz////resource////en-NZ////53SCEN_EVI_129831_EN16120////72a16c830e15ceb3bf515a70ac2580c372c2efa7>Read the full submission</a>"
      ],
      "text/plain": [
       "<IPython.core.display.HTML object>"
      ]
     },
     "metadata": {},
     "output_type": "display_data"
    },
    {
     "data": {
      "text/html": [
       "<b>Tony Watkins – Submission</b>"
      ],
      "text/plain": [
       "<IPython.core.display.HTML object>"
      ]
     },
     "metadata": {},
     "output_type": "display_data"
    },
    {
     "name": "stdout",
     "output_type": "stream",
     "text": [
      "Tony Watkins criticizes the Natural and Built Environment Bill, arguing that it is irrelevant to the climate crisis and Judge Randerson, involved in the bill, lacks knowledge of holocentric architecture and the built environment.\n",
      "\n"
     ]
    },
    {
     "data": {
      "text/html": [
       "<a href=https:////////www.parliament.nz////resource////en-NZ////53SCEN_EVI_129831_EN15816////9456989cae742414b472f6c3ab0629de36d2d349>Read the full submission</a>"
      ],
      "text/plain": [
       "<IPython.core.display.HTML object>"
      ]
     },
     "metadata": {},
     "output_type": "display_data"
    },
    {
     "data": {
      "text/html": [
       "<b>Te Kahu o Taonui – Submission</b>"
      ],
      "text/plain": [
       "<IPython.core.display.HTML object>"
      ]
     },
     "metadata": {},
     "output_type": "display_data"
    },
    {
     "name": "stdout",
     "output_type": "stream",
     "text": [
      "The submission argues that the Natural and Built Environment Bill and Spatial Planning Bill have been rushed and fail to address iwi and hapū rights and interests in freshwater, calling for amendments and requesting to make an oral submission.\n",
      "\n"
     ]
    },
    {
     "data": {
      "text/html": [
       "<a href=https:////////www.parliament.nz////resource////en-NZ////53SCEN_EVI_129831_EN15606////d393a08b2fe599acf27b2104e425011bf0f2dbe4>Read the full submission</a>"
      ],
      "text/plain": [
       "<IPython.core.display.HTML object>"
      ]
     },
     "metadata": {},
     "output_type": "display_data"
    },
    {
     "data": {
      "text/html": [
       "<b>Otago Regional Council Supp1 – Submission</b>"
      ],
      "text/plain": [
       "<IPython.core.display.HTML object>"
      ]
     },
     "metadata": {},
     "output_type": "display_data"
    },
    {
     "name": "stdout",
     "output_type": "stream",
     "text": [
      "The submission argues against the NBE and SP Bills, expressing concerns about the Freshwater Working Group, the disconnect between the NBE Bill and the NPSFM, consents with grouped expiry dates, and the implementation of Regional Planning Committees, while also noting support for Regional Spatial Strategies.\n",
      "\n"
     ]
    },
    {
     "data": {
      "text/html": [
       "<a href=https:////////www.parliament.nz////resource////en-NZ////53SCEN_EVI_129831_EN16159////cd7bdce5c6095c9eeeaf65aae8fb7d4618d8ca6d>Read the full submission</a>"
      ],
      "text/plain": [
       "<IPython.core.display.HTML object>"
      ]
     },
     "metadata": {},
     "output_type": "display_data"
    },
    {
     "data": {
      "text/html": [
       "<b>Ngati Tahu-Ngati Whaoa Runanga Trust Supp 1 – Submission</b>"
      ],
      "text/plain": [
       "<IPython.core.display.HTML object>"
      ]
     },
     "metadata": {},
     "output_type": "display_data"
    },
    {
     "name": "stdout",
     "output_type": "stream",
     "text": [
      "The Ngati Tahu-Ngati Whaoa Runanga Trust criticizes the Natural and Built Environment and Spatial Planning Bills for failing to address iwi and hapū rights and interests in freshwater and geothermal resources, not upholding existing Tiriti settlements, and not meeting the aim of transforming the resource management system, while also opposing the creation of a National Māori Entity and calling for adequate resourcing for iwi and hapū participation in the system.\n",
      "\n"
     ]
    },
    {
     "data": {
      "text/html": [
       "<a href=https:////////www.parliament.nz////resource////en-NZ////53SCEN_EVI_129831_EN15577////6786a1634e9a8f9a8cc292f4282e431b33741fbb>Read the full submission</a>"
      ],
      "text/plain": [
       "<IPython.core.display.HTML object>"
      ]
     },
     "metadata": {},
     "output_type": "display_data"
    },
    {
     "data": {
      "text/html": [
       "<b>IEGA – Submission</b>"
      ],
      "text/plain": [
       "<IPython.core.display.HTML object>"
      ]
     },
     "metadata": {},
     "output_type": "display_data"
    },
    {
     "name": "stdout",
     "output_type": "stream",
     "text": [
      "The Independent Electricity Generators Association (IEGA) is concerned that the Natural and Built Environment Bill will negatively impact hydro generation connected to local electricity distribution networks, making it financially unviable to re-consent existing plants and delaying the transition to a low emissions economy. They recommend amending the Bill to treat distribution and grid connected hydro generation equally for consenting purposes.\n",
      "\n"
     ]
    },
    {
     "data": {
      "text/html": [
       "<a href=https:////////www.parliament.nz////resource////en-NZ////53SCEN_EVI_129831_EN15742////91a7b3145bdf621292d2db327873569fb65bd9a1>Read the full submission</a>"
      ],
      "text/plain": [
       "<IPython.core.display.HTML object>"
      ]
     },
     "metadata": {},
     "output_type": "display_data"
    },
    {
     "data": {
      "text/html": [
       "<b>Hamilton City Council Supp2 – Submission</b>"
      ],
      "text/plain": [
       "<IPython.core.display.HTML object>"
      ]
     },
     "metadata": {},
     "output_type": "display_data"
    },
    {
     "name": "stdout",
     "output_type": "stream",
     "text": [
      "The submission discusses the Future Proof strategy in New Zealand, highlighting its goals, achievements, and updates, including the incorporation of iwi aspirations and the importance of the Waikato River in planning, and outlines the next steps in implementing the recommendations.\n",
      "\n"
     ]
    },
    {
     "data": {
      "text/html": [
       "<a href=https:////////www.parliament.nz////resource////en-NZ////53SCEN_EVI_129831_EN16151////3ccca2c03b7fb4e3276225a227010000735ba302>Read the full submission</a>"
      ],
      "text/plain": [
       "<IPython.core.display.HTML object>"
      ]
     },
     "metadata": {},
     "output_type": "display_data"
    },
    {
     "data": {
      "text/html": [
       "<b>Royal Forest and Bird Protection Society of New Zealand Inc – Submission</b>"
      ],
      "text/plain": [
       "<IPython.core.display.HTML object>"
      ]
     },
     "metadata": {},
     "output_type": "display_data"
    },
    {
     "name": "stdout",
     "output_type": "stream",
     "text": [
      "The Royal Forest and Bird Protection Society of New Zealand (Forest & Bird) has submitted a response to the Natural and Built Environment Bill and Spatial Planning Bill, calling for stronger laws to protect New Zealand's biodiversity and ecosystems and suggesting amendments to prioritize the protection of natural heritage and clarify the direction of the legislation.\n",
      "\n"
     ]
    },
    {
     "data": {
      "text/html": [
       "<a href=https:////////www.parliament.nz////resource////en-NZ////53SCEN_EVI_129831_EN15855////5aa5fecb921c10b7b6ff5101713f085f2cbf46ed>Read the full submission</a>"
      ],
      "text/plain": [
       "<IPython.core.display.HTML object>"
      ]
     },
     "metadata": {},
     "output_type": "display_data"
    },
    {
     "data": {
      "text/html": [
       "<b>Kapiti Coast District Council Supp 1 – Submission</b>"
      ],
      "text/plain": [
       "<IPython.core.display.HTML object>"
      ]
     },
     "metadata": {},
     "output_type": "display_data"
    },
    {
     "name": "stdout",
     "output_type": "stream",
     "text": [
      "The KCDC has raised concerns and suggested changes regarding various clauses in the Natural and Built Environment Bill, including the climate change objective, well-functioning rural and urban areas, adverse effect definition, cultural heritage definition, public notice requirements, effects management framework, resource allocation principles, limits and targets, compensation for esplanade reserves, and transfer of powers.\n",
      "\n"
     ]
    },
    {
     "data": {
      "text/html": [
       "<a href=https:////////www.parliament.nz////resource////en-NZ////53SCEN_EVI_129831_EN15792////4d5d8222862617578fb739d28c2094c385446101>Read the full submission</a>"
      ],
      "text/plain": [
       "<IPython.core.display.HTML object>"
      ]
     },
     "metadata": {},
     "output_type": "display_data"
    },
    {
     "data": {
      "text/html": [
       "<b>The Association for Resource Management Practitioners – Submission</b>"
      ],
      "text/plain": [
       "<IPython.core.display.HTML object>"
      ]
     },
     "metadata": {},
     "output_type": "display_data"
    },
    {
     "name": "stdout",
     "output_type": "stream",
     "text": [
      "The Resource Management Law Association (RMLA) supports the reform objectives of the National Environmental Standards and Resource Management Amendment Bill (NBA), but believes that improvements are needed to enhance its clarity, structure, and content.\n",
      "\n"
     ]
    },
    {
     "data": {
      "text/html": [
       "<a href=https:////////www.parliament.nz////resource////en-NZ////53SCEN_EVI_129831_EN15607////baba70c5ec177f36ec7d5eb8947846a07ab2aefc>Read the full submission</a>"
      ],
      "text/plain": [
       "<IPython.core.display.HTML object>"
      ]
     },
     "metadata": {},
     "output_type": "display_data"
    },
    {
     "data": {
      "text/html": [
       "<b>Rangitata Diversion Race Management Limited Supp 2 – Submission</b>"
      ],
      "text/plain": [
       "<IPython.core.display.HTML object>"
      ]
     },
     "metadata": {},
     "output_type": "display_data"
    },
    {
     "name": "stdout",
     "output_type": "stream",
     "text": [
      "The Rangitata River Monitoring Framework proposes a comprehensive monitoring plan, including LiDAR technology and numerical modeling, to assess the potential effects of water abstraction on the river in New Zealand and suggests that investing in monitoring is more beneficial than going through another hearing before the Environment Court.\n",
      "\n"
     ]
    },
    {
     "data": {
      "text/html": [
       "<a href=https:////////www.parliament.nz////resource////en-NZ////53SCEN_EVI_129831_EN15940////f2777a217056348cdb395ec82cbd615c5454b349>Read the full submission</a>"
      ],
      "text/plain": [
       "<IPython.core.display.HTML object>"
      ]
     },
     "metadata": {},
     "output_type": "display_data"
    },
    {
     "data": {
      "text/html": [
       "<b>Raukawa Charitable Trust – Submission</b>"
      ],
      "text/plain": [
       "<IPython.core.display.HTML object>"
      ]
     },
     "metadata": {},
     "output_type": "display_data"
    },
    {
     "name": "stdout",
     "output_type": "stream",
     "text": [
      "Raukawa iwi in New Zealand submits a consolidated submission on the Natural and Built Environment Bill and the Spatial Planning Bill, expressing disappointment with the lack of meaningful engagement and arguing that the process does not align with the Crown's Treaty obligations, while supporting the bills' general purposes and inclusion of Te Tiriti o Waitangi principles, they have concerns about the impact on Treaty settlements, co-management arrangements, and water and geothermal rights, calling for substantial re-engagement with iwi before the\n",
      "\n"
     ]
    },
    {
     "data": {
      "text/html": [
       "<a href=https:////////www.parliament.nz////resource////en-NZ////53SCEN_EVI_129831_EN15604////12f43279650b98a119bb44711af651b58b3f6b09>Read the full submission</a>"
      ],
      "text/plain": [
       "<IPython.core.display.HTML object>"
      ]
     },
     "metadata": {},
     "output_type": "display_data"
    },
    {
     "data": {
      "text/html": [
       "<b>Meat Industry Association of New Zealand (Incoporated) – Submission</b>"
      ],
      "text/plain": [
       "<IPython.core.display.HTML object>"
      ]
     },
     "metadata": {},
     "output_type": "display_data"
    },
    {
     "name": "stdout",
     "output_type": "stream",
     "text": [
      "The Meat Industry Association of New Zealand has submitted concerns about the Natural and Built Environment Bill and the Spatial Planning Bill, citing uncertainty, concentration of power, lack of local engagement, unclear objectives, erosion of democratic principles, and negative impacts on long-term operations and investment.\n",
      "\n"
     ]
    },
    {
     "data": {
      "text/html": [
       "<a href=https:////////www.parliament.nz////resource////en-NZ////53SCEN_EVI_129831_EN15593////de65fa2581057e20e57ba0b8c7619f80f8de37e9>Read the full submission</a>"
      ],
      "text/plain": [
       "<IPython.core.display.HTML object>"
      ]
     },
     "metadata": {},
     "output_type": "display_data"
    },
    {
     "data": {
      "text/html": [
       "<b>Auckland District Law Society – Submission</b>"
      ],
      "text/plain": [
       "<IPython.core.display.HTML object>"
      ]
     },
     "metadata": {},
     "output_type": "display_data"
    },
    {
     "name": "stdout",
     "output_type": "stream",
     "text": [
      "The Auckland District Law Society (ADLS) has submitted feedback on the Natural and Built Environment Bill and Spatial Planning Bill, highlighting concerns about their complexity, lack of development, and potential negative impacts on existing legal principles and processes, and recommending improvements to ensure they are efficient, simple, and workable.\n",
      "\n"
     ]
    },
    {
     "data": {
      "text/html": [
       "<a href=https:////////www.parliament.nz////resource////en-NZ////53SCEN_EVI_129831_EN15428////189cebc6955cc5feb0c5f09eec89cc7133c7e821>Read the full submission</a>"
      ],
      "text/plain": [
       "<IPython.core.display.HTML object>"
      ]
     },
     "metadata": {},
     "output_type": "display_data"
    },
    {
     "data": {
      "text/html": [
       "<b>Canterbury Mayoral Forum – Submission</b>"
      ],
      "text/plain": [
       "<IPython.core.display.HTML object>"
      ]
     },
     "metadata": {},
     "output_type": "display_data"
    },
    {
     "name": "stdout",
     "output_type": "stream",
     "text": [
      "The Canterbury Mayoral Forum supports the need for a new resource management system but calls for several amendments to the Natural and Built Environment Bill to address concerns about the plan making period, public participation, political interference, and other issues.\n",
      "\n"
     ]
    },
    {
     "data": {
      "text/html": [
       "<a href=https:////////www.parliament.nz////resource////en-NZ////53SCEN_EVI_129831_EN15432////f93d3280d3884bce2a9999094ee9603152829453>Read the full submission</a>"
      ],
      "text/plain": [
       "<IPython.core.display.HTML object>"
      ]
     },
     "metadata": {},
     "output_type": "display_data"
    },
    {
     "data": {
      "text/html": [
       "<b>New Zealand Sport Fishing Council Supp 2 – Submission</b>"
      ],
      "text/plain": [
       "<IPython.core.display.HTML object>"
      ]
     },
     "metadata": {},
     "output_type": "display_data"
    },
    {
     "name": "stdout",
     "output_type": "stream",
     "text": [
      "The New Zealand Sport Fishing Council opposes the overlapping jurisdiction between the Natural and Built Environment Bill and the Fisheries Act 1996, arguing that the management of fishing effects should be solely under the Fisheries Act, and that regional councils should focus on managing land-based pollution and other activities that affect the marine environment.\n",
      "\n"
     ]
    },
    {
     "data": {
      "text/html": [
       "<a href=https:////////www.parliament.nz////resource////en-NZ////53SCEN_EVI_129831_EN15870////f1413941feb30b6b72320ed035f792c121337661>Read the full submission</a>"
      ],
      "text/plain": [
       "<IPython.core.display.HTML object>"
      ]
     },
     "metadata": {},
     "output_type": "display_data"
    },
    {
     "data": {
      "text/html": [
       "<b>NZFOA – Submission</b>"
      ],
      "text/plain": [
       "<IPython.core.display.HTML object>"
      ]
     },
     "metadata": {},
     "output_type": "display_data"
    },
    {
     "name": "stdout",
     "output_type": "stream",
     "text": [
      "The New Zealand Forest Owners Association (FOA) has expressed concerns about the proposed reforms of New Zealand's environmental legislation, arguing that the new bills may set back the goals of sustainable and integrated management and lack balance between environmental protection and resource use goals.\n",
      "\n"
     ]
    },
    {
     "data": {
      "text/html": [
       "<a href=https:////////www.parliament.nz////resource////en-NZ////53SCEN_EVI_129831_EN15490////e4107c3608483cac3e6559aae11d06b794c9f382>Read the full submission</a>"
      ],
      "text/plain": [
       "<IPython.core.display.HTML object>"
      ]
     },
     "metadata": {},
     "output_type": "display_data"
    },
    {
     "data": {
      "text/html": [
       "<b>DairyNZ – Submission</b>"
      ],
      "text/plain": [
       "<IPython.core.display.HTML object>"
      ]
     },
     "metadata": {},
     "output_type": "display_data"
    },
    {
     "name": "stdout",
     "output_type": "stream",
     "text": [
      "DairyNZ opposes the Natural and Built Environment Bill (NBEA) due to concerns about its complexity, lack of detail, and potential negative impacts on dairy farmers and the environment.\n",
      "\n"
     ]
    },
    {
     "data": {
      "text/html": [
       "<a href=https:////////www.parliament.nz////resource////en-NZ////53SCEN_EVI_129831_EN15585////2576d01acead640a280cd125e44c748095011bee>Read the full submission</a>"
      ],
      "text/plain": [
       "<IPython.core.display.HTML object>"
      ]
     },
     "metadata": {},
     "output_type": "display_data"
    },
    {
     "data": {
      "text/html": [
       "<b>Ministry of the Environment (Indicative purpose drafting - NBE Bill - 31 March) – Official advice</b>"
      ],
      "text/plain": [
       "<IPython.core.display.HTML object>"
      ]
     },
     "metadata": {},
     "output_type": "display_data"
    },
    {
     "name": "stdout",
     "output_type": "stream",
     "text": [
      "The briefing outlines the purpose and means of an Act that aims to protect the natural environment and promote the well-being of present and future generations through various measures such as setting targets, applying decision-making principles, and protecting important areas.\n",
      "\n"
     ]
    },
    {
     "data": {
      "text/html": [
       "<a href=https:////////www.parliament.nz////resource////en-NZ////53SCEN_ADV_129831_EN16773////f1bb2b95802b49dbd8afdbd2484e0704f27e68b7>Read the full submission</a>"
      ],
      "text/plain": [
       "<IPython.core.display.HTML object>"
      ]
     },
     "metadata": {},
     "output_type": "display_data"
    },
    {
     "data": {
      "text/html": [
       "<b>New Zealand Sport Fishing Council Supp 1 – Submission</b>"
      ],
      "text/plain": [
       "<IPython.core.display.HTML object>"
      ]
     },
     "metadata": {},
     "output_type": "display_data"
    },
    {
     "name": "stdout",
     "output_type": "stream",
     "text": [
      "Andrew Johnson argues that the management of fishing should remain under the Fisheries Act 1996, as regional councils lack the competency and capacity to effectively manage fisheries resources and should focus on preventing habitat loss resulting from land use.\n",
      "\n"
     ]
    },
    {
     "data": {
      "text/html": [
       "<a href=https:////////www.parliament.nz////resource////en-NZ////53SCEN_EVI_129831_EN15869////4987af4b6a0bdb8270d38b4ac9c95bddc9ef9c06>Read the full submission</a>"
      ],
      "text/plain": [
       "<IPython.core.display.HTML object>"
      ]
     },
     "metadata": {},
     "output_type": "display_data"
    },
    {
     "data": {
      "text/html": [
       "<b>Te Arawa River Iwi Trust – Submission</b>"
      ],
      "text/plain": [
       "<IPython.core.display.HTML object>"
      ]
     },
     "metadata": {},
     "output_type": "display_data"
    },
    {
     "name": "stdout",
     "output_type": "stream",
     "text": [
      "The Te Arawa River Iwi Trust has submitted a response to the Environment Select Committee on the Natural and Built Environment Bill and Spatial Planning Bill, raising concerns about the failure to uphold Treaty settlements, the lack of time given for reform, the need for recognition of iwi and hapuu rights and interests in freshwater, and the appointment process for Regional Planning Committees.\n",
      "\n"
     ]
    },
    {
     "data": {
      "text/html": [
       "<a href=https:////////www.parliament.nz////resource////en-NZ////53SCEN_EVI_129831_EN15317////0133e9c2ecc5a9af1e96b9a04fe4241c5f662373>Read the full submission</a>"
      ],
      "text/plain": [
       "<IPython.core.display.HTML object>"
      ]
     },
     "metadata": {},
     "output_type": "display_data"
    },
    {
     "data": {
      "text/html": [
       "<b>Opuha Water Limited Supp 1 – Submission</b>"
      ],
      "text/plain": [
       "<IPython.core.display.HTML object>"
      ]
     },
     "metadata": {},
     "output_type": "display_data"
    },
    {
     "name": "stdout",
     "output_type": "stream",
     "text": [
      "The proposed bill's short consent timeframes for water storage and distribution infrastructure pose a threat to Opuha Water Ltd's ability to maintain and enhance their assets, making it difficult to obtain funding for future capital expenditure and forcing the company to make difficult decisions about infrastructure maintenance and environmental programs.\n",
      "\n"
     ]
    },
    {
     "data": {
      "text/html": [
       "<a href=https:////////www.parliament.nz////resource////en-NZ////53SCEN_EVI_129831_EN15909////1b5569f42b68f48fdecb83961c1bcbcae1f1a7f8>Read the full submission</a>"
      ],
      "text/plain": [
       "<IPython.core.display.HTML object>"
      ]
     },
     "metadata": {},
     "output_type": "display_data"
    },
    {
     "data": {
      "text/html": [
       "<b>New Zealand Winegrowers – Submission</b>"
      ],
      "text/plain": [
       "<IPython.core.display.HTML object>"
      ]
     },
     "metadata": {},
     "output_type": "display_data"
    },
    {
     "name": "stdout",
     "output_type": "stream",
     "text": [
      "The New Zealand Winegrowers (NZW) has raised concerns about the proposed Natural and Built Environment Bill and Spatial Planning Bill, arguing that they lack clarity, may result in a costly and uncertain system, and do not adequately consider economic and social development.\n",
      "\n"
     ]
    },
    {
     "data": {
      "text/html": [
       "<a href=https:////////www.parliament.nz////resource////en-NZ////53SCEN_EVI_129831_EN15487////302f690972ee45c389a3fcecd0c1a9dd4f3e8a1c>Read the full submission</a>"
      ],
      "text/plain": [
       "<IPython.core.display.HTML object>"
      ]
     },
     "metadata": {},
     "output_type": "display_data"
    },
    {
     "data": {
      "text/html": [
       "<b>LGNZ – Submission</b>"
      ],
      "text/plain": [
       "<IPython.core.display.HTML object>"
      ]
     },
     "metadata": {},
     "output_type": "display_data"
    },
    {
     "name": "stdout",
     "output_type": "stream",
     "text": [
      "The submission expresses concerns about proposed bills in New Zealand related to natural and built environments and spatial planning, highlighting issues such as loss of local voice, limited council input, complex arrangements for Regional Planning Committees, potential costs and legal issues, lack of funding, misalignment with other reforms, lack of direction on transition and implementation, and the need for stronger local government involvement, and recommends amendments to address these concerns and improve the system.\n",
      "\n"
     ]
    },
    {
     "data": {
      "text/html": [
       "<a href=https:////////www.parliament.nz////resource////en-NZ////53SCEN_EVI_129831_EN15478////67211f6f41f1f09cc1f4ada969ea3cd85d686f61>Read the full submission</a>"
      ],
      "text/plain": [
       "<IPython.core.display.HTML object>"
      ]
     },
     "metadata": {},
     "output_type": "display_data"
    },
    {
     "data": {
      "text/html": [
       "<b>Kevin Moran Supp 1 – Submission</b>"
      ],
      "text/plain": [
       "<IPython.core.display.HTML object>"
      ]
     },
     "metadata": {},
     "output_type": "display_data"
    },
    {
     "name": "stdout",
     "output_type": "stream",
     "text": [
      "The submission argues for the protection of Te Waikoropupū Springs in New Zealand based on its spiritual significance and the public support for its preservation.\n",
      "\n"
     ]
    },
    {
     "data": {
      "text/html": [
       "<a href=https:////////www.parliament.nz////resource////en-NZ////53SCEN_EVI_129831_EN15877////aff6ae1fcb5bf4574188d17185662ffa6149c391>Read the full submission</a>"
      ],
      "text/plain": [
       "<IPython.core.display.HTML object>"
      ]
     },
     "metadata": {},
     "output_type": "display_data"
    },
    {
     "data": {
      "text/html": [
       "<b>Straterra – Submission</b>"
      ],
      "text/plain": [
       "<IPython.core.display.HTML object>"
      ]
     },
     "metadata": {},
     "output_type": "display_data"
    },
    {
     "name": "stdout",
     "output_type": "stream",
     "text": [
      "Straterra, an industry association representing the New Zealand minerals and mining sector, opposes the Natural and Built Environment (NBE) and Spatial Planning (SP) Bills due to unresolved issues, flaws, and concerns about the proposed system's reliance on political solutions, arguing that the existing Resource Management Act (RMA) is better suited for managing conflicts between the environment and economic development.\n",
      "\n"
     ]
    },
    {
     "data": {
      "text/html": [
       "<a href=https:////////www.parliament.nz////resource////en-NZ////53SCEN_EVI_129831_EN15319////fde173b2ff6dcfdae7d135f89682cb3423ebefae>Read the full submission</a>"
      ],
      "text/plain": [
       "<IPython.core.display.HTML object>"
      ]
     },
     "metadata": {},
     "output_type": "display_data"
    },
    {
     "data": {
      "text/html": [
       "<b>New Zealand Institute of Landscape Architects Tuia Pito Ora Supp 1 – Submission</b>"
      ],
      "text/plain": [
       "<IPython.core.display.HTML object>"
      ]
     },
     "metadata": {},
     "output_type": "display_data"
    },
    {
     "name": "stdout",
     "output_type": "stream",
     "text": [
      "The NZILA supports the Natural and Built Environment Bill, emphasizing the significance of the relationship between well-being and place, and advocating for system outcomes that recognize and contribute to the identity and well-being of communities.\n",
      "\n"
     ]
    },
    {
     "data": {
      "text/html": [
       "<a href=https:////////www.parliament.nz////resource////en-NZ////53SCEN_EVI_129831_EN15480////6ae25fad68bf6fb865939b83f79a44fbaecabe9d>Read the full submission</a>"
      ],
      "text/plain": [
       "<IPython.core.display.HTML object>"
      ]
     },
     "metadata": {},
     "output_type": "display_data"
    },
    {
     "data": {
      "text/html": [
       "<b>Waimakariri District Council – Submission</b>"
      ],
      "text/plain": [
       "<IPython.core.display.HTML object>"
      ]
     },
     "metadata": {},
     "output_type": "display_data"
    },
    {
     "name": "stdout",
     "output_type": "stream",
     "text": [
      "The Waimakariri District Council supports the need for resource management system reform but has concerns about the current form of the Natural and Built Environment Bill (NBE Bill) and the Spatial Planning Bill (SP Bill), arguing that they may not achieve the government's objectives and could result in the loss of local knowledge and decision-making.\n",
      "\n"
     ]
    },
    {
     "data": {
      "text/html": [
       "<a href=https:////////www.parliament.nz////resource////en-NZ////53SCEN_EVI_129831_EN15622////a1ff21dc7c0f321df04d36210929efac1237d1c3>Read the full submission</a>"
      ],
      "text/plain": [
       "<IPython.core.display.HTML object>"
      ]
     },
     "metadata": {},
     "output_type": "display_data"
    },
    {
     "data": {
      "text/html": [
       "<b>Gore District Council – Submission</b>"
      ],
      "text/plain": [
       "<IPython.core.display.HTML object>"
      ]
     },
     "metadata": {},
     "output_type": "display_data"
    },
    {
     "name": "stdout",
     "output_type": "stream",
     "text": [
      "The Gore District Council has submitted a response to proposed resource management legislation, expressing concerns about the lack of clear definitions, ambiguity in existing use rights provisions, uncertainty surrounding the National Planning Framework, and the accountability and transparency of the Regional Planning Committee and Independent Hearings Panel.\n",
      "\n"
     ]
    },
    {
     "data": {
      "text/html": [
       "<a href=https:////////www.parliament.nz////resource////en-NZ////53SCEN_EVI_129831_EN15603////751e417031fe0745d2dc33bc9b153fe04d27ae39>Read the full submission</a>"
      ],
      "text/plain": [
       "<IPython.core.display.HTML object>"
      ]
     },
     "metadata": {},
     "output_type": "display_data"
    },
    {
     "data": {
      "text/html": [
       "<b>Opuha Water Limited – Submission</b>"
      ],
      "text/plain": [
       "<IPython.core.display.HTML object>"
      ]
     },
     "metadata": {},
     "output_type": "display_data"
    },
    {
     "name": "stdout",
     "output_type": "stream",
     "text": [
      "OWL has raised concerns about the Natural and Built Environments Bill, arguing that it is a regression from the Resource Management Act and lacks clear direction, reduces public participation, and creates uncertainty for existing water infrastructure investment, while also highlighting specific concerns about water shortage directions, definitions, and existing use rights.\n",
      "\n"
     ]
    },
    {
     "data": {
      "text/html": [
       "<a href=https:////////www.parliament.nz////resource////en-NZ////53SCEN_EVI_129831_EN15831////bf2035eebb98aa9ff6a5b5621c2c5fd34ed6ff20>Read the full submission</a>"
      ],
      "text/plain": [
       "<IPython.core.display.HTML object>"
      ]
     },
     "metadata": {},
     "output_type": "display_data"
    },
    {
     "data": {
      "text/html": [
       "<b>Energy Resources Aotearoa – Submission</b>"
      ],
      "text/plain": [
       "<IPython.core.display.HTML object>"
      ]
     },
     "metadata": {},
     "output_type": "display_data"
    },
    {
     "name": "stdout",
     "output_type": "stream",
     "text": [
      "Energy Resources Aotearoa has submitted a response to the Natural and Built Environment Bill 2022, expressing concerns about its complexity, lack of clarity, erosion of property rights, and flawed approach to setting environmental limits, while recommending clear outcomes and decision-making principles, the use of the New Zealand Emissions Trading Scheme for controlling greenhouse gas emissions, an independent body for setting and reviewing environmental limits, a lifecycle approach to resource use, the inclusion of transitional provisions, the depoliticization of decision-making\n",
      "\n"
     ]
    },
    {
     "data": {
      "text/html": [
       "<a href=https:////////www.parliament.nz////resource////en-NZ////53SCEN_EVI_129831_EN15441////98e4610c0b34840d01bd8fb08b0650cb122fec33>Read the full submission</a>"
      ],
      "text/plain": [
       "<IPython.core.display.HTML object>"
      ]
     },
     "metadata": {},
     "output_type": "display_data"
    },
    {
     "data": {
      "text/html": [
       "<b>Paua Industry Council Supp 1 – Submission</b>"
      ],
      "text/plain": [
       "<IPython.core.display.HTML object>"
      ]
     },
     "metadata": {},
     "output_type": "display_data"
    },
    {
     "name": "stdout",
     "output_type": "stream",
     "text": [
      "The submission argues against regional councils having control over fishing for biodiversity protection, citing potential negative impacts on the Crown's obligations, fisheries management, stakeholders, and practical implementation.\n",
      "\n"
     ]
    },
    {
     "data": {
      "text/html": [
       "<a href=https:////////www.parliament.nz////resource////en-NZ////53SCEN_EVI_129831_EN15892////ee67d17d149d7d1378e19fee52d36d30a9f6c145>Read the full submission</a>"
      ],
      "text/plain": [
       "<IPython.core.display.HTML object>"
      ]
     },
     "metadata": {},
     "output_type": "display_data"
    },
    {
     "data": {
      "text/html": [
       "<b>Te Ihu o te Waka o Te Arawa and Te Kāhui Mana Whenua o Tauranga Moana – Submission</b>"
      ],
      "text/plain": [
       "<IPython.core.display.HTML object>"
      ]
     },
     "metadata": {},
     "output_type": "display_data"
    },
    {
     "name": "stdout",
     "output_type": "stream",
     "text": [
      "The submission by Te Ihu o Te Waka o Te Arawa and Te Kāhui Mana Whenua o Tauranga Moana raises concerns about the Natural and Built Environment Bill and Spatial Planning Bill, including insufficient time for consideration, failure to meet stated aims, lack of recognition of Te Oranga o te Taiao, failure to address iwi and hapū rights in freshwater, upholding Te Tiriti o Waitangi settlements, upholding existing arrangements under the RMA\n",
      "\n"
     ]
    },
    {
     "data": {
      "text/html": [
       "<a href=https:////////www.parliament.nz////resource////en-NZ////53SCEN_EVI_129831_EN15611////da299d7c3ab851eb6f280c82751531a3ca55a5da>Read the full submission</a>"
      ],
      "text/plain": [
       "<IPython.core.display.HTML object>"
      ]
     },
     "metadata": {},
     "output_type": "display_data"
    },
    {
     "data": {
      "text/html": [
       "<b>Hamilton City Council – Submission</b>"
      ],
      "text/plain": [
       "<IPython.core.display.HTML object>"
      ]
     },
     "metadata": {},
     "output_type": "display_data"
    },
    {
     "name": "stdout",
     "output_type": "stream",
     "text": [
      "The Hamilton City Council opposes the Natural and Built Environment Bill due to its flaws and argues for amendments to address these issues and ensure proper representation and accountability in decision-making processes.\n",
      "\n"
     ]
    },
    {
     "data": {
      "text/html": [
       "<a href=https:////////www.parliament.nz////resource////en-NZ////53SCEN_EVI_129831_EN15579////62c299e7a1478bd75cd79c81c86465f2c1f2782e>Read the full submission</a>"
      ],
      "text/plain": [
       "<IPython.core.display.HTML object>"
      ]
     },
     "metadata": {},
     "output_type": "display_data"
    },
    {
     "data": {
      "text/html": [
       "<b>Te Arawa Lakes Trust Supp 1 – Submission</b>"
      ],
      "text/plain": [
       "<IPython.core.display.HTML object>"
      ]
     },
     "metadata": {},
     "output_type": "display_data"
    },
    {
     "name": "stdout",
     "output_type": "stream",
     "text": [
      "The Te Arawa Lakes Trust argues that the Natural and Built Environment and Spatial Planning Bills do not adequately represent the principles of Te Tiriti and fail to uphold the integrity of the Te Arawa Lakes Trust - Te Tiriti Settlement, proposing solutions such as elevating Te Oranga o te Taiao in the purpose and implementation mechanisms of the Bills and giving more agency to the Statutory Acknowledgement holder.\n",
      "\n"
     ]
    },
    {
     "data": {
      "text/html": [
       "<a href=https:////////www.parliament.nz////resource////en-NZ////53SCEN_EVI_129831_EN16124////816fda316935aef0eb4b6cbbf05de427c63875a2>Read the full submission</a>"
      ],
      "text/plain": [
       "<IPython.core.display.HTML object>"
      ]
     },
     "metadata": {},
     "output_type": "display_data"
    },
    {
     "data": {
      "text/html": [
       "<b>New Zealand Game Animal Council Supp 4 – Submission</b>"
      ],
      "text/plain": [
       "<IPython.core.display.HTML object>"
      ]
     },
     "metadata": {},
     "output_type": "display_data"
    },
    {
     "name": "stdout",
     "output_type": "stream",
     "text": [
      "Successful marine protected areas (MPAs) require a governance strategy that balances conservation goals with the interests of different stakeholders, such as the fishery and tourism sectors, as demonstrated by the case of the Torre Guaceto MPA in south-east Italy.\n",
      "\n"
     ]
    },
    {
     "data": {
      "text/html": [
       "<a href=https:////////www.parliament.nz////resource////en-NZ////53SCEN_EVI_129831_EN15935////235fee8bd1cc44cd76796b36073097bfe7c2acbd>Read the full submission</a>"
      ],
      "text/plain": [
       "<IPython.core.display.HTML object>"
      ]
     },
     "metadata": {},
     "output_type": "display_data"
    },
    {
     "data": {
      "text/html": [
       "<b>Herenga a Nuku Aotearoa, the Outdoor Access Commission Supp 2 – Submission</b>"
      ],
      "text/plain": [
       "<IPython.core.display.HTML object>"
      ]
     },
     "metadata": {},
     "output_type": "display_data"
    },
    {
     "name": "stdout",
     "output_type": "stream",
     "text": [
      "The submission lacks any substantive content or analysis regarding the bill.\n",
      "\n"
     ]
    },
    {
     "data": {
      "text/html": [
       "<a href=https:////////www.parliament.nz////resource////en-NZ////53SCEN_EVI_129831_EN16117////820f79b97ea43886db6b72e2fc679c50e4f1e312>Read the full submission</a>"
      ],
      "text/plain": [
       "<IPython.core.display.HTML object>"
      ]
     },
     "metadata": {},
     "output_type": "display_data"
    },
    {
     "data": {
      "text/html": [
       "<b>Irrigation NZ Supp 5 – Submission</b>"
      ],
      "text/plain": [
       "<IPython.core.display.HTML object>"
      ]
     },
     "metadata": {},
     "output_type": "display_data"
    },
    {
     "name": "stdout",
     "output_type": "stream",
     "text": [
      "The submission lacks specific information or arguments regarding the bill.\n",
      "\n"
     ]
    },
    {
     "data": {
      "text/html": [
       "<a href=https:////////www.parliament.nz////resource////en-NZ////53SCEN_EVI_129831_EN15834////c9b8c3c5b60c7928dc0d3a0beb78c872a84465ff>Read the full submission</a>"
      ],
      "text/plain": [
       "<IPython.core.display.HTML object>"
      ]
     },
     "metadata": {},
     "output_type": "display_data"
    }
   ],
   "source": [
    "display(HTML(f\"<h2>We can summarise every single submission and piece of official advice<h2>\"))\n",
    "\n",
    "display(HTML(f\"<h3>One sentence summaries of submissions sorted from least to most 'positive' (ie most critical submissions shown first)<h3>\"))\n",
    "df = df[df['short_sum'].str.startswith(\"This document does not\") == False]\n",
    "df = df[df['short_sum'].str.startswith(\"The document does not\") == False]\n",
    "df = df[df['short_sum'].str.startswith(\"Sorry\") == False]\n",
    "\n",
    "#ind_sub = sb[sb.entity_label == \"person or persons\"]\n",
    "df = df.sort_values(by=\"sentiment\")\n",
    "for row in df.iterrows():\n",
    "        name = (f\"<b>{row[1].Name} – {row[1].doc_type}</b>\")\n",
    "        display(HTML(name))\n",
    "        print (row[1].short_sum+\"\\n\")\n",
    "        hyperlink = (f\"<a href={row[1].submission_url}>Read the full submission</a>\")\n",
    "        \n",
    "        display(HTML(hyperlink))"
   ]
  },
  {
   "cell_type": "code",
   "execution_count": 30,
   "id": "ac536cd6-5df4-4259-890a-6b47a11bb77a",
   "metadata": {
    "collapsed": true,
    "jupyter": {
     "outputs_hidden": true
    },
    "tags": []
   },
   "outputs": [
    {
     "data": {
      "text/html": [
       "<h3>Paragraph-length summaries</h3>"
      ],
      "text/plain": [
       "<IPython.core.display.HTML object>"
      ]
     },
     "metadata": {},
     "output_type": "display_data"
    },
    {
     "data": {
      "text/html": [
       "<b>PCE (Comment on departmental report - tranches 3A, 3B, and 4) – Official advice</b>"
      ],
      "text/plain": [
       "<IPython.core.display.HTML object>"
      ]
     },
     "metadata": {},
     "output_type": "display_data"
    },
    {
     "name": "stdout",
     "output_type": "stream",
     "text": [
      "The main recommendation in this briefing is to make various amendments to the Natural and Built Environment Bill. Some of the key recommendations include:\n",
      "\n",
      "- Changing the wording in the purpose and scope of natural and built environment plans to clarify their role in providing for the needs of communities.\n",
      "- Adding additional circumstances for when an NBE plan can be inconsistent with a Regional Spatial Strategy (RSS).\n",
      "- Deleting clause 99, which deals with conflict resolution, as it is redundant.\n",
      "- Clarifying the content of plans to include strategic outcomes and policies, as well as specifying how environmental limits and targets will be achieved.\n",
      "- Adding an additional matter to plans to identify the preferred state of the future environment.\n",
      "- Clarifying that plans must provide for plan outcomes, policies, rules, and other methods that enable local authorities to fulfill their responsibilities.\n",
      "- Including Te Oranga o te Taiao statements as a matter that Regional Planning Committees (RPCs) must have particular regard to.\n",
      "- Amending clause 108 to limit the consideration of scenic views to rural areas and state highways.\n",
      "- Clarifying that adaptive management approaches can be directed in plans.\n",
      "- Amending the content of evaluation reports to include how the system outcomes and decision-making principles have been provided for, as well as assessing the effectiveness of the proposal in achieving the system outcomes.\n",
      "- Making various amendments to the resource allocation principles, including changing the principle of 'sustainability' to 'environmental sustainability' and clarifying their application.\n",
      "- Clarifying the application of resource allocation principles by the Minister and RPCs.\n",
      "- Amending rules relating to allocation methods for certain resources, including excluding greenhouse gas discharges from NBE plans and enabling plans to include allocation methods for all discharges of contaminants to freshwater other than nitrogen.\n",
      "- Clarifying the obligations of consent decision-makers in the affected application consenting process.\n",
      "- Proceeding with the establishment of the Freshwater Working Group to address freshwater allocation issues.\n",
      "- Amending provisions regarding consent duration to cover freshwater takes, diversions, and discharges.\n",
      "- Clarifying the ability to require or permit market-based allocation methods in NBE plans.\n",
      "- Increasing the maximum duration of affected resource consents to 5 years after allocation methods apply.\n",
      "- Making minor clarifications to directions regarding the review of consents and permits and conditions of resource consents.\n",
      "- Amending provisions regarding the use of adaptive management approaches in the National Planning Framework.\n",
      "- Making various amendments to the categorization of activities in resource consenting.\n",
      "\n",
      "Overall, the main recommendation is to make these\n",
      "\n"
     ]
    },
    {
     "data": {
      "text/html": [
       "<a href=https:////////www.parliament.nz////resource////en-NZ////53SCEN_ADV_129831_EN16932////e3793c5360d084e8d016d93766a8a18b8b2754d6>Read the full submission</a>"
      ],
      "text/plain": [
       "<IPython.core.display.HTML object>"
      ]
     },
     "metadata": {},
     "output_type": "display_data"
    },
    {
     "data": {
      "text/html": [
       "<b>ICOMOS NZ Supp 1 – Submission</b>"
      ],
      "text/plain": [
       "<IPython.core.display.HTML object>"
      ]
     },
     "metadata": {},
     "output_type": "display_data"
    },
    {
     "name": "stdout",
     "output_type": "stream",
     "text": [
      "ICOMOS New Zealand, an international organization dedicated to the conservation of cultural heritage, has submitted a response to the Natural and Built Environments Bill and Spatial Planning Bill. The submission focuses on the effective conservation, management, and protection of New Zealand's cultural heritage. \n",
      "\n",
      "ICOMOS NZ supports many aspects of the bills, but highlights several areas of concern. In the Natural and Built Environments Bill, they suggest that the purpose should include stronger language to reinforce the move towards an outcome-based approach. They also argue for the inclusion of the built environment in the purpose, as it is currently omitted. They recommend that the system outcomes be prioritized and clearly framed as a hierarchy to avoid tradeoffs between different outcomes. \n",
      "\n",
      "Regarding the National Planning Framework, ICOMOS NZ supports the development of the framework but expresses reservations about the level of detail and clarity regarding the development of national direction for cultural and Maori heritage. They also raise concerns about the management of competing priorities and conflicts between outcomes. \n",
      "\n",
      "In terms of the Natural and Built Environment plan-making, ICOMOS NZ supports the provisions to identify and protect places of national importance but raises concerns about the limited coverage of cultural heritage and insufficient consideration of Maori heritage. They suggest extending the definition of \"specified cultural heritage\" to include Category 1 or equivalent places scheduled in NBE plans. \n",
      "\n",
      "In the Spatial Planning Bill, ICOMOS NZ supports the scope and content of Regional Spatial Strategies but suggests that the spatial emphasis on \"areas\" should also consider a wider range of cultural heritage considerations. They also express concerns about the level of external input and participation in the development and decision-making process, particularly for local communities and interest groups. They recommend providing greater opportunities for input and appeal rights in the process.\n",
      "\n"
     ]
    },
    {
     "data": {
      "text/html": [
       "<a href=https:////////www.parliament.nz////resource////en-NZ////53SCEN_EVI_129831_EN16158////8922826e4f70e32efd7c4b4b3f473f382465c053>Read the full submission</a>"
      ],
      "text/plain": [
       "<IPython.core.display.HTML object>"
      ]
     },
     "metadata": {},
     "output_type": "display_data"
    },
    {
     "data": {
      "text/html": [
       "<b>Ministry for the Environment (RM System Efficiency Working Group Report) – Official advice</b>"
      ],
      "text/plain": [
       "<IPython.core.display.HTML object>"
      ]
     },
     "metadata": {},
     "output_type": "display_data"
    },
    {
     "name": "stdout",
     "output_type": "stream",
     "text": [
      "The RM System Efficiency Working Group has released a report assessing plan making and consenting processes in the proposed resource management legislative regime. The main objective of the report is to improve system efficiency and effectiveness while retaining appropriate local democratic input. The report provides key findings and recommendations for improving efficiency in various aspects of the proposed legislation.\n",
      "\n",
      "The main recommendations include:\n",
      "1. Supporting regional spatial strategies (RSS) and ensuring decisions made during the RSS process are not revisited in later planning processes.\n",
      "2. Requiring the government to provide timely guidance on how to give effect to the principles of te Tiriti o Waitangi.\n",
      "3. Urgently developing clear process guidance for practitioners on how to give effect to the principles of te Tiriti o Waitangi.\n",
      "4. Defining new concepts and terms to assist short-term efficiency while planning practice and case law develop.\n",
      "5. Reducing the number of resource consents in the system and processing consents more quickly and predictably.\n",
      "6. Removing the Board of Inquiry option to reduce the number of consenting pathways.\n",
      "7. Clarifying the criteria for what constitutes a significant change in circumstances in relation to regional spatial strategies.\n",
      "8. Simplifying and combining the lists of parties to be consulted or notified during plan development.\n",
      "9. Removing the requirement to seek feedback on Major Regional Policy Issues and the need for a compliance-with-NPF report.\n",
      "10. Allowing evidence to be provided during a hearing rather than requiring it to be provided with primary submissions.\n",
      "11. Amending the role of the Environment Court to reduce costs and delays.\n",
      "\n",
      "Overall, the main recommendation is to streamline and simplify the plan making and consenting processes to improve efficiency and effectiveness in the resource management system.\n",
      "\n"
     ]
    },
    {
     "data": {
      "text/html": [
       "<a href=https:////////www.parliament.nz////resource////en-NZ////53SCEN_ADV_129831_EN16706////c40c52634ec2990178d0b635555de2b3a0ac83ff>Read the full submission</a>"
      ],
      "text/plain": [
       "<IPython.core.display.HTML object>"
      ]
     },
     "metadata": {},
     "output_type": "display_data"
    },
    {
     "data": {
      "text/html": [
       "<b>Fish and Game New Zealand – Submission</b>"
      ],
      "text/plain": [
       "<IPython.core.display.HTML object>"
      ]
     },
     "metadata": {},
     "output_type": "display_data"
    },
    {
     "name": "stdout",
     "output_type": "stream",
     "text": [
      "Fish & Game New Zealand has submitted a response to the consultation on the Natural and Built Environment Bill 2023. The organization, which manages freshwater sports fish, game birds, and their habitat, argues that the bill as drafted puts the future of New Zealand's freshwater resources at risk. They propose several amendments to the bill, including prioritizing the environment in the purpose of the bill, including recreational use and enjoyment in the system outcomes, and protecting the habitat of trout and salmon. They also recommend using the term \"ecosystem health\" instead of \"ecological integrity\" and ensuring that the limits and targets framework provides for a healthy environment. Fish & Game also emphasizes the importance of giving full effect to Te Tiriti/The Treaty of Waitangi in the bill. They conclude that the bill must prioritize the environment and ensure that development occurs within environmental limits.\n",
      "\n"
     ]
    },
    {
     "data": {
      "text/html": [
       "<a href=https:////////www.parliament.nz////resource////en-NZ////53SCEN_EVI_129831_EN15474////e889270bb00426fdc224252f21e42ed8922c13b8>Read the full submission</a>"
      ],
      "text/plain": [
       "<IPython.core.display.HTML object>"
      ]
     },
     "metadata": {},
     "output_type": "display_data"
    },
    {
     "data": {
      "text/html": [
       "<b>Te Ohu Kaimoana Supp 1 – Submission</b>"
      ],
      "text/plain": [
       "<IPython.core.display.HTML object>"
      ]
     },
     "metadata": {},
     "output_type": "display_data"
    },
    {
     "name": "stdout",
     "output_type": "stream",
     "text": [
      "Te Ohu Kaimoana, a Māori fisheries organization, has raised concerns about the current drafting of the Natural and Built Environment Bill and Spatial Planning Bill. They argue that the current drafting does not allow for the development of aquaculture, which is necessary to fulfill Māori settlements. They recommend amending the bills to provide for appropriate development and use of the coastal marine area and marine resources. They also argue that the Māori Fisheries and Aquaculture Settlements should be explicitly recognized in the bills. Te Ohu Kaimoana also calls for greater focus on terrestrial impacts on the coastal marine environment and for the implementation of the new regime to be consistent with the Treaty of Waitangi. They support greater opportunities for Māori engagement but emphasize the need for equal representation and adequate resourcing. They also express concerns about the National Māori Entity and the current drafting of Te Oranga o te Taiao.\n",
      "\n"
     ]
    },
    {
     "data": {
      "text/html": [
       "<a href=https:////////www.parliament.nz////resource////en-NZ////53SCEN_EVI_129831_EN16123////d0292bc3358fe1c388f5547662b88b95e8b9d70b>Read the full submission</a>"
      ],
      "text/plain": [
       "<IPython.core.display.HTML object>"
      ]
     },
     "metadata": {},
     "output_type": "display_data"
    },
    {
     "data": {
      "text/html": [
       "<b>Realnz Limited Supp 1 – Submission</b>"
      ],
      "text/plain": [
       "<IPython.core.display.HTML object>"
      ]
     },
     "metadata": {},
     "output_type": "display_data"
    },
    {
     "name": "stdout",
     "output_type": "stream",
     "text": [
      "Realnz Limited, a company operating in various areas of New Zealand, has expressed concerns about the Natural and Built Environment Bill and the Spatial Planning Bill. They support the recognition of enabling the 'use' and 'development' of the environment but argue that economic and social development should be explicitly listed as a system outcome. They also believe that key environmental concepts such as amenity values and the intrinsic value of ecosystems should not be discarded. \n",
      "\n",
      "Realnz is particularly concerned about the requirement to protect or restore outstanding natural features and landscapes, as they have interests in a large area of land in the Queenstown Lake District. They support the protection of these features but argue for a mechanism that allows for development in certain areas. \n",
      "\n",
      "They also raise concerns about the definition of infrastructure in the bill, as it does not adequately capture off-grid infrastructure in remote locations. They worry that reducing the number of plans from over 100 to 15 may not adequately tailor them to local values and conditions. \n",
      "\n",
      "Realnz is concerned about the consultation process and membership of regional planning committees, arguing that they may not take into account sector or commercial interests. They also express concerns about the wording of the bill regarding water take for snow making and the restriction on consent duration for certain activities. \n",
      "\n",
      "Finally, they argue that the threshold for protecting places of national importance is too high and may limit tourism activities in national parks. They emphasize the importance of maintaining the quality of the environment for their business and the wider tourism industry.\n",
      "\n"
     ]
    },
    {
     "data": {
      "text/html": [
       "<a href=https:////////www.parliament.nz////resource////en-NZ////53SCEN_EVI_129831_EN15499////ec3ba87b21429d5dbffbc5473b2b24cdc5c6170d>Read the full submission</a>"
      ],
      "text/plain": [
       "<IPython.core.display.HTML object>"
      ]
     },
     "metadata": {},
     "output_type": "display_data"
    },
    {
     "data": {
      "text/html": [
       "<b>New Zealand Law Society – Submission</b>"
      ],
      "text/plain": [
       "<IPython.core.display.HTML object>"
      ]
     },
     "metadata": {},
     "output_type": "display_data"
    },
    {
     "name": "stdout",
     "output_type": "stream",
     "text": [
      "The Law Society wants to have a say on the bills and is offering to arrange a suitable time for discussion. They provide contact information for their Law Reform and Advocacy Advisor. The submission is signed by the President, Frazer Barton.\n",
      "\n"
     ]
    },
    {
     "data": {
      "text/html": [
       "<a href=https:////////www.parliament.nz////resource////en-NZ////53SCEN_EVI_129831_EN15484////63cebdc73cb8b89dcc4f34b81b4d088d02032683>Read the full submission</a>"
      ],
      "text/plain": [
       "<IPython.core.display.HTML object>"
      ]
     },
     "metadata": {},
     "output_type": "display_data"
    },
    {
     "data": {
      "text/html": [
       "<b>Wellington Water Supp 2 – Submission</b>"
      ],
      "text/plain": [
       "<IPython.core.display.HTML object>"
      ]
     },
     "metadata": {},
     "output_type": "display_data"
    },
    {
     "name": "stdout",
     "output_type": "stream",
     "text": [
      "Wellington Water, a water infrastructure management company, supports the implementation of new legislation that integrates the management of the environment and land use planning. However, they are concerned about unintended consequences and the potential for an overly protectionist approach that could inhibit the ability of water infrastructure providers to deliver services and enhance the environment. They argue for clear and appropriate consenting pathways and protections for water infrastructure, alignment between legislation for water reform and resource management reform, exemptions from environmental limits for essential infrastructure, longer consent durations for operational activities, and increased involvement of water infrastructure providers in planning processes. They provide examples of the complexity of consenting processes, uncertainty in consenting for essential infrastructure, burdensome consent conditions, and the cost implications of reduced consent durations.\n",
      "\n"
     ]
    },
    {
     "data": {
      "text/html": [
       "<a href=https:////////www.parliament.nz////resource////en-NZ////53SCEN_EVI_129831_EN16778////a3bbeb204d9500fddbd3f9d5783221ef9b356f05>Read the full submission</a>"
      ],
      "text/plain": [
       "<IPython.core.display.HTML object>"
      ]
     },
     "metadata": {},
     "output_type": "display_data"
    },
    {
     "data": {
      "text/html": [
       "<b>Auckland Council – Submission</b>"
      ],
      "text/plain": [
       "<IPython.core.display.HTML object>"
      ]
     },
     "metadata": {},
     "output_type": "display_data"
    },
    {
     "name": "stdout",
     "output_type": "stream",
     "text": [
      "Auckland Council has submitted its views on the Natural and Built Environment Bill. The council supports the need for reform in the resource management system and the government's objectives for reform. However, it believes that the current draft of the bill is unlikely to meet these objectives and that significant changes are needed. The council opposes the reduced role for local government and the fragmentation of local governance proposed in the bill. It also raises concerns about the lack of focus on climate change in the bill and the potential negative impacts on local communities. The council supports a strong role for local government and local democratic input in the new system. It opposes the establishment of independent regional planning committees and suggests that the standing planning committee of a unitary authority should serve as the regional planning committee. The council also calls for clearer hierarchy of system outcomes, better recognition of te Tiriti o Waitangi, and improved governance principles and natural justice. It raises concerns about the funding and financing of infrastructure and suggests changes to the National Planning Framework. Overall, the council emphasizes the need for a system that actively meets the needs of current and future generations, addresses climate change, and restores and improves natural environments.\n",
      "\n"
     ]
    },
    {
     "data": {
      "text/html": [
       "<a href=https:////////www.parliament.nz////resource////en-NZ////53SCEN_EVI_129831_EN15802////987556295d715a9a10560f153c5e6767a7e01bc0>Read the full submission</a>"
      ],
      "text/plain": [
       "<IPython.core.display.HTML object>"
      ]
     },
     "metadata": {},
     "output_type": "display_data"
    },
    {
     "data": {
      "text/html": [
       "<b>Ministry for the Environment (Response to the Chief Justice's submission) – Official advice</b>"
      ],
      "text/plain": [
       "<IPython.core.display.HTML object>"
      ]
     },
     "metadata": {},
     "output_type": "display_data"
    },
    {
     "name": "stdout",
     "output_type": "stream",
     "text": [
      "This briefing responds to concerns raised by the Chief Justice regarding the Natural and Built Environment (NBE) Bill. The main recommendations are as follows:\n",
      "\n",
      "1. Clarify that certain clauses in the Bill do not apply to the courts, except when interpreting and applying the legislation or when the Environment Court is the primary decision maker.\n",
      "2. Exclude the courts from the procedural principles and best information provisions outlined in clauses 804 and 805.\n",
      "3. Apply judicial immunity provisions to current and former judges appointed as chairs of boards of inquiry and independent hearing panels.\n",
      "4. Extend the immunity provided to members of boards of inquiry for proposals of national significance to members of other boards and independent hearings panels.\n",
      "5. Amend the appeal process for fast-track consenting to align with the process for appeals for proposals of national significance.\n",
      "6. Address errors in the drafting of clauses 660 and 663 to ensure that the courts are not subject to monitoring by the National Māori Entity.\n",
      "7. Address concerns regarding compliance and enforcement issues in the NBE Bill departmental report.\n",
      "\n",
      "Overall, the main recommendation is to make amendments to the NBE Bill to address the concerns raised by the Chief Justice and ensure that the role and functions of the courts are appropriately defined and protected.\n",
      "\n"
     ]
    },
    {
     "data": {
      "text/html": [
       "<a href=https:////////www.parliament.nz////resource////en-NZ////53SCEN_ADV_129831_EN16916////3baf8ab92552e52e3ae759192af8363755b5a7a1>Read the full submission</a>"
      ],
      "text/plain": [
       "<IPython.core.display.HTML object>"
      ]
     },
     "metadata": {},
     "output_type": "display_data"
    },
    {
     "data": {
      "text/html": [
       "<b>Fletcher Building – Submission</b>"
      ],
      "text/plain": [
       "<IPython.core.display.HTML object>"
      ]
     },
     "metadata": {},
     "output_type": "display_data"
    },
    {
     "name": "stdout",
     "output_type": "stream",
     "text": [
      "Fletcher Building Limited has submitted to the Environment Committee on the Natural and Built Environment Bill. The company operates in various sectors including manufacturing, construction, and infrastructure projects. They express concerns about the current regulatory processes, including time delays and complexity, which add substantial costs to residential and business developments. They also highlight issues with the funding and financing of infrastructure, which has led to increased house prices and unaffordability. Fletcher Building supports some aspects of the bill but believes that further work is needed to ensure it delivers a transformational step-change from the current system. They raise concerns about the balance between protecting the natural environment and promoting use and development, the role of iwi/Māori, the setting of limits and targets, and the notification provisions. They also support the development of the National Planning Framework but call for checks and balances to ensure local participation and input. Fletcher Building supports the concept of natural and built environment plans but is concerned about the size of the planning committees and the lack of mandatory consultation with infrastructure providers. They also express concerns about the resource consenting process, including the classification of activities, notification decisions, and the duration of consents. Fletcher Building supports the inclusion of a fast-track consenting process but suggests that the panel should have the ability to deviate from the requirements of the NPF or relevant plan.\n",
      "\n"
     ]
    },
    {
     "data": {
      "text/html": [
       "<a href=https:////////www.parliament.nz////resource////en-NZ////53SCEN_EVI_129831_EN15443////2d4e082c213d841d2c6ce270ea4994cb21d4d204>Read the full submission</a>"
      ],
      "text/plain": [
       "<IPython.core.display.HTML object>"
      ]
     },
     "metadata": {},
     "output_type": "display_data"
    },
    {
     "data": {
      "text/html": [
       "<b>Irrigation NZ Supp 1 – Submission</b>"
      ],
      "text/plain": [
       "<IPython.core.display.HTML object>"
      ]
     },
     "metadata": {},
     "output_type": "display_data"
    },
    {
     "name": "stdout",
     "output_type": "stream",
     "text": [
      "The main argument against the NBE Bill in this submission is that it creates significant investment uncertainty for the Amuri Irrigation Company (AIC) and farmers. The AIC has existing debt and planned future investments that will be debt funded, and the amortization of this debt over 30 years makes it affordable for current and future generations of farmers. Short-term consents and the failure to recognize existing investments upon consent renewal are seen as impediments to funding long-life infrastructure. The submission argues that the NBE Bill, as drafted, creates a barrier for AIC to adapt to climate change and improve water quality. The submission also highlights the investments made by AIC in irrigation schemes, water storage, renewable energy, and environmental mitigations, emphasizing the importance of these investments for the future of agribusinesses and a healthy environment.\n",
      "\n"
     ]
    },
    {
     "data": {
      "text/html": [
       "<a href=https:////////www.parliament.nz////resource////en-NZ////53SCEN_EVI_129831_EN15838////f364451e11194e5689330e602f1e3a1d14a80471>Read the full submission</a>"
      ],
      "text/plain": [
       "<IPython.core.display.HTML object>"
      ]
     },
     "metadata": {},
     "output_type": "display_data"
    },
    {
     "data": {
      "text/html": [
       "<b>Ministry for the Environment (Table to assist with DR Navigation on Monday 3 April) – Official advice</b>"
      ],
      "text/plain": [
       "<IPython.core.display.HTML object>"
      ]
     },
     "metadata": {},
     "output_type": "display_data"
    },
    {
     "name": "stdout",
     "output_type": "stream",
     "text": [
      "The main recommendation is to proceed with the proposed changes to the process for making a proposed plan or plan change operative. This includes recommendations such as publicly notifying the date on which the proposed plan or plan change becomes operative, clarifying the role of the Resource Management Planning Committee (RPC), and requiring notification that a plan or plan change is operative on the RPC internet site and to relevant local authorities. Other recommendations include clarifying the process for making a proposed plan or plan change operative, allowing for the removal of scheduled items from a plan, and clarifying the components of a proportionate plan change process.\n",
      "\n"
     ]
    },
    {
     "data": {
      "text/html": [
       "<a href=https:////////www.parliament.nz////resource////en-NZ////53SCEN_ADV_129831_EN16772////7634afaeeb7ce2d5543c75ca80f995244c9d40bf>Read the full submission</a>"
      ],
      "text/plain": [
       "<IPython.core.display.HTML object>"
      ]
     },
     "metadata": {},
     "output_type": "display_data"
    },
    {
     "data": {
      "text/html": [
       "<b>Ministry for the Environment (Additional content for consideration - EMF and PNI) – Official advice</b>"
      ],
      "text/plain": [
       "<IPython.core.display.HTML object>"
      ]
     },
     "metadata": {},
     "output_type": "display_data"
    },
    {
     "name": "stdout",
     "output_type": "stream",
     "text": [
      "The main recommendation in this briefing is to make several amendments to the provisions related to Places of National Importance (PNIs) in the National Planning Framework. These recommendations include rewording the provision on geothermal significant biodiversity areas, including express reference to renewable energy and electrification in the provision on activities contributing to climate outcomes, rewording the provision on the national grid to include maintenance, access tracks, and tree clearance, rewording the provision on activities managed under other legislation to ensure a similar level of protection, clarifying that activities that are part of a nationally significant network can be exempted, adding a provision on fishing activities to ensure avoidance, remediation, or mitigation of adverse effects, and adding a consultation requirement for fishing activities.\n",
      "\n"
     ]
    },
    {
     "data": {
      "text/html": [
       "<a href=https:////////www.parliament.nz////resource////en-NZ////53SCEN_ADV_129831_EN17000////146b41f5798adadb57e36ccbd3e5746c3bfdf570>Read the full submission</a>"
      ],
      "text/plain": [
       "<IPython.core.display.HTML object>"
      ]
     },
     "metadata": {},
     "output_type": "display_data"
    },
    {
     "data": {
      "text/html": [
       "<b>Hamilton City Council Supp3 – Submission</b>"
      ],
      "text/plain": [
       "<IPython.core.display.HTML object>"
      ]
     },
     "metadata": {},
     "output_type": "display_data"
    },
    {
     "name": "stdout",
     "output_type": "stream",
     "text": [
      "The submission discusses the opportunities and risks for existing Urban Growth partnerships, such as Future Proof, in light of the legislative reform process. The strengths of Future Proof that should be retained include the optimal number and mix of agencies involved, the participation of central government agencies, a focus on key issues, a collaborative culture, a flexible and adaptive approach, and a strong evidence base. The weaknesses that could be addressed through reform include the uncertain legal status of non-statutory growth strategies, the lack of certainty of investment in implementation, the need to strengthen the voice of iwi and hapuu in spatial planning, low awareness of the role of spatial strategies, and an inefficient process for adoption of strategies by partners. The reform process presents opportunities to reinforce and embed the positive aspects of the Future Proof model, allow for sub-regional spatial plans, develop implementation agreements, and strengthen the role of iwi and hapuu in planning processes. However, there are also threats, such as the potential weakening of the role of local authorities in spatial planning and urban growth partnerships.\n",
      "\n"
     ]
    },
    {
     "data": {
      "text/html": [
       "<a href=https:////////www.parliament.nz////resource////en-NZ////53SCEN_EVI_129831_EN16152////b5de381ffd42fa1eb94bfa34a89fd87b0e84b1d5>Read the full submission</a>"
      ],
      "text/plain": [
       "<IPython.core.display.HTML object>"
      ]
     },
     "metadata": {},
     "output_type": "display_data"
    },
    {
     "data": {
      "text/html": [
       "<b>New Zealand Law Society Supp 1 – Submission</b>"
      ],
      "text/plain": [
       "<IPython.core.display.HTML object>"
      ]
     },
     "metadata": {},
     "output_type": "display_data"
    },
    {
     "name": "stdout",
     "output_type": "stream",
     "text": [
      "The submission provides a clause-by-clause analysis of the Natural and Built Environment Bill, highlighting areas where amendments or clarifications are needed. Some of the main arguments include:\n",
      "\n",
      "1. Rewording clauses to clarify compliance with environmental limits and targets.\n",
      "2. Adding qualifiers to ensure appropriate management of adverse effects.\n",
      "3. Considering whether system outcomes and decision-making principles should apply to all decisions made under the Bill, not just at the plan-making stage.\n",
      "4. Providing further guidance and definitions for terms such as \"mana,\" \"mauri,\" \"kawa,\" and \"mātauranga.\"\n",
      "5. Amending the system outcomes to ensure consistency and inclusion of coastal marine areas and infrastructure.\n",
      "6. Clarifying the threshold for acceptable effects and the definition of \"adverse effect.\"\n",
      "7. Providing clearer descriptions for allocation methods and consent authorities.\n",
      "8. Clarifying the definitions and boundaries of cultural landscapes and ecosystems.\n",
      "9. Clarifying the relationship between the NPF and bylaws.\n",
      "10. Ensuring transitional provisions and a clear roadmap for the transition from RMA plans to natural and built environment plans.\n",
      "11. Directing regional planning committees to resolve system outcome conflicts in the natural and built environment plan.\n",
      "12. Reconsidering the requirement for a regional planning committee in regions with unitary authorities.\n",
      "13. Amending the requirements for plans to achieve environmental limits and targets.\n",
      "14. Qualifying the requirement to resolve conflicts to be practicable.\n",
      "15. Clarifying the assessment of competency for local authorities in plan-making.\n",
      "\n"
     ]
    },
    {
     "data": {
      "text/html": [
       "<a href=https:////////www.parliament.nz////resource////en-NZ////53SCEN_EVI_129831_EN15482////55a407ca93926adfeb5a3c065ef03a527849d541>Read the full submission</a>"
      ],
      "text/plain": [
       "<IPython.core.display.HTML object>"
      ]
     },
     "metadata": {},
     "output_type": "display_data"
    },
    {
     "data": {
      "text/html": [
       "<b>Dunedin District Council Supp 1 – Submission</b>"
      ],
      "text/plain": [
       "<IPython.core.display.HTML object>"
      ]
     },
     "metadata": {},
     "output_type": "display_data"
    },
    {
     "name": "stdout",
     "output_type": "stream",
     "text": [
      "The Dunedin City Council (DCC) has submitted a technical submission on the Natural and Built Environment Bill (NBE) and Spatial Planning Bill (SPA). The DCC supports the objective of improving system efficiency and effectiveness and reducing complexity. They argue for the reduction of subjective language and tests in the bill to minimize argument and uncertainty. They also call for objective and less prone to challenge notification and time-consuming processes/tests. The DCC suggests that the bill should include provisions for the protection and enhancement of heritage character, good urban design principles, protection of amenity, and the ability to manage bulk and location of residential buildings. They also request that the bill promotes good urban design as a means of achieving greenhouse gas emissions reduction. The DCC supports the inclusion of cultural heritage considerations in the bill but suggests that the definition of cultural heritage should explicitly include \"built heritage\" or \"building\". They also raise concerns about the provisions related to discharges, allocation methods, and land subjection to controls. The DCC suggests amendments to clarify and improve these provisions. They also call for clearer notification provisions and criteria for determining affected persons. The DCC supports the simplification of resource consent categorization but requests clarification on certain terms and considerations in the decision-making process. Overall, the DCC's submission focuses on ensuring clarity, objectivity, and efficiency in the new legislation.\n",
      "\n"
     ]
    },
    {
     "data": {
      "text/html": [
       "<a href=https:////////www.parliament.nz////resource////en-NZ////53SCEN_EVI_129831_EN15323////e994146e07897a6e5f1ec4f0310d857a0988e90f>Read the full submission</a>"
      ],
      "text/plain": [
       "<IPython.core.display.HTML object>"
      ]
     },
     "metadata": {},
     "output_type": "display_data"
    },
    {
     "data": {
      "text/html": [
       "<b>Ministry for the Environment (replacement pages 16-17 for Departmental report - Tranche 4) – Official advice</b>"
      ],
      "text/plain": [
       "<IPython.core.display.HTML object>"
      ]
     },
     "metadata": {},
     "output_type": "display_data"
    },
    {
     "name": "stdout",
     "output_type": "stream",
     "text": [
      "The briefing discusses the provisions on places of national importance (PNI) and highly vulnerable biodiversity areas (HVBAs) in the new resource management system. The PNI provisions aim to protect key places and biodiversity, while also providing certainty for development. The framework for PNIs operates based on whether the activity is in a nationally important place, the effect of the activity, and any exemptions or conditions. The framework for HVBAs is similar but with narrower exemptions and a different effects management framework. \n",
      "\n",
      "The briefing also mentions the allocation framework established by the NBE, which allows for strategic and deliberate allocation of resources. The framework includes resource allocation principles, national direction from the Minister for the Environment, and a list of resources that plans must allocate. RPCs must give effect to the NPF and set out allocation methods in their plans. Various allocation methods can be used, including permitted activities, standard consenting, comparative consenting, and market-based methods (excluding freshwater). NBE plans must include rules for allocating freshwater takes, diversions, or use and nitrogen discharges. RPCs may also allocate other resources such as contaminants to freshwater or air. Hybrid allocation methods can be used for specific resources in a given area. \n",
      "\n",
      "The main recommendation is to implement the framework for PNIs and HVBAs to protect important places and biodiversity. Additionally, the briefing recommends the adoption of the allocation framework to enable strategic resource allocation.\n",
      "\n"
     ]
    },
    {
     "data": {
      "text/html": [
       "<a href=https:////////www.parliament.nz////resource////en-NZ////53SCEN_ADV_129831_EN16919////168dc2a497f3c9e9225896c8d31d8c75642f831a>Read the full submission</a>"
      ],
      "text/plain": [
       "<IPython.core.display.HTML object>"
      ]
     },
     "metadata": {},
     "output_type": "display_data"
    },
    {
     "data": {
      "text/html": [
       "<b>Mercury NZ Supp 1 – Submission</b>"
      ],
      "text/plain": [
       "<IPython.core.display.HTML object>"
      ]
     },
     "metadata": {},
     "output_type": "display_data"
    },
    {
     "name": "stdout",
     "output_type": "stream",
     "text": [
      "The submission argues that enabling renewable energy generation (REG) development is crucial for supporting New Zealand's low emissions future and decarbonization goals. It emphasizes that development and environmental protection are not mutually exclusive but complementary policy drivers. The submission calls for provisions that allow for the reconsenting and upgrading of existing REG as well as new development, and for all REG investment to be made at a fast pace. It also suggests the need for a more directive system outcome regarding climate change, improved consenting pathways for REG projects that cannot meet environmental limits, and fast track consenting processes to accelerate the low emissions transition. The submission proposes the inclusion of REG in the definitions of \"infrastructure\" and \"network utility operator\" to ensure grid and distribution connectivity. It also calls for improvements in notification processes to better inform decision making, more certain and consistent consent duration provisions, and interim improvements to the Resource Management Act (RMA) national direction. The submission advocates for the interim continuation of fast track consenting.\n",
      "\n"
     ]
    },
    {
     "data": {
      "text/html": [
       "<a href=https:////////www.parliament.nz////resource////en-NZ////53SCEN_EVI_129831_EN15825////c1fd472df8c612d071c8b6bf763716db7e34b9cb>Read the full submission</a>"
      ],
      "text/plain": [
       "<IPython.core.display.HTML object>"
      ]
     },
     "metadata": {},
     "output_type": "display_data"
    },
    {
     "data": {
      "text/html": [
       "<b>Te Rūnanga o Ngāi Tahu – Submission</b>"
      ],
      "text/plain": [
       "<IPython.core.display.HTML object>"
      ]
     },
     "metadata": {},
     "output_type": "display_data"
    },
    {
     "name": "stdout",
     "output_type": "stream",
     "text": [
      "Te Rūnanga o Ngāi Tahu, the representative tribal body of Ngāi Tahu Whānui, has submitted feedback to the Select Committee on the Natural and Built Environment Bill (NBA) and the Spatial Planning Bill (SPA). They acknowledge the intention of the bills to better protect and regenerate the environment and give effect to the principles of Te Tiriti o Waitangi. However, they argue that the bills fail to recognize Ngāi Tahu rangatiratanga (authority) within the Ngāi Tahu Takiwā (territory) and that the new resource management system should not perpetuate this wrong. They also emphasize the importance of protecting the natural environment as a taonga (treasure) and the need for Ngāi Tahu to exercise their rangatiratanga and participate equally in the new resource management regime. They make several recommendations, including the inclusion of Ngāi Tahu specific schedules in the bills, recognition of Ngāi Tahu rangatiratanga in the Takiwā, and alignment of regional strategies and plans with the Ngāi Tahu Takiwā. They also raise concerns about the use of the term \"area of interest\" and the role of other Māori groups in the Takiwā, arguing that these provisions fail to recognize Ngāi Tahu rangatiratanga and should be modified.\n",
      "\n"
     ]
    },
    {
     "data": {
      "text/html": [
       "<a href=https:////////www.parliament.nz////resource////en-NZ////53SCEN_EVI_129831_EN15509////456bd1cb07a423cd433ee42e6feec393b7f17a30>Read the full submission</a>"
      ],
      "text/plain": [
       "<IPython.core.display.HTML object>"
      ]
     },
     "metadata": {},
     "output_type": "display_data"
    },
    {
     "data": {
      "text/html": [
       "<b>Ministry for the Environment (Departmental report - Schedule 1 Transitional, savings, and related provisions) – Official advice</b>"
      ],
      "text/plain": [
       "<IPython.core.display.HTML object>"
      ]
     },
     "metadata": {},
     "output_type": "display_data"
    },
    {
     "name": "stdout",
     "output_type": "stream",
     "text": [
      "The main recommendation in this briefing is to provide more clarity and specificity in the Natural and Built Environment Bill (NBE Bill) regarding the transition from the Resource Management Act 1991 (RMA) to the new system. The briefing recommends amending the NBE Bill to clarify the process for upholding Treaty settlements and related arrangements before commencing the Regional Planning Committee (RPC) composition process. It also recommends amending the definition of \"RMA document\" to include all relevant RMA documents, such as regional policy statements and national planning standards. Additionally, the briefing recommends clarifying the timing and impact of the transition period, the transition from RMA plans to NBE plans, and the application of NBE plan provisions. The briefing also addresses concerns about the lack of detail in the NBE Bill and the need for clarity in plan-making processes and the status of existing RMA plans.\n",
      "\n"
     ]
    },
    {
     "data": {
      "text/html": [
       "<a href=https:////////www.parliament.nz////resource////en-NZ////53SCEN_ADV_129831_EN16918////5d07f0e716b7e03ab4630e822485f2b9f3e32733>Read the full submission</a>"
      ],
      "text/plain": [
       "<IPython.core.display.HTML object>"
      ]
     },
     "metadata": {},
     "output_type": "display_data"
    },
    {
     "data": {
      "text/html": [
       "<b>Queenstown Lakes District Council – Submission</b>"
      ],
      "text/plain": [
       "<IPython.core.display.HTML object>"
      ]
     },
     "metadata": {},
     "output_type": "display_data"
    },
    {
     "name": "stdout",
     "output_type": "stream",
     "text": [
      "The Queenstown Lakes District Council (QLDC) supports the move towards an outcomes-based system, a reduction in costs, and more consistent and complete national direction in the Natural and Built Environment Bill and Spatial Planning Bill. However, they have significant concerns about the nature and program of reform. They argue that the bills do not provide sufficient scope to address crucial issues for the district and do not ensure that councils will be involved in the development of key instruments under the legislation. They also express concerns about the reduction of local democratic input and accountability through the introduction of Regional Planning Committees. QLDC requests short and long-term funding agreements between central and local government to provide certainty and transparency to the reforms. They also emphasize the need for a comprehensive regime for managing and planning for natural hazards and the importance of addressing housing affordability through inclusionary zoning and controlling short-term letting. QLDC opposes the proposed Regional Planning Committee model and calls for strong local voice to be maintained in the new system. They also highlight the importance of incorporating existing plans and a collaborative design approach that works for each region. Finally, QLDC supports the proposed amendments to enforcement provisions and the 'polluter pays' principle for contaminated land.\n",
      "\n"
     ]
    },
    {
     "data": {
      "text/html": [
       "<a href=https:////////www.parliament.nz////resource////en-NZ////53SCEN_EVI_129831_EN15498////2440c0f9e54542327ed8eaae88eb758aa04f36ac>Read the full submission</a>"
      ],
      "text/plain": [
       "<IPython.core.display.HTML object>"
      ]
     },
     "metadata": {},
     "output_type": "display_data"
    },
    {
     "data": {
      "text/html": [
       "<b>Greymouth Petroleum – Submission</b>"
      ],
      "text/plain": [
       "<IPython.core.display.HTML object>"
      ]
     },
     "metadata": {},
     "output_type": "display_data"
    },
    {
     "name": "stdout",
     "output_type": "stream",
     "text": [
      "Greymouth Petroleum Ltd has submitted feedback on the proposed Natural and Built Environment Bill. While they support some features of the bill, they have concerns about certain aspects. Greymouth is a New Zealand company in the upstream petroleum industry and operates in the Taranaki region. They argue that the bill should be effective, workable, and not have unintended consequences.\n",
      "\n",
      "Greymouth highlights several themes in the bill, including the goal of delivering a simpler, faster, and cheaper resource management system. However, they argue that the bill is not simpler and may even be more complex than the current system. They also express concerns about the centralization of power and decision-making, which they believe could politicize resource management decisions and create uncertainty for system users.\n",
      "\n",
      "Greymouth emphasizes the importance of oil and gas activities in the Taranaki region and the contribution they make to the economy and social well-being. They argue that the bill should recognize the positive effects of use and development, particularly in relation to infrastructure. They also raise concerns about the precautionary principle in the bill, stating that it is too broad and directive in its application.\n",
      "\n",
      "In terms of existing uses, Greymouth opposes the new \"carve outs\" that could override existing use rights based on rules related to the natural environment, natural hazards, climate change, or contaminated land. They argue that this undermines investment certainty and fairness.\n",
      "\n",
      "Greymouth supports aspects of the National Planning Framework (NPF), particularly the inclusion of direction on infrastructure. However, they believe that the mandatory NPF content clauses relating to \"enabling\" infrastructure and development corridors should be strengthened and made more directive.\n",
      "\n",
      "Regarding environmental limits and targets, Greymouth does not oppose their use but wants to ensure that they do not inappropriately constrain use and development. They argue that the availability of exemptions should be widened, particularly for infrastructure, and not limited to Regional Planning Committees.\n",
      "\n",
      "Overall, Greymouth supports the goals of the bill but raises concerns about its complexity, centralization of power, and potential negative impacts on investment certainty. They suggest amendments to address these concerns and ensure a more balanced approach to resource management.\n",
      "\n"
     ]
    },
    {
     "data": {
      "text/html": [
       "<a href=https:////////www.parliament.nz////resource////en-NZ////53SCEN_EVI_129831_EN15592////88b3842fd5bf14f293357d36a73eb88087a1b6ea>Read the full submission</a>"
      ],
      "text/plain": [
       "<IPython.core.display.HTML object>"
      ]
     },
     "metadata": {},
     "output_type": "display_data"
    },
    {
     "data": {
      "text/html": [
       "<b>Emily Grace (Comments on Natural and Built Environment Bill departmental report 3A and 3B) – Official advice</b>"
      ],
      "text/plain": [
       "<IPython.core.display.HTML object>"
      ]
     },
     "metadata": {},
     "output_type": "display_data"
    },
    {
     "name": "stdout",
     "output_type": "stream",
     "text": [
      "The main recommendation in this briefing is to delete certain recommendations in the Departmental Report related to the Natural and Built Environment Bill. The first recommendation is to delete a proposed addition that could cause confusion regarding the role of NBE Plans in providing for the needs of communities. The second recommendation is to delete a proposed addition that would allow the Environment Court to direct modifications to NBE Plans that are inconsistent with risk reduction or adaptation requirements. The third recommendation is to reconsider the need for separate Te Oranga o te Taiao statements, as the RSS and NBE Plans themselves can uphold Te Oranga o te Taiao. Other recommendations include clarifying the distinction between plan development and plan change processes, clarifying the requirements for evidence provided with submissions, and improving the wording and clarity of certain clauses related to resource consents. The briefing also mentions that the System Efficiency Working Group supports most of the recommendations in the Departmental Report.\n",
      "\n"
     ]
    },
    {
     "data": {
      "text/html": [
       "<a href=https:////////www.parliament.nz////resource////en-NZ////53SCEN_ADV_129831_EN16956////6b1d1759e1543c17779fc3e01096d695b9d483e1>Read the full submission</a>"
      ],
      "text/plain": [
       "<IPython.core.display.HTML object>"
      ]
     },
     "metadata": {},
     "output_type": "display_data"
    },
    {
     "data": {
      "text/html": [
       "<b>Papa Pounamu (NZ Planning Institute Special Interest Group) – Submission</b>"
      ],
      "text/plain": [
       "<IPython.core.display.HTML object>"
      ]
     },
     "metadata": {},
     "output_type": "display_data"
    },
    {
     "name": "stdout",
     "output_type": "stream",
     "text": [
      "The submission is made by Papa Pounamu, a special interest group of the NZ Planning Institute. They support the Natural and Built Environment and Spatial Planning Bills and wish to make an oral submission in addition to their written submission. The submission includes key matters and overarching comments, as well as a review of the Natural and Built Environment Bill. The specific arguments for or against the bill are not mentioned in the summary.\n",
      "\n"
     ]
    },
    {
     "data": {
      "text/html": [
       "<a href=https:////////www.parliament.nz////resource////en-NZ////53SCEN_EVI_129831_EN15799////78b1668a2e09520a09878b67cf705f072892b93e>Read the full submission</a>"
      ],
      "text/plain": [
       "<IPython.core.display.HTML object>"
      ]
     },
     "metadata": {},
     "output_type": "display_data"
    },
    {
     "data": {
      "text/html": [
       "<b>Whanganui District Council – Submission</b>"
      ],
      "text/plain": [
       "<IPython.core.display.HTML object>"
      ]
     },
     "metadata": {},
     "output_type": "display_data"
    },
    {
     "name": "stdout",
     "output_type": "stream",
     "text": [
      "The Whanganui District Council supports the need for reform in the resource management system but has several concerns about the current state of the Spatial Planning and Natural and Built Environment Bill. Their primary concerns include the regionalization of planning, which they believe will reduce local decision-making and disconnect planning from implementation. They also oppose the idea that councils will have to fund and implement plans that may not represent the preferences of the local community. The council is also concerned about the lack of alignment with other government reforms, the strain on the workforce, and the scale of the reforms. They suggest more consultation with affected staff and adequate resourcing and alignment of the reforms. The council also raises concerns about the establishment of Regional Planning Committees (RPCs) and regional plans, stating that it may lead to inefficiencies, limited community engagement, and potential inequity in outcomes. They suggest several recommendations to make the proposals more workable, including appointees to RPCs reporting back to their appointing bodies and careful consideration of funding and cost-sharing models. The council also supports the resourcing of RPCs and the active participation of iwi and hapū, with funding provided by the Crown. They recommend building the capacity and capability of local authorities and iwi/hapū as a priority action and suggest a staged approach to implementation, clear guidance on when to stop work on existing plans, and a clear demarcation between the current system and the new system. The council also emphasizes the importance of the National Planning Framework and suggests co-production with local authorities and iwi/hapū/Māori experts.\n",
      "\n"
     ]
    },
    {
     "data": {
      "text/html": [
       "<a href=https:////////www.parliament.nz////resource////en-NZ////53SCEN_EVI_129831_EN15512////e0131c94cb07ca83d643c7b1b70a763f8f5c112a>Read the full submission</a>"
      ],
      "text/plain": [
       "<IPython.core.display.HTML object>"
      ]
     },
     "metadata": {},
     "output_type": "display_data"
    },
    {
     "data": {
      "text/html": [
       "<b>Genesis Energy Limited – Submission</b>"
      ],
      "text/plain": [
       "<IPython.core.display.HTML object>"
      ]
     },
     "metadata": {},
     "output_type": "display_data"
    },
    {
     "name": "stdout",
     "output_type": "stream",
     "text": [
      "Genesis Energy Limited, a New Zealand energy company, has submitted a response to the Natural and Built Environment Bill and the Spatial Planning Bill. While Genesis supports the objectives of the Resource Management Act (RMA) reforms, it has significant reservations about the current drafting of the bills and their potential impact on achieving New Zealand's climate change commitments. The company argues that the bills create barriers to consenting new and reconsenting existing renewable electricity generation, which is crucial for decarbonizing the economy. Genesis recommends amendments to ensure a clear consenting pathway for electricity generation and enable the country to achieve its decarbonization goals. The company also raises concerns about the lack of meaningful participation of the electricity sector in the development of the National Planning Framework, Regional Spatial Strategies, and NBEA plans. Genesis highlights specific issues with the environmental limits, allocation of resources, consenting processes, and consideration of the existing environment. The company also emphasizes the importance of fulfilling obligations under the Treaty of Waitangi. Overall, Genesis urges the government to work with the electricity sector to address these concerns and ensure the bills support the transition to a low-carbon economy.\n",
      "\n"
     ]
    },
    {
     "data": {
      "text/html": [
       "<a href=https:////////www.parliament.nz////resource////en-NZ////53SCEN_EVI_129831_EN15444////c4fc061661822e49be1694d8d3d23527b50398a2>Read the full submission</a>"
      ],
      "text/plain": [
       "<IPython.core.display.HTML object>"
      ]
     },
     "metadata": {},
     "output_type": "display_data"
    },
    {
     "data": {
      "text/html": [
       "<b>Waikato District Council Supp2 – Submission</b>"
      ],
      "text/plain": [
       "<IPython.core.display.HTML object>"
      ]
     },
     "metadata": {},
     "output_type": "display_data"
    },
    {
     "name": "stdout",
     "output_type": "stream",
     "text": [
      "Waikato District Council has submitted its comments on the Natural and Built Environment Bill. The council generally supports the need for reform and the intent of the replacement legislation to provide a simpler, more efficient resource management system. However, it has concerns that the draft legislation may not deliver on the intended outcomes. The council also raises concerns about the loss of local voice, the complex arrangements for supporting Regional Planning Committees, the need for central government to invest more in the reform program, and the potential misalignment between the three pieces of resource management reform legislation. The council also highlights the need for clarity around the transition from the current legislation to the new system and the integration of the three bills. It calls for funding support, improved recognition of Te Tiriti o Waitangi and Mātauranga Māori, and better alignment between the longer-term Spatial Planning Bill and the Natural and Built Environment Bill. The council also suggests amendments to ensure that land remains available for infrastructure changes, address climate change and natural hazards, and promote sustainable outcomes. It also raises concerns about the interpretation and use of terms in the bill and the need for planning instruments to reflect local interests. Finally, the council calls for adequate representation for the Waikato District in regional planning committees and a mechanism to ensure that local interests have real influence over the plan provisions.\n",
      "\n"
     ]
    },
    {
     "data": {
      "text/html": [
       "<a href=https:////////www.parliament.nz////resource////en-NZ////53SCEN_EVI_129831_EN15326////035598023c092af19cf6ef203fee7c21d3f6e2db>Read the full submission</a>"
      ],
      "text/plain": [
       "<IPython.core.display.HTML object>"
      ]
     },
     "metadata": {},
     "output_type": "display_data"
    },
    {
     "data": {
      "text/html": [
       "<b>Engineering New Zealand – Submission</b>"
      ],
      "text/plain": [
       "<IPython.core.display.HTML object>"
      ]
     },
     "metadata": {},
     "output_type": "display_data"
    },
    {
     "name": "stdout",
     "output_type": "stream",
     "text": [
      "Engineering New Zealand supports the need for reform and believes that change to the resource management system is needed. They believe that the current Resource Management Act has been ineffective in preserving the natural environment and addressing the challenges of climate change. They support the broad outcomes of the Natural and Built Environment Bill, including the introduction of Te Oranga o te Taiao, strengthening Te Tiriti requirements, and the introduction of environmental limits. However, they have concerns about the lack of clear guidance in the Bill, particularly regarding decision-making and conflict resolution. They also support the inclusion of exemptions from environmental limits for significant infrastructure projects. They recommend strengthening provisions for monitoring and enforcement of limits and ensuring expert involvement in the Regional Planning Committees. They also highlight the need for clearer guidance on heritage considerations and stronger recognition of Te Tiriti and Te Ao Māori in the Bill.\n",
      "\n"
     ]
    },
    {
     "data": {
      "text/html": [
       "<a href=https:////////www.parliament.nz////resource////en-NZ////53SCEN_EVI_129831_EN15597////6432fa4ada21fa409fa7c7fb393fe3ae6b0d946f>Read the full submission</a>"
      ],
      "text/plain": [
       "<IPython.core.display.HTML object>"
      ]
     },
     "metadata": {},
     "output_type": "display_data"
    },
    {
     "data": {
      "text/html": [
       "<b>PCE (Comments on SP and NBE departmental reports all tranches) – Official advice</b>"
      ],
      "text/plain": [
       "<IPython.core.display.HTML object>"
      ]
     },
     "metadata": {},
     "output_type": "display_data"
    },
    {
     "name": "stdout",
     "output_type": "stream",
     "text": [
      "The main recommendation from the PCE (Parliamentary Commissioner for the Environment) is to strengthen the wording in the Spatial Planning Bill to ensure that regional spatial strategies (RSS) are consistent with environmental limits and targets. The PCE suggests using stronger language, such as \"comply with,\" and also recommends including places of national and regional importance in the scope of RSS. The PCE also suggests delaying the preparation of RSS until limits, targets, and places of importance have been set. \n",
      "\n",
      "In the Natural and Built Environment Bill, the PCE recommends amending the purpose clause to include a bottom line that protects the health of the natural environment. They also suggest adding a reference to \"managing adverse effects\" and including the Aotearoa New Zealand Biodiversity Strategy as a matter that the Minister must have particular regard to. The PCE supports the proposed changes to the Effects Management Framework (EMF) but raises concerns about exemptions and the potential for environmental risks. They recommend narrowing the scope of exemptions and making it clear that exemptions should only be granted if all alternative options for complying with environmental limits have been exhausted. The PCE also suggests adding a provision that any new \"minimum level limit\" cannot be lower than previous limits and minimum level limits.\n",
      "\n"
     ]
    },
    {
     "data": {
      "text/html": [
       "<a href=https:////////www.parliament.nz////resource////en-NZ////53SCEN_ADV_129831_EN16937////d1951299912a60b15819f4ff6186b48246ac43d0>Read the full submission</a>"
      ],
      "text/plain": [
       "<IPython.core.display.HTML object>"
      ]
     },
     "metadata": {},
     "output_type": "display_data"
    },
    {
     "data": {
      "text/html": [
       "<b>MfE (NBE Bill Departmental Report 1 - Corrections - Replacement pages 46, 47, 49, 50, 51) – Official advice</b>"
      ],
      "text/plain": [
       "<IPython.core.display.HTML object>"
      ]
     },
     "metadata": {},
     "output_type": "display_data"
    },
    {
     "name": "stdout",
     "output_type": "stream",
     "text": [
      "The main recommendation in this briefing is to make amendments to clause 6 and clause 805 of the Bill. In clause 6, the recommendation is to add a new decision-making principle that focuses on achieving intended outcomes without a default preference for new or existing uses. In clause 805, the recommendation is to relocate the clause alongside clause 6 and simplify it by removing subclauses (2) and (3) and clarifying that the obligation to use the best available information is proportionate to the level of detail required in the particular context. The recommendation also suggests utilizing the phrase \"best available information\" similar to the EEZ Act.\n",
      "\n"
     ]
    },
    {
     "data": {
      "text/html": [
       "<a href=https:////////www.parliament.nz////resource////en-NZ////53SCEN_ADV_129831_EN16740////8ce6aff6a59a693fd4b761f4065bc41950edcab6>Read the full submission</a>"
      ],
      "text/plain": [
       "<IPython.core.display.HTML object>"
      ]
     },
     "metadata": {},
     "output_type": "display_data"
    },
    {
     "data": {
      "text/html": [
       "<b>Ministry for the Environment (Departmental report - Tranche 3(A)) – Official advice</b>"
      ],
      "text/plain": [
       "<IPython.core.display.HTML object>"
      ]
     },
     "metadata": {},
     "output_type": "display_data"
    },
    {
     "name": "stdout",
     "output_type": "stream",
     "text": [
      "recommended that the clause be amended to include a reference to climate change and the need to adapt to it. They also suggested adding a reference to public access and the cumulative impact of permitted activities on environmental limits. They further recommended including provisions for resolving conflicts and controlling development to ensure community safety and resilience. \n",
      "\n",
      "Subclause 102(2) \n",
      "NZPI recommended adding a reference to geothermal resources and the management of their cumulative effects. They also suggested including provisions for electricity distribution infrastructure, aggregate resources, and supply chains to support housing and infrastructure development. \n",
      "\n",
      "Subclause 102(3) \n",
      "Waikato Civil Defence Emergency Group suggested that Civil Defence and Emergency Management should be consulted on matters relating to natural hazards. \n",
      "\n",
      "Response \n",
      "The recommendations made by submitters align with the policy intent of the clause and would enhance the content of plans. Therefore, it is recommended that the clause be amended to include the additional matters suggested by submitters. \n",
      "\n",
      "Recommendation \n",
      "9. We recommend that you amend clause 102 to include the additional matters suggested by submitters, including references to climate change, public access, cumulative effects of permitted activities, geothermal resources, electricity distribution infrastructure, aggregate resources, supply chains, conflict resolution, community safety and resilience, drainage infrastructure, integration of land use and transport, and provisions reflecting limits/minimum targets.\n",
      "\n"
     ]
    },
    {
     "data": {
      "text/html": [
       "<a href=https:////////www.parliament.nz////resource////en-NZ////53SCEN_ADV_129831_EN16743////0600c5c9b216119b2e262149643fac08c71a1c57>Read the full submission</a>"
      ],
      "text/plain": [
       "<IPython.core.display.HTML object>"
      ]
     },
     "metadata": {},
     "output_type": "display_data"
    },
    {
     "data": {
      "text/html": [
       "<b>Save Our Springs Aotearoa New Zealand Inc – Submission</b>"
      ],
      "text/plain": [
       "<IPython.core.display.HTML object>"
      ]
     },
     "metadata": {},
     "output_type": "display_data"
    },
    {
     "name": "stdout",
     "output_type": "stream",
     "text": [
      "Save Our Springs Aotearoa New Zealand Inc (SOS) has submitted a response to the Natural and Built Environment Bill, focusing on the need to recognize and protect the spiritual and intrinsic values of water bodies. SOS argues that the reference to \"spiritual\" values in the bill should be included, as it is in the Resource Management Act (RMA), and that the omission may have been accidental. They provide examples of the application of spiritual values in the RMA, such as the Rangitata River and Te Waikoropupū Springs, and argue that these values should be recognized and protected in the bill. SOS also calls for the inclusion of intrinsic values of ecosystems and nature in the bill, as they are important for valuing nature for its own sake. They propose various ways to include intrinsic values in the bill, such as redefining the definition of \"environment\" and including intrinsic values as part of the well-being of the natural environment. SOS also supports the inclusion of provisions for water conservation orders and the review of existing use rights and consent conditions.\n",
      "\n"
     ]
    },
    {
     "data": {
      "text/html": [
       "<a href=https:////////www.parliament.nz////resource////en-NZ////53SCEN_EVI_129831_EN15879////1346e17ce5e545a0cb78d876a9e2192c1a2fd40e>Read the full submission</a>"
      ],
      "text/plain": [
       "<IPython.core.display.HTML object>"
      ]
     },
     "metadata": {},
     "output_type": "display_data"
    },
    {
     "data": {
      "text/html": [
       "<b>Revision tracked version 22 [NBE Bill - draft only] – Official advice</b>"
      ],
      "text/plain": [
       "<IPython.core.display.HTML object>"
      ]
     },
     "metadata": {},
     "output_type": "display_data"
    },
    {
     "name": "stdout",
     "output_type": "stream",
     "text": [
      "The briefing discusses proposed amendments to the Natural and Built Environment Bill for consideration by the select committee. The amendments cover various aspects of the bill, including the purpose of the act, decision-making principles, restrictions on land and water use, national planning framework, resource consenting process, and management of water and contaminated land. The main recommendation is to include provisions for freshwater farm plans, which would require farms to have certified plans to manage their impact on freshwater quality.\n",
      "\n"
     ]
    },
    {
     "data": {
      "text/html": [
       "<a href=https:////////www.parliament.nz////resource////en-NZ////53SCEN_ADV_129831_EN17380////63f890800caaf350647f6650e6b1746cd6d48d67>Read the full submission</a>"
      ],
      "text/plain": [
       "<IPython.core.display.HTML object>"
      ]
     },
     "metadata": {},
     "output_type": "display_data"
    },
    {
     "data": {
      "text/html": [
       "<b>Roderick Aldridge Supp 2 – Submission</b>"
      ],
      "text/plain": [
       "<IPython.core.display.HTML object>"
      ]
     },
     "metadata": {},
     "output_type": "display_data"
    },
    {
     "name": "stdout",
     "output_type": "stream",
     "text": [
      "The main argument in this submission is that the Natural and Built Environment Bill (NBEB) and Spatial Planning Bill (SPB) should prioritize the regeneration of ecosystems in order to address climate change and protect the environment. The submitter argues that regenerating ecosystems can have numerous benefits, including restoring biodiversity, reducing greenhouse gas emissions, and improving soil fertility. They emphasize the need to restore ecosystems before reaping these benefits and suggest that farmers and growers should be enabled to make the necessary changes. \n",
      "\n",
      "The submitter also supports the objective of protecting and restoring the natural environment in the built environment and infrastructure. They argue that the NBEB should be seen as an environmental statute rather than a development enabling statute. They also suggest restructuring the bill to better align with the policy cycle and include a preamble to provide a narrative explaining the intent behind the legislation. \n",
      "\n",
      "Additionally, the submitter highlights the importance of using natural or ecological solutions in infrastructure development, such as using wetlands to filter water flow instead of canals or pipes. They argue that maximizing the permeability of urban areas and prioritizing natural solutions can help mitigate the risks of flooding and other environmental hazards. \n",
      "\n",
      "Overall, the submitter believes that while the NBEB and SPB bills can provide some improvement over the current resource management system, more fundamental changes are needed to achieve a truly sustainable system.\n",
      "\n"
     ]
    },
    {
     "data": {
      "text/html": [
       "<a href=https:////////www.parliament.nz////resource////en-NZ////53SCEN_EVI_129831_EN15810////b083e568c584ea1b458533eefde7e164d9fde1b3>Read the full submission</a>"
      ],
      "text/plain": [
       "<IPython.core.display.HTML object>"
      ]
     },
     "metadata": {},
     "output_type": "display_data"
    },
    {
     "data": {
      "text/html": [
       "<b>Damon McPhail Supp 1 – Submission</b>"
      ],
      "text/plain": [
       "<IPython.core.display.HTML object>"
      ]
     },
     "metadata": {},
     "output_type": "display_data"
    },
    {
     "name": "stdout",
     "output_type": "stream",
     "text": [
      "The submission includes supplementary photos to accompany an oral presentation. The first two photos show the spread of wilding pine in Otago, with pink leaves denoting visible wilding seedlings. The third photo shows a fisherman reclamation that was granted retrospective resource consent.\n",
      "\n"
     ]
    },
    {
     "data": {
      "text/html": [
       "<a href=https:////////www.parliament.nz////resource////en-NZ////53SCEN_EVI_129831_EN15726////64ded7f09e0af8a02cba1c55105620ac2916fed1>Read the full submission</a>"
      ],
      "text/plain": [
       "<IPython.core.display.HTML object>"
      ]
     },
     "metadata": {},
     "output_type": "display_data"
    },
    {
     "data": {
      "text/html": [
       "<b>Electricity Sector Environment Group – Submission</b>"
      ],
      "text/plain": [
       "<IPython.core.display.HTML object>"
      ]
     },
     "metadata": {},
     "output_type": "display_data"
    },
    {
     "name": "stdout",
     "output_type": "stream",
     "text": [
      "The Electricity Sector Environment Group (ESEG) supports the reform objectives of the Natural and Built Environments Bill (NBE Bill), which aims to protect the natural environment, enable development within environmental limits, and address climate change. However, the ESEG argues that the current draft of the NBE Bill is unworkable and needs significant rationalization and redrafting to ensure the reform objectives are achieved. \n",
      "\n",
      "The ESEG's main argument is that the NBE Bill must prioritize decarbonization of the New Zealand economy. They argue that the current draft of the bill, which focuses on environmental limits, would prevent or render unachievable New Zealand's climate change mitigation commitments. They propose amendments to ensure that renewable energy projects, which are key to reducing greenhouse gas emissions, are not hindered by environmental limits. They also call for greater clarity and coherence in the bill's provisions, including national direction, resource allocation principles, and the management of adverse effects. \n",
      "\n",
      "Overall, the ESEG's submission emphasizes the need to reconcile the policy drivers of decarbonization and environmental protection in the NBE Bill and ensure that the bill effectively addresses the climate change crisis.\n",
      "\n"
     ]
    },
    {
     "data": {
      "text/html": [
       "<a href=https:////////www.parliament.nz////resource////en-NZ////53SCEN_EVI_129831_EN15438////0a65aa7fbdb5787a68c84c6c6f39bd17813ae6ad>Read the full submission</a>"
      ],
      "text/plain": [
       "<IPython.core.display.HTML object>"
      ]
     },
     "metadata": {},
     "output_type": "display_data"
    },
    {
     "data": {
      "text/html": [
       "<b>Chief Justice – Submission</b>"
      ],
      "text/plain": [
       "<IPython.core.display.HTML object>"
      ]
     },
     "metadata": {},
     "output_type": "display_data"
    },
    {
     "name": "stdout",
     "output_type": "stream",
     "text": [
      "The submission raises several concerns and issues regarding the Natural and Built Environment Bill. The judiciary expresses concern about the lack of consultation with them regarding the implications of the bill for the operation of the Environment Court and other courts. They also highlight the complexity of the bill and the need for analysis of its implications on the workload and resources of the courts. \n",
      "\n",
      "The submission addresses specific provisions of the bill, including those related to the principles of te Tiriti o Waitangi and the responsibility of iwi and hapū. The judiciary raises concerns about the practicality and implications of applying these provisions to courts, particularly in criminal proceedings. They suggest that these provisions should apply to decision-makers other than courts, or if they are intended to apply to courts, the specific categories of decisions should be identified and discussed with the Chief Judge of the Environment Court. \n",
      "\n",
      "The submission also raises concerns about the appointment and functions of serving judges, particularly in relation to boards of inquiry and independent hearing panels. The judiciary suggests that appointments of serving judges to these roles should require the prior agreement of the relevant Head of Bench, and that if significant judicial time will be spent on these panels, the resource implications for the Environment Court should be addressed. \n",
      "\n",
      "Regarding appeals, the submission questions the justification for confining appeal rights to questions of law and suggests that appeals to the Supreme Court should not be excluded. They also propose that the restriction on judicial review in the High Court should only apply when there is a right to appeal to the Environment Court on the merits. \n",
      "\n",
      "The submission raises concerns about the allocation of jurisdictions between the District Court and Environment Court in relation to enforcement provisions. They suggest that the provisions should be reviewed to reduce uncertainty and complexity, and that all civil remedies should be available in the Environment Court. \n",
      "\n",
      "Other issues raised in the submission include the need for clarity and precision in provisions related to monetary benefit orders and pecuniary penalties, the resource implications of involving the Māori Land Court in certain functions, and the requirement for concurrence of the judiciary in regulations relating to Environment Court practice and procedure. \n",
      "\n",
      "The submission concludes by stating that the judiciary does not seek to make oral submissions but is willing to have representatives appear before the Select Committee to answer any questions.\n",
      "\n"
     ]
    },
    {
     "data": {
      "text/html": [
       "<a href=https:////////www.parliament.nz////resource////en-NZ////53SCEN_EVI_129831_EN15615////3459cd57de62e50497811b8173d5001fe5d22fab>Read the full submission</a>"
      ],
      "text/plain": [
       "<IPython.core.display.HTML object>"
      ]
     },
     "metadata": {},
     "output_type": "display_data"
    },
    {
     "data": {
      "text/html": [
       "<b>Ministry for the Environment (RPCs in regions with unitary authorities) – Official advice</b>"
      ],
      "text/plain": [
       "<IPython.core.display.HTML object>"
      ]
     },
     "metadata": {},
     "output_type": "display_data"
    },
    {
     "name": "stdout",
     "output_type": "stream",
     "text": [
      "The main recommendation in this briefing is to include an additional clause in the Bill that enables unitary authorities to deem an existing committee to have all the functions, duties, and powers of the regional planning committee (RPC). This would allow unitary authorities to continue using existing processes that are already working well in the region. However, the composition and appointment processes to provide for Māori and central government membership would still need to apply to maintain the joint decision-making model and ensure consistency with RPC arrangements in regions with multiple local authorities. The briefing also recommends providing guidance to unitary authorities on the flexibility provided by the Bill for existing arrangements to continue where they are working well. Additionally, the briefing suggests that changes to the Local Government (Auckland Council) Act 2009 are required to prevent appointments to the RPC as of right by the Independent Māori Statutory Board (IMSB) in Auckland. The briefing also recommends that the requirements relating to composition and appointment processes apply to Marlborough and Gisborne. The briefing mentions other recommendations from the departmental report regarding secretariat and funding arrangements for unitary authorities.\n",
      "\n"
     ]
    },
    {
     "data": {
      "text/html": [
       "<a href=https:////////www.parliament.nz////resource////en-NZ////53SCEN_ADV_129831_EN16797////fafa50406b760e98b43e6f9a17e98b5f234a06f2>Read the full submission</a>"
      ],
      "text/plain": [
       "<IPython.core.display.HTML object>"
      ]
     },
     "metadata": {},
     "output_type": "display_data"
    },
    {
     "data": {
      "text/html": [
       "<b>Port of Tauranga Limited – Submission</b>"
      ],
      "text/plain": [
       "<IPython.core.display.HTML object>"
      ]
     },
     "metadata": {},
     "output_type": "display_data"
    },
    {
     "name": "stdout",
     "output_type": "stream",
     "text": [
      "Port of Tauranga Limited (POTL) has submitted a response to the Natural and Built Environment Bill, expressing concerns about the impact of the bill on port infrastructure. POTL argues that the current resource management system is inefficient and unreliable for obtaining resource consent for port infrastructure. They support the need for a reformed system to address these issues and improve the consenting regime for nationally significant infrastructure. However, they argue that the proposed bill does not meet expectations and instead disincentivizes investment into new port infrastructure by placing significant uncertainty on the ability to deliver large projects. POTL raises specific concerns about various clauses in the bill, including the purpose and preliminary matters, allocation provisions, existing use rights, consent conditions, and fast-track consenting. They also highlight the need for clear directives and exemptions for port infrastructure and the importance of considering the economic impact and practicality of setting hard limits on environmental effects. Overall, POTL argues for a more streamlined and efficient consenting process that supports the growth and development of port infrastructure.\n",
      "\n"
     ]
    },
    {
     "data": {
      "text/html": [
       "<a href=https:////////www.parliament.nz////resource////en-NZ////53SCEN_EVI_129831_EN15610////eab5328e9e89b1801fa482066ff3d91999e010f0>Read the full submission</a>"
      ],
      "text/plain": [
       "<IPython.core.display.HTML object>"
      ]
     },
     "metadata": {},
     "output_type": "display_data"
    },
    {
     "data": {
      "text/html": [
       "<b>Clerk of committee (Legislative scrutiny memo- Natural and Built Environment Bill) – Official advice</b>"
      ],
      "text/plain": [
       "<IPython.core.display.HTML object>"
      ]
     },
     "metadata": {},
     "output_type": "display_data"
    },
    {
     "name": "stdout",
     "output_type": "stream",
     "text": [
      "The briefing memorandum provides analysis and recommendations for the Natural and Built Environment Bill. The main recommendation is for the committee to consider whether there should be greater parliamentary scrutiny of the National Planning Framework and any major revisions, particularly before the first NPF is made by Order in Council. Other recommendations include clarifying the status of Te Oranga o te Taiao statements, addressing the differentiation between scientific knowledge and mātauranga Māori, justifying the provision for revocation of an infringement notice, evaluating the appropriateness of strict liability offences and their penalties, considering mechanisms to dispute excessive noise directions, reviewing the time limit for judicial review of aquaculture zone decisions, examining the lack of appeal process for financial assurance claims, discussing the appropriateness of monetary benefit orders and their payment recipients, clarifying resource allocation principles, defining the concept of \"harm or stress,\" determining how to interpret \"low incomes,\" and assessing the extent of ministerial powers in appointing substitutes for local authorities and in the housing and infrastructure fast-track consenting process.\n",
      "\n"
     ]
    },
    {
     "data": {
      "text/html": [
       "<a href=https:////////www.parliament.nz////resource////en-NZ////53SCEN_ADV_129831_EN16991////9ce34146e042f4f74c66b6ff05822f6cfa03bc4a>Read the full submission</a>"
      ],
      "text/plain": [
       "<IPython.core.display.HTML object>"
      ]
     },
     "metadata": {},
     "output_type": "display_data"
    },
    {
     "data": {
      "text/html": [
       "<b>Aggregate and Quarry Association – Submission</b>"
      ],
      "text/plain": [
       "<IPython.core.display.HTML object>"
      ]
     },
     "metadata": {},
     "output_type": "display_data"
    },
    {
     "name": "stdout",
     "output_type": "stream",
     "text": [
      "The submission on the Spatial Planning Bill by the Aggregate and Quarry Association (AQA) raises several concerns and makes recommendations. \n",
      "\n",
      "Firstly, the AQA argues that property rights should be protected and that it is not clear how existing use rights will be safeguarded under the proposed legislation. They also highlight the need for clear definitions in the bill to avoid legal disputes and costly litigation.\n",
      "\n",
      "The AQA supports the inclusion of Māori principles and recognition of te ao Māori in the bill but expresses concerns about the use of undefined Māori terms, which could lead to interpretation issues.\n",
      "\n",
      "The AQA suggests removing a broad and vague definition of cultural heritage that could potentially restrict land use. They also call for a clear definition of natural resources to ensure consistency.\n",
      "\n",
      "Regarding existing use rights, the AQA raises concerns about the potential erosion of rights and suggests provisions for recognizing property rights, grandparenting current rights, and a compensation regime for impacts caused by revocation or alteration of consents.\n",
      "\n",
      "The AQA emphasizes the importance of a secure supply of quarry materials for housing and infrastructure and supports the recommendation to protect sites suitable for aggregate extraction in long-term planning processes.\n",
      "\n",
      "Overall, the AQA's submission focuses on the need for clarity, protection of property rights, and ensuring a reliable supply of construction materials.\n",
      "\n"
     ]
    },
    {
     "data": {
      "text/html": [
       "<a href=https:////////www.parliament.nz////resource////en-NZ////53SCEN_EVI_129831_EN15320////ee57d74264027abb30ffedfccfe1cb3b16925e8e>Read the full submission</a>"
      ],
      "text/plain": [
       "<IPython.core.display.HTML object>"
      ]
     },
     "metadata": {},
     "output_type": "display_data"
    },
    {
     "data": {
      "text/html": [
       "<b>Ministry for the Environment (CST - Planning and consenting stopping and commencement - overview) – Official advice</b>"
      ],
      "text/plain": [
       "<IPython.core.display.HTML object>"
      ]
     },
     "metadata": {},
     "output_type": "display_data"
    },
    {
     "name": "stdout",
     "output_type": "stream",
     "text": [
      "This briefing provides an overview of the planning and consenting process for the National Built Environment (NBE) plan. It outlines the steps involved, including the recommendations from the Independent Hearings Panel (IHP) to the Regional Planning Committees (RPC), RPC decisions on IHP recommendations, and appeals. Once the NBE plan is operative, it will apply and Part 3 of the NBE will apply. The briefing also mentions that there will be no further changes to the Resource Management Act (RMA) plans, except in limited circumstances. The RMA Integrated streamlined planning process and the RMA streamlined planning process can be used for applications, and rules amending existing use rights or requiring affected application consenting process or market-based allocation method will apply. The briefing also states that all NBE designation processes, including NBE plan and NBE decision-making, will apply. Existing RMA Regional Authorities will become NBE Regional Authorities, and applications for NBE requiring authority status will be accepted three months after royal assent.\n",
      "\n",
      "The main recommendation in this briefing is to follow the outlined process for planning and consenting for the NBE plan, including the use of the RMA Integrated streamlined planning process and the RMA streamlined planning process for applications. It also recommends that all NBE designation processes be followed and that existing RMA Regional Authorities transition to NBE Regional Authorities.\n",
      "\n"
     ]
    },
    {
     "data": {
      "text/html": [
       "<a href=https:////////www.parliament.nz////resource////en-NZ////53SCEN_ADV_129831_EN16925////73486f13f7fe2d5fc4e9127ec0b3aedc83c0d13f>Read the full submission</a>"
      ],
      "text/plain": [
       "<IPython.core.display.HTML object>"
      ]
     },
     "metadata": {},
     "output_type": "display_data"
    },
    {
     "data": {
      "text/html": [
       "<b>Royal Forest and Bird Protection Society of New Zealand Inc Supp 5 – Submission</b>"
      ],
      "text/plain": [
       "<IPython.core.display.HTML object>"
      ]
     },
     "metadata": {},
     "output_type": "display_data"
    },
    {
     "name": "stdout",
     "output_type": "stream",
     "text": [
      "Forest & Bird proposed amendments to the effects management framework, PONI provisions, and Schedules 3 and 4 of the Natural and Built Environment Bill. The proposed amendments aim to ensure that adverse effects on biodiversity and cultural heritage are avoided, minimized, remedied, and offset wherever possible. They also argue that biodiversity offsetting and redress should not be used in certain circumstances, such as when the affected biodiversity is vulnerable or irreplaceable, when there are no feasible options for securing gains, or when the potential effects are significantly adverse. The proposed amendments also include provisions for the identification and protection of places of national importance, including significant biodiversity areas and areas of highly vulnerable biodiversity. Additionally, the amendments outline principles for biodiversity offsetting and redress, emphasizing the need for adherence to the mitigation hierarchy, limits to offsetting and compensation, additionality, landscape context, long-term outcomes, time lags, and stakeholder participation and transparency.\n",
      "\n"
     ]
    },
    {
     "data": {
      "text/html": [
       "<a href=https:////////www.parliament.nz////resource////en-NZ////53SCEN_EVI_129831_EN16147////941790e20b171046cd4413855fd0dd7c408ef53d>Read the full submission</a>"
      ],
      "text/plain": [
       "<IPython.core.display.HTML object>"
      ]
     },
     "metadata": {},
     "output_type": "display_data"
    },
    {
     "data": {
      "text/html": [
       "<b>Ryman Healthcare Limited – Submission</b>"
      ],
      "text/plain": [
       "<IPython.core.display.HTML object>"
      ]
     },
     "metadata": {},
     "output_type": "display_data"
    },
    {
     "name": "stdout",
     "output_type": "stream",
     "text": [
      "Ryman Healthcare Limited has submitted a response to the Natural and Built Environment Bill (NBEB) and Spatial Planning Bill (SPB). The company supports the Retirement Villages Association of New Zealand's submission on the bills and provides additional context regarding Ryman's villages and its residents. Ryman emphasizes the importance of providing quality housing and care for the aging population and believes that delays and uncertainty caused by current processes are contributing to the retirement housing crisis. The company supports initiatives in the bills that streamline planning and consenting processes but raises concerns about the time it will take to implement the new regime and the complexity and expense of the planning processes. Ryman also highlights the negative impact of the wetland protection regime in the National Policy Statement for Freshwater Management 2020 and Resource Management (National Environmental Standards for Freshwater) Regulations 2020 on urban development proposals. The company seeks relief as outlined in the Retirement Villages Association's submission and requests to be heard in support of their submission.\n",
      "\n"
     ]
    },
    {
     "data": {
      "text/html": [
       "<a href=https:////////www.parliament.nz////resource////en-NZ////53SCEN_EVI_129831_EN15739////dcc62df19b77d7638bf43f696c3c1a9f55011aa2>Read the full submission</a>"
      ],
      "text/plain": [
       "<IPython.core.display.HTML object>"
      ]
     },
     "metadata": {},
     "output_type": "display_data"
    },
    {
     "data": {
      "text/html": [
       "<b>Northland Regional Council – Submission</b>"
      ],
      "text/plain": [
       "<IPython.core.display.HTML object>"
      ]
     },
     "metadata": {},
     "output_type": "display_data"
    },
    {
     "name": "stdout",
     "output_type": "stream",
     "text": [
      "The Northland Regional Council (NRC) has submitted their feedback on the Exposure Draft of the Natural and Built Environments Act (NBA). They support the government's objectives for reforming the resource management system and agree that the Resource Management Act 1991 (RMA) is outdated and inefficient. However, they have reservations about certain aspects of the proposed changes.\n",
      "\n",
      "The NRC highlights several problematic issues with the current resource management system, including the lack of adequate resourcing for Māori engagement, expensive and time-consuming appeals processes, difficulties in interpreting and applying national policy direction, and the allocation of water resources on a 'first in first served' basis. They argue that these issues need to be addressed in the new regime to ensure fairness and effectiveness.\n",
      "\n",
      "The NRC suggests that the government provides a realistic transition period between the current and new regime and considers a phased approach to implementation. They also express concerns about the strict limits regime proposed in the Bill, particularly in relation to rural communities and Māori rights and interests in ancestral lands and resources. They are also worried about the broad powers conferred on the Minister to set limits in the National Planning Framework without clear requirements for consultation and the potential impact on human rights and property interests.\n",
      "\n",
      "The NRC supports the requirement to give effect to te Tiriti o Waitangi and emphasizes the need for adequate resourcing for Māori participation in the new system. They also support the concept of environmental limits but stress the importance of clear, certain, and measurable limits that can be meaningfully applied at different scales. They recommend a pragmatic approach to limits, similar to the structure in the National Policy Statement for Freshwater Management, where timebound targets are required when environmental limits are not met.\n",
      "\n",
      "The NRC supports the inclusion of positive outcome statements in the NBA and the requirement to promote these outcomes in the National Planning Framework and plans. However, they question the practicalities of achieving environmental 'gains' in all cases and suggest focusing on restoring and enhancing the environment where limits and community aspirations are not met.\n",
      "\n",
      "The NRC raises concerns about the lack of clarity regarding the integration of regional spatial strategies with the NBA and the role of planning committees in setting environmental limits. They also emphasize the need for meaningful local input and influence in the development of NBA plans and regional spatial strategies.\n",
      "\n",
      "Overall, the NRC appreciates the opportunity to provide input into the Bill but does not seek to be heard in hearings or verbal presentations.\n",
      "\n"
     ]
    },
    {
     "data": {
      "text/html": [
       "<a href=https:////////www.parliament.nz////resource////en-NZ////53SCEN_EVI_129831_EN15599////85239bb8113237058f677236e851f05b06dff0c9>Read the full submission</a>"
      ],
      "text/plain": [
       "<IPython.core.display.HTML object>"
      ]
     },
     "metadata": {},
     "output_type": "display_data"
    },
    {
     "data": {
      "text/html": [
       "<b>New Zealand Telecommunications Forum Inc – Submission</b>"
      ],
      "text/plain": [
       "<IPython.core.display.HTML object>"
      ]
     },
     "metadata": {},
     "output_type": "display_data"
    },
    {
     "name": "stdout",
     "output_type": "stream",
     "text": [
      "The New Zealand Telecommunications Forum (TCF) has submitted a response to the Natural and Built Environment (NBE) and Spatial Planning (SP) Bills. The TCF supports the aims of the bills but raises concerns and proposes changes in several areas. \n",
      "\n",
      "Firstly, the TCF emphasizes the importance of the telecommunications industry as a provider of critical infrastructure and highlights the need for the industry to engage with the resource management system to install, maintain, and upgrade network infrastructure. \n",
      "\n",
      "The TCF supports the aims of the reform to simplify, standardize, and speed up the resource management process. However, they recommend that the existing standards for telecommunications be updated before being transitioned into the infrastructure chapter of the National Planning Framework (NPF). They also suggest extending the timeframe for the first NPF to come into force and including infrastructure providers in the engagement process before the completed NPF is publicly notified. \n",
      "\n",
      "The TCF argues that the bills should ensure that national infrastructure priorities are considered at the local level and in the plan-making process. They propose changes to the NBE and SP Bills to require earlier consultation with network utility operators and the communication of investment priorities through a national spatial strategy or statements of regional priorities. \n",
      "\n",
      "The TCF also raises concerns about funding for infrastructure and suggests that developers should contribute to both public and private sector infrastructure funding. They recommend that the SP Bill's requirement for coordinated infrastructure funding be expanded to include developers. \n",
      "\n",
      "The TCF expresses concerns about how the system outcomes will be balanced and recommends amending the infrastructure outcome to have more directive language. They also propose a role for decision-makers in managing conflicts between incompatible land uses and clarifying that there is no hierarchy between the system outcomes. \n",
      "\n",
      "The TCF highlights specific issues with the NBE Bill, including the proposed permitted activity notices (PANs) that could slow down the provision of services and create a duplicate consenting system. They recommend that network utility operators be exempt from the requirement to obtain a PAN or that PANs for infrastructure provided by a network utility operator can only be required under the NPF. \n",
      "\n",
      "The TCF suggests amendments to address concerns about environmental limits, integration of infrastructure with land use development, multi-party infrastructure corridors, and transitional provisions. \n",
      "\n",
      "Overall, the TCF supports the aims of the bills but raises concerns and proposes changes to ensure that the telecommunications industry can effectively provide critical infrastructure and contribute to the goals of the reforms.\n",
      "\n"
     ]
    },
    {
     "data": {
      "text/html": [
       "<a href=https:////////www.parliament.nz////resource////en-NZ////53SCEN_EVI_129831_EN15612////fe1264fbd237e9ef89e3cc6bd23fbbc004abad2c>Read the full submission</a>"
      ],
      "text/plain": [
       "<IPython.core.display.HTML object>"
      ]
     },
     "metadata": {},
     "output_type": "display_data"
    },
    {
     "data": {
      "text/html": [
       "<b>The Retirement Villages Association of New Zealand Supp 1 – Submission</b>"
      ],
      "text/plain": [
       "<IPython.core.display.HTML object>"
      ]
     },
     "metadata": {},
     "output_type": "display_data"
    },
    {
     "name": "stdout",
     "output_type": "stream",
     "text": [
      "The main argument put forth by the Retirement Villages Association (RVA) and Ryman Healthcare Limited is that the current Resource Management Act (RMA) has caused major challenges and delays in the development of retirement villages. They argue that the increasing aged population requires housing that is suited to their needs, and the demand for retirement villages is outstripping supply. They propose that the National Planning Framework (NPF) be used to provide a comprehensive national policy and rule regime for housing activities, including retirement villages, as local authority planning processes are too slow and complex. They also support aspects of the Natural and Built Environment Bill and the Spatial Planning Bill, such as a focus on achieving positive outcomes, a streamlined consenting process for housing, and greater use of permitted activities and streamlined notification and hearing processes. They highlight the need for clearer deprioritization of amenity effects, amendments to resource consent processes, clarification of environmental limits and cultural protections, and greater clarity and public participation in regional spatial strategies. They also mention the need for clearer transitional provisions and the coordination of consistent provisions in plans. Ryman Healthcare Limited adds that delays and uncertainty caused by RMA processes have been a major contributor to the current retirement housing crisis and that the new initiatives in the Bills should streamline planning and consenting processes. They emphasize the need for clear planning provisions and a national approach to avoid inconsistencies and delays. They also mention the importance of engaging with councils and communities to ensure appropriate interpretation and understanding of retirement villages during consenting processes.\n",
      "\n"
     ]
    },
    {
     "data": {
      "text/html": [
       "<a href=https:////////www.parliament.nz////resource////en-NZ////53SCEN_EVI_129831_EN16777////d658f2e0f80f8c76bf0c7ad9bd459d145d88d530>Read the full submission</a>"
      ],
      "text/plain": [
       "<IPython.core.display.HTML object>"
      ]
     },
     "metadata": {},
     "output_type": "display_data"
    },
    {
     "data": {
      "text/html": [
       "<b>Ashburton Lyndhurst Irrigation Limited (ALIL) – Submission</b>"
      ],
      "text/plain": [
       "<IPython.core.display.HTML object>"
      ]
     },
     "metadata": {},
     "output_type": "display_data"
    },
    {
     "name": "stdout",
     "output_type": "stream",
     "text": [
      "The submission from Ashburton Lyndhurst Irrigation Limited (ALIL) supports the Natural and Built Environments Bill (NBEB) and the Spatial Planning Bill (SPB) but provides feedback on certain aspects. ALIL supports the recognition of irrigation infrastructure and the system outcomes proposed for infrastructure, particularly in relation to the provision of infrastructure services for the well-being of people and communities. ALIL also supports the inclusion of system outcomes for climate change and natural hazards, but suggests more explicit recognition of the need for climate change adaptation. \n",
      "\n",
      "ALIL supports the introduction of Management Units for setting Environmental Limits, but requests that the setting of Management Units includes Environmental Limits or targets relating to freshwater or air. ALIL also suggests defining the allocation principles within the NBEB to ensure consistency and balance the investment of existing users and new opportunities. ALIL supports the request to remove constraints on considering the value of existing investment in resource consent applications and the deletion of a requirement to have regard to the value of existing investment in an affected application consenting process. \n",
      "\n",
      "ALIL expresses concern about the level of duplication between the provisions of Subpart 7, the NPS for Freshwater, and other proposed provisions within the NBEB. They suggest the removal of bespoke provision for freshwater management under the NBEB to eliminate duplication and confusion. ALIL also seeks the deletion of clause 275, which proposes a maximum 10-year consent duration for certain activities, or the broadening of the ability to seek a longer consent duration.\n",
      "\n"
     ]
    },
    {
     "data": {
      "text/html": [
       "<a href=https:////////www.parliament.nz////resource////en-NZ////53SCEN_EVI_129831_EN15723////198d8335d17523c77c82ab8169d0313c1d1d8c1a>Read the full submission</a>"
      ],
      "text/plain": [
       "<IPython.core.display.HTML object>"
      ]
     },
     "metadata": {},
     "output_type": "display_data"
    },
    {
     "data": {
      "text/html": [
       "<b>PCE (Comment on departmental report - tranches 1 and 2) – Official advice</b>"
      ],
      "text/plain": [
       "<IPython.core.display.HTML object>"
      ]
     },
     "metadata": {},
     "output_type": "display_data"
    },
    {
     "name": "stdout",
     "output_type": "stream",
     "text": [
      "The main recommendation in this briefing is to make several amendments to the Spatial Planning Bill and Tranches 1 & 2 of the Natural and Built Environment Bill. These amendments include requiring Regional Spatial Strategies to be consistent with environmental limits and targets, including places of national and regional importance in the scope of Regional Spatial Strategies, delaying the preparation of Regional Spatial Strategies until limits, targets, and places of importance have been set, and strengthening the language around cumulative effects. Other recommendations include clarifying the purpose of the Act to protect the health of the natural environment, requiring the Minister to have particular regard to the Aotearoa New Zealand Biodiversity Strategy, and amending the exemptions regime to be more stringent.\n",
      "\n"
     ]
    },
    {
     "data": {
      "text/html": [
       "<a href=https:////////www.parliament.nz////resource////en-NZ////53SCEN_ADV_129831_EN16914////647b8348605214d6f50fbc4c70e36c45749959ca>Read the full submission</a>"
      ],
      "text/plain": [
       "<IPython.core.display.HTML object>"
      ]
     },
     "metadata": {},
     "output_type": "display_data"
    },
    {
     "data": {
      "text/html": [
       "<b>Rangitata Diversion Race Management Ltd Supp 1 – Submission</b>"
      ],
      "text/plain": [
       "<IPython.core.display.HTML object>"
      ]
     },
     "metadata": {},
     "output_type": "display_data"
    },
    {
     "name": "stdout",
     "output_type": "stream",
     "text": [
      "The main argument in this submission is that the Natural and Built Environment Bill does not adequately provide for the security of infrastructure, specifically in relation to water supply. The CEO of Rangitata Diversion Race Management Ltd (RDRML) highlights the importance of the RDR, NZ's largest water delivery scheme, which provides reliable water for irrigation, stockwater supply, and hydrogeneration. The CEO emphasizes the significant investment and economic benefit derived from the RDR and argues that short consent durations, as proposed in the bill, are unworkable for major water supply infrastructure owners like RDRML. They believe that long-term access to freshwater is necessary to justify and maintain the investments required for such infrastructure. The CEO also raises concerns about the move away from the \"first in first served\" allocation principle and the potential impact on the viability of projects and investment in new infrastructure. RDRML advocates for a maximum consent term of 35 years, as currently allowed under the Resource Management Act, to be carried through into the new legislation.\n",
      "\n"
     ]
    },
    {
     "data": {
      "text/html": [
       "<a href=https:////////www.parliament.nz////resource////en-NZ////53SCEN_EVI_129831_EN15871////9218b775f9fa2e82fbfd3d87e3bd8e9080b969ee>Read the full submission</a>"
      ],
      "text/plain": [
       "<IPython.core.display.HTML object>"
      ]
     },
     "metadata": {},
     "output_type": "display_data"
    },
    {
     "data": {
      "text/html": [
       "<b>Ministry for the Environment (Aquaculture fact sheet) – Official advice</b>"
      ],
      "text/plain": [
       "<IPython.core.display.HTML object>"
      ]
     },
     "metadata": {},
     "output_type": "display_data"
    },
    {
     "name": "stdout",
     "output_type": "stream",
     "text": [
      "The briefing provides an overview of the provisions related to aquaculture in the Natural and Built Environment (NBE) Bill. It highlights the current system of managing aquaculture in the territorial sea under the Resource Management Act 1991 (RMA) and its planning instruments. The briefing identifies issues with the current system, including a lack of strategic spatial planning, lengthy and costly consenting processes, and limited industry growth. It also mentions the need to address new challenges such as climate change and cumulative effects.\n",
      "\n",
      "The main recommendation is to improve the management of aquaculture through national direction, spatial planning, flexible licensing, and a suitable allocation and charging framework. The briefing suggests the use of regional spatial strategies and zoning to simplify consenting processes and increase outcome certainty. It also recommends maintaining the allocation of space through a first-in, first-served approach, but allowing NBE plans to specify alternative allocation methods. The briefing proposes enhancements to the Minister responsible for aquaculture's powers to enable more active leadership in planning and allocation at a national or regional level. Additionally, it suggests the use of temporary stays on consent applications and the continuation of the undue adverse effects on fishing test under the Fisheries Act 1996.\n",
      "\n",
      "Overall, the main recommendation is to improve the management of aquaculture through strategic planning, streamlined consenting processes, and enhanced leadership at a national and regional level.\n",
      "\n"
     ]
    },
    {
     "data": {
      "text/html": [
       "<a href=https:////////www.parliament.nz////resource////en-NZ////53SCEN_ADV_129831_EN16923////de22b4ca1ca37319336386d324be3ad156fe55b7>Read the full submission</a>"
      ],
      "text/plain": [
       "<IPython.core.display.HTML object>"
      ]
     },
     "metadata": {},
     "output_type": "display_data"
    },
    {
     "data": {
      "text/html": [
       "<b>New Zealand Game Animal Council Supp 2 – Submission</b>"
      ],
      "text/plain": [
       "<IPython.core.display.HTML object>"
      ]
     },
     "metadata": {},
     "output_type": "display_data"
    },
    {
     "name": "stdout",
     "output_type": "stream",
     "text": [
      "The main argument of this submission is that adaptive co-management is a necessary approach for social-ecological governance in order to address the challenges of maintaining social and natural assets while sustaining ecosystem services. The author argues that conventional approaches to resource management are limited in their ability to address rapid changes in social-ecological systems, and that adaptive co-management provides a more flexible and responsive approach. The author also emphasizes the importance of understanding the role of institutions, organizations, and social networks in shaping social-ecological governance, and highlights the need for collaboration, social learning, and innovation in order to achieve effective adaptive co-management. The submission concludes by stating that there is no one-size-fits-all solution for social-ecological governance, and that a diversity of perspectives and interdisciplinary approaches are necessary to address the complexity of resource management challenges.\n",
      "\n"
     ]
    },
    {
     "data": {
      "text/html": [
       "<a href=https:////////www.parliament.nz////resource////en-NZ////53SCEN_EVI_129831_EN15933////3ebb9eb0b7af370132566a5d4a9c04606aad7b69>Read the full submission</a>"
      ],
      "text/plain": [
       "<IPython.core.display.HTML object>"
      ]
     },
     "metadata": {},
     "output_type": "display_data"
    },
    {
     "data": {
      "text/html": [
       "<b>Emily Grace (Comments on NBE Bill departmental report 3B - Notification provisions) – Official advice</b>"
      ],
      "text/plain": [
       "<IPython.core.display.HTML object>"
      ]
     },
     "metadata": {},
     "output_type": "display_data"
    },
    {
     "name": "stdout",
     "output_type": "stream",
     "text": [
      "The briefing is a report providing independent advice on the workability of the recommendations in the Departmental Reports on the Natural and Built Environment Bill and the Spatial Planning Bill. The focus of this report is on the notification provisions in Report 3B. The main recommendation is that the provisions on notification are confusing and the recommendations in the report will improve workability. The report suggests relocating the provisions related to plan-making and clarifying the purpose of notification. It also advises careful consideration of the introduction of an effects threshold for identifying affected parties, as it may retain the status quo and make changing the system challenging. The report suggests that the policy reason for identifying affected parties and their role in the new system should be made clear, and alternative approaches to identifying affected parties are proposed. Finally, the report recommends linking the wording \"likely state of the future environment\" to outcomes and providing clarity on the relationship between the effects threshold and the purpose of notification.\n",
      "\n"
     ]
    },
    {
     "data": {
      "text/html": [
       "<a href=https:////////www.parliament.nz////resource////en-NZ////53SCEN_ADV_129831_EN16959////f1b009405d1650630cc637995ee291cf6766120b>Read the full submission</a>"
      ],
      "text/plain": [
       "<IPython.core.display.HTML object>"
      ]
     },
     "metadata": {},
     "output_type": "display_data"
    },
    {
     "data": {
      "text/html": [
       "<b>Ministry for the Environment (Additional content for consideration customary fishing) – Official advice</b>"
      ],
      "text/plain": [
       "<IPython.core.display.HTML object>"
      ]
     },
     "metadata": {},
     "output_type": "display_data"
    },
    {
     "name": "stdout",
     "output_type": "stream",
     "text": [
      "The main recommendation from this briefing is to amend clause 117 to ensure that the National Planning Framework (NPF) does not place restrictions on fishing and the use of fisheries resources for non-commercial customary use activities. This recommendation is to ensure that the rights secured under the Fisheries Settlement are upheld in the wider resource management framework. The briefing also includes recommendations for clarifying the purpose and effect of rules in plans, improving the structure of provisions relating to the content of the NPF, and making technical changes to wording in certain clauses.\n",
      "\n"
     ]
    },
    {
     "data": {
      "text/html": [
       "<a href=https:////////www.parliament.nz////resource////en-NZ////53SCEN_ADV_129831_EN16926////4b6bf615c7b2c5243021b52176199272f42d16a6>Read the full submission</a>"
      ],
      "text/plain": [
       "<IPython.core.display.HTML object>"
      ]
     },
     "metadata": {},
     "output_type": "display_data"
    },
    {
     "data": {
      "text/html": [
       "<b>Rotokawa Joint Venture Limited – Submission</b>"
      ],
      "text/plain": [
       "<IPython.core.display.HTML object>"
      ]
     },
     "metadata": {},
     "output_type": "display_data"
    },
    {
     "name": "stdout",
     "output_type": "stream",
     "text": [
      "The Rotokawa Joint Venture Limited (RJV) supports the Natural and Built Environment Bill (NBE Bill) and Spatial Planning Bill (SP Bill) as part of the reform of the resource management system. RJV is a joint venture between Tauhara North No. 2 Trust and Mercury NZ Limited, and it operates geothermal power stations in the Taupō Volcanic Zone. \n",
      "\n",
      "RJV's submission focuses on the NBE Bill and raises several concerns and suggestions for amendments. They argue that the definition of infrastructure in the NBE Bill should be expanded to include all renewable electricity generation facilities, not just those directly connected to the National Grid. They also express concerns about the environmental limits and exemptions from those limits, stating that they should be clearer and more certain to support investment decision-making and the maintenance of existing generation facilities. RJV also suggests changes to the adaptive management approach, duration of consents, and the fast-track consenting process for infrastructure projects.\n",
      "\n",
      "In regards to the SP Bill, RJV supports the development of long-term, strategic spatial planning and believes that Regional Spatial Strategies can be an important tool for supporting electrification and the development of geothermal resources.\n",
      "\n",
      "Overall, RJV's submission seeks changes to the NBE Bill and SP Bill to better support geothermal electricity generation activities and provide clarity and certainty for investment and development in the sector.\n",
      "\n"
     ]
    },
    {
     "data": {
      "text/html": [
       "<a href=https:////////www.parliament.nz////resource////en-NZ////53SCEN_EVI_129831_EN15500////5bdd437482458cf80c6ff605f1af4b4fe87be53b>Read the full submission</a>"
      ],
      "text/plain": [
       "<IPython.core.display.HTML object>"
      ]
     },
     "metadata": {},
     "output_type": "display_data"
    },
    {
     "data": {
      "text/html": [
       "<b>New Zealand Federation of Freshwater Anglers Supp 1 – Submission</b>"
      ],
      "text/plain": [
       "<IPython.core.display.HTML object>"
      ]
     },
     "metadata": {},
     "output_type": "display_data"
    },
    {
     "name": "stdout",
     "output_type": "stream",
     "text": [
      "The author of this submission is expressing their support for the Natural and Built Environment Bill in New Zealand. They raise concerns about the state of Canterbury's freshwater, including nitrate pollution from intensive farming and factory waste water, over-abstraction of surface and groundwater for irrigation, and the degradation of the Rakai River. They argue that the bill, which aims to expedite development while protecting the environment, is incompatible and that a separate act to protect the natural environment would be more appropriate. They criticize the bill for minimizing public notification, retaining control by central government, allowing stakeholders who profit from environmentally harmful activities to influence decisions, and relying on collaboration and political compromise rather than solid science. They also highlight the failures of the Canterbury Regional Council and the negative impacts on the Rakaia River. They recommend the addition of provisions in the bill to compel regional councils to perform their statutory role and emphasize the need for better measurement and monitoring of complex systems like braided rivers and unconfined aquifers. The author also discusses the issue of diffuse nitrate pollution and its potential health impacts, as well as the negative effects of the Ecan Act 2010 on nitrate pollution from intensive farming. They argue that rushing development with compromised limits will further damage freshwater resources.\n",
      "\n"
     ]
    },
    {
     "data": {
      "text/html": [
       "<a href=https:////////www.parliament.nz////resource////en-NZ////53SCEN_EVI_129831_EN15734////fa7b7ddd319cb7950260e16f3ee9225d933298ed>Read the full submission</a>"
      ],
      "text/plain": [
       "<IPython.core.display.HTML object>"
      ]
     },
     "metadata": {},
     "output_type": "display_data"
    },
    {
     "data": {
      "text/html": [
       "<b>Quarry Operators joint submission – Submission</b>"
      ],
      "text/plain": [
       "<IPython.core.display.HTML object>"
      ]
     },
     "metadata": {},
     "output_type": "display_data"
    },
    {
     "name": "stdout",
     "output_type": "stream",
     "text": [
      "This submission is made by four quarry operators in New Zealand, who collectively produce a significant portion of the country's aggregate resources. The submission focuses on six specific concerns related to the proposed Resource Management System Reform Bills. \n",
      "\n",
      "One of the main arguments made by the Quarry Operators is the need for higher recognition and protection of access to aggregate resources. They argue that the current system does not prioritize the protection of these resources, leading to the sterilization of valuable resources due to other land uses. The Quarry Operators propose amendments to ensure the protection and efficient extraction of aggregate resources, including the inclusion of a definition of aggregate resources based on the Crown Minerals Act 1991.\n",
      "\n",
      "Another argument made by the Quarry Operators is the need for regional spatial strategies to not only identify areas appropriate for developing natural resources, including aggregate resources, but also provide for their protection, necessary ancillary activities, and transport routes. They propose amending the Spatial Planning Bill to specifically provide for aggregate resources in the strategies.\n",
      "\n",
      "The Quarry Operators also argue for the specific identification of aggregate resources within the plans and the facilitation of their use and development.\n",
      "\n",
      "Overall, the Quarry Operators seek to retain the current form of Part 3 and Schedule 6 to enable them to seek changes to the National Policy Framework (NPF) in relation to the protection and development of regionally significant aggregate resources. They also request the opportunity to address the Committee directly on the matters raised in their submission.\n",
      "\n"
     ]
    },
    {
     "data": {
      "text/html": [
       "<a href=https:////////www.parliament.nz////resource////en-NZ////53SCEN_EVI_129831_EN15497////35c6756cbae232e9d2bfd85a68b7ef920129a562>Read the full submission</a>"
      ],
      "text/plain": [
       "<IPython.core.display.HTML object>"
      ]
     },
     "metadata": {},
     "output_type": "display_data"
    },
    {
     "data": {
      "text/html": [
       "<b>National Council of Women of New Zealand Supp 1 – Submission</b>"
      ],
      "text/plain": [
       "<IPython.core.display.HTML object>"
      ]
     },
     "metadata": {},
     "output_type": "display_data"
    },
    {
     "name": "stdout",
     "output_type": "stream",
     "text": [
      "The National Council of Women of New Zealand (NCWNZ) made an oral submission to the Environment Select Committee on the Natural and Built Environments Bill. They advocate for healthy environments that prioritize the wellbeing of all individuals, including women, children, Māori, diverse communities, and those with disabilities. The NCWNZ supports the Purpose of the Act and the principles of Te Tiriti o Waitangi.\n",
      "\n",
      "The NCWNZ argues that the definition of the environment in the bill does not adequately consider the wellbeing of the natural and built environments and their communities. They believe that ecological integrity, mana, and mauri should be central to support healthy outcomes, including human health and wellbeing. They also recommend the inclusion of amenity values to contribute to people's appreciation of the environment.\n",
      "\n",
      "Regarding climate change, the NCWNZ suggests that the Act should be strengthened to build resilience and mitigate its effects. They emphasize the importance of protecting resources such as air, water, and biodiversity and managing land activity to address the climate crisis. They also highlight the need for low carbon infrastructure and urban planning that considers climatic circumstances.\n",
      "\n",
      "The NCWNZ raises concerns about the National Planning Framework (NPF), arguing that it should integrate human and environmental health and wellbeing. They believe that the centralization of power in government and standardized decision-making processes may hinder community engagement and reduce equality, particularly for women.\n",
      "\n",
      "The NCWNZ criticizes an extraordinary clause in the Act that prohibits considering adverse effects on low-income individuals when assessing applications. They argue that this clause is regressive, discriminatory, and violates equality and human rights.\n",
      "\n",
      "Additionally, the NCWNZ calls for gender balance in appointments to regional planning committees and boards of inquiry to ensure diversity of knowledge and thinking. They emphasize the importance of considering the wellbeing of women and children in planning for healthier environments.\n",
      "\n",
      "In conclusion, the NCWNZ recommends major reworking of the Act to prioritize healthier environments and equality. They propose redefining the environment, including amenity values, adopting an integrated framework to address the climate crisis, setting targets for human and environmental health, monitoring family violence statistics, and ensuring gender balance in appointments.\n",
      "\n"
     ]
    },
    {
     "data": {
      "text/html": [
       "<a href=https:////////www.parliament.nz////resource////en-NZ////53SCEN_EVI_129831_EN15931////0fbad555b57cebd48ebce75173f796c8f3a8720f>Read the full submission</a>"
      ],
      "text/plain": [
       "<IPython.core.display.HTML object>"
      ]
     },
     "metadata": {},
     "output_type": "display_data"
    },
    {
     "data": {
      "text/html": [
       "<b>Taupō District Council – Submission</b>"
      ],
      "text/plain": [
       "<IPython.core.display.HTML object>"
      ]
     },
     "metadata": {},
     "output_type": "display_data"
    },
    {
     "name": "stdout",
     "output_type": "stream",
     "text": [
      "The Taupō District Council generally supports the objectives of the Natural and Built Environment Bill and the Spatial Planning Bill. They appreciate the outcome-based planning approach and the integration of spatial planning within the resource management framework. They also support the clear national direction provided by the National Planning Framework and the inclusion of mana whenua representation.\n",
      "\n",
      "However, the council raises concerns about the scale and pace of change being driven by the government, particularly in relation to the Three Waters Reform, RMA reform, and Local Government Reform. They argue that there is insufficient time and space to properly consider these reforms and engage with communities. They also express concerns about the poor alignment between the Bills and the Three Waters reform, recommending that the connection between the new resource management system and the delivery of water infrastructure should be a priority.\n",
      "\n",
      "The council also highlights a disconnect between the proposed planning model and existing institutions and governance arrangements. They suggest that the Local Government Reform should have been carried out prior to the RMA reform to ensure appropriate governance structures are in place. They also raise concerns about the drain on practitioners and the limited pool of subject matter experts, which will place pressure on councils and ratepayers.\n",
      "\n",
      "In terms of regional planning, the council suggests that councils that span multiple regions should be able to tailor their level of involvement in regional spatial strategies and natural and built environment plans. They also express concerns about planning for matters that cross regional boundaries, particularly the connections between the Waikato and Bay of Plenty regions. They propose strengthening the regional spatial planning process to address these interregional issues without setting up more committees.\n",
      "\n",
      "Lastly, the council emphasizes the value of subregional planning and the need to recognize and strengthen its role. They argue that subregional and local spatial planning exercises have been effective in managing relevant issues at appropriate scales and have achieved significant investment and community buy-in. They do not want to lose the value associated with these planning exercises.\n",
      "\n"
     ]
    },
    {
     "data": {
      "text/html": [
       "<a href=https:////////www.parliament.nz////resource////en-NZ////53SCEN_EVI_129831_EN15588////b9282f6e4869cb4d6767ef441bc3f1e699c4fb01>Read the full submission</a>"
      ],
      "text/plain": [
       "<IPython.core.display.HTML object>"
      ]
     },
     "metadata": {},
     "output_type": "display_data"
    },
    {
     "data": {
      "text/html": [
       "<b>Bay of Plenty Regional Council – Submission</b>"
      ],
      "text/plain": [
       "<IPython.core.display.HTML object>"
      ]
     },
     "metadata": {},
     "output_type": "display_data"
    },
    {
     "name": "stdout",
     "output_type": "stream",
     "text": [
      "The submission on the Natural and Built Environment and Spatial Planning Bills on behalf of the Bay of Plenty Regional Council Toi Moana raises several concerns and suggestions. \n",
      "\n",
      "1. The submission supports changes to improve processes and outcomes in the resource management system, including strengthened involvement of tāngata whenua, environmental limits, and outcome-based planning. \n",
      "\n",
      "2. Concerns are raised about the Regional Planning Committees (RPC), which are seen as administratively and politically difficult and may undermine the environmental objectives of the reform. The submission suggests that a joint committee under the Local Government Act would be a more practical and appropriate option. \n",
      "\n",
      "3. The submission highlights the need for clarity and guidance on giving effect to the Treaty of Waitangi principles throughout the Bills. It also raises concerns about the establishment of a National Māori Entity and the process for upholding Treaty settlements. \n",
      "\n",
      "4. The submission supports the setting of environmental limits but raises concerns about the Minister's discretion to grant exemptions to these limits. It suggests that the independent Limits and Targets Review Panel should have a role in granting exemptions. \n",
      "\n",
      "5. The submission expresses concerns about the management of geothermal resources and suggests amendments to the Bill to better address the unique characteristics of geothermal areas. \n",
      "\n",
      "6. The submission supports local government involvement in the development of the National Planning Framework and suggests that local authorities should be directly engaged, rather than relying solely on representative organizations. \n",
      "\n",
      "7. Concerns are raised about the allocation of resources and the lack of guidance on how the allocation principles should be implemented. The submission suggests that further guidance is needed to ensure consistency and fairness in allocation decisions. \n",
      "\n",
      "8. The submission raises concerns about the fast-track consenting process and suggests that local consent authorities should remain involved in the processing and decision-making of complex applications. \n",
      "\n",
      "Overall, the submission supports the goals of the Bills but raises several concerns and suggestions for improvement.\n",
      "\n"
     ]
    },
    {
     "data": {
      "text/html": [
       "<a href=https:////////www.parliament.nz////resource////en-NZ////53SCEN_EVI_129831_EN15316////0a34531b9a32fd53ad5122850b931c975e9be1b0>Read the full submission</a>"
      ],
      "text/plain": [
       "<IPython.core.display.HTML object>"
      ]
     },
     "metadata": {},
     "output_type": "display_data"
    },
    {
     "data": {
      "text/html": [
       "<b>Ministry for the Environment (Explanation of weighting terminology for SP and NBE Bills) – Official advice</b>"
      ],
      "text/plain": [
       "<IPython.core.display.HTML object>"
      ]
     },
     "metadata": {},
     "output_type": "display_data"
    },
    {
     "name": "stdout",
     "output_type": "stream",
     "text": [
      "The briefing explains the weighting terminology used in the Spatial Planning Bill and Natural and Built Environment Bill. It provides the general policy intent behind each term and how they are intended to be used in their wider context. The briefing also notes that the use of \"may\" or \"must\" with these terms will affect their hierarchy.\n",
      "\n",
      "The main recommendation is to provide a strong directive and create a firm obligation on decision-makers to implement something by using the term \"give effect.\" This term requires careful justification and puts a strong direction on decision-makers. Another recommendation is to have particular regard to certain factors, which means decision-makers should consider them and give them weight. The briefing also suggests that decision-makers can discount factors that are not relevant.\n",
      "\n",
      "Other recommendations include having regard to or taking into account certain factors, which carry a less strong obligation and allow decision-makers to attribute weight as they see fit. The briefing also recommends ensuring consistency between documents and avoiding inconsistency with the subject.\n",
      "\n",
      "Overall, the main recommendation is to use the term \"give effect\" to provide a strong directive and create a firm obligation on decision-makers.\n",
      "\n"
     ]
    },
    {
     "data": {
      "text/html": [
       "<a href=https:////////www.parliament.nz////resource////en-NZ////53SCEN_ADV_129831_EN16738////3b15c8bff2ff18bf191a5ca100433b551b28ac7e>Read the full submission</a>"
      ],
      "text/plain": [
       "<IPython.core.display.HTML object>"
      ]
     },
     "metadata": {},
     "output_type": "display_data"
    },
    {
     "data": {
      "text/html": [
       "<b>Far North District Council – Submission</b>"
      ],
      "text/plain": [
       "<IPython.core.display.HTML object>"
      ]
     },
     "metadata": {},
     "output_type": "display_data"
    },
    {
     "name": "stdout",
     "output_type": "stream",
     "text": [
      "The Far North District Council has submitted feedback on the Natural and Built Environment Bill (NBEA) and Spatial Planning Bill (SPA). The council raises several key issues, including the limited financial resources due to government-owned land and restrictions on Māori land development. They also express concerns about the prescriptive nature of central government and regional council policies, the burden of protecting significant natural areas on landowners, and the lack of clarity around the role of local government in the new framework. The council also highlights the challenges of meaningful participation and representation for tangata whenua (Māori) in the new resource management system. They emphasize the need for clear processes, adequate resourcing, and funding support from central government. The council supports the setting of environmental limits and targets but raises concerns about the transfer of work and costs to the Regional Planning Committees (RPC) in establishing these limits and targets. They also express concerns about the funding and resourcing of the RPC and the lack of control over how the money is spent. The council emphasizes the importance of aligning the NBEA and SPA with other ongoing reform work, such as the Climate Adaptation Act and three waters reform. Overall, the council emphasizes the need for appropriate implementation, resourcing, and alignment with other reforms for the success of the NBEA and SPA.\n",
      "\n"
     ]
    },
    {
     "data": {
      "text/html": [
       "<a href=https:////////www.parliament.nz////resource////en-NZ////53SCEN_EVI_129831_EN15473////5fdfaf79786ecf9bf9484293edb012836d36ea3e>Read the full submission</a>"
      ],
      "text/plain": [
       "<IPython.core.display.HTML object>"
      ]
     },
     "metadata": {},
     "output_type": "display_data"
    },
    {
     "data": {
      "text/html": [
       "<b>Northland Regional Council Supp2 – Submission</b>"
      ],
      "text/plain": [
       "<IPython.core.display.HTML object>"
      ]
     },
     "metadata": {},
     "output_type": "display_data"
    },
    {
     "name": "stdout",
     "output_type": "stream",
     "text": [
      "The submission requests several amendments to the National and Built Environment Bill (NBE Bill) and the Spatial Planning Bill (SP Bill). The main arguments for the amendments include:\n",
      "\n",
      "1. Hierarchy between system outcomes: The submission argues for a clearer hierarchy between system outcomes, prioritizing environmental protection, climate change, highly productive soils, and Māori values.\n",
      "\n",
      "2. Strengthened role for Māori: The submission seeks to clearly identify the principles of Te Tiriti o Waitangi that should be given effect to under both Acts. It also requests amendments to establish a clear nomination process for membership on the National Māori Entity and to allow iwi and hapū committees to make appointments of representatives to regional planning committees.\n",
      "\n",
      "3. National Planning Framework: The submission calls for amendments to require pre-notification engagement with Māori and local government, as well as addressing their feedback in the publicly notified NPF proposal. It also seeks the inclusion of transitional environmental limits and targets within the NPF.\n",
      "\n",
      "4. Integration with NBE Bill: The submission argues for the integration of the NBE Bill and SP Bill into one piece of legislation.\n",
      "\n",
      "5. Role of local authorities: The submission requests that local authorities retain a strong voice in regional planning committees and the development of Regional Spatial Strategies and NBE Plans. It also calls for greater weight on local authority statements of environmental and community outcomes and the replacement of the RPC concept with the Joint Committee structure.\n",
      "\n",
      "6. Consent duration and notification changes: The submission seeks an increase in the maximum duration of consents and amendments to the notification requirements for discretionary activities. It also calls for greater direction and consistency in the notification of resource consent applications to iwi and hapū.\n",
      "\n",
      "7. Compliance monitoring and enforcement: The submission requests greater detail and direction regarding monitoring obligations and the relationship of cost recovery for monitoring and enforcement.\n",
      "\n",
      "Overall, the submission argues for amendments that prioritize environmental protection, Māori values, and local government involvement in the planning and resource management processes. It also calls for clarity, consistency, and adequate funding to support the implementation of the new legislation.\n",
      "\n"
     ]
    },
    {
     "data": {
      "text/html": [
       "<a href=https:////////www.parliament.nz////resource////en-NZ////53SCEN_EVI_129831_EN15601////2e93e75b82d84cc39da8e2ece3b5544a17f4d035>Read the full submission</a>"
      ],
      "text/plain": [
       "<IPython.core.display.HTML object>"
      ]
     },
     "metadata": {},
     "output_type": "display_data"
    },
    {
     "data": {
      "text/html": [
       "<b>Queen Elizabeth the Second National Trust – Submission</b>"
      ],
      "text/plain": [
       "<IPython.core.display.HTML object>"
      ]
     },
     "metadata": {},
     "output_type": "display_data"
    },
    {
     "name": "stdout",
     "output_type": "stream",
     "text": [
      "The Queen Elizabeth the Second National Trust (QEII) supports the need for reform of New Zealand's resource management regime and agrees with the principles of the Natural and Built Environment Bill (NBE Bill) that aim to protect and enhance native biodiversity. However, QEII has concerns about the language and drafting of the NBE Bill, which they believe may lead to uncertainty and poor environmental outcomes. They are particularly concerned about the broad considerations for notification in the consenting process, the lack of hierarchy in the list of system outcomes, the conceptualization of environmental limits, and the provisions for the protection of places of national importance. QEII suggests simplifying and clarifying these aspects of the bill to ensure better protection for the environment.\n",
      "\n"
     ]
    },
    {
     "data": {
      "text/html": [
       "<a href=https:////////www.parliament.nz////resource////en-NZ////53SCEN_EVI_129831_EN15584////cd997e56598f3d8718ec338186d1d62dd9260dad>Read the full submission</a>"
      ],
      "text/plain": [
       "<IPython.core.display.HTML object>"
      ]
     },
     "metadata": {},
     "output_type": "display_data"
    },
    {
     "data": {
      "text/html": [
       "<b>Te Korowai o Ngāruahine Trust – Submission</b>"
      ],
      "text/plain": [
       "<IPython.core.display.HTML object>"
      ]
     },
     "metadata": {},
     "output_type": "display_data"
    },
    {
     "name": "stdout",
     "output_type": "stream",
     "text": [
      "This submission is made by Te Korowai o Ngāruahine Trust on the Natural and Built Environment (NBE) Bill and Spatial Planning Bills (SPA Bill). The main argument of the submission is that the Bills are not Te Tiriti o Waitangi compliant and do not adequately uphold Tiriti settlements. The submission calls for the Bills to explicitly recognize and uphold Tiriti settlements, ensure 50:50 representation of central/local government and iwi/hapū on Regional Planning Committees (RPCs), and provide adequate resourcing for iwi and hapū to participate in the planning process. The submission also highlights the need for the Bills to address iwi and hapū rights and interests in freshwater and to ensure the recognition of Māori expertise and perspectives in decision-making processes. Overall, the submission argues for the inclusion of stronger provisions to protect and uphold the rights and interests of Ngāruahine and other iwi and hapū.\n",
      "\n"
     ]
    },
    {
     "data": {
      "text/html": [
       "<a href=https:////////www.parliament.nz////resource////en-NZ////53SCEN_EVI_129831_EN15581////879e1cd76da72c4e77d42e22b3185b446558b8d2>Read the full submission</a>"
      ],
      "text/plain": [
       "<IPython.core.display.HTML object>"
      ]
     },
     "metadata": {},
     "output_type": "display_data"
    },
    {
     "data": {
      "text/html": [
       "<b>EnviroNZ – Submission</b>"
      ],
      "text/plain": [
       "<IPython.core.display.HTML object>"
      ]
     },
     "metadata": {},
     "output_type": "display_data"
    },
    {
     "name": "stdout",
     "output_type": "stream",
     "text": [
      "Enviro NZ Limited, a waste management company in New Zealand, has submitted a response to the Natural and Built Environment Bill and the Spatial Planning Bill. The company supports the reform of the resource management system but has concerns about certain aspects of the bills. \n",
      "\n",
      "Enviro NZ emphasizes the importance of the waste industry in providing essential services and infrastructure for healthy communities. They request that the bills adequately recognize and provide for the waste industry, its infrastructure, and its services. They also support the inclusion of waste management facilities in the definition of infrastructure in the NBA Bill. However, they express concerns about the \"ongoing and timely provision\" of waste infrastructure and the need for funding and capacity within the industry.\n",
      "\n",
      "One of the main changes proposed in the NBA Bill is the setting of environmental limits and the requirement that development and use of the environment only occur within those limits. Enviro NZ supports the use of limits for greater certainty and consistency but has concerns about the preparation and implementation of new limits.\n",
      "\n",
      "The submission also addresses other areas of the bills that Enviro NZ supports or has concerns about, including the definition of infrastructure, environmental outcomes, the inclusion of Te Tiriti o Waitangi principles, resourcing for iwi and hapū, and transitional provisions.\n",
      "\n",
      "Enviro NZ requests to be heard in support of its submission.\n",
      "\n"
     ]
    },
    {
     "data": {
      "text/html": [
       "<a href=https:////////www.parliament.nz////resource////en-NZ////53SCEN_EVI_129831_EN15472////59fc2c1b339d45f539a2e687e8b163b9a032d069>Read the full submission</a>"
      ],
      "text/plain": [
       "<IPython.core.display.HTML object>"
      ]
     },
     "metadata": {},
     "output_type": "display_data"
    },
    {
     "data": {
      "text/html": [
       "<b>Ministry for the Environment (Response to Regulations Review Committee Letter) – Official advice</b>"
      ],
      "text/plain": [
       "<IPython.core.display.HTML object>"
      ]
     },
     "metadata": {},
     "output_type": "display_data"
    },
    {
     "name": "stdout",
     "output_type": "stream",
     "text": [
      "The main recommendation in this briefing is to amend the Natural and Built Environment Bill to include specific safeguards and requirements for certain provisions. These include expanding the list of exclusions for delegation of powers, clarifying the commencement process, clarifying the purpose of the National Planning Framework, clarifying the process for the development of the first National Planning Framework, clarifying the process for exemptions from environmental limits, consolidating and clarifying regulations for market-based allocation, clarifying the process for making and changing the National Planning Framework, clarifying the rules for plans, addressing a drafting error regarding critical habitats, reviewing the caps on prescribed infringement fees, clarifying that regulations are secondary legislation, addressing concerns about windfall gains in market-based allocation, amending emergency response regulations, clarifying the role of the Minister for Emergency Response, and adding safeguards to the general regulation-making power.\n",
      "\n"
     ]
    },
    {
     "data": {
      "text/html": [
       "<a href=https:////////www.parliament.nz////resource////en-NZ////53SCEN_ADV_129831_EN16922////4b80596e2ad18603436596f7ad7f728054f654bb>Read the full submission</a>"
      ],
      "text/plain": [
       "<IPython.core.display.HTML object>"
      ]
     },
     "metadata": {},
     "output_type": "display_data"
    },
    {
     "data": {
      "text/html": [
       "<b>New Zealand Telecommunications Forum – Submission</b>"
      ],
      "text/plain": [
       "<IPython.core.display.HTML object>"
      ]
     },
     "metadata": {},
     "output_type": "display_data"
    },
    {
     "name": "stdout",
     "output_type": "stream",
     "text": [
      "The New Zealand Telecommunications Forum (TCF) has submitted a response to the Natural and Built Environment (NBE) and Spatial Planning (SP) Bills. The TCF supports the aims of the bills but raises concerns and suggests changes in several areas. \n",
      "\n",
      "Firstly, the TCF emphasizes the importance of the telecommunications industry as a provider of critical infrastructure, and the need for the industry to engage with the resource management system to install, maintain, and upgrade network infrastructure. They support the aims of the reforms to simplify and speed up the resource management process, but highlight the need to update existing standards for telecommunications before they are transitioned into the new National Planning Framework (NPF). They recommend extending the timeframe for the first NPF to come into force and including infrastructure providers in the engagement process.\n",
      "\n",
      "The TCF also argues that the bills do not go far enough in ensuring that national infrastructure priorities are considered at the local level and in the plan-making process. They recommend changes to the bills to require earlier consultation with network utility operators and the communication of investment priorities through a national spatial strategy or statements of regional priorities.\n",
      "\n",
      "Funding for infrastructure is another concern raised by the TCF. They argue that without adequate funding, the integration of infrastructure in land use development will not be achieved. They recommend requiring developers to contribute to infrastructure funding and providing more direction in the bills regarding infrastructure funding.\n",
      "\n",
      "The TCF also raises concerns about how the system outcomes will be balanced, particularly in the event of conflicts between environmental outcomes and infrastructure outcomes. They recommend amending the infrastructure outcome to have more directive language and clarifying the role of decision-makers in managing conflicts between incompatible land uses.\n",
      "\n",
      "Additionally, the TCF expresses concerns about the proposed permitted activity notices (PANs) and the potential for them to slow down access to telecommunications services. They recommend exempting network utility operators from the requirement to obtain a PAN or limiting PAN requirements to the NPF rather than regional plans.\n",
      "\n",
      "The TCF suggests several other changes to the bills, including addressing the management of conflicts between incompatible land uses, providing clear consenting pathways for infrastructure in areas with environmental limits, promoting multi-party infrastructure corridors, and ensuring certainty in the transitional provisions.\n",
      "\n",
      "Overall, the TCF supports the aims of the bills but highlights areas where they believe improvements and amendments are necessary to better accommodate the needs of the telecommunications industry and ensure the effective integration of infrastructure in land use planning.\n",
      "\n"
     ]
    },
    {
     "data": {
      "text/html": [
       "<a href=https:////////www.parliament.nz////resource////en-NZ////53SCEN_EVI_129831_EN15486////fe1264fbd237e9ef89e3cc6bd23fbbc004abad2c>Read the full submission</a>"
      ],
      "text/plain": [
       "<IPython.core.display.HTML object>"
      ]
     },
     "metadata": {},
     "output_type": "display_data"
    },
    {
     "data": {
      "text/html": [
       "<b>Insurance Council of New Zealand Supp 1 – Submission</b>"
      ],
      "text/plain": [
       "<IPython.core.display.HTML object>"
      ]
     },
     "metadata": {},
     "output_type": "display_data"
    },
    {
     "name": "stdout",
     "output_type": "stream",
     "text": [
      "The Insurance Council of New Zealand (ICNZ) supports the Natural and Built Environment Bill and believes that it is crucial to consider the long-term view and take a precautionary approach in managing climate risks. They argue that the bill should require a \"build back better\" approach after natural disasters and even consider avoiding rebuilding in high-risk areas. The ICNZ also emphasizes the importance of reducing risks and improving resilience to natural hazards and climate change. They suggest that the bill should provide guidance on what is considered tolerable levels of risk and that managing climate change risk should be given significant weighting and priority. The ICNZ also calls for clear roles and responsibilities between this bill, the Climate Change Adaptation Act, and the Spatial Planning Act to ensure a coherent and efficient regime. They have no objection to a prohibition on the use of insurance for fines and penalties.\n",
      "\n"
     ]
    },
    {
     "data": {
      "text/html": [
       "<a href=https:////////www.parliament.nz////resource////en-NZ////53SCEN_EVI_129831_EN15477////fdd2024cdaf840f62d8db2e2829f355462f70497>Read the full submission</a>"
      ],
      "text/plain": [
       "<IPython.core.display.HTML object>"
      ]
     },
     "metadata": {},
     "output_type": "display_data"
    },
    {
     "data": {
      "text/html": [
       "<b>Manawa Energy – Submission</b>"
      ],
      "text/plain": [
       "<IPython.core.display.HTML object>"
      ]
     },
     "metadata": {},
     "output_type": "display_data"
    },
    {
     "name": "stdout",
     "output_type": "stream",
     "text": [
      "Manawa Energy Ltd, a renewable electricity generator in New Zealand, has submitted its concerns about the Natural and Built Environment Bill. One of the key issues raised by Manawa Energy is the short-term freshwater consents and the impact it will have on renewable electricity generation. The company argues that the Bill fails to meet its objective of enabling renewable electricity generation by drawing an arbitrary distinction between grid-connected and non-grid-connected schemes. Manawa Energy suggests expanding the scope of exemptions to include renewable electricity schemes connected to the local distribution network. They argue that the current provisions put distributed generation at a disadvantage compared to grid-connected generation and create a market imbalance. Manawa Energy also raises concerns about the recognition of infrastructure in the Bill and the potential roadblocks for critical infrastructure projects. They call for stronger recognition of infrastructure services and the inclusion of renewable electricity generation in the system outcomes. The company also highlights the need for appropriate pathways through potential roadblocks for infrastructure projects. Overall, Manawa Energy seeks amendments to the Bill to ensure a level playing field for all electricity generators and to address the concerns raised.\n",
      "\n"
     ]
    },
    {
     "data": {
      "text/html": [
       "<a href=https:////////www.parliament.nz////resource////en-NZ////53SCEN_EVI_129831_EN15813////363c8d4e137466e6e84ca2532f036c3c8e1559ed>Read the full submission</a>"
      ],
      "text/plain": [
       "<IPython.core.display.HTML object>"
      ]
     },
     "metadata": {},
     "output_type": "display_data"
    },
    {
     "data": {
      "text/html": [
       "<b>MfE (Initial briefing 3 - Attachment 5.1 (b10)- Consenting slides) [updated] – Official advice</b>"
      ],
      "text/plain": [
       "<IPython.core.display.HTML object>"
      ]
     },
     "metadata": {},
     "output_type": "display_data"
    },
    {
     "name": "stdout",
     "output_type": "stream",
     "text": [
      "The briefing discusses various aspects of the Spatial Planning Bill and Natural and Built Environment Bill. It highlights key points related to the consenting process, decision-making criteria, notification requirements, and alternative consenting pathways. \n",
      "\n",
      "The main recommendation is to adopt a more efficient and outcome-focused approach to consenting. This includes clearer activity categories, monitoring of permitted activities, and a strategic approach to notification. The briefing also recommends reducing requirements for hearing notified consents and restrictions on requesting further information. Additionally, it suggests removing the council's ability to extend timeframes beyond a certain limit.\n",
      "\n",
      "Other recommendations include the establishment of voluntary regional alternative dispute resolution (ADR) for controlled activities, the introduction of new consenting pathways for nationally significant proposals and specified housing and infrastructure projects, and the inclusion of provisions for adaptive management and variation of consent conditions.\n",
      "\n",
      "Overall, the briefing emphasizes the need for a streamlined and effective consenting process that prioritizes outcomes and reduces unnecessary delays.\n",
      "\n"
     ]
    },
    {
     "data": {
      "text/html": [
       "<a href=https:////////www.parliament.nz////resource////en-NZ////53SCEN_ADV_129831_EN17221////3a82e19bb289505eb96cb9b16568b95dda36e840>Read the full submission</a>"
      ],
      "text/plain": [
       "<IPython.core.display.HTML object>"
      ]
     },
     "metadata": {},
     "output_type": "display_data"
    },
    {
     "data": {
      "text/html": [
       "<b>New Zealand Law Society Supp 2 – Submission</b>"
      ],
      "text/plain": [
       "<IPython.core.display.HTML object>"
      ]
     },
     "metadata": {},
     "output_type": "display_data"
    },
    {
     "name": "stdout",
     "output_type": "stream",
     "text": [
      "The Law Society's Property Law Section has reviewed the Natural and Built Environment Bill and identified issues with road vesting on subdivisions. The current law requires owners of land with easements or covenants to either consent to the subdivision and vesting of land as road or surrender their rights. However, in cases where there are many lots involved, it is not practical to obtain consent from all parties, leading to delays and additional costs. The Law Society recommends amending clause 583 of the Bill to only require consent from the registered owner of the land being subdivided and the mortgagee or encumbrancee. They also propose prioritizing the right of the territorial authority to take land as reserve subject to existing interests, and only requiring consent from the registered owner and mortgagee or encumbrancee. This would simplify the subdivision process and avoid unnecessary costs and delays. The Law Society recommends redrafting clause 583(4) of the Bill to reflect these changes.\n",
      "\n"
     ]
    },
    {
     "data": {
      "text/html": [
       "<a href=https:////////www.parliament.nz////resource////en-NZ////53SCEN_EVI_129831_EN15483////ce1cb0ff236870c8868d4e80c3228ee5776f2c7c>Read the full submission</a>"
      ],
      "text/plain": [
       "<IPython.core.display.HTML object>"
      ]
     },
     "metadata": {},
     "output_type": "display_data"
    },
    {
     "data": {
      "text/html": [
       "<b>Save the Basin Campaign Incorporated Supp 1 – Submission</b>"
      ],
      "text/plain": [
       "<IPython.core.display.HTML object>"
      ]
     },
     "metadata": {},
     "output_type": "display_data"
    },
    {
     "name": "stdout",
     "output_type": "stream",
     "text": [
      "The Save the Basin Campaign Incorporated has submitted an oral submission on the Natural and Built Environment Bill and Spatial Planning Bill. The group opposes the designation provisions in the bills, based on their experience fighting against the proposed Basin Bridge project in Wellington. They argue that the current designation process is flawed and allows for environmentally destructive projects to progress. They propose amendments to the legislation to ensure stronger environmental assessments and to prioritize the well-being of the environment and communities. They also express concerns about the inclusion of infrastructure in a bill aimed at protecting the environment and the lack of safeguards and appeal rights in the Regional Spatial Strategy provisions. The group suggests changes to address these issues and ensure that infrastructure projects are rigorously tested for their environmental and economic impact.\n",
      "\n"
     ]
    },
    {
     "data": {
      "text/html": [
       "<a href=https:////////www.parliament.nz////resource////en-NZ////53SCEN_EVI_129831_EN16134////f8d715a133eedc54e68bc4b3bcf56aea59b40de1>Read the full submission</a>"
      ],
      "text/plain": [
       "<IPython.core.display.HTML object>"
      ]
     },
     "metadata": {},
     "output_type": "display_data"
    },
    {
     "data": {
      "text/html": [
       "<b>Sustainable Seas National Science Challenge Supp 1 – Submission</b>"
      ],
      "text/plain": [
       "<IPython.core.display.HTML object>"
      ]
     },
     "metadata": {},
     "output_type": "display_data"
    },
    {
     "name": "stdout",
     "output_type": "stream",
     "text": [
      "The main argument in this submission is that the NBEB and SPB Bill should be amended to ensure that it accommodates the unique social-ecological attributes of the coastal marine ecosystem. The submission argues that policy developed to manage terrestrial systems may not be readily transferrable to the coastal marine environment. \n",
      "\n",
      "The submission also highlights the need for clarity in the hierarchy of purposes and outcomes in the Bill. It recommends that the primary and overarching purpose of the Bill should be te Oranga o Te Taiao, which takes priority over other objectives. It also suggests further definition of what \"recognising and upholding\" te Oranga o Te Taiao requires, as well as establishing a hierarchy of outcomes to avoid uncertainty and trade-offs.\n",
      "\n",
      "Additionally, the submission calls for further definitions in the Bill, particularly for terms related to the marine environment such as the coastal environment and estuaries. It also emphasizes the importance of integrated management and the need for a definition of this term.\n",
      "\n",
      "In terms of science, the submission argues for the consideration of connectivity and cumulative effects in the management of the coastal marine ecosystem. It suggests that the Bill should account for multiple stressors and the additional stress associated with a changing climate. The submission also highlights the need for clarity on the definition of ecological integrity and the attributes that should be monitored.\n",
      "\n",
      "Lastly, the submission addresses the need for defining management units and spatial planning in the coastal marine zone. It argues that arbitrary boundaries and poor spatial planning can hinder effective management and calls for an ecosystem-based management lens to consider connectivity and cumulative effects.\n",
      "\n",
      "Overall, the submission advocates for amendments to the NBEB and SPB Bill to ensure that it is fit for purpose and delivers positive outcomes for both people and the environment in the coastal marine ecosystem.\n",
      "\n"
     ]
    },
    {
     "data": {
      "text/html": [
       "<a href=https:////////www.parliament.nz////resource////en-NZ////53SCEN_EVI_129831_EN16125////cd5c2fe94d160e51dcf3cb69ac677698d793e6b7>Read the full submission</a>"
      ],
      "text/plain": [
       "<IPython.core.display.HTML object>"
      ]
     },
     "metadata": {},
     "output_type": "display_data"
    },
    {
     "data": {
      "text/html": [
       "<b>Ministry for the Environment (Additional advice on SP Bill hearings, 24 March 2023) – Official advice</b>"
      ],
      "text/plain": [
       "<IPython.core.display.HTML object>"
      ]
     },
     "metadata": {},
     "output_type": "display_data"
    },
    {
     "name": "stdout",
     "output_type": "stream",
     "text": [
      "The briefing discusses the issue of whether hearings should be mandatory in the regional spatial strategy (RSS) development process. The pros of mandatory hearings include ensuring engagement is not faceless, making the decision-making process more visible, and allowing for dialogue between submitters and decision-makers. The cons include the expense and time-consuming nature of formal hearings and the potential bias towards parties that can easily participate. The briefing recommends that if the committee wishes to require parties to be heard in person, it should be incorporated into the process in a way that meets the needs of the participants. The briefing suggests using the term \"present\" instead of \"hearing\" to allow for a wider range of ways for people to be heard, including virtual presentations. It also recommends that presentations be allowed at an early stage of the process rather than after a draft RSS has been publicly notified. The briefing proposes including a new requirement in recommendation 16 (vii) of the Spatial Planning Bill to provide clearer direction on what an RPC should consider when designing the engagement process. This includes considering the preferences and needs of interested parties, providing an opportunity for presentations, addressing barriers to participation, using digital tools, minimizing costs, encouraging collaboration, and seeking input on implementation. The briefing suggests discussing this proposal further on Monday morning.\n",
      "\n"
     ]
    },
    {
     "data": {
      "text/html": [
       "<a href=https:////////www.parliament.nz////resource////en-NZ////53SCEN_ADV_129831_EN16913////cc2b6a4e7f8ca6fc7f078290678e215f0a3e6010>Read the full submission</a>"
      ],
      "text/plain": [
       "<IPython.core.display.HTML object>"
      ]
     },
     "metadata": {},
     "output_type": "display_data"
    },
    {
     "data": {
      "text/html": [
       "<b>Ngai Tāmanuhiri, Rongowhakaata, and Te Aitanga A Mahaki – Submission</b>"
      ],
      "text/plain": [
       "<IPython.core.display.HTML object>"
      ]
     },
     "metadata": {},
     "output_type": "display_data"
    },
    {
     "name": "stdout",
     "output_type": "stream",
     "text": [
      "This submission is made by the three Iwi of Tūranga (Ngai Tāmanuhiri, Rongowhakaata, and Te Aitanga A Mahaki) regarding the Natural and Built Environment (NBE) Bill and Spatial Planning (SP) Bill. The main argument of the submission is that the provisions in the bills should uphold the Treaty settlements and respect the rights and interests of the Iwi in natural resources and taonga. The submission supports the Freshwater Iwi Leaders Group's comprehensive submission on the bills and calls for the retention or amendment of certain provisions to give effect to the intent of the Iwi. The submission also raises concerns about the notification processes, regional planning committees, iwi planning documents, Crown ownership of aggregate and geothermal resources, and water access for public use. The Iwi request amendments to the bills to address these concerns and ensure the protection of their rights and interests.\n",
      "\n"
     ]
    },
    {
     "data": {
      "text/html": [
       "<a href=https:////////www.parliament.nz////resource////en-NZ////53SCEN_EVI_129831_EN15937////f328359a9769ce716eb4f4efd8d20f06f6f75202>Read the full submission</a>"
      ],
      "text/plain": [
       "<IPython.core.display.HTML object>"
      ]
     },
     "metadata": {},
     "output_type": "display_data"
    },
    {
     "data": {
      "text/html": [
       "<b>Roderick Aldridge Supp 1 – Submission</b>"
      ],
      "text/plain": [
       "<IPython.core.display.HTML object>"
      ]
     },
     "metadata": {},
     "output_type": "display_data"
    },
    {
     "name": "stdout",
     "output_type": "stream",
     "text": [
      "The submitter, an 82-year-old retired orchardist and service worker, expresses their support for the Natural and Built Environment Bill (NBEB) and Spatial Planning Bill (SPB). They believe that these bills provide an opportunity to transform our way of life from one that disrupts ecosystems to one that regenerates them. The submitter agrees with the objective of protecting and restoring the natural environment for the well-being of present and future generations. They also support the shift in focus from managing adverse effects to promoting positive outcomes.\n",
      "\n",
      "The submitter argues that in order to achieve these objectives and outcomes, the bills need to prioritize them over development. They believe that the way our civilization has developed has disrupted ecosystems and caused the looming collapse of our ecosystems and economy. The submitter emphasizes the need to change from practices that degrade the environment to practices that regenerate it.\n",
      "\n",
      "The submitter identifies the underlying causes of ecosystem disruption as the over-exploitation of limited physical resources and the disruption of symbiotic interactions in healthy ecosystems. They also highlight the use of cheap energy from fossil fuels, which has enabled the scale and speed of this disruption.\n",
      "\n",
      "The submitter proposes solutions to address these issues, including the regeneration of ecosystems to a healthy state and the transformation of our technical/industrial system to use only sustainable energy and resources. They argue that regenerating ecosystems can have rapid and significant benefits, such as increasing soil fertility and preventing erosion. They suggest that enabling rapid change to regenerative practices can buy time while we transform our technical/industrial system.\n",
      "\n",
      "The submitter acknowledges the challenges in transforming the built environment to a less energy-intensive and environmentally benign state. They suggest that changes need to be coordinated and reinforce each other to be effective and less disruptive. They also emphasize the need to prioritize ecological/environmental benefits over monetary benefits in decision-making.\n",
      "\n",
      "Overall, the submitter supports the NBEB and SPB bills but believes that they could be strengthened to prioritize the environment and provide a favorable long-term future. They express support for the changes suggested by the Environmental Defence Society and suggest that more fundamental changes are needed to move towards a truly sustainable system.\n",
      "\n"
     ]
    },
    {
     "data": {
      "text/html": [
       "<a href=https:////////www.parliament.nz////resource////en-NZ////53SCEN_EVI_129831_EN15808////b20471bc20345fbf87186f97a5bdd63db84bda6b>Read the full submission</a>"
      ],
      "text/plain": [
       "<IPython.core.display.HTML object>"
      ]
     },
     "metadata": {},
     "output_type": "display_data"
    },
    {
     "data": {
      "text/html": [
       "<b>Wellington Water Supp 1 – Submission</b>"
      ],
      "text/plain": [
       "<IPython.core.display.HTML object>"
      ]
     },
     "metadata": {},
     "output_type": "display_data"
    },
    {
     "name": "stdout",
     "output_type": "stream",
     "text": [
      "Wellington Water Limited (WWL) has submitted a supplementary submission on the Natural and Built Environment Bill, requesting further amendments to align it with the government's three waters reforms. WWL argues that the same amended provisions in the Water Services Legislation Bill should be included in the NBE Bill to ensure consistency between the Resource Management Act and the new planning framework for three waters infrastructure. WWL proposes specific amendments to various clauses of the NBE Bill to align them with the changes proposed by the Three Waters Bill. The submission also requests the opportunity to address the Environment Select Committee in person.\n",
      "\n"
     ]
    },
    {
     "data": {
      "text/html": [
       "<a href=https:////////www.parliament.nz////resource////en-NZ////53SCEN_EVI_129831_EN15501////4258ce6ce589406e58931f5cb41bed716d59a618>Read the full submission</a>"
      ],
      "text/plain": [
       "<IPython.core.display.HTML object>"
      ]
     },
     "metadata": {},
     "output_type": "display_data"
    },
    {
     "data": {
      "text/html": [
       "<b>Ministry for the Environment (Info request - resource allocation) – Official advice</b>"
      ],
      "text/plain": [
       "<IPython.core.display.HTML object>"
      ]
     },
     "metadata": {},
     "output_type": "display_data"
    },
    {
     "name": "stdout",
     "output_type": "stream",
     "text": [
      "The briefing discusses resource allocation in the Natural and Built Environments (NBE) Bill and highlights the need for reform. The current system of resource allocation under the Resource Management Act 1991 is found to be unsustainable, inefficient, and inequitable, particularly for Māori. The briefing recommends the implementation of the resource allocation proposals in the NBE Bill, which include the use of allocation principles and a range of allocation methods such as comparative merit, market-based allocation, consensus, permitted activities, and the standard consenting process. The briefing also mentions the establishment of a freshwater working group and the development of allocation statements in collaboration with iwi and hapū. The main recommendation is to move towards a more deliberate and strategic approach to resource allocation by implementing the proposals in the NBE Bill.\n",
      "\n"
     ]
    },
    {
     "data": {
      "text/html": [
       "<a href=https:////////www.parliament.nz////resource////en-NZ////53SCEN_ADV_129831_EN11607////80b1d047483051b2174326fa89fa5dd0fdc3f7e4>Read the full submission</a>"
      ],
      "text/plain": [
       "<IPython.core.display.HTML object>"
      ]
     },
     "metadata": {},
     "output_type": "display_data"
    },
    {
     "data": {
      "text/html": [
       "<b>Ministry for the Environment (Issues relating to regional planning committees) – Official advice</b>"
      ],
      "text/plain": [
       "<IPython.core.display.HTML object>"
      ]
     },
     "metadata": {},
     "output_type": "display_data"
    },
    {
     "name": "stdout",
     "output_type": "stream",
     "text": [
      "The main recommendation in this briefing is to establish regional planning committees (RPCs) with independent decision-making powers. The briefing states that RPCs are essential for a shift to a regionalized planning approach, as they bring together local authorities and Māori to make joint decisions on regional spatial strategies (RSS) or national environmental standards (NBE) plans. The briefing recommends against requiring individual councils to ratify RPC decisions, as this would undermine the joint decision-making approach. It also recommends enabling all local authorities to appoint a member to an RPC and allowing Māori members to be appointed by iwi authorities and groups representing hapū. The briefing emphasizes the importance of accountability and ensuring that RPC members are democratically accountable to their communities. It also addresses concerns about a loss of local voice in the plan-making process, stating that RPCs are required to consult with the community and consider statements of community outcomes and regional environmental outcomes. The briefing recommends some minor changes to strengthen the role of RPC subcommittees and clarify secretariat arrangements. It also addresses the issue of regional boundaries, stating that aligning RPC boundaries with regional council boundaries supports integrated land use planning and natural resource management. The briefing recommends that unitary authorities establish one RPC and produce one RSS and plan for the combined area, while also acknowledging the need for separate plans in cases where there are significant geographic separations and unique issues. The briefing recommends setting statutory deadlines for establishing RPCs and providing flexibility for extensions if needed. Overall, the main recommendation is to establish independent RPCs to enable effective collaboration and decision-making at the regional level.\n",
      "\n"
     ]
    },
    {
     "data": {
      "text/html": [
       "<a href=https:////////www.parliament.nz////resource////en-NZ////53SCEN_ADV_129831_EN16756////c8c40b94b41b23410aa22c1a0c5789972e0aefa5>Read the full submission</a>"
      ],
      "text/plain": [
       "<IPython.core.display.HTML object>"
      ]
     },
     "metadata": {},
     "output_type": "display_data"
    },
    {
     "data": {
      "text/html": [
       "<b>Emily Grace (independent advice on NBE Bill departmental report 1) – Official advice</b>"
      ],
      "text/plain": [
       "<IPython.core.display.HTML object>"
      ]
     },
     "metadata": {},
     "output_type": "display_data"
    },
    {
     "name": "stdout",
     "output_type": "stream",
     "text": [
      "The main recommendation in this briefing is to make several amendments to the Natural and Built Environment Bill to improve its workability. The briefing provides independent advice on the recommendations in the Departmental Report related to the bill. The recommendations include clarifying the drafting of certain clauses, adding a limb on managing effects as a key mechanism, defining outcomes and their purpose, and making changes to decision-making principles. The briefing also addresses recommendations on the National Planning Framework and Places of National Importance. The System Efficiency Working Group's report is also discussed, with recommendations on Te Tiriti o Waitangi, system outcomes, decision-making principles, and the national planning framework. Overall, the briefing suggests that the recommendations in the Departmental Report generally have a neutral or positive effect on the workability of the bill.\n",
      "\n"
     ]
    },
    {
     "data": {
      "text/html": [
       "<a href=https:////////www.parliament.nz////resource////en-NZ////53SCEN_ADV_129831_EN16941////acfb718e83d8a96c992ad8c2379f9f503b7b2caf>Read the full submission</a>"
      ],
      "text/plain": [
       "<IPython.core.display.HTML object>"
      ]
     },
     "metadata": {},
     "output_type": "display_data"
    },
    {
     "data": {
      "text/html": [
       "<b>Environment Institute of Australia and New Zealand – Submission</b>"
      ],
      "text/plain": [
       "<IPython.core.display.HTML object>"
      ]
     },
     "metadata": {},
     "output_type": "display_data"
    },
    {
     "name": "stdout",
     "output_type": "stream",
     "text": [
      "The Environment Institute of Australia and New Zealand (EIANZ) has submitted their position on the 'Draft Natural and Built Environment Act' (NBEA). They support the broad changes represented by the NBEA, including the emphasis on strategic level plans and more directive outcomes and targets. However, they have concerns about the specific provisions in the bill, particularly regarding language and terminology. They argue for greater clarity and consistency in the definition and meaning of terms used in the NBEA to avoid unnecessary debates. They also support the inclusion of ecological integrity as the measure of protection but suggest amendments to the definition to include resilience and representativeness. They support the use of an Adaptive Management approach but raise concerns about potential misuse and suggest amendments to ensure that effects are reversible. They also support the establishment of a 'Limits and Targets Review Panel' but suggest that panellists should have expertise and experience as practitioners. They support the setting of environmental limits and targets but seek clarity on the status of targets set for environmental limits and express concerns about the language used in relation to adverse effects and unacceptable damage. Overall, EIANZ supports the NBEA but seeks greater clarity, consistency, and practicality in its implementation.\n",
      "\n"
     ]
    },
    {
     "data": {
      "text/html": [
       "<a href=https:////////www.parliament.nz////resource////en-NZ////53SCEN_EVI_129831_EN15738////938b1d1741e496f27280ae6599715266d06e833f>Read the full submission</a>"
      ],
      "text/plain": [
       "<IPython.core.display.HTML object>"
      ]
     },
     "metadata": {},
     "output_type": "display_data"
    },
    {
     "data": {
      "text/html": [
       "<b>Ministry for the Environment (Info request - NBE consent categories) – Official advice</b>"
      ],
      "text/plain": [
       "<IPython.core.display.HTML object>"
      ]
     },
     "metadata": {},
     "output_type": "display_data"
    },
    {
     "name": "stdout",
     "output_type": "stream",
     "text": [
      "The briefing discusses the potential activity categories and notification examples under the NBE (Natural and Built Environments) plan. It provides examples of different activities and their corresponding requirements, approvals, and decision-making processes. The main recommendation is to adopt the NBE approach, which includes a shift towards less focus on managing effects, being specific about the intent of each consent type, reducing consent categories, and expanding the scope of permitted activities. The briefing also mentions the need to balance the protection of urban vegetation with urban development and intensification. Additionally, it discusses the removal of blanket tree protection rules and the potential increase in consent numbers. The briefing suggests rebating environmental contributions for good environmental practice and enabling the NPF (National Policy Framework) to signal methods or direction for wider tree protection rules.\n",
      "\n"
     ]
    },
    {
     "data": {
      "text/html": [
       "<a href=https:////////www.parliament.nz////resource////en-NZ////53SCEN_ADV_129831_EN11608////aebcd3ea653e6e0b55ede51b4a13b21b2276fb34>Read the full submission</a>"
      ],
      "text/plain": [
       "<IPython.core.display.HTML object>"
      ]
     },
     "metadata": {},
     "output_type": "display_data"
    },
    {
     "data": {
      "text/html": [
       "<b>Hamilton City Council Supp4 – Submission</b>"
      ],
      "text/plain": [
       "<IPython.core.display.HTML object>"
      ]
     },
     "metadata": {},
     "output_type": "display_data"
    },
    {
     "name": "stdout",
     "output_type": "stream",
     "text": [
      "The Hamilton City Council is submitting a memo to the Environment Select Committee regarding the Spatial Planning Bill and the Natural and Built Environment Bill. The council argues that the Future Proof partnership, which is a collaboration between local government, central government, and iwi, should be the basis for future sub-regional spatial planning in the Waikato region. They believe that the existing regional boundaries are not suitable for the new planning frameworks proposed in the bills. The Future Proof partnership was established in 2007 to address growth pressures, lack of collaboration and leadership in growth management, and the need for integrated land use and transport planning. The partnership is governed by the Future Proof Implementation Committee, which includes representatives from partner councils, tangata whenua, and various government agencies. The council highlights the achievements of the Future Proof partnership in implementing the settlement pattern and key principles, incorporating the strategy into regional and district plans, and securing funding for projects like the Waikato Expressway. They also mention the ongoing review and update of the Future Proof Strategy and the upcoming completion of a Future Development Strategy to meet the requirements of the National Policy Statement on Urban Development. The council attaches additional documents, including the Future Proof Implementation Committee's agreement and terms of reference, an induction presentation, and a document on opportunities and risks for urban growth partnerships from legislative reform.\n",
      "\n"
     ]
    },
    {
     "data": {
      "text/html": [
       "<a href=https:////////www.parliament.nz////resource////en-NZ////53SCEN_EVI_129831_EN16153////e80de2212b1e88cce1ed3a4951fc10f3344343b9>Read the full submission</a>"
      ],
      "text/plain": [
       "<IPython.core.display.HTML object>"
      ]
     },
     "metadata": {},
     "output_type": "display_data"
    },
    {
     "data": {
      "text/html": [
       "<b>Port Nicholson Settlement Block Trust – Submission</b>"
      ],
      "text/plain": [
       "<IPython.core.display.HTML object>"
      ]
     },
     "metadata": {},
     "output_type": "display_data"
    },
    {
     "name": "stdout",
     "output_type": "stream",
     "text": [
      "The Port Nicholson Block Settlement Trust (PNBST) has submitted a response to the Natural and Built Environments (NBE) Bill and Spatial Planning Bill, which aim to replace the Resource Management Act 1991. The main arguments in the submission are as follows:\n",
      "\n",
      "1. Upholding the Durability of the Port Nicholson Block Settlement: PNBST emphasizes the importance of maintaining the durability of their settlement with the Crown. They argue that any amendments made to the settlement as part of the new legislation should uphold the authority, well-being, traditions, and independence of Taranaki Whānui. They also highlight the need for informed negotiation and consensus to avoid risking the underlying relationship between Taranaki Whānui and the Crown.\n",
      "\n",
      "2. Representation of Māori on Regional Planning Committees (RPC): PNBST believes that the proposed minimum provision for Māori representation on RPCs falls short of the principles of partnership and equality outlined in Te Tiriti o Waitangi. They argue that a 50/50 membership model between the Crown/local government and iwi/hapū is necessary to truly represent a partnership. They also criticize the convoluted and inefficient process for determining and appointing Māori representatives to RPCs.\n",
      "\n",
      "3. Statutory Acknowledgements: PNBST supports the retention of provisions that strengthen the notification processes for iwi and hapū under the new legislation. They argue for the elevation of the legal weighting of statutory acknowledgements and for their embedding within plans, rather than being treated as mere attachments.\n",
      "\n",
      "Overall, PNBST emphasizes the importance of upholding the durability of their settlement, ensuring equal representation for Māori on RPCs, and strengthening the notification processes for iwi and hapū. They express a willingness to engage constructively with the Crown to ensure the fulfillment of their obligations under Te Tiriti o Waitangi.\n",
      "\n"
     ]
    },
    {
     "data": {
      "text/html": [
       "<a href=https:////////www.parliament.nz////resource////en-NZ////53SCEN_EVI_129831_EN15496////c78422ff9d288d9fa6b93a6b14e9631981d40c82>Read the full submission</a>"
      ],
      "text/plain": [
       "<IPython.core.display.HTML object>"
      ]
     },
     "metadata": {},
     "output_type": "display_data"
    },
    {
     "data": {
      "text/html": [
       "<b>Ministry for the Environment (Table of departmental report changes for navigation) – Official advice</b>"
      ],
      "text/plain": [
       "<IPython.core.display.HTML object>"
      ]
     },
     "metadata": {},
     "output_type": "display_data"
    },
    {
     "name": "stdout",
     "output_type": "stream",
     "text": [
      "The main recommendation in this briefing is to amend various clauses in the NBE Bill to clarify and improve their wording. Some of the specific recommendations include amending subclauses to clarify the promotion of development capacity in urban areas, adding direction on enabling the supply of fresh vegetables in the NPF, clarifying accessibility to recreational opportunities, amending the definition of 'bed' for braided rivers, and clarifying the appropriate consent authority for framework rules. Other recommendations include clarifying engagement requirements with local government, iwi, and the National Māori Entity, clarifying the review of the national planning framework, and amending notification provisions for notices of requirement. Overall, the recommendations aim to improve the clarity and effectiveness of the NBE Bill.\n",
      "\n"
     ]
    },
    {
     "data": {
      "text/html": [
       "<a href=https:////////www.parliament.nz////resource////en-NZ////53SCEN_ADV_129831_EN17084////81233071df0eb7403c681b23c14e98f5219b82fd>Read the full submission</a>"
      ],
      "text/plain": [
       "<IPython.core.display.HTML object>"
      ]
     },
     "metadata": {},
     "output_type": "display_data"
    },
    {
     "data": {
      "text/html": [
       "<b>Ministry for the Environment (Info request - case law on amenity) – Official advice</b>"
      ],
      "text/plain": [
       "<IPython.core.display.HTML object>"
      ]
     },
     "metadata": {},
     "output_type": "display_data"
    },
    {
     "name": "stdout",
     "output_type": "stream",
     "text": [
      "This briefing discusses how the Resource Management Act (RMA) refers to amenity values. Amenity values are defined as the natural or physical qualities and characteristics of an area that contribute to people's appreciation of its pleasantness, aesthetic coherence, and cultural and recreational attributes. The RMA includes amenity values in its definition of the environment and requires that all persons exercising functions and powers under the Act have particular regard to the maintenance and enhancement of amenity values.\n",
      "\n",
      "The briefing also mentions a recent case, Wallace v Auckland Council, which involved a judicial review of a decision not to notify a resource consent application for a housing development. The case highlighted the importance of assessing the building intensity, scale, location, form, and appearance of a proposed activity in relation to the neighborhood character and residential amenity of the area. The court emphasized that the effects of building intensity include the effects of the numbers of buildings on site and the activities within those buildings.\n",
      "\n",
      "Another case, Schofield v Auckland Council, demonstrated the subjective nature of determining amenity values. The case involved an application for resource consent to build a deck on a private dwelling. The assessment of amenity values was described as partly subjective but also needing to be objectively scrutinized. The starting point for assessing amenity values is articulated by those who enjoy them, including their activities and emotions associated with the space.\n",
      "\n",
      "The main recommendation or takeaway from this briefing is the importance of considering and assessing amenity values in the planning and decision-making processes under the RMA. This includes evaluating the building intensity, scale, location, form, and appearance of proposed activities in relation to the neighborhood character and residential amenity of an area. It also highlights the need to objectively scrutinize and test the assessment of amenity values, taking into account both subjective and objective factors.\n",
      "\n"
     ]
    },
    {
     "data": {
      "text/html": [
       "<a href=https:////////www.parliament.nz////resource////en-NZ////53SCEN_ADV_129831_EN11609////fb11414217c669b5b3785ba87b68f0df3fb53672>Read the full submission</a>"
      ],
      "text/plain": [
       "<IPython.core.display.HTML object>"
      ]
     },
     "metadata": {},
     "output_type": "display_data"
    },
    {
     "data": {
      "text/html": [
       "<b>Tony Watkins Supp 2 – Submission</b>"
      ],
      "text/plain": [
       "<IPython.core.display.HTML object>"
      ]
     },
     "metadata": {},
     "output_type": "display_data"
    },
    {
     "name": "stdout",
     "output_type": "stream",
     "text": [
      "The main argument in this submission is that the current response to the climate crisis is inadequate and that a change in attitude and thinking is necessary. The author argues that the current approach is merely an excuse for avoiding fundamental change to a consumer growth economy. They suggest that changing our way of seeing and thinking would cost nothing and could dramatically improve our quality of life. The author also criticizes the current legal system, stating that it is anthropocentric and contributes to the climate crisis. They advocate for an earth-centered legal system and argue that the current political structures are disabling rather than enabling. The author emphasizes the importance of embracing nature and designing architecture that strengthens the relationship between people and the planet. They argue that the climate crisis is a consequence of failed attempts to \"manage\" the planet and that a positive and creative approach is needed to address it. The submission concludes by stating that the climate crisis is a human crisis and that moral and ethical dilemmas need to be addressed on an individual level.\n",
      "\n"
     ]
    },
    {
     "data": {
      "text/html": [
       "<a href=https:////////www.parliament.nz////resource////en-NZ////53SCEN_EVI_129831_EN15818////802009442c3d4e9b1a0c66ea8ccf9aa92312e3a4>Read the full submission</a>"
      ],
      "text/plain": [
       "<IPython.core.display.HTML object>"
      ]
     },
     "metadata": {},
     "output_type": "display_data"
    },
    {
     "data": {
      "text/html": [
       "<b>Ryman Healthcare Limited Supp 1 – Submission</b>"
      ],
      "text/plain": [
       "<IPython.core.display.HTML object>"
      ]
     },
     "metadata": {},
     "output_type": "display_data"
    },
    {
     "name": "stdout",
     "output_type": "stream",
     "text": [
      "The main argument presented by John Collyns on behalf of the Retirement Villages Association (RVA) is that the current Resource Management Act (RMA) has caused major challenges for retirement villages in New Zealand. The RVA argues that the RMA processes are slow, complex, and uncertain, leading to lengthy consenting processes and regulatory barriers for retirement developments. They emphasize the increasing demand for retirement villages due to the growing aged population and the need for housing that suits their needs. The RVA supports the Natural and Built Environment Bill (NBEB) and the Spatial Planning Bill, particularly the National Planning Framework (NPF) as a comprehensive national policy and rule regime for housing activities, including retirement villages. They also support the focus on achieving positive outcomes, the streamlining of decision-making processes, and the fast-track consenting process for housing. However, the RVA suggests that changes are needed in the Bills to prioritize housing needs, clarify resource consent processes, address environmental limits and cultural protections, and improve public participation in regional spatial strategies. \n",
      "\n",
      "Matthew Brown, on behalf of Ryman Healthcare Limited, supports the arguments made by the RVA and emphasizes the delays and uncertainty caused by RMA processes in the retirement housing sector. Ryman, as a leading retirement village operator, constructs a significant number of new dwellings each year and has experienced the lengthy resource consent process. They support the initiatives in the Bills that aim to streamline planning and consenting processes but express concerns about the time and complexity of implementing the new regime. Ryman agrees with the RVA's key outcomes and supports the inclusion of Medium Density Residential Standards (MDRS) in the National Planning Framework.\n",
      "\n",
      "During the hearing session, the RVA and Ryman provided further insights and responses to questions from the Select Committee. They discussed examples of best practice in consenting and planning processes, the need for clear planning provisions, the importance of engaging with councils and communities to ensure understanding of retirement villages, the role of regional spatial strategies in addressing housing needs for the aging population, and the infrastructure issues that can lead to consent refusals.\n",
      "\n",
      "Overall, the main argument presented by the RVA and Ryman is that the current RMA processes are inadequate for addressing the housing needs of the aging population and that the Natural and Built Environment Bill and the Spatial Planning Bill provide an opportunity to improve and streamline the regulatory framework for retirement villages.\n",
      "\n"
     ]
    },
    {
     "data": {
      "text/html": [
       "<a href=https:////////www.parliament.nz////resource////en-NZ////53SCEN_EVI_129831_EN16776////8a7d8c2de94bb2e749ade232c43e485f503b9dd2>Read the full submission</a>"
      ],
      "text/plain": [
       "<IPython.core.display.HTML object>"
      ]
     },
     "metadata": {},
     "output_type": "display_data"
    },
    {
     "data": {
      "text/html": [
       "<b>Karaponga Hydro Limited Supp 1 – Submission</b>"
      ],
      "text/plain": [
       "<IPython.core.display.HTML object>"
      ]
     },
     "metadata": {},
     "output_type": "display_data"
    },
    {
     "name": "stdout",
     "output_type": "stream",
     "text": [
      "The main argument in this submission is that distributed generation (DG) of electricity, specifically small-scale hydroelectric power schemes, should be eligible for 35-year consents, just like grid-connected generation. The author, an engineer with experience in the hydroelectric power industry, believes that education and exposure to renewable energy build resilience in both individuals and the environment. They highlight their own work in developing small-scale hydroelectric power schemes and their efforts to educate children about renewable energy through a solar array project at a local school. However, they argue that this work is only possible when there is a future in distributed generation. \n",
      "\n",
      "The author also discusses the Karaponga Hydro scheme, which they purchased in 2011 and have since made improvements to, including replacing the penstock and turbine. They emphasize the thorough consent process and ongoing monitoring of the scheme's environmental impact. They argue that the scheme is of regional and national significance and should be eligible for a 35-year consent, in line with the regional and national policy statements for renewable electricity generation.\n",
      "\n",
      "The author expresses concern about the recent purchase of the national grid by the local distribution network operator, Horizon Energy, and the potential negative impact on renewable electricity generation assets connected to the grid. They argue that limiting the consent for distributed generation to 10 years while grid-connected generation retains a 35-year consent is unfair and will have negative impacts on climate change goals and other environmental outcomes. They believe that this distinction is anti-competitive, reduces investment, increases costs, and leads to a less resilient supply and higher prices of electricity.\n",
      "\n",
      "The author concludes by stating that a secure long-term strategy is needed for positive environmental outcomes and that all renewable electricity activities, including distributed generation, should be eligible for 35-year consents to meet climate change goals.\n",
      "\n"
     ]
    },
    {
     "data": {
      "text/html": [
       "<a href=https:////////www.parliament.nz////resource////en-NZ////53SCEN_EVI_129831_EN15896////40237325f2f68fba2711db71829c742432fbde80>Read the full submission</a>"
      ],
      "text/plain": [
       "<IPython.core.display.HTML object>"
      ]
     },
     "metadata": {},
     "output_type": "display_data"
    },
    {
     "data": {
      "text/html": [
       "<b>Ministry for the Environment (Indicative NPF content) – Official advice</b>"
      ],
      "text/plain": [
       "<IPython.core.display.HTML object>"
      ]
     },
     "metadata": {},
     "output_type": "display_data"
    },
    {
     "name": "stdout",
     "output_type": "stream",
     "text": [
      "This briefing outlines the proposed content for the National Planning Framework (NPF) in various domains such as freshwater, urban development, infrastructure, coastal and marine, biodiversity, soil, air, climate change and natural hazards, cultural heritage, outstanding natural features and landscapes, highly productive land, and plan processes. It includes the direction, policies, standards, regulations, and monitoring requirements for each domain. \n",
      "\n",
      "The briefing also mentions the need for future amendments to the NPF to incorporate emerging national direction and requirements. This includes potential amendments to the NPF based on the Resource Management Act (RMA) and the Natural and Built Environment Bill (NBE Bill). The proposed content for future amendments includes plantation forestry, drinking water, renewable electricity generation, electricity transmission, indigenous biodiversity, natural hazards, minimum level targets, enabling papakāinga on Māori land, places of national importance, and further direction on system outcomes not covered by existing RMA national direction.\n",
      "\n",
      "The main recommendation is to proceed with the proposed content for the first NPF and to continue working on determining the scope and content for future amendments to the NPF.\n",
      "\n"
     ]
    },
    {
     "data": {
      "text/html": [
       "<a href=https:////////www.parliament.nz////resource////en-NZ////53SCEN_ADV_129831_EN16737////2919b376ec9766b08552297801081bdabafc7dd1>Read the full submission</a>"
      ],
      "text/plain": [
       "<IPython.core.display.HTML object>"
      ]
     },
     "metadata": {},
     "output_type": "display_data"
    },
    {
     "data": {
      "text/html": [
       "<b>Bay of Plenty Regional Councils – Submission</b>"
      ],
      "text/plain": [
       "<IPython.core.display.HTML object>"
      ]
     },
     "metadata": {},
     "output_type": "display_data"
    },
    {
     "name": "stdout",
     "output_type": "stream",
     "text": [
      "The Bay of Plenty Councils have submitted a joint submission on the Natural and Built Environment (NBE) Bill and Spatial Planning (SP) Bill. They express concerns about the lack of integration, sequencing, and timing between the major reform areas being progressed by the government, including the Future for Local Government and Three Waters reforms. They argue that the lack of integration creates uncertainty and confusion for local government and its stakeholders. \n",
      "\n",
      "The Councils specifically raise concerns about the proposed Regional Planning Committees (RPCs), which they believe will diminish local voice and input, as well as impose significant additional costs on ratepayers. They argue that the RPCs will have a lot of power but lack accountability to councils, iwi, hapū, and communities. They also express concerns about the disconnect between responsibility for drafting policy and democratic accountability.\n",
      "\n",
      "The Councils recommend that the RPCs address these concerns by providing better integration between planning and funding decisions and elevating the role of local and regional councils in the planning and decision-making process. They also suggest that the review of the draft Regional Spatial Strategy should be a mandatory requirement.\n",
      "\n",
      "The Councils also raise concerns about the lack of clarity regarding the content and purpose of Statements of Community Outcomes (SCOs) and Statements of Regional Environmental Outcomes (SREOs). They argue that these documents should be developed using the Local Government Act process and given increased weight in decision-making.\n",
      "\n",
      "In terms of Te Tiriti and tangata whenua involvement, the Councils support the strengthening of Te Tiriti obligations but call for further guidance on how to give effect to the Treaty principles. They also recommend that the Crown contribute to the resourcing of engagement agreements and dispute resolution processes.\n",
      "\n",
      "The Councils highlight the logistical challenges for territorial authorities that cross regional boundaries and call for clarity on how they will be represented on RPCs.\n",
      "\n",
      "Lastly, the Councils seek recognition of local place-based plans and sub-regional plans that have been developed under the Local Government Act and call for an appropriate funding and transition plan to support effective implementation and collaboration. They also emphasize the need for sufficient capacity, capability, and training to implement the new system.\n",
      "\n"
     ]
    },
    {
     "data": {
      "text/html": [
       "<a href=https:////////www.parliament.nz////resource////en-NZ////53SCEN_EVI_129831_EN15587////3d0a1a80a26764bda55d951cd59e25de9741bc70>Read the full submission</a>"
      ],
      "text/plain": [
       "<IPython.core.display.HTML object>"
      ]
     },
     "metadata": {},
     "output_type": "display_data"
    },
    {
     "data": {
      "text/html": [
       "<b>Kaikōura District Council Supp 1 – Submission</b>"
      ],
      "text/plain": [
       "<IPython.core.display.HTML object>"
      ]
     },
     "metadata": {},
     "output_type": "display_data"
    },
    {
     "name": "stdout",
     "output_type": "stream",
     "text": [
      "The Kaikōura District Council has submitted a response to the Spatial Planning Bill, expressing support for the need for greater integration of resource management and infrastructure legislative systems. However, the council argues that several amendments are necessary to ensure the effectiveness of spatial strategies. \n",
      "\n",
      "The council's main arguments are as follows:\n",
      "\n",
      "1. Reduce political interference: The council believes that the bill allows for central government political interference in spatial planning, which goes against good governance practice. They argue that the government's role should be setting national planning policy and legislation, not directing regional and district spatial planning matters. They propose that any changes should be directed by an independent authority, such as the Environment Court, to ensure decisions are based on evidence and good practice.\n",
      "\n",
      "2. Broaden the scope of the appointing body's review: The council requests a broader scope for appointing bodies to review draft spatial strategies. They argue that the current scope, which only focuses on identifying errors and risks, limits the opportunity for appointing bodies to provide valuable feedback on the draft strategy. They propose that appointing bodies should be able to comment on opportunities, issues, local knowledge, community concerns, and other matters.\n",
      "\n",
      "3. Recognize existing planning strategies: The council wants the bill to explicitly recognize existing district spatial strategies and the direction provided by them when considering the level of detail to be provided with regional spatial strategies. They argue that many councils have invested significant resources in developing these plans and they should not be forgotten.\n",
      "\n",
      "4. Ensure integration with other relevant legislation: The council requests that the bill explicitly states that regional spatial strategies need to integrate with the Water Services Entities Act 2022, the Climate Change Response Act 2002, and the Climate Change Adaptation Act. They argue that land use planning needs to integrate with three waters planning and climate change adaptation planning to ensure effective and coordinated decision-making.\n",
      "\n",
      "The council also expresses concerns about the aggressive timeline of the reform agenda and the lack of \"active listening\" by central government agencies in the process. They believe that the focus should be on good planning outcomes rather than political timeframes.\n",
      "\n"
     ]
    },
    {
     "data": {
      "text/html": [
       "<a href=https:////////www.parliament.nz////resource////en-NZ////53SCEN_EVI_129831_EN15936////6af3ef5ccb9c1710a4ba0b9d5bd9ba0b2c92e5b0>Read the full submission</a>"
      ],
      "text/plain": [
       "<IPython.core.display.HTML object>"
      ]
     },
     "metadata": {},
     "output_type": "display_data"
    },
    {
     "data": {
      "text/html": [
       "<b>Ministry for the Environment (Departmental report - Tranche 2 - Appendix 2) – Official advice</b>"
      ],
      "text/plain": [
       "<IPython.core.display.HTML object>"
      ]
     },
     "metadata": {},
     "output_type": "display_data"
    },
    {
     "name": "stdout",
     "output_type": "stream",
     "text": [
      "The main recommendation of this briefing is to make amendments to the Marine and Coastal Area (Takutai Moana) Act 2011 (te Takutai Moana Act) by replacing certain definitions and cross-references with those from the Natural and Built Environments Act 2023 (NBA). The briefing recommends replacing RMA-related definitions in the te Takutai Moana Act with NBA definitions for various terms such as aquaculture activities, coastal permit, consent authority, environment, kaitiakitanga, plan, proposed plan, public notice, regional council, and resource consent. It also suggests retaining the RMA definition of infrastructure and network utility operator for te Takutai Moana Act purposes instead of using the broader NBA definitions. Other recommendations include inserting NBA definitions, replacing RMA-related definitions, and correcting cross-references in various sections of the te Takutai Moana Act. The briefing also recommends making amendments to the transitional provisions of the Act to align with the NBA and Spatial Planning Act 2023.\n",
      "\n"
     ]
    },
    {
     "data": {
      "text/html": [
       "<a href=https:////////www.parliament.nz////resource////en-NZ////53SCEN_ADV_129831_EN16744////4aa46842ccc11384b88dfee1766a407a28c31f84>Read the full submission</a>"
      ],
      "text/plain": [
       "<IPython.core.display.HTML object>"
      ]
     },
     "metadata": {},
     "output_type": "display_data"
    },
    {
     "data": {
      "text/html": [
       "<b>MfE (Further advice about reinserting public access areas as a place of national importance) – Official advice</b>"
      ],
      "text/plain": [
       "<IPython.core.display.HTML object>"
      ]
     },
     "metadata": {},
     "output_type": "display_data"
    },
    {
     "name": "stdout",
     "output_type": "stream",
     "text": [
      "The officials do not recommend reinserting public access areas into the definition of places of national importance (PNI) for several reasons. They argue that the PNI framework is designed to manage places with attributes that cannot be replaced or substituted for, and public access areas can often be replaced or substituted. They also note that existing public access is well protected by other legal mechanisms, such as vesting land in the Crown or councils, and there are extensive laws that restrict road stopping. They also point out that many places that legally provide public access are not actually used for that purpose, and including public access in the definition could potentially reduce public access. They also mention that the similar Australian framework for managing places of national significance does not cover places that provide public access.\n",
      "\n"
     ]
    },
    {
     "data": {
      "text/html": [
       "<a href=https:////////www.parliament.nz////resource////en-NZ////53SCEN_ADV_129831_EN17230////2691c644b9aa14abc513b98d774ff0b2ff188704>Read the full submission</a>"
      ],
      "text/plain": [
       "<IPython.core.display.HTML object>"
      ]
     },
     "metadata": {},
     "output_type": "display_data"
    },
    {
     "data": {
      "text/html": [
       "<b>Northport Limited – Submission</b>"
      ],
      "text/plain": [
       "<IPython.core.display.HTML object>"
      ]
     },
     "metadata": {},
     "output_type": "display_data"
    },
    {
     "name": "stdout",
     "output_type": "stream",
     "text": [
      "cultural heritage, landscapes, and natural character. Northport supports the idea of protecting these places but is concerned about the practical implications of the provisions. They believe that the provisions may inappropriately prohibit many activities without the ability to assess their appropriateness. Northport suggests that the definition of these areas should be clearly defined in the Bill to provide clarity and certainty. They also emphasize the need for appropriate pathways to be provided for development in these areas.\n",
      "\n"
     ]
    },
    {
     "data": {
      "text/html": [
       "<a href=https:////////www.parliament.nz////resource////en-NZ////53SCEN_EVI_129831_EN15616////f22448ac736c4756396fb262fbf5e52065f55415>Read the full submission</a>"
      ],
      "text/plain": [
       "<IPython.core.display.HTML object>"
      ]
     },
     "metadata": {},
     "output_type": "display_data"
    },
    {
     "data": {
      "text/html": [
       "<b>New Zealand Planning Institute Emerging Planners Group – Submission</b>"
      ],
      "text/plain": [
       "<IPython.core.display.HTML object>"
      ]
     },
     "metadata": {},
     "output_type": "display_data"
    },
    {
     "name": "stdout",
     "output_type": "stream",
     "text": [
      "The main argument put forward by the Emerging Planners Group (EPs) in their submission on the Natural and Built Environment Bill and the Spatial Planning Bill is that the proposed reform of the resource management system does not go far enough in protecting the natural environment and honoring Te Tiriti o Waitangi. The EPs argue for a single priority that prioritizes the protection of the natural environment above all else, and for true co-governance with iwi and hapū. They also express concerns about the complexity and accessibility of the proposed system, and call for a more iterative process to design a less complex and more accessible resource management system. Additionally, the EPs advocate for a future-focused and innovative resource management system that is grounded in a treaty-based framework and implemented through a digitally enabled system.\n",
      "\n"
     ]
    },
    {
     "data": {
      "text/html": [
       "<a href=https:////////www.parliament.nz////resource////en-NZ////53SCEN_EVI_129831_EN15797////3d4f953fbfab5a202ad41c02431602be06782ad7>Read the full submission</a>"
      ],
      "text/plain": [
       "<IPython.core.display.HTML object>"
      ]
     },
     "metadata": {},
     "output_type": "display_data"
    },
    {
     "data": {
      "text/html": [
       "<b>Ministry for the Environment (Departmental report - Tranche 1 - Natural and Built Environment Bill) – Official advice</b>"
      ],
      "text/plain": [
       "<IPython.core.display.HTML object>"
      ]
     },
     "metadata": {},
     "output_type": "display_data"
    },
    {
     "name": "stdout",
     "output_type": "stream",
     "text": [
      "The briefing is a departmental report on the Natural and Built Environment Bill. It provides a summary of submitters' comments and the Ministry for the Environment's recommended amendments to the Bill. The main focus of the report is on the purpose and preliminary matters of the Bill, including the title, commencement date, and the purpose of the Act. \n",
      "\n",
      "The main recommendation is to amend clause 3 of the Bill to have a single purpose statement that upholds Te Oranga o te Taiao (the health of the natural environment) and clarifies that use and development should support intergenerational well-being. The purpose should also be simplified by removing certain aspects that are adequately covered in other parts of the Bill. Additionally, the definition of Te Oranga o te Taiao should be moved into clause 3 and augmented to clarify the relationships between the health of the natural environment and the well-being of people and communities. \n",
      "\n",
      "The report also recommends adding a further clause to identify the key mechanisms for achieving the purpose of the Bill, such as system outcomes, limits and targets, decision-making principles, and provisions for places of national importance and highly vulnerable biodiversity areas. \n",
      "\n",
      "Overall, the main recommendation is to clarify and strengthen the purpose of the Bill and ensure that it gives effect to the principles of Te Tiriti o Waitangi.\n",
      "\n"
     ]
    },
    {
     "data": {
      "text/html": [
       "<a href=https:////////www.parliament.nz////resource////en-NZ////53SCEN_ADV_129831_EN16722////39907c9894d341de5b1cd44a63856b9973d29088>Read the full submission</a>"
      ],
      "text/plain": [
       "<IPython.core.display.HTML object>"
      ]
     },
     "metadata": {},
     "output_type": "display_data"
    },
    {
     "data": {
      "text/html": [
       "<b>Environmental Defence Society – Submission</b>"
      ],
      "text/plain": [
       "<IPython.core.display.HTML object>"
      ]
     },
     "metadata": {},
     "output_type": "display_data"
    },
    {
     "name": "stdout",
     "output_type": "stream",
     "text": [
      "long as they comply with environmental limits and manage adverse effects. Subclause (b) introduces a new element of recognizing and upholding te Oranga o te Taiao, which refers to the well-being of the natural environment.\n",
      "\n",
      "41. The issue with the purpose clause is that it combines multiple elements without clearly prioritizing them. The inclusion of both enabling development and protecting the environment creates potential conflicts and ambiguity in decision-making. It is unclear how decision-makers should balance these elements and what weight should be given to each.\n",
      "\n",
      "42. To address this issue, it is recommended that the purpose clause be revised to clearly prioritize the protection and enhancement of the environment over enabling development. This would ensure that the core focus of the legislation is on environmental outcomes and that development is only allowed within the constraints of environmental limits.\n",
      "\n",
      "43. Additionally, the purpose clause should explicitly state that the recognition and upholding of te Oranga o te Taiao is a fundamental principle that guides decision-making. This would provide clarity and ensure that the principles of te Tiriti o Waitangi are integrated into the legislation.\n",
      "\n",
      "The purpose clause of the NBEB combines multiple elements without clear prioritization. It is recommended that the clause be revised to prioritize the protection and enhancement of the environment and explicitly recognize and uphold te Oranga o te Taiao.\n",
      "\n"
     ]
    },
    {
     "data": {
      "text/html": [
       "<a href=https:////////www.parliament.nz////resource////en-NZ////53SCEN_EVI_129831_EN15464////d440521a870be072b331a6462755d6a59c108966>Read the full submission</a>"
      ],
      "text/plain": [
       "<IPython.core.display.HTML object>"
      ]
     },
     "metadata": {},
     "output_type": "display_data"
    },
    {
     "data": {
      "text/html": [
       "<b>Delegat Limited – Submission</b>"
      ],
      "text/plain": [
       "<IPython.core.display.HTML object>"
      ]
     },
     "metadata": {},
     "output_type": "display_data"
    },
    {
     "name": "stdout",
     "output_type": "stream",
     "text": [
      "Delegat Limited, a grape grower and winemaker, supports the intent of the Natural and Built Environments Bill but has concerns about certain provisions. They believe that the bill has the potential to undermine the effective freshwater management process in Marlborough and weaken resource consent rights. They argue that decisions regarding freshwater regulation should be delegated to regional planning instruments or Natural and Built Environment Plans. Delegat also criticizes the offsetting and compensation provisions in the bill, stating that they are unworkable and discourage voluntary environmental protection. They emphasize that the bill should not only regulate human use of the environment but also address neglect of the environment. Additionally, Delegat supports maintaining separate planning for Marlborough as it has distinct natural environments, industries, and communities compared to Nelson and Tasman. They endorse the submissions made by Aquaculture New Zealand on conflicts, consent processes, and biodiversity offsetting.\n",
      "\n"
     ]
    },
    {
     "data": {
      "text/html": [
       "<a href=https:////////www.parliament.nz////resource////en-NZ////53SCEN_EVI_129831_EN15736////721f0e80615c127d40cf1538cc7e66c2827e0598>Read the full submission</a>"
      ],
      "text/plain": [
       "<IPython.core.display.HTML object>"
      ]
     },
     "metadata": {},
     "output_type": "display_data"
    },
    {
     "data": {
      "text/html": [
       "<b>Ministry for the Environment (Departmental report - Tranche 3(B)) – Official advice</b>"
      ],
      "text/plain": [
       "<IPython.core.display.HTML object>"
      ]
     },
     "metadata": {},
     "output_type": "display_data"
    },
    {
     "name": "stdout",
     "output_type": "stream",
     "text": [
      "The main recommendation in this briefing is to clarify the definitions and application of the resource allocation principles in the Natural and Built Environment Bill. The briefing suggests defining the principles and clarifying that the principle of sustainability refers to environmental sustainability. It also recommends strengthening the statutory weighting of the principles to require decision makers to \"have particular regard\" to them. Additionally, the briefing addresses concerns raised by Māori submitters regarding the allocation of freshwater resources and suggests that no substantive changes are needed in this area.\n",
      "\n"
     ]
    },
    {
     "data": {
      "text/html": [
       "<a href=https:////////www.parliament.nz////resource////en-NZ////53SCEN_ADV_129831_EN16761////fa2f2c8404f7dab4ed65ca78997b6aac93c5d7ea>Read the full submission</a>"
      ],
      "text/plain": [
       "<IPython.core.display.HTML object>"
      ]
     },
     "metadata": {},
     "output_type": "display_data"
    },
    {
     "data": {
      "text/html": [
       "<b>Ministry for the Environment (Responses to questions from 12 December) – Official advice</b>"
      ],
      "text/plain": [
       "<IPython.core.display.HTML object>"
      ]
     },
     "metadata": {},
     "output_type": "display_data"
    },
    {
     "name": "stdout",
     "output_type": "stream",
     "text": [
      "The main recommendation in this briefing is that the Natural and Built Environment Bill (NBE Bill) should include criteria for identifying significant biodiversity areas (SBAs), outstanding natural features and landscapes (ONFs and ONLs), and urban trees. The briefing also addresses concerns about the risk of a 'goldrush' response to the new environmental protections, the management of land transport assets, the inclusion of material for members to consider, and the cost to councils of funding governance arrangements. Additionally, the briefing provides information on various clause references and addresses the risk of loss of jurisprudence due to the differences between the NBE Bill and the Resource Management Act (RMA).\n",
      "\n"
     ]
    },
    {
     "data": {
      "text/html": [
       "<a href=https:////////www.parliament.nz////resource////en-NZ////53SCEN_ADV_129831_EN11606////b20d25513dbec8ffcf459df00ab97aeca151bb57>Read the full submission</a>"
      ],
      "text/plain": [
       "<IPython.core.display.HTML object>"
      ]
     },
     "metadata": {},
     "output_type": "display_data"
    },
    {
     "data": {
      "text/html": [
       "<b>Ministry for the Environment (Overview of CST provisions in SP and NBE Bills) – Official advice</b>"
      ],
      "text/plain": [
       "<IPython.core.display.HTML object>"
      ]
     },
     "metadata": {},
     "output_type": "display_data"
    },
    {
     "name": "stdout",
     "output_type": "stream",
     "text": [
      "This briefing provides an overview of the transition and implementation process for the Spatial Planning and Natural and Built Environment Bills. It outlines key commencement, savings, and transitional provisions for the new system. The main recommendation is to take a region-by-region approach to implementation, with different regions completing the transition at different times based on the formation of regional planning committees and the development of new regional spatial strategies and NBE plans. The briefing also highlights the need to uphold Treaty settlements and other related arrangements, develop the National Planning Framework, and establish regional planning committees, among other steps in the transition process. It also discusses the development of regional spatial strategies and NBE plans, the continuation of RMA policies and plans until the decisions version of the NBE plan is released, and the transition of designations, compliance monitoring and enforcement, water conservation orders, and contaminated land management. The briefing concludes with the repeal of the RMA through Order in Councils.\n",
      "\n"
     ]
    },
    {
     "data": {
      "text/html": [
       "<a href=https:////////www.parliament.nz////resource////en-NZ////53SCEN_ADV_129831_EN16724////ce9426a344c6a7660a931604258930bf2b18242f>Read the full submission</a>"
      ],
      "text/plain": [
       "<IPython.core.display.HTML object>"
      ]
     },
     "metadata": {},
     "output_type": "display_data"
    },
    {
     "data": {
      "text/html": [
       "<b>Ministry for the Environment (Proposed changes to recommendations in SP and NBE dept reports) – Official advice</b>"
      ],
      "text/plain": [
       "<IPython.core.display.HTML object>"
      ]
     },
     "metadata": {},
     "output_type": "display_data"
    },
    {
     "name": "stdout",
     "output_type": "stream",
     "text": [
      "The main recommendation in this briefing is to amend the Spatial Planning Bill to provide a regulation-making power to prescribe information that must be published alongside a draft or adopted regional spatial strategy (RSS). This would include requiring web pages on which the RSS is published to provide access to the GIS platform and standard GIS layers that informed the development of the RSS. The briefing also recommends amending the Bill to clarify that the terminology describing Māori groups includes Moriori, and to add urban trees and braided rivers to the list of matters that the National Planning Framework (NPF) must provide direction on. Other recommendations include clarifying the exemptions application process for environmental limits, requiring the data obtained from monitoring limits and targets to be made publicly available, and removing the word \"strategic\" from clause 56 of the Bill.\n",
      "\n"
     ]
    },
    {
     "data": {
      "text/html": [
       "<a href=https:////////www.parliament.nz////resource////en-NZ////53SCEN_ADV_129831_EN16921////71ec74e04c5e3a096a6a6345f0b08b23d5bbc50b>Read the full submission</a>"
      ],
      "text/plain": [
       "<IPython.core.display.HTML object>"
      ]
     },
     "metadata": {},
     "output_type": "display_data"
    },
    {
     "data": {
      "text/html": [
       "<b>Northland Regional Council Supp1 – Submission</b>"
      ],
      "text/plain": [
       "<IPython.core.display.HTML object>"
      ]
     },
     "metadata": {},
     "output_type": "display_data"
    },
    {
     "name": "stdout",
     "output_type": "stream",
     "text": [
      "The Northland Regional Council supports the aims of the resource management system reform and agrees that significant change is needed to effectively respond to environmental and planning challenges. They support a system that focuses on outcomes and the use of strategic spatial plans. They also support the government's commitment to Māori rights and interests in freshwater and the resolution of Treaty Settlement negotiations. However, they highlight the potential tension between Māori rights and interests, Treaty settlements, and environmental limits set nationally. They suggest that this issue needs to be resolved in the new regime and that Māori representation on joint committees may not be enough to address the tensions. \n",
      "\n",
      "The council provides feedback on various aspects of the reform, including the need for integrated reform of the three waters, local government, and resource management systems. They also support greater recognition of the Treaty and the role of Māori in the new system, but emphasize the need for adequate resourcing for meaningful participation. They suggest the inclusion of a national Māori entity for input into national level proposals and recommend targeted engagement with Māori on representation issues. \n",
      "\n",
      "The council supports the intent of the reforms and a shift to an outcomes-focused regime but suggests rationalizing the environmental outcomes in the NBA and setting priorities to reduce conflict and provide certainty. They also recommend including a \"maintain and improve\" requirement in the NBA to prevent degradation of the environment. They support retaining existing national direction and definitions as much as possible to avoid unnecessary re-litigation. \n",
      "\n",
      "The council strongly supports the use of regional spatial strategies (RSS) in the new system but suggests including RSS requirements in the NBA rather than a separate Strategic Planning Act. They also recommend giving more statutory weight to RSS and ensuring a robust public consultation process for their development. They emphasize the need for good representation on joint committees and the importance of implementation of RSS. \n",
      "\n",
      "The council supports a single combined NBA plan per region and suggests that sub-regional plans may be necessary. They support early and sustained Māori participation in the plan development process and the inclusion of private plan changes. They also raise questions about the integration of Freshwater Farm Plans with the NBA regime. \n",
      "\n",
      "The council suggests that the composition and structure of joint committees should be designed on a region-by-region basis and that some minimum requirements or principles should be provided. They prefer the process used for the freshwater planning process, where joint committees make recommendations to councils, rather than delegating decision-making powers to joint committees. They also highlight the need for a clear funding\n",
      "\n"
     ]
    },
    {
     "data": {
      "text/html": [
       "<a href=https:////////www.parliament.nz////resource////en-NZ////53SCEN_EVI_129831_EN15600////fda0f8e934c9628a20f93341ec15172be5195756>Read the full submission</a>"
      ],
      "text/plain": [
       "<IPython.core.display.HTML object>"
      ]
     },
     "metadata": {},
     "output_type": "display_data"
    },
    {
     "data": {
      "text/html": [
       "<b>Kevin Moran – Submission</b>"
      ],
      "text/plain": [
       "<IPython.core.display.HTML object>"
      ]
     },
     "metadata": {},
     "output_type": "display_data"
    },
    {
     "name": "stdout",
     "output_type": "stream",
     "text": [
      "The submission is focused on the provision for Water Conservation Orders (WCO) in the Natural and Built Environment Bill. The submitter is concerned about the omission of the word \"spiritual\" in the bill and argues that spiritual characteristics should be recognized and protected. The submitter provides evidence of the widespread support for protecting the spiritual characteristics of Te Waikoropupū Springs and expresses concern that the proposed changes could disenfranchise non-Māori from making submissions on spirituality. The submitter also raises concerns about the potential impact of the changes on future legal actions involving the Te Waikoropupū Water Conservation Order. The submission concludes by requesting the return of \"spiritual\" as a consideration in the bill.\n",
      "\n"
     ]
    },
    {
     "data": {
      "text/html": [
       "<a href=https:////////www.parliament.nz////resource////en-NZ////53SCEN_EVI_129831_EN15878////5f967345c3a87c6b82cd01a9178558c839a10d8c>Read the full submission</a>"
      ],
      "text/plain": [
       "<IPython.core.display.HTML object>"
      ]
     },
     "metadata": {},
     "output_type": "display_data"
    },
    {
     "data": {
      "text/html": [
       "<b>North Otago Irrigation Company Supp 1 – Submission</b>"
      ],
      "text/plain": [
       "<IPython.core.display.HTML object>"
      ]
     },
     "metadata": {},
     "output_type": "display_data"
    },
    {
     "name": "stdout",
     "output_type": "stream",
     "text": [
      "The submission is made by Andrew Rodwell, the Chief Executive of North Otago Irrigation Co (NOIC). The submission is divided into two parts: a profile of NOIC and an explanation of their concerns with the Bill and suggestions for improvement.\n",
      "\n",
      "NOIC is an irrigation scheme in North Otago that supports the production of food and fiber. They have a consent to take 8cumecs of water from the Waitaki River and distribute it to 180 farming operations. They emphasize their commitment to environmental best practices, including employing environmental staff, requiring all farms to have a Farm Environment Plan, and achieving a 94% pass rate in audits.\n",
      "\n",
      "Their concerns with the Bill revolve around two key points: the consideration of the value of existing investment and consent duration. They argue that the value of existing investment should be considered in decisions around allocation to provide businesses with confidence and certainty for making big investment decisions. They also express concern about the proposal to truncate water consents to a maximum of 10 years, as it has significant consequences for water infrastructure businesses. They explain that consent duration is a criteria used by lenders to assess risk and the repayment terms of the facility, and many lenders will not lend for a term longer than the consent duration. They provide the example of NOIC having $84 million of debt that expires in 2030, and if they were to refinance on a 10-year term, their debt-servicing costs would increase by approximately $5 million per annum, which would not be sustainable. They argue that these arrangements will make it difficult to fund new infrastructure projects and upgrades required by schemes, including environmental upgrades. They also mention that the consent duration impacts the ability of individual farmers within their scheme to borrow money for on-farm capital projects.\n",
      "\n",
      "They suggest that the final form of the Bill should retain the current maximum consent term of 35 years or amend clause 276 3a to include irrigation infrastructure. They emphasize the need for confidence and certainty in making big investment decisions and express concern that the reform of the Resource Management Act, as currently written, may reduce their ability to deliver on objectives related to food security, climate change adaptation, and improved environmental outcomes.\n",
      "\n"
     ]
    },
    {
     "data": {
      "text/html": [
       "<a href=https:////////www.parliament.nz////resource////en-NZ////53SCEN_EVI_129831_EN15908////f5727da58a09e43c3f5ed1eecc5ae40a05bea8ca>Read the full submission</a>"
      ],
      "text/plain": [
       "<IPython.core.display.HTML object>"
      ]
     },
     "metadata": {},
     "output_type": "display_data"
    },
    {
     "data": {
      "text/html": [
       "<b>King Country Energy – Submission</b>"
      ],
      "text/plain": [
       "<IPython.core.display.HTML object>"
      ]
     },
     "metadata": {},
     "output_type": "display_data"
    },
    {
     "name": "stdout",
     "output_type": "stream",
     "text": [
      "King Country Energy, a renewable electricity generator, has submitted its concerns about the Natural and Built Environment Bill. The company argues that the bill will have a negative impact on the economics of their hydroelectric power schemes and will discourage investment in maintenance and upgrades. They believe that the bill fails to incentivize renewable electricity generation and will add complexity to the regulatory regime. They also argue that the reduction in consent durations for water permits will overwhelm the system and stakeholders involved in the consenting process. King Country Energy highlights the importance of hydroelectricity generation in filling the gaps in intermittent renewable energy sources like wind and solar. They argue that smaller hydroelectric schemes connected to local distribution networks should be treated equally and included in the exceptions for renewable electricity generation facilities. The company requests that the bill be amended to prevent these negative impacts and ensure a level playing field for all renewable electricity generation schemes.\n",
      "\n"
     ]
    },
    {
     "data": {
      "text/html": [
       "<a href=https:////////www.parliament.nz////resource////en-NZ////53SCEN_EVI_129831_EN15311////66b1c5111b4053d906a81f0ed3e70d2ef0376b79>Read the full submission</a>"
      ],
      "text/plain": [
       "<IPython.core.display.HTML object>"
      ]
     },
     "metadata": {},
     "output_type": "display_data"
    },
    {
     "data": {
      "text/html": [
       "<b>Meridian Energy – Submission</b>"
      ],
      "text/plain": [
       "<IPython.core.display.HTML object>"
      ]
     },
     "metadata": {},
     "output_type": "display_data"
    },
    {
     "name": "stdout",
     "output_type": "stream",
     "text": [
      "Meridian Energy Limited has submitted a joint submission on the Natural and Built Environment Bill and Spatial Planning Bill. The submission highlights the need for a better regime for dealing with renewable generation, emphasizing the importance of climate change mitigation and renewable electricity. The submission argues that the legislation must reflect the primacy of climate change and renewable electricity, and calls for clearer direction and stronger provisions in the bills. The submission also raises concerns about the scale of new renewable generation needed to address climate change and the potential delays and costs associated with the current legislation. The submission proposes amendments to address these concerns, including better recognition of renewable energy, exemptions for environmental limits, and clearer provisions for resource allocation and consent duration. Overall, the submission seeks to enable the development of new renewable electricity generation while protecting the natural environment and meeting climate change targets.\n",
      "\n"
     ]
    },
    {
     "data": {
      "text/html": [
       "<a href=https:////////www.parliament.nz////resource////en-NZ////53SCEN_EVI_129831_EN15479////9ecff6c7dbb70bbb81d99a484478136d1f551f9e>Read the full submission</a>"
      ],
      "text/plain": [
       "<IPython.core.display.HTML object>"
      ]
     },
     "metadata": {},
     "output_type": "display_data"
    },
    {
     "data": {
      "text/html": [
       "<b>Hurunui District Council – Submission</b>"
      ],
      "text/plain": [
       "<IPython.core.display.HTML object>"
      ]
     },
     "metadata": {},
     "output_type": "display_data"
    },
    {
     "name": "stdout",
     "output_type": "stream",
     "text": [
      "The Hurunui District Council has submitted a response to the Natural and Built Environment Bill, expressing general support for the reform objectives but also highlighting several concerns and suggesting amendments. \n",
      "\n",
      "One of the main concerns raised by the council is the plan making timeframe. They argue that the prescribed four-year period for making the new combined NBE plan is too short and unrealistic, especially considering the scope and complexity of preparing the first combined plan for the Canterbury region. They suggest extending the plan making period to six years to allow for more meaningful community engagement and sufficient technical input.\n",
      "\n",
      "The council also raises concerns about the lack of public participation opportunities provided in the bill. They argue that the limited two-year plan making period and the removal of plan making from local authorities could significantly limit public engagement. They suggest broadening the scope of engagement to include district and local issues and giving stronger weight to Statement of Community Outcomes (SCOs) to improve local government involvement and accountability.\n",
      "\n",
      "In terms of compliance, monitoring, and enforcement, the council supports the retention and strengthening of provisions and powers outlined in the bill. However, they request clarification on the monitoring of permitted activities and the cost recovery of monitoring activities that do not involve adverse effects.\n",
      "\n",
      "The council also raises questions and uncertainties regarding the composition and funding of regional planning committees (RPCs). They suggest that the membership of RPCs should consider not only the populations but also the land areas of individual local authorities. They also recommend that training should be required for RPC members and that the cost of training should be provided by the central government.\n",
      "\n",
      "Overall, the council supports the reform objectives of the bill but highlights the need for amendments to ensure effective operation and achievement of those objectives.\n",
      "\n"
     ]
    },
    {
     "data": {
      "text/html": [
       "<a href=https:////////www.parliament.nz////resource////en-NZ////53SCEN_EVI_129831_EN15340////074f9dee2e16cdb14e068560bb094f37568c3a46>Read the full submission</a>"
      ],
      "text/plain": [
       "<IPython.core.display.HTML object>"
      ]
     },
     "metadata": {},
     "output_type": "display_data"
    },
    {
     "data": {
      "text/html": [
       "<b>New Zealand Game Animal Council Supp 1 – Submission</b>"
      ],
      "text/plain": [
       "<IPython.core.display.HTML object>"
      ]
     },
     "metadata": {},
     "output_type": "display_data"
    },
    {
     "name": "stdout",
     "output_type": "stream",
     "text": [
      "The New Zealand Game Animal Council (GAC) has concerns about the NBE Bill, particularly regarding the omission of the importance of valued introduced species and the use of the concept of ecological integrity. The GAC argues that valued introduced species, such as game animals, are important for the wellbeing of current and future generations and their management is important for the environment. They believe that the concept of ecological integrity does not provide for valued introduced species and fails to recognize the link between the value of game animals to communities and their enhanced management for the environment. The GAC suggests replacing ecological integrity with ecological health, which defines the state of an ecosystem in terms of influencing stresses and its ability to provide products and processes for ecological and economic purposes. They argue that ecological health allows for site-specific management and an adaptive approach, ensuring that current uses are not necessarily prohibited but can be refined to better support ecosystem resilience. The GAC also supports a collaborative process for the development of the bill, involving all sectors, people, and values in New Zealand. They provide examples of successful collaborative processes in fisheries management and game animal management from overseas. The GAC believes that getting the legislation right requires inclusive development and incorporation of all community values for the enduring protection of ecosystems.\n",
      "\n"
     ]
    },
    {
     "data": {
      "text/html": [
       "<a href=https:////////www.parliament.nz////resource////en-NZ////53SCEN_EVI_129831_EN15932////4c2a43a3acc86b57472844cee0c589fe2a9c6f0d>Read the full submission</a>"
      ],
      "text/plain": [
       "<IPython.core.display.HTML object>"
      ]
     },
     "metadata": {},
     "output_type": "display_data"
    },
    {
     "data": {
      "text/html": [
       "<b>Paul Hodgson Supp 11 – Submission</b>"
      ],
      "text/plain": [
       "<IPython.core.display.HTML object>"
      ]
     },
     "metadata": {},
     "output_type": "display_data"
    },
    {
     "name": "stdout",
     "output_type": "stream",
     "text": [
      "The submission discusses the potential effects of flood harvesting on braided river geomorphology. It highlights the importance of braided rivers in Canterbury for their landscape, recreational activities, and habitat for endangered birds. The submission argues that flood harvesting, which involves capturing floodwater for irrigation, can have negative environmental effects. It states that taking even a small amount of flood water can disrupt the balance between bedload supply and transport capacity, leading to long-term changes in the riverbed morphology. Floods also help control vegetation and weeds, and reducing flood flows can allow these to take control of the river morphology. The submission also mentions that flood harvesting can increase the deposition of fine sediment in lower-energy riverbed environments, which can have negative effects on river biota and users. Additionally, reducing flood flows can impact the ability of braided river mouths to stay open, affecting hapua ecosystems and fish migration. The submission calls for research to quantitatively predict the effects of flood harvesting on braided river geomorphology and suggests limits or mitigating conditions for such activities. Early results from the research indicate that braided rivers in Canterbury, such as the Rangitata River, are naturally vulnerable to fine sediment deposition, and flood harvesting can encourage this deposition.\n",
      "\n"
     ]
    },
    {
     "data": {
      "text/html": [
       "<a href=https:////////www.parliament.nz////resource////en-NZ////53SCEN_EVI_129831_EN15925////2bf1b6b99bf7d72d1e17432fdae8b2dd9849ffc2>Read the full submission</a>"
      ],
      "text/plain": [
       "<IPython.core.display.HTML object>"
      ]
     },
     "metadata": {},
     "output_type": "display_data"
    },
    {
     "data": {
      "text/html": [
       "<b>Waikato Regional Council – Submission</b>"
      ],
      "text/plain": [
       "<IPython.core.display.HTML object>"
      ]
     },
     "metadata": {},
     "output_type": "display_data"
    },
    {
     "name": "stdout",
     "output_type": "stream",
     "text": [
      "The Waikato Regional Council has submitted its concerns about the Natural and Built Environment Bill. While they support the objectives of the reform, they have significant concerns with the bill as drafted. They argue that there is insufficient democratic accountability embedded into planning processes, and that the bill does not simplify the system as intended. They also express concerns about the funding and resourcing of the new system, as well as the composition and role of Regional Planning Committees (RPCs). The council also raises concerns about the impact of the bill on iwi and hapū, and the need for clarity and support in implementing the new system. They recommend that significant partnerships, such as Future Proof, be given effect in the Regional Spatial Strategies (RSS) and Natural and Built Environment (NBE) plans, and that funding for implementing the new system be provided by central government.\n",
      "\n"
     ]
    },
    {
     "data": {
      "text/html": [
       "<a href=https:////////www.parliament.nz////resource////en-NZ////53SCEN_EVI_129831_EN15450////9e110fd553a98ac339e3a1b27730b62e082d6bae>Read the full submission</a>"
      ],
      "text/plain": [
       "<IPython.core.display.HTML object>"
      ]
     },
     "metadata": {},
     "output_type": "display_data"
    },
    {
     "data": {
      "text/html": [
       "<b>Damon McPhail Supp 3 – Submission</b>"
      ],
      "text/plain": [
       "<IPython.core.display.HTML object>"
      ]
     },
     "metadata": {},
     "output_type": "display_data"
    },
    {
     "name": "stdout",
     "output_type": "stream",
     "text": [
      "The submission includes supplementary photos to accompany an oral presentation. The photos show examples of reclaimed foreshore in Kaikoura, including a reclaimed area near Whale Watch Kaikoura and a reclaimed area that reduced public access to the shore. The photos highlight the negative impact of reclamation on the landscape and public access.\n",
      "\n"
     ]
    },
    {
     "data": {
      "text/html": [
       "<a href=https:////////www.parliament.nz////resource////en-NZ////53SCEN_EVI_129831_EN15728////5c25a5d40a359865b85337ebfcdbbe7792c5ff30>Read the full submission</a>"
      ],
      "text/plain": [
       "<IPython.core.display.HTML object>"
      ]
     },
     "metadata": {},
     "output_type": "display_data"
    },
    {
     "data": {
      "text/html": [
       "<b>Transpower New Zealand Ltd Supp 1 – Submission</b>"
      ],
      "text/plain": [
       "<IPython.core.display.HTML object>"
      ]
     },
     "metadata": {},
     "output_type": "display_data"
    },
    {
     "name": "stdout",
     "output_type": "stream",
     "text": [
      "Transpower, a company responsible for New Zealand's transmission network, supports several components of the Natural and Built Environment Bill and Spatial Planning Bill. They believe that the bills will help achieve positive outcomes and long-term infrastructure planning, streamline statutory approvals, and provide exemptions for grid infrastructure in sensitive environments. However, they have concerns about the lack of direction on national priorities and unclear processes. They suggest the inclusion of a \"Statement of National Priorities\" and a similar process for Regional Spatial Strategies as the Natural and Built Environment plans. Transpower also raises issues with the system architecture and transition, stating that New Zealand's climate change priorities are misaligned and the implementation process is too long. They propose better links to the Climate Change Response Act and the New Zealand Energy Strategy. Additionally, Transpower mentions their interest in areas such as Policy Statements and National Environmental Standards, emergency provisions, and the transition process. They also mention specific works in Queenstown related to resilience and capacity.\n",
      "\n"
     ]
    },
    {
     "data": {
      "text/html": [
       "<a href=https:////////www.parliament.nz////resource////en-NZ////53SCEN_EVI_129831_EN16144////85ddefaa6433216e3b8d3f7de1741448d263b617>Read the full submission</a>"
      ],
      "text/plain": [
       "<IPython.core.display.HTML object>"
      ]
     },
     "metadata": {},
     "output_type": "display_data"
    },
    {
     "data": {
      "text/html": [
       "<b>Rangitāne o Wairau – Submission</b>"
      ],
      "text/plain": [
       "<IPython.core.display.HTML object>"
      ]
     },
     "metadata": {},
     "output_type": "display_data"
    },
    {
     "name": "stdout",
     "output_type": "stream",
     "text": [
      "The submission is made on behalf of Te Rūnanga a Rangitāne o Wairau Trust and the Rangitāne o Wairau Settlement Trust in relation to the Natural and Built Environment (NBE Bill) and Spatial Planning Bills (SPA Bill). The submission raises several concerns and issues with the bills. \n",
      "\n",
      "Firstly, it argues that there has not been sufficient time to ensure that the reform is done right, and that the drafting of the bills has been rushed. It also states that the bills fail to meet their stated aims and lack clear direction and integration. \n",
      "\n",
      "The submission emphasizes the importance of Te Oranga o te Taiao as a foundational principle of the bills and calls for further work to ensure its recognition and uphold across the bills. It also criticizes the government for failing to address iwi and hapū rights and interests in freshwater and calls for equitable access to freshwater resources. \n",
      "\n",
      "The submission highlights the need to uphold Te Tiriti o Waitangi settlements and protect existing arrangements under the Resource Management Act. It argues for rightful recognition of the relationship of iwi and hapū with te Taiao and their resulting roles and obligations. \n",
      "\n",
      "The submission also raises concerns about the National Māori Entity, the resourcing of iwi and hapū to participate in the system, and the process for setting environmental limits and targets. \n",
      "\n",
      "In terms of specific areas of emphasis, the submission supports the retention of Te Oranga o te Taiao, the recognition of iwi and hapū planning documents, and the provisions for customary marine title and protected customary rights. It also calls for improvements in the appointment process for Regional Planning Committees and the inclusion of iwi-specific outcomes in the national planning framework. \n",
      "\n",
      "Overall, the submission calls for a more comprehensive and inclusive approach to the reform of the Resource Management Act, with a focus on upholding Te Tiriti o Waitangi and recognizing the rights and interests of iwi and hapū.\n",
      "\n"
     ]
    },
    {
     "data": {
      "text/html": [
       "<a href=https:////////www.parliament.nz////resource////en-NZ////53SCEN_EVI_129831_EN15318////eb1042e7d09a5a8677d58d7c3389af76bc370a52>Read the full submission</a>"
      ],
      "text/plain": [
       "<IPython.core.display.HTML object>"
      ]
     },
     "metadata": {},
     "output_type": "display_data"
    },
    {
     "data": {
      "text/html": [
       "<b>New Zealand King Salmon Co Ltd – Submission</b>"
      ],
      "text/plain": [
       "<IPython.core.display.HTML object>"
      ]
     },
     "metadata": {},
     "output_type": "display_data"
    },
    {
     "name": "stdout",
     "output_type": "stream",
     "text": [
      "The New Zealand King Salmon Company Limited (NZ King Salmon) is generally supportive of the changes proposed in the Natural and Built Environment Bill. They work with the regulations set under the Resource Management Act on a daily basis and have a great interest in the replacement legislation. NZ King Salmon is the world's largest producer of King Salmon and has been farming salmon in Marlborough for over 30 years. They support the retention of aquaculture-specific provisions, the focus on outcomes rather than activities that require resource consents, and the ability for the Minister of Aquaculture to direct specific changes to the plan. They also support the inclusion of aquaculture in system outcomes and the need for a clear pathway to implement the Government's Aquaculture Strategy. NZ King Salmon opposes the concept of natural character being brought into the Bill and supports offsetting if it is usable and delivers real environmental results. They also emphasize the importance of hatcheries in the industry and the need for an adaptive management approach. They suggest some refinements to the Bill, such as allowing the applicant to choose whether or not to adopt an adaptive management approach and clarifying how adaptive management relates to the effects of management framework. Overall, NZ King Salmon hopes that their submission will be taken into account in amendments to the Bill.\n",
      "\n"
     ]
    },
    {
     "data": {
      "text/html": [
       "<a href=https:////////www.parliament.nz////resource////en-NZ////53SCEN_EVI_129831_EN15481////4e5370618e79c1e3b5d7235ebbbbcb98a3502d20>Read the full submission</a>"
      ],
      "text/plain": [
       "<IPython.core.display.HTML object>"
      ]
     },
     "metadata": {},
     "output_type": "display_data"
    },
    {
     "data": {
      "text/html": [
       "<b>Te Ohu Kaimoana – Submission</b>"
      ],
      "text/plain": [
       "<IPython.core.display.HTML object>"
      ]
     },
     "metadata": {},
     "output_type": "display_data"
    },
    {
     "name": "stdout",
     "output_type": "stream",
     "text": [
      "Te Ohu Kaimoana, the trustee of the Māori Fisheries and Aquaculture Settlements, has responded to the Natural Built Environment and Spatial Planning Bills in New Zealand. Their main concern is to ensure that the new resource management system upholds the commitments made by the Crown to iwi in the settlements and Te Tiriti o Waitangi. They argue that the current draft of the bills does not adequately recognize and uphold the relationship between iwi, hapū, and the environment, particularly in the coastal marine area. They recommend including a 'use' outcome in the CMA to allow for sustainable utilization of marine resources. They also emphasize the need to explicitly incorporate the Māori Fisheries and Commercial Aquaculture Settlements in the reform and ensure their integrity is upheld. Additionally, they highlight the importance of managing the effects of non-fishing activities on fisheries habitats and coastal waters.\n",
      "\n"
     ]
    },
    {
     "data": {
      "text/html": [
       "<a href=https:////////www.parliament.nz////resource////en-NZ////53SCEN_EVI_129831_EN15508////e37f61390cdc0b84b1831a6fb376241ef9b2de4c>Read the full submission</a>"
      ],
      "text/plain": [
       "<IPython.core.display.HTML object>"
      ]
     },
     "metadata": {},
     "output_type": "display_data"
    },
    {
     "data": {
      "text/html": [
       "<b>Ministry for the Environment (Departmental report - themes on regional planning committees) – Official advice</b>"
      ],
      "text/plain": [
       "<IPython.core.display.HTML object>"
      ]
     },
     "metadata": {},
     "output_type": "display_data"
    },
    {
     "name": "stdout",
     "output_type": "stream",
     "text": [
      "The main recommendation of this briefing is to establish Regional Planning Committees (RPCs) with independent decision-making powers. The briefing states that moving to an approach where individual councils are required to ratify the decisions of the RPC is not recommended as it would undermine the joint decision-making approach and the new strategic decision-making role proposed for Māori and central government. The briefing also recommends enabling all local authorities to appoint a member to an RPC and a self-determined process for appointing Māori members led by iwi authorities and groups that represent hapū. Additionally, the briefing recommends some minor changes to better accommodate and ensure efficiencies for unitary authorities. Finally, the briefing recommends setting specific timeframes for the composition and appointment process of RPCs.\n",
      "\n"
     ]
    },
    {
     "data": {
      "text/html": [
       "<a href=https:////////www.parliament.nz////resource////en-NZ////53SCEN_ADV_129831_EN16742////92e11aaf9fc997ce17828f2b30e7ea4104a8e444>Read the full submission</a>"
      ],
      "text/plain": [
       "<IPython.core.display.HTML object>"
      ]
     },
     "metadata": {},
     "output_type": "display_data"
    },
    {
     "data": {
      "text/html": [
       "<b>Rural Women New Zealand – Submission</b>"
      ],
      "text/plain": [
       "<IPython.core.display.HTML object>"
      ]
     },
     "metadata": {},
     "output_type": "display_data"
    },
    {
     "name": "stdout",
     "output_type": "stream",
     "text": [
      "Rural Women New Zealand (RWNZ) has submitted a response to the Natural and Built Environment (NBE) Bill, highlighting concerns that will impact rural communities and women. The submission focuses on several key concerns, including the lack of recognition of the rural environment in the bill's name and the need for clear definitions and frameworks for allocating resources and protecting existing use in rural areas. RWNZ is also concerned about the proposed shift of planning decisions from local to regional control, which would diminish the role and input of city and district councils and remove the local voice from planning decisions. The submission also raises concerns about the composition arrangements for Regional Planning Committees (RPCs), calling for effective representation of rural interests and gender balance. Additionally, RWNZ expresses disappointment that existing use and permitted activities are not well protected in the bill, potentially impacting farming livelihoods. The submission concludes by thanking the committee for the opportunity to provide feedback and expressing a desire to discuss the concerns in person.\n",
      "\n"
     ]
    },
    {
     "data": {
      "text/html": [
       "<a href=https:////////www.parliament.nz////resource////en-NZ////53SCEN_EVI_129831_EN15504////aea2d72bef9fac1a234c8c8dcd4dbf9b690cc17f>Read the full submission</a>"
      ],
      "text/plain": [
       "<IPython.core.display.HTML object>"
      ]
     },
     "metadata": {},
     "output_type": "display_data"
    },
    {
     "data": {
      "text/html": [
       "<b>Foodstuffs (NZ) Ltd Supp 1 – Submission</b>"
      ],
      "text/plain": [
       "<IPython.core.display.HTML object>"
      ]
     },
     "metadata": {},
     "output_type": "display_data"
    },
    {
     "name": "stdout",
     "output_type": "stream",
     "text": [
      "The submission argues for amendments to the Natural and Built Environment Bill (NBE) to address recommendations made by the Commerce Commission to promote greater competition in the retail grocery sector. It suggests that the NBE Bill should provide direction for these recommendations to be addressed via the National Planning Framework (NPF) and Natural and Built Environment Plans (NBE Plans). The submission also emphasizes the importance of enabling supermarket and grocery store development, particularly in times of emergency, and recommends clarity and coherence in decision-making processes to prioritize economic growth within environmental limits. It suggests enhancements to Regional Planning Committees (RPCs) to prevent dysfunction and ensure effective delivery of Regional Spatial Strategies (RSS) and NBE Plans. The submission also raises concerns about the blanket prohibition on applications relating to \"strategic content\" and the need for a fit-for-purpose process for developers to advance plan changes. It calls for clear direction in the primary legislation regarding notification decisions and the inclusion of transitional provisions in the NBE Bill to provide certainty for developers.\n",
      "\n"
     ]
    },
    {
     "data": {
      "text/html": [
       "<a href=https:////////www.parliament.nz////resource////en-NZ////53SCEN_EVI_129831_EN16114////d5cd2eca20ad580fc9144405a2c5a45fe9d55a02>Read the full submission</a>"
      ],
      "text/plain": [
       "<IPython.core.display.HTML object>"
      ]
     },
     "metadata": {},
     "output_type": "display_data"
    },
    {
     "data": {
      "text/html": [
       "<b>Save Our Springs Aotearoa New Zealand Inc Supp 3 – Submission</b>"
      ],
      "text/plain": [
       "<IPython.core.display.HTML object>"
      ]
     },
     "metadata": {},
     "output_type": "display_data"
    },
    {
     "name": "stdout",
     "output_type": "stream",
     "text": [
      "Save Our Springs Inc (SOS) is making an oral submission on the Natural and Built Environment Bill. They argue for the inclusion of the word \"spiritual\" in the bill, as it is currently included in the Resource Management Act (RMA) but has been left out of the new bill. They provide five reasons for including it, including the fact that it is part of the RMA provisions and that many people consider spirituality an important part of their relationship with the environment. They also argue that Maori concepts of spiritual environmental values should be recognized and that considering spiritual values is important for a better society.\n",
      "\n",
      "SOS also argues for the protection of spiritual environmental values to be included in the wider bill, not just limited to water conservation orders. They believe that non-Maori spiritual relationships with the natural world should be recognized and protected.\n",
      "\n",
      "Their third submission is about the deletion of the reference to intrinsic values of nature and ecosystems in the bill. They argue that intrinsic values should be included to make decision-makers consider the interests of the environment itself, not just the uses humans put it to. They provide examples of cases where the existing listed matters to consider did not cover everything the Environment Court thought was important, and reference to intrinsic value was important and helpful.\n",
      "\n",
      "Finally, SOS argues for additional improvements to the operation of Water Conservation Orders. They endorse suggestions made by EDS, including plans giving effect to WCOs and reviewing consent conditions. They also argue that the provisions on WCOs need amending to address arguments made in legal proceedings that the words in the bill only allow for the maintenance of a current state, not improvement. They suggest that a statement be made to clarify the intended meaning of words like \"preservation\" and \"protection\" to include enhancement and improvement if necessary.\n",
      "\n",
      "Overall, SOS is advocating for the inclusion of spiritual and intrinsic values in the bill and for improvements to the operation of Water Conservation Orders.\n",
      "\n"
     ]
    },
    {
     "data": {
      "text/html": [
       "<a href=https:////////www.parliament.nz////resource////en-NZ////53SCEN_EVI_129831_EN16126////4fa8549951fa897a504cc6cc2426f3fc26698b8e>Read the full submission</a>"
      ],
      "text/plain": [
       "<IPython.core.display.HTML object>"
      ]
     },
     "metadata": {},
     "output_type": "display_data"
    },
    {
     "data": {
      "text/html": [
       "<b>Ministry for the Environment (Additional information - RPCs in regions with unitary authorities (amended)) – Official advice</b>"
      ],
      "text/plain": [
       "<IPython.core.display.HTML object>"
      ]
     },
     "metadata": {},
     "output_type": "display_data"
    },
    {
     "name": "stdout",
     "output_type": "stream",
     "text": [
      "The briefing discusses the arrangements for regional planning committees (RPCs) in regions with unitary authorities. The main recommendation is to include an additional clause in the Bill that allows unitary authorities to deem an existing committee to have all the functions, duties, and powers of the RPC. This would ensure consistency and avoid disruption in regions where existing arrangements are working well. The committee would still need to include a minimum of two Māori members and a central government member. The briefing also highlights the need for guidance to be provided to unitary authorities on the flexibility of the Bill to accommodate existing arrangements. In Auckland, it is recommended that Māori be given the same opportunity as iwi and hapū in other regions to reconsider current arrangements and ensure inclusiveness. In Gisborne and Marlborough, it is recommended that the requirements for composition and appointment processes apply to provide a decision-making role for Māori in plan-making. The briefing also mentions recommendations for secretariat and funding arrangements, as well as changes to the NBE Bill that would be required.\n",
      "\n"
     ]
    },
    {
     "data": {
      "text/html": [
       "<a href=https:////////www.parliament.nz////resource////en-NZ////53SCEN_ADV_129831_EN16927////e5a5e8e33d4a7ce596c2a085899618b982bf46e6>Read the full submission</a>"
      ],
      "text/plain": [
       "<IPython.core.display.HTML object>"
      ]
     },
     "metadata": {},
     "output_type": "display_data"
    },
    {
     "data": {
      "text/html": [
       "<b>Irrigation NZ Supp 4 – Submission</b>"
      ],
      "text/plain": [
       "<IPython.core.display.HTML object>"
      ]
     },
     "metadata": {},
     "output_type": "display_data"
    },
    {
     "name": "stdout",
     "output_type": "stream",
     "text": [
      "Rangitata Diversion Race Management Ltd (RDRML) has submitted a response to the Natural and Built Environment Bill, expressing concerns about certain provisions that could impact its water supply infrastructure. RDRML is a water supply company that supplies water for irrigation, hydroelectricity generation, and community stock water schemes through the Rangitata Diversion Race. The company supports the need for reforms to address the current inefficient and unpredictable process of obtaining resource consents. However, it argues that the Bill, as drafted, disincentivizes investment in water supply infrastructure by creating uncertainty and short consent durations. RDRML believes that short consent durations would hinder long-term investment decisions and burden applicants, affected parties, and consenting authorities. The company also expresses concerns about the move away from the \"first in first served\" allocation principle, as frequent reallocation of water resources could make infrastructure projects unviable. RDRML highlights the importance of long-term consent durations for financing infrastructure projects and suggests that the maximum consent term of 35 years under the Resource Management Act should be carried through into the new legislation. Additionally, RDRML raises concerns about the impact of water conservation orders on existing resource consents and the prohibition on indemnity, which it believes is too wide and could hinder its ability to hold subcontractors accountable for breaches of consent conditions or plan rules. Overall, RDRML seeks amendments to the Bill to ensure the protection of freshwater resources while providing for efficient, secure, and resilient water supply infrastructure.\n",
      "\n"
     ]
    },
    {
     "data": {
      "text/html": [
       "<a href=https:////////www.parliament.nz////resource////en-NZ////53SCEN_EVI_129831_EN15835////a60cae70a72f36531701d5e581d0b9e9c98f4d6c>Read the full submission</a>"
      ],
      "text/plain": [
       "<IPython.core.display.HTML object>"
      ]
     },
     "metadata": {},
     "output_type": "display_data"
    },
    {
     "data": {
      "text/html": [
       "<b>Western Bay of Plenty District Council – Submission</b>"
      ],
      "text/plain": [
       "<IPython.core.display.HTML object>"
      ]
     },
     "metadata": {},
     "output_type": "display_data"
    },
    {
     "name": "stdout",
     "output_type": "stream",
     "text": [
      "The Western Bay of Plenty District Council (WBOPDC) has submitted feedback on the Natural and Built Environment Bill (NBEA) and Spatial Planning Bill (SPA). While the council generally supports the reform of the resource management system, they have several concerns about the proposed bills. They believe that the reform is being undertaken too quickly, which could lead to ineffective implementation. They also express concerns about the loss of local decision-making and community representation in plan making, as well as the lack of clarity and guidance on key issues such as community outcomes, funding and resourcing, and the role of Māori in the new system. The council also emphasizes the need for alignment between the NBEA, SPA, and other reform processes such as the Three Waters reform and the Future for Local Government review. They call for clearer communication to the public about the reform and the provision of education resources. The council also raises concerns about the potential conflicts between different system outcomes, particularly in relation to climate change and land development. They highlight the need for funding and resourcing to support the increased role of Māori in the new system and the importance of building capacity and capability. The council requests more clarity on the transition and timing of the new system and calls for adequate funding from central government to support the implementation of the reforms. They also stress the importance of aligning the NBEA, SPA, and Climate Adaptation Act (CAA) and express support for the establishment of a National Māori Entity. The council concludes by calling for the draft National Planning Framework (NPF) to be prepared and consulted on, as it is a key component of the new system.\n",
      "\n"
     ]
    },
    {
     "data": {
      "text/html": [
       "<a href=https:////////www.parliament.nz////resource////en-NZ////53SCEN_EVI_129831_EN15596////fc202a2d5828db4bd365bb8b2910b71fc293c8f0>Read the full submission</a>"
      ],
      "text/plain": [
       "<IPython.core.display.HTML object>"
      ]
     },
     "metadata": {},
     "output_type": "display_data"
    },
    {
     "data": {
      "text/html": [
       "<b>Boffa Miskell – Submission</b>"
      ],
      "text/plain": [
       "<IPython.core.display.HTML object>"
      ]
     },
     "metadata": {},
     "output_type": "display_data"
    },
    {
     "name": "stdout",
     "output_type": "stream",
     "text": [
      "Boffa Miskell, an environmental planning and design consultancy firm, supports the Natural and Built Environment Bill (NBE Bill) and the creation of an integrated framework for regulating environmental management and land use planning. However, they argue that the Bill should also recognize and protect the features and characteristics that contribute to the quality of the urban and natural environment. They propose amendments to the Bill to ensure that the quality of the environment is considered in planning and consenting decisions. They also suggest the inclusion of a new clause that focuses on enhancing the features and characteristics that contribute to the quality of the natural and built environment. Boffa Miskell believes that these amendments would better align the Bill with its purpose of promoting outcomes for the benefit of the environment and managing adverse effects.\n",
      "\n"
     ]
    },
    {
     "data": {
      "text/html": [
       "<a href=https:////////www.parliament.nz////resource////en-NZ////53SCEN_EVI_129831_EN15431////76b4954421853a6af8062561ac70b5cb69b9766f>Read the full submission</a>"
      ],
      "text/plain": [
       "<IPython.core.display.HTML object>"
      ]
     },
     "metadata": {},
     "output_type": "display_data"
    },
    {
     "data": {
      "text/html": [
       "<b>Tony Watkins Supp 1 – Submission</b>"
      ],
      "text/plain": [
       "<IPython.core.display.HTML object>"
      ]
     },
     "metadata": {},
     "output_type": "display_data"
    },
    {
     "name": "stdout",
     "output_type": "stream",
     "text": [
      "The main argument in this submission is that architecture and spatial planning need to be reevaluated in the midst of the climate crisis. The author argues that architecture often exploits the natural environment and has an environmental cost that the planet cannot afford. They suggest that the only truly sustainable building is the one that is not built at all. They also argue that architecture can imprison us and limit our relationship with nature. The author criticizes spatial planning for being anthropocentric and prioritizing economics over life, leading to the destruction of nature and the exacerbation of the climate crisis. They advocate for a shift towards an earth-centered legal system and architecture that embraces uncertainty, enhances our relationship with nature, and strengthens our connection to tradition and future generations. The author also raises concerns about the potential negative impact of incompetent bureaucracy and spatial planning on architecture and the climate crisis. They argue that planning should focus on opportunities rather than problems and should not limit future options. The author concludes by stating that a rethinking of architecture and planning is necessary in order to address the climate crisis and create a more sustainable future.\n",
      "\n"
     ]
    },
    {
     "data": {
      "text/html": [
       "<a href=https:////////www.parliament.nz////resource////en-NZ////53SCEN_EVI_129831_EN15817////87fe57c12a52bfe5f03602bd130dc0fb1615b4ae>Read the full submission</a>"
      ],
      "text/plain": [
       "<IPython.core.display.HTML object>"
      ]
     },
     "metadata": {},
     "output_type": "display_data"
    },
    {
     "data": {
      "text/html": [
       "<b>Te Kāhui o Taranaki – Submission</b>"
      ],
      "text/plain": [
       "<IPython.core.display.HTML object>"
      ]
     },
     "metadata": {},
     "output_type": "display_data"
    },
    {
     "name": "stdout",
     "output_type": "stream",
     "text": [
      "Te Kāhui o Taranaki Trust (TKOTT) has submitted a joint statement with Ngā Iwi o Taranaki on the Natural and Built Environment Bill and Spatial Planning Bill. They support the need for reform of New Zealand's resource management system but have concerns about the lack of consideration for Tiriti settlements and the role of iwi and hapū in the new regime. They argue that Tiriti settlements should have been foundational to the design of the reforms and that the new regime should not be implemented until the settlement process is completed to their satisfaction. They also call for 50:50 representation of central/local government and iwi/hapū on Regional Planning Committees and for iwi/hapū representatives to be appointed by iwi/hapū themselves. They raise concerns about the powers and functions of the National Māori Entity, the role of iwi in the preparation of the National Planning Framework, and the allocation of resources. They also make recommendations regarding the recognition of iwi and hapū planning documents, the role of Te Oranga o te Taiao statements, and the transitional provisions of the bills.\n",
      "\n"
     ]
    },
    {
     "data": {
      "text/html": [
       "<a href=https:////////www.parliament.nz////resource////en-NZ////53SCEN_EVI_129831_EN15621////1cf715c63607ef8ff5b94ee54cea17441e36d589>Read the full submission</a>"
      ],
      "text/plain": [
       "<IPython.core.display.HTML object>"
      ]
     },
     "metadata": {},
     "output_type": "display_data"
    },
    {
     "data": {
      "text/html": [
       "<b>Taituarā – Submission</b>"
      ],
      "text/plain": [
       "<IPython.core.display.HTML object>"
      ]
     },
     "metadata": {},
     "output_type": "display_data"
    },
    {
     "name": "stdout",
     "output_type": "stream",
     "text": [
      "Taituarā, an organization representing local government professionals in New Zealand, has submitted feedback on the Natural and Built Environment Bill (NBEA) and the Spatial Planning Bill (SPA). While they support some aspects of the proposed reforms, such as mandatory spatial planning and recognition of Te Tiriti o Waitangi, they have concerns about the overall effectiveness and efficiency of the new system. They argue that the reforms do not address the problems of the current Resource Management Act (RMA), such as the tension between urban development and environmental protection. They also raise concerns about the complexity of the new system, the lack of clarity in definitions and terms, and the potential loss of local democratic input and accountability. Taituarā also highlights the need for proper planning and investment in climate change adaptation and resilience. They call for greater alignment with other reform programs and emphasize the importance of capacity and capability within the local government sector to implement the new system. They also express concerns about the transition arrangements and the potential impact on workforce capacity and capability. Overall, Taituarā argues that the proposed reforms may not achieve the desired outcomes and could perpetuate issues with the current system.\n",
      "\n"
     ]
    },
    {
     "data": {
      "text/html": [
       "<a href=https:////////www.parliament.nz////resource////en-NZ////53SCEN_EVI_129831_EN15506////7eb76d534bf65bc98b4d106362b52f1e8d9842d0>Read the full submission</a>"
      ],
      "text/plain": [
       "<IPython.core.display.HTML object>"
      ]
     },
     "metadata": {},
     "output_type": "display_data"
    },
    {
     "data": {
      "text/html": [
       "<b>Save the Basin Campaign Incorporated Supp 3 – Submission</b>"
      ],
      "text/plain": [
       "<IPython.core.display.HTML object>"
      ]
     },
     "metadata": {},
     "output_type": "display_data"
    },
    {
     "name": "stdout",
     "output_type": "stream",
     "text": [
      "This submission outlines the key process steps for the preparation of regional spatial strategies under the Spatial Planning Bill. It defines \"interested parties\" as various entities and groups that are affected by the planning system. The submission highlights the importance of public participation in determining the content of the draft strategy through mechanisms such as community consultation workshops and written feedback. It also emphasizes the need for the regional planning committee to prepare scenarios and a draft evaluation report, which should include key evidence, options considered, and the committee's decisions and reasons. The submission further discusses the review of the draft strategy by appointing bodies, the public notification of the draft and adopted strategies, and the opportunity for further comment in certain cases. It concludes by addressing the failure to carry out evaluation and the provisions for challenging a regional spatial strategy.\n",
      "\n"
     ]
    },
    {
     "data": {
      "text/html": [
       "<a href=https:////////www.parliament.nz////resource////en-NZ////53SCEN_EVI_129831_EN16137////bf9931fc6604ff376c899a5736c5bfec46ee2653>Read the full submission</a>"
      ],
      "text/plain": [
       "<IPython.core.display.HTML object>"
      ]
     },
     "metadata": {},
     "output_type": "display_data"
    },
    {
     "data": {
      "text/html": [
       "<b>Channel Infrastructure NZ Limited – Submission</b>"
      ],
      "text/plain": [
       "<IPython.core.display.HTML object>"
      ]
     },
     "metadata": {},
     "output_type": "display_data"
    },
    {
     "name": "stdout",
     "output_type": "stream",
     "text": [
      "Channel Infrastructure NZ Limited has submitted their concerns about the Natural and Built Environment Bill. They argue that the Bill erodes certainty and permanence for resource consents and existing use rights, which could undermine investment certainty. They also express concerns about the front-loading of the planning system and the lack of clear criteria for broad discretion given to the Minister. Channel Infrastructure NZ Limited is particularly concerned about the impact of the Bill on their fuel infrastructure operations and the potential for material uncertainties in the use and development of natural resources. They also oppose the significant new \"carve outs\" to existing use rights and argue for greater clarity and certainty in the contaminated land regime. They call for amendments to the Bill to address these concerns and ensure a more effective and workable resource management system.\n",
      "\n"
     ]
    },
    {
     "data": {
      "text/html": [
       "<a href=https:////////www.parliament.nz////resource////en-NZ////53SCEN_EVI_129831_EN15617////5059dae2c582cbf5a61575e9a0648594313b273c>Read the full submission</a>"
      ],
      "text/plain": [
       "<IPython.core.display.HTML object>"
      ]
     },
     "metadata": {},
     "output_type": "display_data"
    },
    {
     "data": {
      "text/html": [
       "<b>Taranaki Energy Watch Supp 1. – Submission</b>"
      ],
      "text/plain": [
       "<IPython.core.display.HTML object>"
      ]
     },
     "metadata": {},
     "output_type": "display_data"
    },
    {
     "name": "stdout",
     "output_type": "stream",
     "text": [
      "The main argument presented in this submission by Taranaki Energy Watch is that the Natural and Built Environment and Spatial Planning Bills do not adequately address the issue of land use planning and the incompatibility of significant hazardous facilities with sensitive activities such as homes. The submission highlights the risk of fatality and injury associated with these facilities and calls for explicit definitions and assessments of adverse effects and risks in the legislation. The submission also provides examples of existing homes located within fatality risk contours generated by significant hazardous facilities in Taranaki. The submission suggests amendments to the wording of the legislation to address these concerns.\n",
      "\n"
     ]
    },
    {
     "data": {
      "text/html": [
       "<a href=https:////////www.parliament.nz////resource////en-NZ////53SCEN_EVI_129831_EN15729////bc33849a8a0138a89a200f63da16d5c9fdf4eabb>Read the full submission</a>"
      ],
      "text/plain": [
       "<IPython.core.display.HTML object>"
      ]
     },
     "metadata": {},
     "output_type": "display_data"
    },
    {
     "data": {
      "text/html": [
       "<b>Te Nehenehenui – Submission</b>"
      ],
      "text/plain": [
       "<IPython.core.display.HTML object>"
      ]
     },
     "metadata": {},
     "output_type": "display_data"
    },
    {
     "name": "stdout",
     "output_type": "stream",
     "text": [
      "This submission is made by Te Nehenehenui, the post-settlement governance entity representing Maniapoto, regarding the Natural and Built Environment (NBE) Bill and Spatial Planning (SP) Bill. The submission focuses on the impact of the bills on Maniapoto's customary rights and interests in natural resources, as well as their existing resource management arrangements. The submission supports the Freshwater Iwi Leaders Group (ILG) submission and endorses specific points made in that submission. \n",
      "\n",
      "The submission argues that the bills fail to uphold the Claims Settlement Act and the Waipā River Act, which are important pieces of legislation for Maniapoto. It calls for amendments to the bills to ensure that the intent and effect of these settlement acts are preserved. The submission also raises concerns about the notification provisions in the bills, which could undermine the integrity of statutory acknowledgement provisions. It calls for iwi and hapū involvement in the development of the National Planning Framework and the appointment of Regional Planning Committees. The submission also supports the ILG's request for the deletion of provisions prohibiting joint management agreements between regional planning committees and iwi.\n",
      "\n"
     ]
    },
    {
     "data": {
      "text/html": [
       "<a href=https:////////www.parliament.nz////resource////en-NZ////53SCEN_EVI_129831_EN15507////5dc8751cf2ed3b7b150483c62b1c1b9a13f196f6>Read the full submission</a>"
      ],
      "text/plain": [
       "<IPython.core.display.HTML object>"
      ]
     },
     "metadata": {},
     "output_type": "display_data"
    },
    {
     "data": {
      "text/html": [
       "<b>Ministry for the Environment (Response to Emily Grace's Comments on NBE and SP Department report) – Official advice</b>"
      ],
      "text/plain": [
       "<IPython.core.display.HTML object>"
      ]
     },
     "metadata": {},
     "output_type": "display_data"
    },
    {
     "name": "stdout",
     "output_type": "stream",
     "text": [
      "The main recommendation in this briefing is to make changes to the Natural and Built Environment Bill and the Spatial Planning Bill. Some of the specific recommendations include clarifying the language used in certain clauses, ensuring that the management of effects is included as a key mechanism in the Bill, and clarifying the distinction between different plan processes. The briefing also addresses concerns about the role of Te Oranga o te Taiao statements and suggests changes to improve workability and clarity in the legislation.\n",
      "\n"
     ]
    },
    {
     "data": {
      "text/html": [
       "<a href=https:////////www.parliament.nz////resource////en-NZ////53SCEN_ADV_129831_EN16968////e704b7eda369d803a34718b333d0acbd780e3b5f>Read the full submission</a>"
      ],
      "text/plain": [
       "<IPython.core.display.HTML object>"
      ]
     },
     "metadata": {},
     "output_type": "display_data"
    },
    {
     "data": {
      "text/html": [
       "<b>Board of Airline Representatives New Zealand Inc – Submission</b>"
      ],
      "text/plain": [
       "<IPython.core.display.HTML object>"
      ]
     },
     "metadata": {},
     "output_type": "display_data"
    },
    {
     "name": "stdout",
     "output_type": "stream",
     "text": [
      "The Board of Airline Representatives New Zealand Inc (BARNZ) has submitted its views on the Natural and Built Environment Bill (NBEA) and the Spatial Planning Bill (SPB). BARNZ represents airlines operating in New Zealand and has a direct interest in how planning frameworks affect airport operations. While BARNZ acknowledges that the reform process takes positive steps towards improving infrastructure provision, it believes that further amendments are needed to ensure the policy intent of the reform processes is achievable. BARNZ raises several specific concerns, including the need for clearer outcomes for infrastructure systems, the management of conflicts between residential development and airport operations, improved opportunities for participation in regional planning processes, and careful consideration of changes to provisions relating to overflying aircraft. BARNZ also raises concerns about the potential lack of notification for residential developments near airports and the need for more consultation and direction in regional spatial strategies. Additionally, BARNZ suggests amendments to the hearings processes and highlights the importance of aligning changes to the NBEA with the Civil Aviation Bill. Overall, BARNZ seeks to ensure that airports are protected from reverse sensitivity effects and that appropriate planning and development decisions are made to support the efficient operation of airports.\n",
      "\n"
     ]
    },
    {
     "data": {
      "text/html": [
       "<a href=https:////////www.parliament.nz////resource////en-NZ////53SCEN_EVI_129831_EN15430////8988ddbd946c9c994cb66f435a878c9c7822f498>Read the full submission</a>"
      ],
      "text/plain": [
       "<IPython.core.display.HTML object>"
      ]
     },
     "metadata": {},
     "output_type": "display_data"
    },
    {
     "data": {
      "text/html": [
       "<b>McGuinness Institute – Submission</b>"
      ],
      "text/plain": [
       "<IPython.core.display.HTML object>"
      ]
     },
     "metadata": {},
     "output_type": "display_data"
    },
    {
     "name": "stdout",
     "output_type": "stream",
     "text": [
      "The McGuinness Institute has submitted feedback on the Natural and Built Environment (NBE) Bill and the Spatial Planning (SP) Bill, as well as expressing interest in the upcoming Climate Change Adaptation Bill. The Institute raises several concerns about the proposed legislation. \n",
      "\n",
      "Firstly, they argue that the Climate Change Adaptation Bill should have been prioritized before the reform of the Resource Management Act (RMA) due to the urgency of addressing climate change. They also criticize the lack of analysis and review of the current system and the lack of clarity on what success looks like in the proposed legislation. \n",
      "\n",
      "The Institute expresses concern about the timing of the reforms, suggesting that businesses are already facing significant costs and stresses due to the pandemic and recent climate events, and adding more complexity to the system may exacerbate these challenges. They also argue that many businesses may not be well-placed to contribute to the law reform process due to consultation fatigue and other pressing matters. \n",
      "\n",
      "The Institute calls for consistency and alignment between the three bills and expresses concern about the lack of alignment in planning instruments and the potential for costly appeals. They also highlight the need for improved protection of places of national importance and the inclusion of the precautionary principle and the polluter pays principle in the legislation. \n",
      "\n",
      "In their feedback on the NBE Bill, the Institute emphasizes the importance of considering the effects of climate change in resource consent applications and raises concerns about the definition of climate change, the introduction of trivial effects, and the loss of sustainable management as a key purpose. They also argue for improved protection of places of national importance and the inclusion of the precautionary principle and the polluter pays principle. \n",
      "\n",
      "In their feedback on the SP Bill, the Institute supports the requirement for regional spatial strategies to address the effects of climate change and the establishment of cross-regional strategies for common issues. They raise concerns about the order in which planning instruments are created and the potential for major economic events to undermine environmental outcomes. They also call for clearer and more inclusive participation processes in the planning process.\n",
      "\n"
     ]
    },
    {
     "data": {
      "text/html": [
       "<a href=https:////////www.parliament.nz////resource////en-NZ////53SCEN_EVI_129831_EN15798////be645e12046ea6b4de14087d137ba787ba9445dd>Read the full submission</a>"
      ],
      "text/plain": [
       "<IPython.core.display.HTML object>"
      ]
     },
     "metadata": {},
     "output_type": "display_data"
    },
    {
     "data": {
      "text/html": [
       "<b>Waste Management NZ – Submission</b>"
      ],
      "text/plain": [
       "<IPython.core.display.HTML object>"
      ]
     },
     "metadata": {},
     "output_type": "display_data"
    },
    {
     "name": "stdout",
     "output_type": "stream",
     "text": [
      "The submission by Waste Management NZ Limited supports the Natural and Built Environment Bill and the Spatial Planning Bill. The company highlights its role as a leading provider of waste management and resource recovery services in New Zealand and emphasizes the importance of waste infrastructure in protecting the environment and supporting economic development. The submission argues for the recognition of waste infrastructure as a strategically significant asset and calls for streamlined provisions in the bills to address different aspects of infrastructure development in the waste industry. Waste Management also recommends amendments to the Spatial Planning Bill to prioritize waste infrastructure and ensure equitable use of land. Additionally, the submission advocates for Waste Management to be recognized as a network utility operator, citing the company's expertise, financial viability, and demonstrated public benefits. The submission concludes by requesting the opportunity to speak before the Environment Committee to further discuss these matters.\n",
      "\n"
     ]
    },
    {
     "data": {
      "text/html": [
       "<a href=https:////////www.parliament.nz////resource////en-NZ////53SCEN_EVI_129831_EN15744////7f55db48df20fe71671dc692f41b9e889f224650>Read the full submission</a>"
      ],
      "text/plain": [
       "<IPython.core.display.HTML object>"
      ]
     },
     "metadata": {},
     "output_type": "display_data"
    },
    {
     "data": {
      "text/html": [
       "<b>Pukekohe Vegetable Growers Assocation – Submission</b>"
      ],
      "text/plain": [
       "<IPython.core.display.HTML object>"
      ]
     },
     "metadata": {},
     "output_type": "display_data"
    },
    {
     "name": "stdout",
     "output_type": "stream",
     "text": [
      "The Pukekohe Vegetable Growers Association (PVGA) has submitted a response to the Natural and Built Environments Bill. The PVGA represents 287 commercial vegetable growers in New Zealand and emphasizes the importance of Pukekohe as a hub for vegetable production. They argue that the bill should prioritize the allocation of resources, such as water and nutrients, for vegetable production and extend consents for securing these resources to support investment in the industry. The PVGA also highlights the need for access to fresh, locally grown and affordable vegetables for the health and well-being of New Zealanders. They recommend amendments to the bill to include definitions for human health, rural form, and highly productive land. They also propose the inclusion of commercial vegetable production in the bill and the recognition of certified sector schemes, such as NZ-GAP, as options for freshwater farm planning. The PVGA requests the opportunity to submit further feedback on the National Planning Framework and expresses concerns about the potential obstacles the bill may pose to vegetable growers.\n",
      "\n"
     ]
    },
    {
     "data": {
      "text/html": [
       "<a href=https:////////www.parliament.nz////resource////en-NZ////53SCEN_EVI_129831_EN15625////b982f9e62e5c251cb8c149f0b2f6b44aca2439ea>Read the full submission</a>"
      ],
      "text/plain": [
       "<IPython.core.display.HTML object>"
      ]
     },
     "metadata": {},
     "output_type": "display_data"
    },
    {
     "data": {
      "text/html": [
       "<b>PCE (Cover letter - Comments on departmental report - Tranches 3A, 3B, and 4) – Official advice</b>"
      ],
      "text/plain": [
       "<IPython.core.display.HTML object>"
      ]
     },
     "metadata": {},
     "output_type": "display_data"
    },
    {
     "name": "stdout",
     "output_type": "stream",
     "text": [
      "The briefing is from the Parliamentary Commissioner for the Environment, Simon Upton, regarding tranches 3A and 3B of the NBE departmental report. Upton provides a table summarizing his recommendations for changes that the committee should support, areas that need improvement, and areas that require further scrutiny. He notes that overall, the changes recommended by the Ministry for the Environment (MfE) are improvements for the environment, but there are still areas that need improvement, such as the inclusion of specific mention of environmental limits and places that need protection. Upton also suggests seeking further clarification on certain clauses. He mentions that he has no comment at this stage on Report 4 Overview and Issue Analysis. Upton clarifies that his comments are a response to the issues raised by officials and are based on the assumption that the bill as presented is the only way to frame environmental protections. He offers to provide further detail and discuss with the committee.\n",
      "\n"
     ]
    },
    {
     "data": {
      "text/html": [
       "<a href=https:////////www.parliament.nz////resource////en-NZ////53SCEN_ADV_129831_EN16931////95d8b66c8ecc3b42c49d74c0f7ca98dbd0a348e0>Read the full submission</a>"
      ],
      "text/plain": [
       "<IPython.core.display.HTML object>"
      ]
     },
     "metadata": {},
     "output_type": "display_data"
    },
    {
     "data": {
      "text/html": [
       "<b>Westpower Ltd – Submission</b>"
      ],
      "text/plain": [
       "<IPython.core.display.HTML object>"
      ]
     },
     "metadata": {},
     "output_type": "display_data"
    },
    {
     "name": "stdout",
     "output_type": "stream",
     "text": [
      "Westpower Limited has submitted a response to the Natural and Built Environments Bill, expressing concerns about the complexity of the bill and potential implementation issues that could hinder their ability to provide a secure supply of energy, including renewable generation, to West Coast communities. They argue that the bill should be \"fit for purpose\" in achieving sustainable and equitable outcomes for the region. Westpower supports the recognition and provision for infrastructure in the bill, but seeks clarity on how potential conflicts between outcomes will be managed. They also call for clear definitions related to infrastructure, including renewable generation. Westpower raises concerns about Section 276 of the bill, which does not provide for all types of renewable generation schemes and does not address the operation of schemes. They suggest amendments to ensure consistency and inclusion of renewable generation activities. Westpower is also concerned about sections related to highly vulnerable biodiversity and the lack of a pathway to consider proposals that may require a location within these areas. They argue that the bill should provide for exemptions for infrastructure activities, including renewable generation. Overall, Westpower is seeking greater clarity, inclusion, and flexibility in the bill to support their ability to provide energy infrastructure to West Coast communities.\n",
      "\n"
     ]
    },
    {
     "data": {
      "text/html": [
       "<a href=https:////////www.parliament.nz////resource////en-NZ////53SCEN_EVI_129831_EN15614////eda5cc079913466d6bde90df05a660ef6e03fa65>Read the full submission</a>"
      ],
      "text/plain": [
       "<IPython.core.display.HTML object>"
      ]
     },
     "metadata": {},
     "output_type": "display_data"
    },
    {
     "data": {
      "text/html": [
       "<b>Te Arawa Lakes Trust – Submission</b>"
      ],
      "text/plain": [
       "<IPython.core.display.HTML object>"
      ]
     },
     "metadata": {},
     "output_type": "display_data"
    },
    {
     "name": "stdout",
     "output_type": "stream",
     "text": [
      "The Te Arawa Lakes Trust has submitted a response to the Natural and Built Environment (NBE) Bill and Spatial Planning (SPA) Bill. The submission is divided into two parts. \n",
      "\n",
      "In Part One, the Trust provides overarching comments on key issues related to the NBE and SPA Bills. They argue that there has not been enough time to ensure that the reform is done correctly and that the Bills fail to meet their stated aims. They also emphasize the need to address iwi and hapū rights and interests in freshwater and uphold Te Tiriti o Waitangi settlements. The Trust calls for the recognition and preservation of the relationship between iwi and hapū with the environment and the inclusion of Te Oranga o te Taiao as a foundational principle in the Bills. They also highlight the need for adequate resourcing for iwi and hapū participation in the system.\n",
      "\n",
      "In Part Two, the Trust focuses on the impact of the SPA and NBE Bills on the Te Arawa Lakes Settlement. They argue for the protection and preservation of the integrity, intent, and effect of the settlement, particularly in relation to the Rotorua Lakes Strategy Group.\n",
      "\n",
      "Overall, the Trust's submission highlights the need for the Bills to address iwi and hapū rights and interests, uphold Te Tiriti o Waitangi settlements, and recognize the relationship between iwi and hapū with the environment. They also emphasize the importance of adequate resourcing for iwi and hapū participation in the system.\n",
      "\n"
     ]
    },
    {
     "data": {
      "text/html": [
       "<a href=https:////////www.parliament.nz////resource////en-NZ////53SCEN_EVI_129831_EN15814////24a2e1e22e21bfb962b7b808d9a8539a4af24470>Read the full submission</a>"
      ],
      "text/plain": [
       "<IPython.core.display.HTML object>"
      ]
     },
     "metadata": {},
     "output_type": "display_data"
    },
    {
     "data": {
      "text/html": [
       "<b>Ministry for the Environment (Notification diagram - 6 April) – Official advice</b>"
      ],
      "text/plain": [
       "<IPython.core.display.HTML object>"
      ]
     },
     "metadata": {},
     "output_type": "display_data"
    },
    {
     "name": "stdout",
     "output_type": "stream",
     "text": [
      "This briefing discusses the purpose and requirements of notification for discretionary activities. The purpose of notification is to gather additional information about the activity's contribution to outcomes, compliance with limits, and how adverse effects can be avoided or minimized. The briefing states that an affected person is someone who will experience more than minor adverse effects above those anticipated by the plan or NPF, or someone to whom a statutory acknowledgement is made. Consent authorities must comply with plan or NPF notification policies and only use discretion if allowed by the plan or if the activity is unanticipated. The briefing recommends that plans or NPFs should specify notification policies, including the notification class and the identification of affected persons. The level of discretion in notification decisions should be outlined, and considerations should be provided. The briefing also mentions that non-notification may be appropriate if it achieves relevant outcomes, complies with limits, and there are no affected persons or affected persons have given written approval. Public notification may be necessary if there is inadequate information to understand the activity's contribution to outcomes or compliance with limits, or if adverse effects are not well understood. Limited notification may be appropriate if it achieves relevant outcomes, complies with limits, and there are affected persons. The briefing concludes by mentioning considerations for when to notify.\n",
      "\n"
     ]
    },
    {
     "data": {
      "text/html": [
       "<a href=https:////////www.parliament.nz////resource////en-NZ////53SCEN_ADV_129831_EN16798////66ecea5bf21f420d9fffda96421e94ed93a55b59>Read the full submission</a>"
      ],
      "text/plain": [
       "<IPython.core.display.HTML object>"
      ]
     },
     "metadata": {},
     "output_type": "display_data"
    },
    {
     "data": {
      "text/html": [
       "<b>Te Tumu Paeroa – Submission</b>"
      ],
      "text/plain": [
       "<IPython.core.display.HTML object>"
      ]
     },
     "metadata": {},
     "output_type": "display_data"
    },
    {
     "name": "stdout",
     "output_type": "stream",
     "text": [
      "Trustee supports the inclusion of te Tiriti o Waitangi principles in the NBE Bill. However, they believe that the current drafting of the bill does not give sufficient effect to te Tiriti o Waitangi. They argue that many of the roles and powers given to Māori within the new system do not have enough substantive power to make a meaningful impact. They propose several measures to give effect to te Tiriti o Waitangi, including giving the National Māori Entity (NME) the same powers as the Minister for the Environment, ensuring 50:50 Māori representation on Regional Planning Committees, and developing a mana whakahaere engagement register to better understand the interests of all Māori rights holders. They also suggest strengthening the te Tiriti o Waitangi clause and removing references to Crown-constructed principles that serve the Crown's interests. The Māori Trustee emphasizes the importance of a clear purpose for the NBE Bill that prioritizes protecting and sustaining the natural environment and supports intergenerational equity. They also raise concerns about the current definition of te Oranga o te Taiao, which they believe narrows the Māori understanding of the environment. They argue for a more holistic definition that recognizes the interdependent relationship between humans and the natural environment. The Māori Trustee also raises concerns about the lack of clarity and specificity in the purpose of the NBE Bill, as well as the broad discretionary powers given to the Minister. They call for clearer direction and consistency in prioritizing ecological integrity and giving effect to te Tiriti o Waitangi. Additionally, they highlight the need for adequate resourcing and funding to ensure meaningful Māori participation in the new system. Overall, the Māori Trustee supports the need for reform but believes that several changes are necessary to make the NBE Bill fit for purpose and to give proper effect to te Tiriti o Waitangi.\n",
      "\n"
     ]
    },
    {
     "data": {
      "text/html": [
       "<a href=https:////////www.parliament.nz////resource////en-NZ////53SCEN_EVI_129831_EN15327////44768282eae0912bf06bbe53667699ed580f7af9>Read the full submission</a>"
      ],
      "text/plain": [
       "<IPython.core.display.HTML object>"
      ]
     },
     "metadata": {},
     "output_type": "display_data"
    },
    {
     "data": {
      "text/html": [
       "<b>Apiculture New Zealand – Submission</b>"
      ],
      "text/plain": [
       "<IPython.core.display.HTML object>"
      ]
     },
     "metadata": {},
     "output_type": "display_data"
    },
    {
     "name": "stdout",
     "output_type": "stream",
     "text": [
      "Apiculture New Zealand has submitted a response to the Natural and Built Environment Bill and the Spatial Planning Bill. The organization represents the apiculture industry in New Zealand and is concerned about the impact of the bills on beekeepers' ability to operate effectively. They argue that the bills lack clear definitions for certain terms, which could lead to legal disputes and inefficiencies in the system. They also believe that the bills are overly focused on urban outcomes and do not adequately consider the importance of rural areas for food production and beekeeping. The organization expresses concerns about the cost and speed of the consenting process under the new system and the potential impact on the apiculture industry. They also highlight the issue of urban encroachment on processing facilities for bee products and the potential impact on their operations. Overall, while they agree with the goals of the bills, they believe that the current versions have problems that need to be addressed.\n",
      "\n"
     ]
    },
    {
     "data": {
      "text/html": [
       "<a href=https:////////www.parliament.nz////resource////en-NZ////53SCEN_EVI_129831_EN15740////785da2727277604560d09b841d544ac90739e05d>Read the full submission</a>"
      ],
      "text/plain": [
       "<IPython.core.display.HTML object>"
      ]
     },
     "metadata": {},
     "output_type": "display_data"
    },
    {
     "data": {
      "text/html": [
       "<b>WasteMINZ Territorial Authorities’ Officers Forum – Submission</b>"
      ],
      "text/plain": [
       "<IPython.core.display.HTML object>"
      ]
     },
     "metadata": {},
     "output_type": "display_data"
    },
    {
     "name": "stdout",
     "output_type": "stream",
     "text": [
      "The Territorial Authorities' Officers (TAO) Forum, a sector group of WasteMINZ, has submitted a response to the Natural and Built Environment (NBE) Bill. The TAO Forum supports a more outcomes-based approach and streamlined planning framework that considers integrated management of the environment. They argue that the bill should explicitly include resource recovery and waste disposal as eligible activities. They also emphasize the need for the bill to promote and enable a system that ensures resources are used efficiently and in the best way possible for current and future generations, including consideration of a circular economy approach. The TAO Forum also calls for alignment between the NBE Bill and the National Infrastructure Strategy, particularly in relation to waste and resource recovery infrastructure. They highlight the importance of including resource recovery and waste disposal as eligible activities in regional spatial strategies and providing clear direction on how the NBE Bill will fit in with waste reduction activities from local government. The TAO Forum also raises concerns about the resourcing needed to implement the NBE Bill and calls for the delivery timeline to consider concurrent activities that could be affected by the proposed changes.\n",
      "\n"
     ]
    },
    {
     "data": {
      "text/html": [
       "<a href=https:////////www.parliament.nz////resource////en-NZ////53SCEN_EVI_129831_EN15589////3510326dcc267863f9341e4828433e885db7019c>Read the full submission</a>"
      ],
      "text/plain": [
       "<IPython.core.display.HTML object>"
      ]
     },
     "metadata": {},
     "output_type": "display_data"
    },
    {
     "data": {
      "text/html": [
       "<b>Ministry for the Environment (Designations Diagram) – Official advice</b>"
      ],
      "text/plain": [
       "<IPython.core.display.HTML object>"
      ]
     },
     "metadata": {},
     "output_type": "display_data"
    },
    {
     "name": "stdout",
     "output_type": "stream",
     "text": [
      "This briefing discusses the use of Notice of Requirement (NOR) and primary construction and implementation plan (primary CIP) processes for route or site protection for future infrastructure use. The NOR process is described as a \"slimmed\" down version of the Resource Management Act (RMA) NOR process, with reduced information requirements and no need for a full assessment of environmental effects. The primary CIP is described as providing design and build information, with a detailed assessment of effects. It can also specify the need for a secondary construction and implementation plan. The briefing mentions that the primary CIP is required if not applied for with an NOR, and it can be public notified. The briefing also mentions that a requiring authority can choose to apply the primary or secondary construction and implementation plan to the Regional Planning Committee or a territorial authority. The main recommendation is to use the NOR and primary CIP processes for route or site protection, as they provide the necessary information and assessment for future infrastructure development.\n",
      "\n"
     ]
    },
    {
     "data": {
      "text/html": [
       "<a href=https:////////www.parliament.nz////resource////en-NZ////53SCEN_ADV_129831_EN16924////a99d427e14a50dd7ce1927168ed871be50cc3583>Read the full submission</a>"
      ],
      "text/plain": [
       "<IPython.core.display.HTML object>"
      ]
     },
     "metadata": {},
     "output_type": "display_data"
    },
    {
     "data": {
      "text/html": [
       "<b>South Taranaki District Council – Submission</b>"
      ],
      "text/plain": [
       "<IPython.core.display.HTML object>"
      ]
     },
     "metadata": {},
     "output_type": "display_data"
    },
    {
     "name": "stdout",
     "output_type": "stream",
     "text": [
      "The South Taranaki District Council (STDC) supports the need for reform of New Zealand's resource management system and the objectives of the Natural and Built Environment Bill (NBE) and Spatial Planning Bill (SP). However, the council has concerns about certain aspects of the bills. \n",
      "\n",
      "STDC is concerned about the reduction of input from Territorial Authorities in the consolidation of plans into NBE plans and Regional Spatial Strategies (RSS). They are worried that this may lead to a loss of good community outcomes and system inefficiencies. \n",
      "\n",
      "The council also seeks further clarity on various aspects of the bills, including the role and status of the existing Resource Management Act (RMA) and planning documents during the transition to the new system, the timing of the enactment of certain clauses, and the incorporation of information from RMA planning documents into RSS. \n",
      "\n",
      "STDC is concerned about the loss of the \"local voice\" in the proposed planning system and the reduced role of Territorial Authorities. They believe that Territorial Authorities should have a stronger role in plan making, as they are best placed to understand the unique challenges and opportunities within their districts. The council supports the idea of elected local government representatives on Regional Planning Committees (RPCs) to provide greater accountability to the communities they represent. \n",
      "\n",
      "STDC also supports the strengthening of Statement of Community Outcomes (SCOs) and the inclusion of more local government input in the Independent Hearing Panel process. They believe that SCOs should carry more weight in plan making and that RPCs should be required to seek advice from affected councils on IHP recommendations. \n",
      "\n",
      "The council has concerns about the lack of accountability of RPCs to local authorities, the composition of RPCs, the determination of the host authority, and the funding and resourcing of RPCs and the reform process. They believe that more clarity and guidance is needed in these areas. \n",
      "\n",
      "STDC supports the inclusion of system outcomes in the NBE but believes that there should be a standalone urban development system outcome with more direction and clarity. They also believe that conflicts between system outcomes should be resolved in the NBE to ensure certainty. \n",
      "\n",
      "The council is generally supportive of regional spatial planning and the RSS process but seeks more local authority input and the inclusion of hearings in the process. \n",
      "\n",
      "STDC supports the co-design process for the National Planning Framework (NPF) with local government and believes that all local authorities in the relevant region should be engaged in the pre-notification stage. \n",
      "\n",
      "Finally, the council\n",
      "\n"
     ]
    },
    {
     "data": {
      "text/html": [
       "<a href=https:////////www.parliament.nz////resource////en-NZ////53SCEN_EVI_129831_EN15503////9021ebf30c74fbd2ee187e9986a673882675bd9c>Read the full submission</a>"
      ],
      "text/plain": [
       "<IPython.core.display.HTML object>"
      ]
     },
     "metadata": {},
     "output_type": "display_data"
    },
    {
     "data": {
      "text/html": [
       "<b>Christchurch International Airport Ltd Supp 1 – Submission</b>"
      ],
      "text/plain": [
       "<IPython.core.display.HTML object>"
      ]
     },
     "metadata": {},
     "output_type": "display_data"
    },
    {
     "name": "stdout",
     "output_type": "stream",
     "text": [
      "The submission by Christchurch International Airport (CIAL) on the Natural and Built Environment Bill and Spatial Planning Bill expresses general support for the reforms, particularly the move towards greater national and regional planning direction and a more strategic approach to long-term infrastructure. However, CIAL raises concerns about the complexity and lengthiness of the new regime and the need for clear direction on delivering, maintaining, and protecting infrastructure. \n",
      "\n",
      "CIAL specifically suggests that the outcomes section of the bill should not establish a hierarchy between environmental outcomes and infrastructure outcomes. They argue that the infrastructure outcome should be worded in stronger language and reference both the protection and enablement of infrastructure. CIAL also supports exemptions to strict environmental limits and targets, as long as there is a clear pathway for infrastructure that allows for the management of environmental effects.\n",
      "\n",
      "In terms of designations, CIAL supports the establishment of a high-level framework for infrastructure in the National Policy Framework (NPF) and the designation process focusing on how infrastructure is built and managed. However, they express concerns about the lack of clarity in the designation process and the need for greater legislative direction for each step. They also suggest that the notification provisions for designations need improvement to streamline the process.\n",
      "\n",
      "CIAL emphasizes the need for clarified and expanded transitional provisions to provide certainty for investment and long-term planning. They specifically seek clarity on the roll-over of existing RMA tools, the status of applications for resource consent and designations, and plan changes that are part-way through the RMA process.\n",
      "\n",
      "CIAL also highlights the importance of building resilience to climate change effects and transitioning to low-carbon aviation. They suggest that consenting and designating processes to build climate resilience should be facilitated under the new regime.\n",
      "\n",
      "Other points raised in the submission include the duty to avoid unreasonable noise, the introduction of new planning documents, and the simplification and streamlining of the consenting process. CIAL supports the duty to avoid unreasonable noise and the intent to introduce a more streamlined planning approach but raises concerns about the lack of certainty and clarity in the preparation of new planning documents and the uncertainty surrounding the notification provisions for resource consents.\n",
      "\n"
     ]
    },
    {
     "data": {
      "text/html": [
       "<a href=https:////////www.parliament.nz////resource////en-NZ////53SCEN_EVI_129831_EN15737////3348ea7d03b71e75be1c01998c03d78ecbebd631>Read the full submission</a>"
      ],
      "text/plain": [
       "<IPython.core.display.HTML object>"
      ]
     },
     "metadata": {},
     "output_type": "display_data"
    },
    {
     "data": {
      "text/html": [
       "<b>Ministry for the Environment (Departmental report - Tranche 2 - Natural and Built Environment Bill). – Official advice</b>"
      ],
      "text/plain": [
       "<IPython.core.display.HTML object>"
      ]
     },
     "metadata": {},
     "output_type": "display_data"
    },
    {
     "name": "stdout",
     "output_type": "stream",
     "text": [
      "The main recommendation in this briefing is to make amendments to the Natural and Built Environment Bill (NBE Bill) regarding the establishment and composition of Regional Planning Committees (RPCs). The briefing recommends that the RPCs should have separate legal standing and independence from local authorities, while still being a committee of all councils in each region. It also recommends that the RPCs should have a role in enabling integrated and strategic decision-making on the Regional Spatial Strategy (RSS) and the NBE plan. Additionally, the briefing recommends clarifying the requirements for Māori membership on the RPCs and the role of the central government member. The briefing also addresses concerns raised by submitters regarding the complexity of the process for agreeing on RPC composition and the democratic accountability of RPC members. Overall, the main recommendation is to ensure effective collaboration and representation in the development of the RSS and NBE plan.\n",
      "\n"
     ]
    },
    {
     "data": {
      "text/html": [
       "<a href=https:////////www.parliament.nz////resource////en-NZ////53SCEN_ADV_129831_EN16741////07ba6c2736b244187b88c751da8be7dbfe9c4cb8>Read the full submission</a>"
      ],
      "text/plain": [
       "<IPython.core.display.HTML object>"
      ]
     },
     "metadata": {},
     "output_type": "display_data"
    },
    {
     "data": {
      "text/html": [
       "<b>MfE (NBE Bill Departmental Report 1 - Corrections- Replacement pages 102,146, 232, 233) – Official advice</b>"
      ],
      "text/plain": [
       "<IPython.core.display.HTML object>"
      ]
     },
     "metadata": {},
     "output_type": "display_data"
    },
    {
     "name": "stdout",
     "output_type": "stream",
     "text": [
      "The main recommendation in this briefing is to amend subclause 80(2) to refer to \"standards, methods, or requirements\" instead of \"regulations\" for consistency with subclause 80(1). Additionally, there are recommendations to require the limits and targets review panel to provide advice on exemption applications and evaluate the sufficiency and comprehensiveness of limits and targets. There is also a recommendation to proceed with Schedule 6 clause 4 as currently drafted, which relates to the consultation of Customary Marine Title (CMT) groups in NPF proposals relating to the coastal marine area. Finally, there are recommendations to proceed with Schedule 6 clauses 5 and 6 as currently drafted, which relate to the evaluation report and its content.\n",
      "\n"
     ]
    },
    {
     "data": {
      "text/html": [
       "<a href=https:////////www.parliament.nz////resource////en-NZ////53SCEN_ADV_129831_EN16739////ec8e19399f8164b9cc47638d9e7c5455e0bf42ff>Read the full submission</a>"
      ],
      "text/plain": [
       "<IPython.core.display.HTML object>"
      ]
     },
     "metadata": {},
     "output_type": "display_data"
    },
    {
     "data": {
      "text/html": [
       "<b>Ministry for the Environment (Responses to questions from 7 and 8 February) – Official advice</b>"
      ],
      "text/plain": [
       "<IPython.core.display.HTML object>"
      ]
     },
     "metadata": {},
     "output_type": "display_data"
    },
    {
     "name": "stdout",
     "output_type": "stream",
     "text": [
      "The main recommendation in this briefing is to refine and tighten the drafting of the NBE Bill to address issues with the existing approach to notification in the RMA. The briefing also recommends following the Auckland Unitary Plan model for appeals on NBE plans, using Independent Hearings Panels (IHPs) and allowing appeals to the Environment Court based on the IHP hearing record. Other recommendations include considering the inclusion of recreation in the well-functioning urban and rural environments outcome, reviewing the practical secretariat issues raised by Taituarā, and exploring options for improving the digital resource management system. The briefing also mentions ongoing work on papakāinga and the need to review the overall structure of the Bills.\n",
      "\n"
     ]
    },
    {
     "data": {
      "text/html": [
       "<a href=https:////////www.parliament.nz////resource////en-NZ////53SCEN_ADV_129831_EN15315////461d52e2fa3b2670416fe9af48a5f1423258b43a>Read the full submission</a>"
      ],
      "text/plain": [
       "<IPython.core.display.HTML object>"
      ]
     },
     "metadata": {},
     "output_type": "display_data"
    },
    {
     "data": {
      "text/html": [
       "<b>PCE (Additional comments on departmental report - Tranche 4) – Official advice</b>"
      ],
      "text/plain": [
       "<IPython.core.display.HTML object>"
      ]
     },
     "metadata": {},
     "output_type": "display_data"
    },
    {
     "name": "stdout",
     "output_type": "stream",
     "text": [
      "The briefing is from the Parliamentary Commissioner for the Environment, Simon Upton, to the Environment Committee. Upton commends the officials for their work on the proposed reforms and highlights the importance of clarity of purpose and roles in the legislative framework. He suggests that the purpose of the reform should be to secure better environmental outcomes and raises concerns about legal uncertainty introduced by the inclusion of \"te Oranga o te Taiao\" in the purpose clause. Upton also points out the lack of hierarchy in the system outcomes and the inconsistency in the sequence of developing key governing documents. He argues for a centralization of regulatory authority for environmental management but suggests that regional planning committees should handle spatial integration. Upton recommends that more work is required before the bills are sent back to the House for consideration and asks that the issues he raised be noted in the committee's report.\n",
      "\n"
     ]
    },
    {
     "data": {
      "text/html": [
       "<a href=https:////////www.parliament.nz////resource////en-NZ////53SCEN_ADV_129831_EN16933////d66dde5251f67b233c7c11791cc32e12366d5e60>Read the full submission</a>"
      ],
      "text/plain": [
       "<IPython.core.display.HTML object>"
      ]
     },
     "metadata": {},
     "output_type": "display_data"
    },
    {
     "data": {
      "text/html": [
       "<b>Opaea Whanau Trust Supp 1 – Submission</b>"
      ],
      "text/plain": [
       "<IPython.core.display.HTML object>"
      ]
     },
     "metadata": {},
     "output_type": "display_data"
    },
    {
     "name": "stdout",
     "output_type": "stream",
     "text": [
      "The main argument in this submission is that the Therapeutics Bill should include provisions that recognize and protect the rights of Māori people, as outlined in the Treaty of Waitangi. The submitter, who claims descent from the non-sellers subdivision claim in the Waimarino block, argues that the bill should ensure the understanding and implementation of te Tiriti o Waitangi and mātauranga Māori in relation to therapeutic products. They also highlight the importance of promoting Māori arts and crafts, the study of Māori lore and history, and the speaking of the Māori language. The submitter emphasizes the need for engagement with Māori and other population groups in a manner that reflects their needs and aspirations. They argue that the bill should include provisions for consultation and input from those who are likely to be affected by the legislation, as well as those with knowledge and experience of relevant Māori perspectives.\n",
      "\n"
     ]
    },
    {
     "data": {
      "text/html": [
       "<a href=https:////////www.parliament.nz////resource////en-NZ////53SCEN_EVI_129831_EN15492////b0fd8ed62b35f5904ef9402db5ee3bc1157de0b6>Read the full submission</a>"
      ],
      "text/plain": [
       "<IPython.core.display.HTML object>"
      ]
     },
     "metadata": {},
     "output_type": "display_data"
    },
    {
     "data": {
      "text/html": [
       "<b>Waikato District Council Supp1 – Submission</b>"
      ],
      "text/plain": [
       "<IPython.core.display.HTML object>"
      ]
     },
     "metadata": {},
     "output_type": "display_data"
    },
    {
     "name": "stdout",
     "output_type": "stream",
     "text": [
      "The Waikato District Council supports the need for reform and the intent of the Spatial Planning Bill (SPB) to contribute to a simpler, more efficient resource management system. However, they have identified difficulties in the relationship between the strategic layer and the Natural and Built Environment Bill, as well as the unclear relationship with the Climate Change Bill. The Council recommends integrating the SPB into the Natural and Built Environment Bill to provide a clear vision and direction. They also express concerns about funding, the loss of local voice, complex arrangements for supporting Regional Planning Committees, and the lack of clarity around the transition from the current legislation to the new system. The Council suggests investigating innovative funding options, ensuring proper recognition and application of Te Tiriti o Waitangi and Te ao Māori, and addressing the potential misalignment between the three pieces of resource management reform legislation. They also raise concerns about the interpretation and use of terms, the need for central government investment in the reform program, and the potential for inconsistency and uncertainty with other major reforms. The Council recommends amendments to include provision for sub-committees of the Regional Planning Committee, as well as addressing the lack of clarity around transition and implementation. They also suggest integrating the strategic layer into the Natural and Built Environment Bill and ensuring the integration and interpretation of the three Bills. Finally, the Council emphasizes the importance of public participation, legitimacy, sustainability, and workability in the planning processes.\n",
      "\n"
     ]
    },
    {
     "data": {
      "text/html": [
       "<a href=https:////////www.parliament.nz////resource////en-NZ////53SCEN_EVI_129831_EN15325////6133b7a7009f70849f21d9472874bb5d65780ac0>Read the full submission</a>"
      ],
      "text/plain": [
       "<IPython.core.display.HTML object>"
      ]
     },
     "metadata": {},
     "output_type": "display_data"
    },
    {
     "data": {
      "text/html": [
       "<b>PCE (Comment on departmental report - cover letter) – Official advice</b>"
      ],
      "text/plain": [
       "<IPython.core.display.HTML object>"
      ]
     },
     "metadata": {},
     "output_type": "display_data"
    },
    {
     "name": "stdout",
     "output_type": "stream",
     "text": [
      "The briefing is a response from the Parliamentary Commissioner for the Environment, Simon Upton, regarding the departmental reports for the Spatial Planning Bill and the Natural and Built Environment Bill. Upton provides independent advice on the reports and highlights areas where improvements are needed to protect and improve the natural environment. \n",
      "\n",
      "The main recommendations from Upton include:\n",
      "\n",
      "1. The proposal to promulgate the first spatial plans prior to articulation of limits and targets is a serious flaw and should be addressed.\n",
      "2. Requirements for detail across a region could still risk trade-offs in the spatial plans that put the environment at risk.\n",
      "3. Narrowing the purpose clause of the Natural and Built Environment Bill is promising, but the actual drafting needs to be considered.\n",
      "4. Leaving a list of non-prioritized system outcomes in the Bill will invite legal uncertainty and risk compromising the natural environment. If non-environmental outcomes need to be included, they should be promoted in the Spatial Planning Bill.\n",
      "5. Recommended changes to environmental limits and targets are a mixed bag. Improvements proposed are welcomed, but exemptions to limits and protections for places of national importance and significant biodiversity are too broad. Not setting limits and targets in the first NPF is a serious flaw.\n",
      "6. There appears to be a gap that would not allow protection of places that are of regional importance but not considered of national importance. This gap should be fixed.\n",
      "7. Provisions on compliance and enforcement, duties and restrictions, and water conservation orders are generally good and should be supported.\n",
      "8. Making system review by the PCE mandatory is unnecessary and risks the ability of the PCE to perform its wider statutory duties.\n",
      "\n",
      "Upton emphasizes that his comments are based on the issues raised by officials and the bill as presented to the Committee. He offers to provide further detail and discuss with the Committee if needed.\n",
      "\n"
     ]
    },
    {
     "data": {
      "text/html": [
       "<a href=https:////////www.parliament.nz////resource////en-NZ////53SCEN_ADV_129831_EN16915////203ee32d39488674db1ba6fc1eb8a8d04916cf0c>Read the full submission</a>"
      ],
      "text/plain": [
       "<IPython.core.display.HTML object>"
      ]
     },
     "metadata": {},
     "output_type": "display_data"
    },
    {
     "data": {
      "text/html": [
       "<b>Spark, Vodafone, Connexa and Fortysouth Supp 2 – Submission</b>"
      ],
      "text/plain": [
       "<IPython.core.display.HTML object>"
      ]
     },
     "metadata": {},
     "output_type": "display_data"
    },
    {
     "name": "stdout",
     "output_type": "stream",
     "text": [
      "The submission argues in favor of the proposed reform of the Resource Management system in New Zealand. The telecommunications providers, Spark and Vodafone, along with independent digital infrastructure companies, Connexa and FortySouth, emphasize the importance of efficient and flexible planning to meet the infrastructure requirements for telecommunications. They support the development of a national planning framework (NPF) that includes national standards and direction for infrastructure. They also highlight the significance of the National Environmental Standard for Telecommunications Facilities (NESTF) in streamlining rules and reducing timeframes for rolling out permitted activities. However, they suggest that the NESTF needs a review to accommodate technological advancements and wireless facility outcomes. They request an extension of the implementation timeframe to ensure a comprehensive and fit-for-purpose regime.\n",
      "\n"
     ]
    },
    {
     "data": {
      "text/html": [
       "<a href=https:////////www.parliament.nz////resource////en-NZ////53SCEN_EVI_129831_EN16132////f5087d308b0435d3830e8e13078707d1016484a8>Read the full submission</a>"
      ],
      "text/plain": [
       "<IPython.core.display.HTML object>"
      ]
     },
     "metadata": {},
     "output_type": "display_data"
    },
    {
     "data": {
      "text/html": [
       "<b>Wellington Water Supp 3 – Submission</b>"
      ],
      "text/plain": [
       "<IPython.core.display.HTML object>"
      ]
     },
     "metadata": {},
     "output_type": "display_data"
    },
    {
     "name": "stdout",
     "output_type": "stream",
     "text": [
      "The submission argues for the need to ensure that the new resource management system supports the success of the new water services entities (WSEs) and their ability to provide essential services and infrastructure. It emphasizes the importance of spatial planning for new three waters infrastructure and the need for clear consenting pathways and protections for WSEs. The submission also calls for the inclusion of WSE representatives in Regional Planning Committees and for the alignment of environmental limits with the obligations of WSEs imposed by Taumata Arowai. It highlights the potential conflicts between environmental limits and the needs of three waters infrastructure and suggests changes to the Natural and Built Environments Bill to address these concerns. The submission also recommends changes to the Spatial Planning Bill to ensure that RSSs recognize and provide for existing infrastructure and involve WSEs in the planning process. Additionally, the submission calls for mechanisms to address the high costs of consenting and reconsenting infrastructure projects and to ensure that WSEs have input into the consenting processes. It suggests changes to the NBE Bill and the SP Bill to address these issues. Finally, the submission highlights the importance of transitional processes and recommends changes to the RMA to integrate WSEs into the current regulatory framework.\n",
      "\n"
     ]
    },
    {
     "data": {
      "text/html": [
       "<a href=https:////////www.parliament.nz////resource////en-NZ////53SCEN_EVI_129831_EN16779////0ccd689db1185456ac46359132bbe37950aad88f>Read the full submission</a>"
      ],
      "text/plain": [
       "<IPython.core.display.HTML object>"
      ]
     },
     "metadata": {},
     "output_type": "display_data"
    },
    {
     "data": {
      "text/html": [
       "<b>Aquaculture New Zealand – Submission</b>"
      ],
      "text/plain": [
       "<IPython.core.display.HTML object>"
      ]
     },
     "metadata": {},
     "output_type": "display_data"
    },
    {
     "name": "stdout",
     "output_type": "stream",
     "text": [
      "The submission from Aquaculture New Zealand expresses broad support for the Natural and Built Environments Bill and the Spatial Planning Bill. The aquaculture industry believes that reform of the Resource Management Act is long overdue and that the new bills have the potential to provide better outcomes for the industry, communities, and the environment. \n",
      "\n",
      "The main arguments put forward by Aquaculture New Zealand include the need for improved national direction, quality spatial planning, and centralized decision-making for key opportunities in order to realize the benefits of aquaculture. They also support the retention of aquaculture-specific provisions from the Resource Management Act and the inclusion of aquaculture as a consideration in the development of Regional Spatial Strategies. \n",
      "\n",
      "Aquaculture New Zealand also highlights the importance of maintaining and enhancing coastal water quality, supporting the implementation of the government's Aquaculture Strategy, and providing appropriate resourcing for land-based infrastructure. They oppose the concept of natural character and argue for a more efficient and certain consenting process for managing existing farms. \n",
      "\n",
      "In terms of the Spatial Planning Bill, Aquaculture New Zealand supports the integration of Regional Spatial Strategies and the inclusion of aquaculture as a consideration in the development of these strategies. They also suggest that the notification period for a draft initial Regional Spatial Strategy should be shorter than the proposed seven years. \n",
      "\n",
      "Overall, Aquaculture New Zealand believes that the implementation of the bills is crucial for the growth and sustainability of the aquaculture industry in New Zealand. They emphasize the need for improved national direction, spatial planning, and decision-making processes to support positive developments in the industry.\n",
      "\n"
     ]
    },
    {
     "data": {
      "text/html": [
       "<a href=https:////////www.parliament.nz////resource////en-NZ////53SCEN_EVI_129831_EN15427////548d3c768e01a483bf82c0108891117b73242a51>Read the full submission</a>"
      ],
      "text/plain": [
       "<IPython.core.display.HTML object>"
      ]
     },
     "metadata": {},
     "output_type": "display_data"
    },
    {
     "data": {
      "text/html": [
       "<b>Royal Forest and Bird Protection Society of New Zealand Inc Supp 4 – Submission</b>"
      ],
      "text/plain": [
       "<IPython.core.display.HTML object>"
      ]
     },
     "metadata": {},
     "output_type": "display_data"
    },
    {
     "name": "stdout",
     "output_type": "stream",
     "text": [
      "The submission argues against the Select Committee on Natural and Built Environment Bill and Spatial Planning Bill on several key points. \n",
      "\n",
      "Firstly, it criticizes the spatial planning aspect of the bill, stating that spatial plans will be made without considering limits and targets, leading to poor planning outcomes. It suggests that spatial plans should be prepared alongside NBA plans to avoid inefficient and bad environmental outcomes.\n",
      "\n",
      "Secondly, the submission raises concerns about the protection of places of national importance, including significant biodiversity areas. It opposes the ability to obtain exemptions from the effects management hierarchy and calls for a stronger effects management framework and amendment of the offsetting and redress principles.\n",
      "\n",
      "Thirdly, the submission argues that the limits and targets framework needs significant improvement and should require continuous environmental improvement. It opposes the proposed exemptions and the suggestion of offsetting and redress to meet limits.\n",
      "\n",
      "The submission also calls for a clear nature first hierarchy in the purpose and outcomes of the bill and highlights the importance of protecting the habitat of trout and salmon while still ensuring the protection of indigenous biodiversity.\n",
      "\n",
      "Overall, the submission argues for amendments to the bill to address these concerns and improve environmental outcomes.\n",
      "\n"
     ]
    },
    {
     "data": {
      "text/html": [
       "<a href=https:////////www.parliament.nz////resource////en-NZ////53SCEN_EVI_129831_EN16146////17bf702a9f1981aec9b18457d5fd92e55f4ca055>Read the full submission</a>"
      ],
      "text/plain": [
       "<IPython.core.display.HTML object>"
      ]
     },
     "metadata": {},
     "output_type": "display_data"
    },
    {
     "data": {
      "text/html": [
       "<b>Ōtorohanga District Council – Submission</b>"
      ],
      "text/plain": [
       "<IPython.core.display.HTML object>"
      ]
     },
     "metadata": {},
     "output_type": "display_data"
    },
    {
     "name": "stdout",
     "output_type": "stream",
     "text": [
      "The Ōtorohanga District Council has submitted a response to the Natural and Built Environment Bill and Spatial Planning Bill. The council generally supports the need for resource management reform but has concerns that the current bills will not deliver the desired outcomes. They argue that having three separate pieces of planning legislation will result in disjointed planning and lack of integration with other sector reforms. They are also concerned about the loss of local decision-making and community voice, as well as the complexity of implementing the proposed legislation. The council also highlights the lack of hierarchy in outcomes sought and the resourcing challenges for implementation. They suggest considering an alternative integrated model of planning, such as the one being implemented in Scotland.\n",
      "\n"
     ]
    },
    {
     "data": {
      "text/html": [
       "<a href=https:////////www.parliament.nz////resource////en-NZ////53SCEN_EVI_129831_EN15493////58346afafa8076bb7169b99e3774be74d2747446>Read the full submission</a>"
      ],
      "text/plain": [
       "<IPython.core.display.HTML object>"
      ]
     },
     "metadata": {},
     "output_type": "display_data"
    },
    {
     "data": {
      "text/html": [
       "<b>Fish and Game New Zealand Supp 1 – Submission</b>"
      ],
      "text/plain": [
       "<IPython.core.display.HTML object>"
      ]
     },
     "metadata": {},
     "output_type": "display_data"
    },
    {
     "name": "stdout",
     "output_type": "stream",
     "text": [
      "Fish & Game New Zealand supports the development of legislation to replace the Resource Management Act (RMA) and halt environmental degradation. They believe that the exposure draft of the Natural and Built Environments Act takes steps towards this outcome but fails to adequately address environmental impacts and provide a consistent framework for resource management planning. Fish & Game supports the lessons learned from the National Policy Statement for Freshwater Management 2020 (NPS-FM 2020) and recommends incorporating them into the new bill. They also support clear and hierarchical direction, guidance from central government, and the consideration of introduced species within the definition of the natural environment. Fish & Game seeks changes to enable a more inquisitorial process to hearings and the review of relevant consents. They also advocate for the removal of restrictions on consents after new or updated limits are set. Fish & Game supports the new planning committee process and seeks changes to ensure effective participation and representation of the public interest. They recommend adopting a clear hierarchy in the purpose of the bill, expanding the definition of well-being to include the environment, and amending definitions to reflect a holistic view of rivers and lakes. Fish & Game also supports the inclusion of valued introduced species in environmental management decisions.\n",
      "\n"
     ]
    },
    {
     "data": {
      "text/html": [
       "<a href=https:////////www.parliament.nz////resource////en-NZ////53SCEN_EVI_129831_EN15582////8eca8a174f466d24b3562e4e34f80fb68e30faf1>Read the full submission</a>"
      ],
      "text/plain": [
       "<IPython.core.display.HTML object>"
      ]
     },
     "metadata": {},
     "output_type": "display_data"
    },
    {
     "data": {
      "text/html": [
       "<b>New Zealand Humans Right Commission – Submission</b>"
      ],
      "text/plain": [
       "<IPython.core.display.HTML object>"
      ]
     },
     "metadata": {},
     "output_type": "display_data"
    },
    {
     "name": "stdout",
     "output_type": "stream",
     "text": [
      "The New Zealand Human Rights Commission has made a submission on the Natural and Built Environment Bill and Spatial Planning Bill, which seek to replace the Resource Management Act 1991. The Commission supports the purpose of the bills, which aim to enable the use, development, and protection of the environment in a manner consistent with the well-being of present and future generations. The Commission emphasizes the importance of considering human rights and Te Tiriti o Waitangi (the Treaty of Waitangi) obligations in the context of resource management reform. They argue that Aotearoa New Zealand has obligations under international law to protect the human right to a healthy environment and other related human rights. The Commission commends the bills for better recognizing and upholding Te Tiriti and tikanga Māori, but suggests that they would be strengthened by including an explicit commitment to uphold human rights obligations. The Commission also highlights the need for a human rights-based approach to public consultation processes and recommends strengthening Te Tiriti-based decision-making through a co-governance model. The submission concludes with recommendations to amend the bills to remove references to the \"principles\" of Te Tiriti and to ensure that all provisions recognize and give full effect to Te Tiriti in all regulations and activities arising from the proposed reform. The Commission also supports the incorporation of te Oranga o te Taiao (the health of the natural environment) in the bills but emphasizes the need to uphold Māori tino rangatiratanga and protect te ritenga Māori.\n",
      "\n"
     ]
    },
    {
     "data": {
      "text/html": [
       "<a href=https:////////www.parliament.nz////resource////en-NZ////53SCEN_EVI_129831_EN15613////c92b944faffcc8b92fb05e09543794567efc4b5a>Read the full submission</a>"
      ],
      "text/plain": [
       "<IPython.core.display.HTML object>"
      ]
     },
     "metadata": {},
     "output_type": "display_data"
    },
    {
     "data": {
      "text/html": [
       "<b>IEGA Supp 1 – Submission</b>"
      ],
      "text/plain": [
       "<IPython.core.display.HTML object>"
      ]
     },
     "metadata": {},
     "output_type": "display_data"
    },
    {
     "name": "stdout",
     "output_type": "stream",
     "text": [
      "The Independent Electricity Generators Association (IEGA) has expressed grave concerns about the impact of the Bill on their members' hydro schemes. They argue that the maximum 10-year consent for hydro schemes, compared to the current 35-year term for transmission connected hydros, will have a detrimental impact on their members' schemes. They believe this will impose significant additional costs and uncertainty, as members will have to make reconsent applications three times as often as currently, while their competitors will only have to do so once. They also argue that the shorter consent duration will make it unattractive for banks and investors to put money into these assets, which are built to last 75 to 100 years. This will result in a lack of investment in improving efficiency or expanding capacity of existing power schemes, as well as a lack of new hydro capacity being built. The IEGA also highlights the benefits of distributed generation, such as deferring or avoiding the need for new transmission network capacity and reducing costs for consumers. They call for all hydro generation to be treated the same, with a water permit consent duration of 35 years, and for the infrastructure exempt from the 10-year duration to include all hydro generation, not just national grid connected hydro generation.\n",
      "\n"
     ]
    },
    {
     "data": {
      "text/html": [
       "<a href=https:////////www.parliament.nz////resource////en-NZ////53SCEN_EVI_129831_EN16116////21437b03b16cc78681b00618ae0bf95b12c77961>Read the full submission</a>"
      ],
      "text/plain": [
       "<IPython.core.display.HTML object>"
      ]
     },
     "metadata": {},
     "output_type": "display_data"
    },
    {
     "data": {
      "text/html": [
       "<b>Papa Pounamu (NZ Planning Institute Special Interest Group) Supp2 – Submission</b>"
      ],
      "text/plain": [
       "<IPython.core.display.HTML object>"
      ]
     },
     "metadata": {},
     "output_type": "display_data"
    },
    {
     "name": "stdout",
     "output_type": "stream",
     "text": [
      "This submission discusses various sections of a bill related to Māori land and the natural and built environment. It mentions the National Planning Framework (NPF) and the Māori Land Act 1993, as well as the interpretation of terms such as Māori Customary Land and Māori Freehold Land. The submission also highlights restrictions and regulations related to land use, subdivisions, coastal areas, water, and discharges. It mentions the concept of Papakāinga, which refers to non-commercial housing on Māori Land. The submission also mentions the Heritage Protection Order and the importance of protecting cultural heritage.\n",
      "\n"
     ]
    },
    {
     "data": {
      "text/html": [
       "<a href=https:////////www.parliament.nz////resource////en-NZ////53SCEN_EVI_129831_EN15801////9519844c1f905f1834a357fc93b340c20d3b0aaa>Read the full submission</a>"
      ],
      "text/plain": [
       "<IPython.core.display.HTML object>"
      ]
     },
     "metadata": {},
     "output_type": "display_data"
    },
    {
     "data": {
      "text/html": [
       "<b>New Zealand Planning Institute – Submission</b>"
      ],
      "text/plain": [
       "<IPython.core.display.HTML object>"
      ]
     },
     "metadata": {},
     "output_type": "display_data"
    },
    {
     "name": "stdout",
     "output_type": "stream",
     "text": [
      "plan and make decisions. It will shift the focus from simply avoiding adverse effects to actively working towards positive outcomes for the environment and society.\n",
      "\n",
      "However, NZPI believes that the outcomes-based planning in the NBE Bill and SP Bill can be further improved to achieve true transformational change. They recommend several key changes, including:\n",
      "\n",
      "1. Amending the transition process to make it more efficient and effective, avoiding tranching of regions into the new system and allowing the preparation of NBE Plans alongside Regional Spatial Strategies (RSSs).\n",
      "\n",
      "2. Redrafting the outcomes in the NBE Bill to be more aspirational and end-state focused, providing a clear vision of the future.\n",
      "\n",
      "3. Placing greater weight on outcomes in the consenting process to ensure that they are effectively considered and achieved.\n",
      "\n",
      "4. Supporting the inclusion of Te Ao Māori and Te Tiriti o Waitangi principles in the purpose of the Act and providing guidance on how to give effect to these principles in planning practice.\n",
      "\n",
      "5. Front-loading the planning system to resolve conflicts at the policy level rather than through case-by-case consent assessments, resulting in greater certainty and efficiency.\n",
      "\n",
      "6. Shifting to regional-level planning rather than district-level planning to take a more holistic approach and better achieve outcomes.\n",
      "\n",
      "7. Implementing a fit-for-purpose digitally enabled system, including robust data collection and sharing, modern digital tools, and improved access to environmental information.\n",
      "\n",
      "8. Addressing structural issues in the legislation, such as incorporating the SP Bill into the NBE Bill and ensuring that provisions are located in appropriate places.\n",
      "\n",
      "Overall, NZPI believes that strengthening and extending the outcomes-based planning system, along with proper resourcing and support, will lead to a better New Zealand.\n",
      "\n"
     ]
    },
    {
     "data": {
      "text/html": [
       "<a href=https:////////www.parliament.nz////resource////en-NZ////53SCEN_EVI_129831_EN15485////115055253960fc96c6e4b452ef96af16c23b51af>Read the full submission</a>"
      ],
      "text/plain": [
       "<IPython.core.display.HTML object>"
      ]
     },
     "metadata": {},
     "output_type": "display_data"
    },
    {
     "data": {
      "text/html": [
       "<b>Waikato District Council – Submission</b>"
      ],
      "text/plain": [
       "<IPython.core.display.HTML object>"
      ]
     },
     "metadata": {},
     "output_type": "display_data"
    },
    {
     "name": "stdout",
     "output_type": "stream",
     "text": [
      "The Waikato District Council has made several recommendations for drafting changes to the Natural and Built Environment Bill and Spatial Planning Bill. They suggest investigating innovative funding options to manage the impact on ratepayers and provide funding for Māori participation. They also propose including the ability for local authorities to participate in the development of the National Planning Framework and improving representation for rural communities and mana whenua on Regional Planning committees. The Council also suggests adding safeguards for vulnerable species and their habitats and the significant values associated with the Waikato River to the system outcomes. They recommend giving effect to Te Ture Whaimana and recognizing existing strategic policies and planning instruments. The Council also suggests adding responsibilities for giving effect to Te Ture Whaimana into the functions and responsibilities of the Ministers and local authorities. They propose adding criteria for the identification of cultural heritage and significant natural areas. In terms of the Spatial Planning Bill, the Council recommends integrating it with the Natural and Built Environment Bill and clarifying transitional processes and funding. They also suggest improving representation on Regional Planning Committees and allowing appeals on the Regional Spatial Plan to the Environment Court.\n",
      "\n"
     ]
    },
    {
     "data": {
      "text/html": [
       "<a href=https:////////www.parliament.nz////resource////en-NZ////53SCEN_EVI_129831_EN15324////3dcacd9ad128f350304f0a09fa05598689e3b4be>Read the full submission</a>"
      ],
      "text/plain": [
       "<IPython.core.display.HTML object>"
      ]
     },
     "metadata": {},
     "output_type": "display_data"
    },
    {
     "data": {
      "text/html": [
       "<b>The Management Arrangements recognised under the Ngā Rohe Moana o Ngā Hapū o Ngāti Porou Act 2019 – Submission</b>"
      ],
      "text/plain": [
       "<IPython.core.display.HTML object>"
      ]
     },
     "metadata": {},
     "output_type": "display_data"
    },
    {
     "name": "stdout",
     "output_type": "stream",
     "text": [
      "The submission is made on behalf of several trusts representing different hapū (sub-tribes) of Ngāti Porou, a Māori iwi (tribe) in New Zealand. The submission supports the detailed submissions made by TRONPnui and the Iwi Advisors Group on the Natural and Built Environment Bill (NBA) and Spatial Planning Bill (SPA). The submission recommends extending the 2-year period of delayed commencement to allow sufficient time for Treaty settlements and the Ngā Rohe Moana o Ngā Hapū o Ngāti Porou Act 2019 (NHNP Act) to be updated in light of the new system. The submission also recommends several amendments to the Bills to address specific arrangements under the NHNP Act and concerns with the formation of regional planning committees. The submission highlights the importance of upholding Treaty settlements and the NHNP Act and expresses concerns about the powers and functions of the National Māori Entity. The submission also suggests amendments to various clauses in the Bills to ensure the recognition and protection of customary marine title areas, protected customary activities, and the specific arrangements under the NHNP Act.\n",
      "\n"
     ]
    },
    {
     "data": {
      "text/html": [
       "<a href=https:////////www.parliament.nz////resource////en-NZ////53SCEN_EVI_129831_EN15733////27d2ed3797122872d8253ab7f69374f32f7d7c08>Read the full submission</a>"
      ],
      "text/plain": [
       "<IPython.core.display.HTML object>"
      ]
     },
     "metadata": {},
     "output_type": "display_data"
    },
    {
     "data": {
      "text/html": [
       "<b>Northpower – Submission</b>"
      ],
      "text/plain": [
       "<IPython.core.display.HTML object>"
      ]
     },
     "metadata": {},
     "output_type": "display_data"
    },
    {
     "name": "stdout",
     "output_type": "stream",
     "text": [
      "Northpower Limited, a power and telecommunications infrastructure provider in New Zealand, has submitted a response to the Natural and Built Environments Bill (NBEB) and the Spatial Planning Bill (SPB). The company supports the resource management reforms but raises concerns about the current draft of the NBEB. They argue that the bill does not provide clear guidance on how it will achieve the intended outcomes of being \"cheaper, faster, and better\" for infrastructure operators. They also express concerns about the potential erosion of existing use rights, the practical implications of upholding Te Oranga o te Taiao, and the need for clarity on the principles of te Tiriti o Waitangi. Northpower suggests amendments and additions to various sections of the bill to address these concerns and ensure that infrastructure is adequately recognized and provided for. They also support the inclusion of a fast-track consenting process but suggest that it should include all forms of renewable energy generation. Overall, Northpower welcomes the opportunity to be heard on their submission and assist the committee in developing recommendations.\n",
      "\n"
     ]
    },
    {
     "data": {
      "text/html": [
       "<a href=https:////////www.parliament.nz////resource////en-NZ////53SCEN_EVI_129831_EN15449////3e69b90ec521626391e797f30109d7b82ada8142>Read the full submission</a>"
      ],
      "text/plain": [
       "<IPython.core.display.HTML object>"
      ]
     },
     "metadata": {},
     "output_type": "display_data"
    },
    {
     "data": {
      "text/html": [
       "<b>New Zealand Game Animal Council Supp 3 – Submission</b>"
      ],
      "text/plain": [
       "<IPython.core.display.HTML object>"
      ]
     },
     "metadata": {},
     "output_type": "display_data"
    },
    {
     "name": "stdout",
     "output_type": "stream",
     "text": [
      "The article discusses the importance of stakeholder involvement in natural resource management and suggests ways to improve and innovate stakeholder engagement processes. The authors argue that traditional approaches to stakeholder involvement, such as public hearings and comment periods, are often ineffective and fail to engage a diverse range of stakeholders. They propose several strategies to enhance stakeholder involvement, including the use of technology, collaborative decision-making processes, and the incorporation of local knowledge and values. The authors also highlight the need for increased funding and support for stakeholder involvement efforts. Overall, the article emphasizes the importance of meaningful stakeholder engagement in natural resource management and calls for continued innovation in this area.\n",
      "\n"
     ]
    },
    {
     "data": {
      "text/html": [
       "<a href=https:////////www.parliament.nz////resource////en-NZ////53SCEN_EVI_129831_EN15934////fbfe77e4a13109a9c6ed5ffb009c7ed8d9ce5439>Read the full submission</a>"
      ],
      "text/plain": [
       "<IPython.core.display.HTML object>"
      ]
     },
     "metadata": {},
     "output_type": "display_data"
    },
    {
     "data": {
      "text/html": [
       "<b>Electricity Networks Association – Submission</b>"
      ],
      "text/plain": [
       "<IPython.core.display.HTML object>"
      ]
     },
     "metadata": {},
     "output_type": "display_data"
    },
    {
     "name": "stdout",
     "output_type": "stream",
     "text": [
      "The Electricity Networks Association (ENA) has submitted a response to the Environment Committee's inquiry on the Natural and Built Environments Bill (NBEB). The ENA represents electricity distribution businesses and emphasizes the importance of electricity networks in enabling New Zealand's transition to a low-carbon economy. They argue that the planning legislation should recognize the critical role of distribution networks and enable their infrastructure to the greatest extent possible. They also highlight the need for investment in distribution networks and the importance of routine maintenance activities. The ENA suggests specific amendments to the NBEB, including the inclusion of definitions for \"built environment\" and \"infrastructure services,\" and the explicit recognition of distribution networks in the National Planning Framework. They also express concerns about the limited time for stakeholder input, the layout and interpretation of the NBEB, and the transition period to the new planning system. Overall, the ENA's submission focuses on ensuring that the planning legislation supports the development and maintenance of electricity distribution infrastructure.\n",
      "\n"
     ]
    },
    {
     "data": {
      "text/html": [
       "<a href=https:////////www.parliament.nz////resource////en-NZ////53SCEN_EVI_129831_EN15439////992b3331a6fe021e62078978f894adec7def7ed2>Read the full submission</a>"
      ],
      "text/plain": [
       "<IPython.core.display.HTML object>"
      ]
     },
     "metadata": {},
     "output_type": "display_data"
    },
    {
     "data": {
      "text/html": [
       "<b>Te Rūnanga o Ngāti Mutunga – Submission</b>"
      ],
      "text/plain": [
       "<IPython.core.display.HTML object>"
      ]
     },
     "metadata": {},
     "output_type": "display_data"
    },
    {
     "name": "stdout",
     "output_type": "stream",
     "text": [
      "Te Rūnanga o Ngāti Mutunga, a Post-Settlement Governance Entity for the Ngāti Mutunga settlement, has submitted their views on the Natural and Built Environments and Spatial Planning Bills. They support the submissions made by the Freshwater Iwi Leaders Group and Te Ohu Kaimoana and provide additional submissions based on their experience with the Resource Management Act 1991. \n",
      "\n",
      "The main arguments in the submission include:\n",
      "\n",
      "1. Upholding Tiriti Settlements: The submission argues that Tiriti Settlements should have been foundational to the design of the new reforms and calls for the explicit recognition and protection of Iwi rights and entitlements under those Settlements. They also emphasize the need for adequate resourcing of Iwi to participate in the process.\n",
      "\n",
      "2. Regional Planning Committees (RPCs): The submission argues for equal representation of central/local government and Iwi/hapū on RPCs, with an Iwi Co-Chair as a minimum expectation. They also call for the appointment of Iwi/hapū representatives by Iwi/hapū themselves and for technical expertise in local kawa, tikanga, and mātauranga on RPCs.\n",
      "\n",
      "3. Environmental Limits and Targets: The submission calls for the inclusion of a cultural element in the determination of environmental limits and targets, specifically considering Māori cultural needs and well-being. They also highlight the importance of timeframes and the involvement of Māori in determining whether degradation of the natural environment is unacceptable.\n",
      "\n",
      "4. Contaminated Sites: The submission raises concerns about the management of contaminated land and calls for clearer provisions regarding consultation with Māori, the classification of significantly contaminated land, and the determination of unacceptable risk to human health and the environment.\n",
      "\n",
      "5. Compliance: The submission supports the emphasis on compliance in the bills and highlights the ability to review conditions of resource consents if breaches occur.\n",
      "\n",
      "6. Funding for Implementation: The submission calls for adequate funding to support Iwi and hapū participation in the planning processes, including resource consenting processes, and suggests that government budgets should provide resources for this purpose.\n",
      "\n",
      "Overall, the submission emphasizes the importance of upholding Tiriti Settlements, ensuring meaningful participation of Māori in decision-making processes, and protecting the cultural and environmental interests of Ngāti Mutunga.\n",
      "\n"
     ]
    },
    {
     "data": {
      "text/html": [
       "<a href=https:////////www.parliament.nz////resource////en-NZ////53SCEN_EVI_129831_EN15595////44a9b5335726d130a8e5293728eb49d1b7622806>Read the full submission</a>"
      ],
      "text/plain": [
       "<IPython.core.display.HTML object>"
      ]
     },
     "metadata": {},
     "output_type": "display_data"
    },
    {
     "data": {
      "text/html": [
       "<b>Irrigation NZ Supp 2 – Submission</b>"
      ],
      "text/plain": [
       "<IPython.core.display.HTML object>"
      ]
     },
     "metadata": {},
     "output_type": "display_data"
    },
    {
     "name": "stdout",
     "output_type": "stream",
     "text": [
      "Opuha Water Limited (OWL) has submitted a response to the Natural and Built Environments Bill, expressing concerns and offering potential drafting solutions. OWL is a member of Irrigation New Zealand Incorporated (INZ) and the Independent Electricity Generators Association (IEGA) and endorses the concerns raised in their submissions. OWL's submission focuses on the implications of the Bill for OWL as the operator of the Opuha Dam and related water supply infrastructure. They argue that the Bill represents a step backwards from the Resource Management Act (RMA) and that the outcomes and efficiencies sought by the Bill could be achieved under the RMA with adjustments to Part 2 and better use of national directions. OWL also raises concerns about the lack of clarity and direction in the Bill, the reduction in opportunities for public participation, and the uncertainty it creates for existing water infrastructure investment. They request a comprehensive review and significant revision of the Bill to address these concerns.\n",
      "\n"
     ]
    },
    {
     "data": {
      "text/html": [
       "<a href=https:////////www.parliament.nz////resource////en-NZ////53SCEN_EVI_129831_EN15837////c7bf321d2d25a79546cfae1e153c069c37bbd5a2>Read the full submission</a>"
      ],
      "text/plain": [
       "<IPython.core.display.HTML object>"
      ]
     },
     "metadata": {},
     "output_type": "display_data"
    },
    {
     "data": {
      "text/html": [
       "<b>Dunedin City Council – Submission</b>"
      ],
      "text/plain": [
       "<IPython.core.display.HTML object>"
      ]
     },
     "metadata": {},
     "output_type": "display_data"
    },
    {
     "name": "stdout",
     "output_type": "stream",
     "text": [
      "The Dunedin City Council (DCC) supports the Natural and Built Environment Bill (NBE Bill) and the Spatial Planning Bill (SP Bill) but has concerns about certain aspects of the reform process and the proposed new system. The DCC supports initiatives to simplify the resource management system while protecting the environment and cultural heritage. They also appreciate the increased role for Māori participation and the principles of Te Tiriti o Waitangi in the new system. The DCC supports the increased compliance, monitoring, and enforcement tools proposed in the legislation. They also emphasize the importance of aligning the NBE and SP Acts with the Emissions Reduction Plan and the National Adaptation Plan to achieve climate change goals. \n",
      "\n",
      "However, the DCC has concerns about the diminished role of local authorities in plan development, the concentration of power in the hands of the government and the risk of changing goals with changes in government. They also raise concerns about the costs of the reform process, the lack of alignment with other reforms, and the need for a staged approach to implementation. The DCC requests guidance on the transition process and the establishment of effective Regional Planning Committees. They also highlight the need for provisions to manage neglected heritage buildings and the inclusion of considerations for amenity and character in the new system. The DCC recommends slowing down the development of the National Planning Framework to allow for proper engagement and calls for clear articulation of \"other directions\" in the framework. They also emphasize the importance of engagement with Māori communities and the need for adequate resourcing of Māori entities and committees.\n",
      "\n"
     ]
    },
    {
     "data": {
      "text/html": [
       "<a href=https:////////www.parliament.nz////resource////en-NZ////53SCEN_EVI_129831_EN15321////4d04b535c7407bb58ecb4ac0d8a78a70811402b6>Read the full submission</a>"
      ],
      "text/plain": [
       "<IPython.core.display.HTML object>"
      ]
     },
     "metadata": {},
     "output_type": "display_data"
    },
    {
     "data": {
      "text/html": [
       "<b>Protect our Gulf Supp 1 – Submission</b>"
      ],
      "text/plain": [
       "<IPython.core.display.HTML object>"
      ]
     },
     "metadata": {},
     "output_type": "display_data"
    },
    {
     "name": "stdout",
     "output_type": "stream",
     "text": [
      "The main argument against the bill is that the current process for urban development does not take into account community concerns and often leads to environmental destruction. The community feels disempowered and faces court charges for protecting the environment. The bill is also criticized for criminalizing members of the community, which affects social cohesion. The cost of the development is also a concern, with the community having to bear a cost of $400,000. The bill is also criticized for not properly addressing the true costs of projects and climate change factors. The main argument for the bill is that it provides opportunities for urban development and employment, but it is suggested that there should be mediation with the community and stronger roles for local boards to ensure community views are recognized. The importance of protecting areas of high biodiversity and considering the four well beings (cultural, social, environmental, and economic) is also emphasized.\n",
      "\n"
     ]
    },
    {
     "data": {
      "text/html": [
       "<a href=https:////////www.parliament.nz////resource////en-NZ////53SCEN_EVI_129831_EN15921////cf26c3a59c0d1dbd24a81e51beb70b00559ac31c>Read the full submission</a>"
      ],
      "text/plain": [
       "<IPython.core.display.HTML object>"
      ]
     },
     "metadata": {},
     "output_type": "display_data"
    },
    {
     "data": {
      "text/html": [
       "<b>Damon McPhail Supp 2 – Submission</b>"
      ],
      "text/plain": [
       "<IPython.core.display.HTML object>"
      ]
     },
     "metadata": {},
     "output_type": "display_data"
    },
    {
     "name": "stdout",
     "output_type": "stream",
     "text": [
      "The submission includes supplementary photos to accompany an oral presentation. The photos depict the South Bay Amenity landscape before and after reclamation, showing the changes in beach access and the overall landscape.\n",
      "\n"
     ]
    },
    {
     "data": {
      "text/html": [
       "<a href=https:////////www.parliament.nz////resource////en-NZ////53SCEN_EVI_129831_EN15727////b4917a502bea0f6c06f119a04cef52ee0b744b95>Read the full submission</a>"
      ],
      "text/plain": [
       "<IPython.core.display.HTML object>"
      ]
     },
     "metadata": {},
     "output_type": "display_data"
    },
    {
     "data": {
      "text/html": [
       "<b>Paula Hunter (Independent advice 14 April 2023) – Official advice</b>"
      ],
      "text/plain": [
       "<IPython.core.display.HTML object>"
      ]
     },
     "metadata": {},
     "output_type": "display_data"
    },
    {
     "name": "stdout",
     "output_type": "stream",
     "text": [
      "The main recommendation of this briefing is that adopting existing structures and processes of unitary authorities in place of establishing Regional Planning Committees (RPCs) could outweigh the potential risks. The briefing highlights that the Bill provides a wide range of opportunities for local input and representation in plan making processes, but it will depend on the practices of local authorities, RPCs, and iwi and hapū to successfully implement these opportunities. The briefing also mentions the importance of utilizing technology to facilitate engagement with a wider range of groups and communities.\n",
      "\n"
     ]
    },
    {
     "data": {
      "text/html": [
       "<a href=https:////////www.parliament.nz////resource////en-NZ////53SCEN_ADV_129831_EN16912////d32df35512235fd08fc894de0eb669c5326bd30c>Read the full submission</a>"
      ],
      "text/plain": [
       "<IPython.core.display.HTML object>"
      ]
     },
     "metadata": {},
     "output_type": "display_data"
    },
    {
     "data": {
      "text/html": [
       "<b>Horticulture New Zealand – Submission</b>"
      ],
      "text/plain": [
       "<IPython.core.display.HTML object>"
      ]
     },
     "metadata": {},
     "output_type": "display_data"
    },
    {
     "name": "stdout",
     "output_type": "stream",
     "text": [
      "Horticulture New Zealand has submitted a response to the Natural and Built Environment Bill and Spatial Planning Bill. The submission highlights the importance of the horticulture sector in New Zealand, which provides over 40,000 jobs and contributes to food security and the transition to a low emissions economy. The submission calls for amendments to the bills, including the inclusion of a definition for human health needs, the recognition of national food production and supply as a matter to be addressed, and longer consent durations for activities that align with outcomes and allocation principles. The submission also emphasizes the need to protect highly productive land for primary production and calls for definitions of sustainability, efficiency, and equity to be included in the legislation. Additionally, the submission addresses the importance of urban planning for food access and the need for flexibility in future growing systems. Overall, the submission advocates for legislation that supports the horticulture sector and ensures a resilient and sustainable food system for New Zealand.\n",
      "\n"
     ]
    },
    {
     "data": {
      "text/html": [
       "<a href=https:////////www.parliament.nz////resource////en-NZ////53SCEN_EVI_129831_EN15476////5d706e21808721bff0822a7117e529d5faa38979>Read the full submission</a>"
      ],
      "text/plain": [
       "<IPython.core.display.HTML object>"
      ]
     },
     "metadata": {},
     "output_type": "display_data"
    },
    {
     "data": {
      "text/html": [
       "<b>Napier City Council – Submission</b>"
      ],
      "text/plain": [
       "<IPython.core.display.HTML object>"
      ]
     },
     "metadata": {},
     "output_type": "display_data"
    },
    {
     "name": "stdout",
     "output_type": "stream",
     "text": [
      "The Napier City Council generally supports the Natural and Built Environments Bill (NBE Bill) and Spatial Planning Bill (SP Bill) but has concerns about certain aspects of the proposed reforms. The council agrees that the current Resource Management Act (RMA) regime has challenges and needs to be reformed, particularly in terms of managing cumulative adverse environmental effects, improving integration, involving Māori in decision-making, and enabling bolder decision-making on urban growth, climate change, and natural hazards. However, the council is not convinced that the proposed bills represent the right way forward.\n",
      "\n",
      "The council's main concerns are as follows:\n",
      "\n",
      "1. Flexibility to resolve tension between system outcomes: The council believes that the NBE Bill should provide clearer statutory direction on how to resolve tension between system outcomes and prioritize development within existing urban areas where there is community support.\n",
      "\n",
      "2. Recognition and encouragement of investment in good quality urban design and infrastructure: The council suggests adding a new outcome to the NBE Bill that encourages good quality urban design and outcomes. It believes that the current system outcomes do not sufficiently prioritize investment in urban areas.\n",
      "\n",
      "3. Protection of amenity and special character: The council is concerned that the NBE and SP Bills do not include clear protection for amenity and special character. It believes that these aspects contribute to the value of communities and should be preserved in appropriate cases.\n",
      "\n",
      "4. Greater participation of local authorities in the preparation of the National Planning Framework (NPF) and subsequent strategy and plan making processes: The council recommends amending the NBE Bill to require direct engagement with local authorities on the draft NPF. It also suggests a longer timeframe for the first NPF to ensure comprehensive and coherent planning.\n",
      "\n",
      "5. Greater flexibility and funding for Regional Planning Committees (RPCs): The council recommends providing greater flexibility for RPCs in terms of funding arrangements and allowing existing joint committees to continue as RPCs. It also suggests more central government contribution to RPC funding and giving local authority input more priority.\n",
      "\n",
      "Overall, the council supports the need for reform but believes that the proposed bills should be amended to address its concerns and ensure better outcomes for urban areas.\n",
      "\n"
     ]
    },
    {
     "data": {
      "text/html": [
       "<a href=https:////////www.parliament.nz////resource////en-NZ////53SCEN_EVI_129831_EN15594////c63584358936cf0b2c47eb4793c78d19aec11b60>Read the full submission</a>"
      ],
      "text/plain": [
       "<IPython.core.display.HTML object>"
      ]
     },
     "metadata": {},
     "output_type": "display_data"
    },
    {
     "data": {
      "text/html": [
       "<b>BusinessNZ – Submission</b>"
      ],
      "text/plain": [
       "<IPython.core.display.HTML object>"
      ]
     },
     "metadata": {},
     "output_type": "display_data"
    },
    {
     "name": "stdout",
     "output_type": "stream",
     "text": [
      "BusinessNZ welcomes the opportunity to comment on the Natural and Built Environment Bill and acknowledges the government's attempt to reform the resource management system. However, they have concerns about the implementation of the proposed changes, particularly in relation to sector and industry requirements. They argue that the purpose statement of the Bill places too much emphasis on environmental outcomes at the expense of economic development. They also express concerns about the lack of hierarchy in the objectives of the Bill, which could prioritize environmental protection over economic development. BusinessNZ recommends that the Bill be rethought to ensure a balance between environmental protection and economic development. They also call for greater input from business interests in the development of the National Planning Framework and Regional Planning Committees. They suggest that trade-offs at a local level should be considered in setting hard environmental limits and that property rights should be upheld and protected. They express concerns about the extensive powers of the Minister for Environment and the lack of checks and balances in the decision-making process. Overall, BusinessNZ believes that the Bill needs to provide more clarity and flexibility to accommodate the diverse needs of different sectors and industries.\n",
      "\n"
     ]
    },
    {
     "data": {
      "text/html": [
       "<a href=https:////////www.parliament.nz////resource////en-NZ////53SCEN_EVI_129831_EN15342////0005c1b9eac4d47a68e9a27e022910285246af5c>Read the full submission</a>"
      ],
      "text/plain": [
       "<IPython.core.display.HTML object>"
      ]
     },
     "metadata": {},
     "output_type": "display_data"
    },
    {
     "data": {
      "text/html": [
       "<b>Ngāti Hauā Iwi Trust – Submission</b>"
      ],
      "text/plain": [
       "<IPython.core.display.HTML object>"
      ]
     },
     "metadata": {},
     "output_type": "display_data"
    },
    {
     "name": "stdout",
     "output_type": "stream",
     "text": [
      "Ngāti Hauā Iwi Trust has submitted to the Environment Select Committee on the Natural and Built Environment (NBE) and Spatial Planning Bills. The submission highlights several key points, including the need for clear terminology and recognition of iwi and hapū rights and interests in freshwater. The Trust also emphasizes the importance of upholding Te Tiriti o Waitangi settlements and existing arrangements under the Resource Management Act. They express concerns about the rushed nature of the reform process and the lack of time to ensure the Bills meet their stated aims. The Trust calls for the recognition and protection of Te Oranga o te Taiao (the wellbeing of the environment) as a foundational principle of the Bills. They also raise concerns about the powers and functions of the proposed National Māori Entity, stating that individual iwi and hapū should have their rights and interests upheld. The Trust requests funding provision to participate in the implementation of the new system and ensure settlement transformation can be done alongside Waikato-Tainui. They also highlight the importance of their Environmental Management Plan and its statutory weight being retained in the new system. The Trust makes specific submissions on various provisions of the NBE and SPA Bills, including allocation, regional planning committees, engagement agreements, and the recognition of iwi and hapū planning documents. They also express support for shorter-term freshwater consents and emphasize the need for equitable water allocation in their rohe. The Trust asserts their role as manawhenua in engaging on any allocation statement established for their region and calls for the involvement of iwi and hapū in decision-making processes. They express support for a system-based approach to land-use that prioritizes the wellbeing of the environment and suggest amendments to the proposed Spatial Planning Act to ensure the capability to apply this approach across their rohe. The Trust also raises concerns about the market-based allocation of resources and calls for a shift in thinking to prioritize Te Oranga o Te Taiao. Overall, the submission highlights the importance of recognizing and upholding the rights and interests of Ngāti Hauā and ensuring equitable and sustainable resource management.\n",
      "\n"
     ]
    },
    {
     "data": {
      "text/html": [
       "<a href=https:////////www.parliament.nz////resource////en-NZ////53SCEN_EVI_129831_EN15730////19da4f2c066839455a53341a559bb1fe64dffbdf>Read the full submission</a>"
      ],
      "text/plain": [
       "<IPython.core.display.HTML object>"
      ]
     },
     "metadata": {},
     "output_type": "display_data"
    },
    {
     "data": {
      "text/html": [
       "<b>Parliamentary Commissioner for the Environment – Submission</b>"
      ],
      "text/plain": [
       "<IPython.core.display.HTML object>"
      ]
     },
     "metadata": {},
     "output_type": "display_data"
    },
    {
     "name": "stdout",
     "output_type": "stream",
     "text": [
      "The submission by the Parliamentary Commissioner for the Environment, Simon Upton, addresses the proposed Natural and Built Environment Bill and the Spatial Planning Bill. Upton supports the strengthening of central government's power to lead and direct environmental regulation, the setting of environmental limits, and the development of regional spatial strategies. However, he expresses doubts about the alignment of regulatory authority and accountability and the inclusion of a wide range of unprioritized outcomes in the legislation. Upton argues that the proposed reforms do not adequately protect the natural environment and that significant reform could be achieved through amending the existing Resource Management Act. He also raises concerns about the complexity of the legislation, the lack of focus on amenity, and the accountability of regional planning committees. Overall, Upton questions whether the proposed changes will lead to better environmental outcomes and suggests that more work needs to be done.\n",
      "\n"
     ]
    },
    {
     "data": {
      "text/html": [
       "<a href=https:////////www.parliament.nz////resource////en-NZ////53SCEN_EVI_129831_EN15494////c2842062bc9cbb086c40306420a3ba6bf36ced27>Read the full submission</a>"
      ],
      "text/plain": [
       "<IPython.core.display.HTML object>"
      ]
     },
     "metadata": {},
     "output_type": "display_data"
    },
    {
     "data": {
      "text/html": [
       "<b>Wine Marlborough Limited – Submission</b>"
      ],
      "text/plain": [
       "<IPython.core.display.HTML object>"
      ]
     },
     "metadata": {},
     "output_type": "display_data"
    },
    {
     "name": "stdout",
     "output_type": "stream",
     "text": [
      "The main argument presented by Wine Marlborough Limited in their submission is against the proposed blanket freshwater provisions in the Natural and Built Environment Bill. They argue that the wine industry in Marlborough relies on access to clean freshwater for its operation and expansion, and that grape growing has minimal impact on freshwater quality. They highlight that the Marlborough District Council has historically regulated freshwater takes, resulting in the region's rivers being in good health. They believe that the proposed provisions in the bill, such as the restriction on the duration of water permits and the requirement for review of consent conditions, are unnecessary and will create additional costs and uncertainty for the industry. They suggest that regional planning documents should have provisions relating to the duration of consent and compulsory reviews, with oversight from the Environment Court. They also support the decision to have separate planning regimes for Marlborough, as they believe the region's natural environment, primary industries, and communities are distinct from Nelson and Tasman. They argue that combining the regions would hinder effective participation and be impractical.\n",
      "\n"
     ]
    },
    {
     "data": {
      "text/html": [
       "<a href=https:////////www.parliament.nz////resource////en-NZ////53SCEN_EVI_129831_EN15513////7a88f378515fa25f0bdaffad40a571b17a984be6>Read the full submission</a>"
      ],
      "text/plain": [
       "<IPython.core.display.HTML object>"
      ]
     },
     "metadata": {},
     "output_type": "display_data"
    },
    {
     "data": {
      "text/html": [
       "<b>Te Kotahitanga o Te Atiawa – Submission</b>"
      ],
      "text/plain": [
       "<IPython.core.display.HTML object>"
      ]
     },
     "metadata": {},
     "output_type": "display_data"
    },
    {
     "name": "stdout",
     "output_type": "stream",
     "text": [
      "Te Kotahitanga o Te Atiawa Trust has made a submission in support of the Natural and Built Environment Bill and Spatial Planning Bill. They emphasize the importance of upholding Te Tiriti settlements and ensuring Māori representation in decision-making processes. They also highlight the need for transitional arrangements that consider the outdated regional and district plans that impact Te Atiawa's rohe. The submission calls for the recognition and protection of Te Atiawa's cultural and environmental resources, as well as the transition to a low emission economy. They also advocate for the proper implementation of statutory acknowledgements and the inclusion of iwi and hapū planning documents in the development of regional spatial strategies and NBE plans.\n",
      "\n"
     ]
    },
    {
     "data": {
      "text/html": [
       "<a href=https:////////www.parliament.nz////resource////en-NZ////53SCEN_EVI_129831_EN15619////afb05fde71a50ec442588db17ae008fea6b978a5>Read the full submission</a>"
      ],
      "text/plain": [
       "<IPython.core.display.HTML object>"
      ]
     },
     "metadata": {},
     "output_type": "display_data"
    },
    {
     "data": {
      "text/html": [
       "<b>Ngāti Maru and Te Kāhui Maru Trust – Submission</b>"
      ],
      "text/plain": [
       "<IPython.core.display.HTML object>"
      ]
     },
     "metadata": {},
     "output_type": "display_data"
    },
    {
     "name": "stdout",
     "output_type": "stream",
     "text": [
      "The submission by Te Kāhui Maru Trust focuses on several key issues related to the Natural and Built Environment (NBE) Bill and the Spatial Planning Bill. \n",
      "\n",
      "Firstly, the trust emphasizes the importance of upholding the durability of the Ngāti Maru settlement. They argue that any amendments made to the settlement as part of the reforms should not compromise the comprehensive, durable, and fair nature of the settlement. They also highlight the need for informed negotiation and consensus to maintain the relationship between Ngāti Maru and the Crown.\n",
      "\n",
      "Secondly, the trust raises concerns about the representation of Māori on Regional Planning Committees (RPCs). They argue that the proposed minimum provision for Māori representation falls short of the principles of partnership and equality outlined in Te Tiriti o Waitangi. They advocate for a 50/50 appointment model between the Crown/local government and iwi/hapū to ensure a true partnership.\n",
      "\n",
      "Thirdly, the trust supports the retention and amendment of provisions related to statutory acknowledgements. They argue that these acknowledgements strengthen the notification processes under the Resource Management Act (RMA) for iwi and hapū and should be embedded within the new regime.\n",
      "\n",
      "Lastly, the trust mentions the importance of the Waitara River, the Manganui River, and the Pātea River to Ngāti Maru. They highlight the spiritual, historical, and traditional relationship between the iwi and these rivers and emphasize the need to protect and manage them appropriately.\n",
      "\n",
      "Overall, the submission by Te Kāhui Maru Trust focuses on the need to uphold the Ngāti Maru settlement, ensure proper Māori representation, and protect the rivers that are significant to the iwi.\n",
      "\n"
     ]
    },
    {
     "data": {
      "text/html": [
       "<a href=https:////////www.parliament.nz////resource////en-NZ////53SCEN_EVI_129831_EN15488////0892fb323a4b94bf0d50f55e1dbcb0c02727e443>Read the full submission</a>"
      ],
      "text/plain": [
       "<IPython.core.display.HTML object>"
      ]
     },
     "metadata": {},
     "output_type": "display_data"
    },
    {
     "data": {
      "text/html": [
       "<b>New Zealand Planning Institute Supp 1 – Submission</b>"
      ],
      "text/plain": [
       "<IPython.core.display.HTML object>"
      ]
     },
     "metadata": {},
     "output_type": "display_data"
    },
    {
     "name": "stdout",
     "output_type": "stream",
     "text": [
      "The New Zealand Planning Institute (NZPI) is submitting supplementary evidence to the Environment Committee regarding Recommendation 81 of its submission on the Natural and Built Environment and Spatial Planning Bills. Recommendation 81 requests that \"diverse communities\" be included in the list of interested parties for the development of Regional Spatial Strategies. However, NZPI suggests using the phrase \"tangata Tiriti communities\" instead of \"diverse communities\" to specifically capture cultural diversity. \"Tangata Tiriti communities\" refers to all non-Pakeha and non-Māori communities of Aotearoa. NZPI's recommendation remains the same, but the suggested wording in paragraph 314 of their submission is modified to include \"tangata Tiriti communities\" in the list of interested parties.\n",
      "\n"
     ]
    },
    {
     "data": {
      "text/html": [
       "<a href=https:////////www.parliament.nz////resource////en-NZ////53SCEN_EVI_129831_EN15911////deb218964315d7bc78959405b9bbcaedc53ef837>Read the full submission</a>"
      ],
      "text/plain": [
       "<IPython.core.display.HTML object>"
      ]
     },
     "metadata": {},
     "output_type": "display_data"
    },
    {
     "data": {
      "text/html": [
       "<b>Environmental Defence Society Supp 1 – Submission</b>"
      ],
      "text/plain": [
       "<IPython.core.display.HTML object>"
      ]
     },
     "metadata": {},
     "output_type": "display_data"
    },
    {
     "name": "stdout",
     "output_type": "stream",
     "text": [
      "The submission highlights the importance of three core pillars in the Natural and Built Environment Bill (NBEB) and Spatial Planning Bill (SPB): promotion of outcomes, a limits/targets framework, and protection of places of national importance (PONIs). The submission also acknowledges positive features of the bills, such as the concept of environmental limits and mandatory minimum level target setting. However, it suggests that certain changes are needed, including a clearer and more protective purpose, a more ambitious outcomes framework, rethinking the approach to environmental limits and targets, tightening exemptions for PONIs, creating plans and spatial strategies in tandem, and addressing gaps in transitional arrangements. Overall, the submission calls for clearer drafting, simpler structure, constrained political discretion, and a strong policy intent in the bills.\n",
      "\n"
     ]
    },
    {
     "data": {
      "text/html": [
       "<a href=https:////////www.parliament.nz////resource////en-NZ////53SCEN_EVI_129831_EN15465////42dbed7996bbda9b9fa80f8845143127308bd96d>Read the full submission</a>"
      ],
      "text/plain": [
       "<IPython.core.display.HTML object>"
      ]
     },
     "metadata": {},
     "output_type": "display_data"
    },
    {
     "data": {
      "text/html": [
       "<b>Civil Contractors New Zealand – Submission</b>"
      ],
      "text/plain": [
       "<IPython.core.display.HTML object>"
      ]
     },
     "metadata": {},
     "output_type": "display_data"
    },
    {
     "name": "stdout",
     "output_type": "stream",
     "text": [
      "Civil Contractors New Zealand (CCNZ) has submitted their views on the Natural and Built Environment Bill and the Spatial Planning Bill. They acknowledge that the current Resource Management Act (RMA) system is broken and in need of reform. They support the objectives of the reform, including efficient and effective consenting processes and the ability to manage conflicts between environmental protection and development. However, they argue that the NBE Bill, as written, is unworkable and lacks clarity on important terms and provisions. They recommend rescinding the NBE Bill, amending the Spatial Planning Bill, and incorporating the positive aspects of both bills into the RMA. They also raise concerns about the lack of clarity on environmental limits, the potential impact on existing infrastructure, and the need for stronger protection of property rights. They support the inclusion of infrastructure in the planning framework and call for a review of the list of infrastructure eligible for exemptions. Overall, they believe that the new system should prioritize both environmental protection and the facilitation of development to address New Zealand's infrastructure deficit.\n",
      "\n"
     ]
    },
    {
     "data": {
      "text/html": [
       "<a href=https:////////www.parliament.nz////resource////en-NZ////53SCEN_EVI_129831_EN15433////66f3847a1e860c1e17b7b68d44ff62beb6c50b3b>Read the full submission</a>"
      ],
      "text/plain": [
       "<IPython.core.display.HTML object>"
      ]
     },
     "metadata": {},
     "output_type": "display_data"
    },
    {
     "data": {
      "text/html": [
       "<b>Clare Ryan Supp 1 – Submission</b>"
      ],
      "text/plain": [
       "<IPython.core.display.HTML object>"
      ]
     },
     "metadata": {},
     "output_type": "display_data"
    },
    {
     "name": "stdout",
     "output_type": "stream",
     "text": [
      "The speaker, Clare Ryan, expresses ambivalence towards the proposed bill, stating that while the ambition behind it is admirable, there are two main concerns. Firstly, Ryan argues that the bill's purposes are too broad and do not prioritize important factors such as clean air and water, access to nature, and safe communities. Ryan suggests that the bill should have a clear and unambiguous purpose and should prioritize scientifically verified measures of human happiness. Secondly, Ryan argues for the need for disruptive innovation in order to effectively respond to climate change. Ryan believes that the existing power structures will not deliver the necessary innovations in time and calls for the freedom and governance of Te Ao Maori over their land holdings to bring new insights and innovations. Additionally, Ryan suggests the establishment of a nationally based support crew to assess and approve non-standard building and development applications, in order to support climate-appropriate innovations at the local level. Overall, Ryan's main arguments are for a clearer purpose in the bill and the inclusion of disruptive innovation to address climate change.\n",
      "\n"
     ]
    },
    {
     "data": {
      "text/html": [
       "<a href=https:////////www.parliament.nz////resource////en-NZ////53SCEN_EVI_129831_EN15434////f2fe15697eccac1d1b5afbe119b2d2192b1c655b>Read the full submission</a>"
      ],
      "text/plain": [
       "<IPython.core.display.HTML object>"
      ]
     },
     "metadata": {},
     "output_type": "display_data"
    },
    {
     "data": {
      "text/html": [
       "<b>Quarry Operators joint submission Supp 1 – Submission</b>"
      ],
      "text/plain": [
       "<IPython.core.display.HTML object>"
      ]
     },
     "metadata": {},
     "output_type": "display_data"
    },
    {
     "name": "stdout",
     "output_type": "stream",
     "text": [
      "The quarry operators argue that the proposed reform bills are unsupportable as drafted due to significant changes and areas of ambiguity. They emphasize the importance of aggregate in infrastructure development and maintenance, stating that it is without practical alternative. They highlight the need to protect quarries from reverse sensitivity and the cost, delays, and uncertainty associated with consenting. They also argue for the recognition of quarrying as a protected land use and the elimination of regional interpretation. They stress the need for long-term planning and the development of scarce aggregate resources. Additionally, they advocate for the deletion of the 10-year maximum term for discharge and water permits for quarrying operations, as the industry requires long-term planning for optimal outcomes. They argue that short-term focus due to limited commercial certainty would have negative impacts on the future of New Zealand.\n",
      "\n"
     ]
    },
    {
     "data": {
      "text/html": [
       "<a href=https:////////www.parliament.nz////resource////en-NZ////53SCEN_EVI_129831_EN15918////8841a4c3ca3e3699a30df0233a0a3e2e14ceb713>Read the full submission</a>"
      ],
      "text/plain": [
       "<IPython.core.display.HTML object>"
      ]
     },
     "metadata": {},
     "output_type": "display_data"
    },
    {
     "data": {
      "text/html": [
       "<b>Kaikōura District Council – Submission</b>"
      ],
      "text/plain": [
       "<IPython.core.display.HTML object>"
      ]
     },
     "metadata": {},
     "output_type": "display_data"
    },
    {
     "name": "stdout",
     "output_type": "stream",
     "text": [
      "The Kaikōura District Council has submitted a response to the Natural and Built Environment (NBE) Bill. They express their support for the need for a new resource management system and the objectives of the bill, which include protecting the natural environment, enabling development within environmental limits, and giving effect to the principles of te Tiriti o Waitangi. However, they also raise several concerns and request amendments to the bill. \n",
      "\n",
      "One of their main concerns is the short four-year plan making period, which they believe is unrealistic and will lead to poor planning decisions. They argue that more time is needed for community engagement, meaningful consultation with Māori, and obtaining sufficient technical input. They request an extension of the plan making period to six years.\n",
      "\n",
      "The council also expresses concern about the lack of public participation opportunities in the bill, both in the plan making and consent processes. They argue that the limited engagement opportunities will reduce the quality of plans and request amendments to increase public participation.\n",
      "\n",
      "Another issue raised by the council is the potential for political interference in the planning system. They believe that the bill provides opportunities for central government to make changes for political gain, which could undermine the integrity of the planning system. They request amendments to ensure that any changes are directed by an independent authority, such as the Environment Court.\n",
      "\n",
      "The council also calls for amendments to clarify the purpose of the bill, resolve conflicting objectives, promote good urban design outcomes, and reduce the human resources required to implement the bill. They express concern about the aggressive timeline for the reform agenda and the lack of consultation with local government.\n",
      "\n",
      "Overall, the Kaikōura District Council supports the need for a new resource management system but raises several concerns and requests amendments to the NBE Bill to ensure its effectiveness and address the specific circumstances of their district.\n",
      "\n"
     ]
    },
    {
     "data": {
      "text/html": [
       "<a href=https:////////www.parliament.nz////resource////en-NZ////53SCEN_EVI_129831_EN15789////70cbbfb5271fa524cf4af5a5755b97e6ab0221ec>Read the full submission</a>"
      ],
      "text/plain": [
       "<IPython.core.display.HTML object>"
      ]
     },
     "metadata": {},
     "output_type": "display_data"
    },
    {
     "data": {
      "text/html": [
       "<b>Te Rūnanga o Ngāti Ruanui Trust – Submission</b>"
      ],
      "text/plain": [
       "<IPython.core.display.HTML object>"
      ]
     },
     "metadata": {},
     "output_type": "display_data"
    },
    {
     "name": "stdout",
     "output_type": "stream",
     "text": [
      "Te Rūnanga o Ngāti Ruanui Trust has submitted their concerns and recommendations regarding the Natural and Built Environment Bill and Spatial Planning Bill. They argue that the bills do not adequately uphold Tiriti settlements and that the process for addressing this failure needs refinement. They also express concerns about the representation of Iwi on Regional Planning Committees, stating that anything less than 50:50 representation would be inconsistent with Te Tiriti. They recommend that Iwi representatives be appointed by Iwi themselves and that the appointment process be fully funded. The submission also addresses issues related to Te Oranga o Te Taiao and Te Tiriti o Waitangi, development vs. protection, freshwater rights and interests, management of the coastal marine area, and the transition period between the current regime and the new one proposed in the bills.\n",
      "\n"
     ]
    },
    {
     "data": {
      "text/html": [
       "<a href=https:////////www.parliament.nz////resource////en-NZ////53SCEN_EVI_129831_EN15510////ef8658c331b63f87a7c22280e742c1701164c46d>Read the full submission</a>"
      ],
      "text/plain": [
       "<IPython.core.display.HTML object>"
      ]
     },
     "metadata": {},
     "output_type": "display_data"
    },
    {
     "data": {
      "text/html": [
       "<b>Mercury NZ – Submission</b>"
      ],
      "text/plain": [
       "<IPython.core.display.HTML object>"
      ]
     },
     "metadata": {},
     "output_type": "display_data"
    },
    {
     "name": "stdout",
     "output_type": "stream",
     "text": [
      "Mercury NZ Limited supports the Natural and Built Environment Bill and the wider reform of the resource management system. They believe that reform is critical for achieving New Zealand's low emissions future and that renewable electricity generation plays a crucial role in that future. However, they argue that the current draft of the bill contains barriers to renewable electricity activities and propose several amendments to enhance the bill's potential to support renewable electrification. These amendments include strengthening system outcomes to enable the development required for decarbonization, ensuring that environmental limits enable consenting pathways for renewable electricity projects, improving direction within the bill for the content of the National Planning Framework (NPF) to support renewable electricity generation, clarifying the availability of requiring authority status for renewable electricity generators, and providing clarity on transitional matters. Mercury also supports the amendments proposed in the Electricity Sector Environment Group (ESEG) submission and emphasizes the need for increased support for renewable electricity generation to meet New Zealand's emissions reduction commitments.\n",
      "\n"
     ]
    },
    {
     "data": {
      "text/html": [
       "<a href=https:////////www.parliament.nz////resource////en-NZ////53SCEN_EVI_129831_EN15447////754a69bc81476cd1a8807ae3d78227ab29683eac>Read the full submission</a>"
      ],
      "text/plain": [
       "<IPython.core.display.HTML object>"
      ]
     },
     "metadata": {},
     "output_type": "display_data"
    },
    {
     "data": {
      "text/html": [
       "<b>Onions New Zealand – Submission</b>"
      ],
      "text/plain": [
       "<IPython.core.display.HTML object>"
      ]
     },
     "metadata": {},
     "output_type": "display_data"
    },
    {
     "name": "stdout",
     "output_type": "stream",
     "text": [
      "Onions New Zealand has submitted a response to the Natural and Built Environment Bill. They argue that access to fresh vegetables is essential for protecting human health and that the population is currently failing to meet their fresh produce intake requirements. They also highlight the increasing rates of obesity in New Zealand and the need to make fresh produce affordable. Onions New Zealand supports the inclusion of vegetation production on highly productive land as a means of protecting human health and calls for the prioritization of resources for vegetable production. They express concerns about the activity status of consents for commercial vegetable production and the potential requirement for expensive and complicated discretionary consents. Onions New Zealand also believes that the rural sector has not been given enough attention in the bill and should be recognized. They support Freshwater Farm Environment Plans but suggest that certified sector schemes, such as NZ-GAP, should be recognized in the certification and auditing of these plans. Onions New Zealand supports the submissions put forward by Horticulture New Zealand and Pukekohe Vegetable Growers Association and requests an additional round of consultation following the release of the National Planning Framework. They provide specific recommendations for amendments to the bill, including the inclusion of a definition for human health and the recognition of commercial vegetable production on highly productive land. They also suggest the inclusion of a definition for rural form and propose changes to the certification of freshwater farm plans.\n",
      "\n"
     ]
    },
    {
     "data": {
      "text/html": [
       "<a href=https:////////www.parliament.nz////resource////en-NZ////53SCEN_EVI_129831_EN15624////52f3c5cd8a079620dc4de51943c67d109d7c444f>Read the full submission</a>"
      ],
      "text/plain": [
       "<IPython.core.display.HTML object>"
      ]
     },
     "metadata": {},
     "output_type": "display_data"
    },
    {
     "data": {
      "text/html": [
       "<b>Papa Pounamu (NZ Planning Institute Special Interest Group) Supp1 – Submission</b>"
      ],
      "text/plain": [
       "<IPython.core.display.HTML object>"
      ]
     },
     "metadata": {},
     "output_type": "display_data"
    },
    {
     "name": "stdout",
     "output_type": "stream",
     "text": [
      "The submission highlights several potential issues and opportunities in the proposed Natural and Built Environment (NBE) consent process. These include concerns about the transfer of exclusive use rights and the lapse of the right to apply, the ability for consent authorities to waive compliance with requirements, the listing of prohibited activities, the completeness check of resource consent applications, the need for prior consultation with iwi and hapū, the recovery of costs, the request for further information, the commissioning of reports, the notification process, and the consideration of applications. The submission also supports certain sections of the Act, such as the consideration of statutory acknowledgements, the ability to permit activities with or without requirements, the recovery of costs, the provision of relevant information to post-settlement governance entities, and Schedule 10 requirements.\n",
      "\n"
     ]
    },
    {
     "data": {
      "text/html": [
       "<a href=https:////////www.parliament.nz////resource////en-NZ////53SCEN_EVI_129831_EN15800////d0a1cf32e0b82b18b582ab94b72d97eaf4b380de>Read the full submission</a>"
      ],
      "text/plain": [
       "<IPython.core.display.HTML object>"
      ]
     },
     "metadata": {},
     "output_type": "display_data"
    },
    {
     "data": {
      "text/html": [
       "<b>Rotorua Lakes Council – Submission</b>"
      ],
      "text/plain": [
       "<IPython.core.display.HTML object>"
      ]
     },
     "metadata": {},
     "output_type": "display_data"
    },
    {
     "name": "stdout",
     "output_type": "stream",
     "text": [
      "The submission on the Natural and Built Environment (NBE) Bill and Spatial Planning (SP) Bill, made jointly by the councils in the Bay of Plenty Region, highlights several concerns with the bills. The councils express significant concerns about the lack of integration, sequencing, and timing between the major reform areas being progressed by the government, including the Future for Local Government process and Three Waters reform. They argue that this inconsistency in direction and lack of integration is creating uncertainty and confusion for all involved with local government. \n",
      "\n",
      "One of the main concerns raised by the councils is the proposed Regional Planning Committees (RPCs). They argue that the RPCs will have a lot of power but lack accountability back to councils, iwi, hapū, and communities. The councils are concerned that the RPCs will make decisions on land use and infrastructure that will bind local authorities without accountability, leading to a lack of integration with decision-making on funding and financing. They also express concerns about the potential loss of representation and voice, particularly for smaller councils, and the difficulty in appointing tangata whenua onto the RPCs given the significant number of iwi and hapū groups in the region. \n",
      "\n",
      "The councils also raise concerns about the lack of clarity regarding the content and purpose of statements of community outcomes and regional environmental outcomes, and the need for better integration between RPCs and councils in decision-making processes. They support the strengthening of te Tiriti obligations but call for further guidance on what \"giving effect to\" the Treaty principles means in practice. They also highlight the significant cost implications for local authorities and ratepayers in funding the involvement of tangata whenua and the need for the Crown to contribute to resourcing for this.\n",
      "\n",
      "Other concerns raised in the submission include the need for clarity on representation for territorial authorities that extend into multiple regions, recognition of local place-based plans and sub-regional plans developed under the Local Government Act, and the lack of an appropriate funding and transition plan for implementation. The councils also emphasize the need for sufficient time and resources to build capacity and capability within the workforce to implement the new system.\n",
      "\n",
      "Overall, the submission highlights the concerns of the Bay of Plenty Councils regarding the lack of integration, accountability, and clarity in the proposed NBE and SP bills, and the potential negative impacts on local government, tangata whenua, and communities.\n",
      "\n"
     ]
    },
    {
     "data": {
      "text/html": [
       "<a href=https:////////www.parliament.nz////resource////en-NZ////53SCEN_EVI_129831_EN15314////170936de467bea460ad2466d3834c665cbafd593>Read the full submission</a>"
      ],
      "text/plain": [
       "<IPython.core.display.HTML object>"
      ]
     },
     "metadata": {},
     "output_type": "display_data"
    },
    {
     "data": {
      "text/html": [
       "<b>Ministry for the Environment (Table for dept report navigation, Thursday 6 April) – Official advice</b>"
      ],
      "text/plain": [
       "<IPython.core.display.HTML object>"
      ]
     },
     "metadata": {},
     "output_type": "display_data"
    },
    {
     "name": "stdout",
     "output_type": "stream",
     "text": [
      "- Amend clause 321 to clarify that the expert consenting panel must decide whether a hearing is necessary for the application.\n",
      "- Proceed with clauses 322 to 326 as currently drafted.\n",
      "- Amend clause 326 to clarify that the final decision on the application must be issued by the expert consenting panel.\n",
      "- Clarify that the expert consenting panel may issue decisions in stages if necessary.\n",
      "- No changes recommended for clauses 323 to 325.\n",
      "- Technical changes may be required for clauses 321 and 326.\n",
      "\n"
     ]
    },
    {
     "data": {
      "text/html": [
       "<a href=https:////////www.parliament.nz////resource////en-NZ////53SCEN_ADV_129831_EN16796////f25a5c467b871a636fa26ae89e554636fbb9afd9>Read the full submission</a>"
      ],
      "text/plain": [
       "<IPython.core.display.HTML object>"
      ]
     },
     "metadata": {},
     "output_type": "display_data"
    },
    {
     "data": {
      "text/html": [
       "<b>Northland Regional Council Supp3 – Submission</b>"
      ],
      "text/plain": [
       "<IPython.core.display.HTML object>"
      ]
     },
     "metadata": {},
     "output_type": "display_data"
    },
    {
     "name": "stdout",
     "output_type": "stream",
     "text": [
      "The Northland Regional Council supports the need for a reform of the resource management system and acknowledges the positive aspects of the Natural and Built Environment Bill (NBE Bill) and Spatial Planning Bill (SP Bill). They support the focus on protecting the environment, the strengthened role for Māori, the establishment of a National Planning Framework (NPF), and the creation of Regional Spatial Strategies (RSS) and a single Natural and Built Environment Plan (NBE Plan) for each region. However, they have identified several issues that need to be addressed, including the need for a clearer hierarchy between system outcomes, a clearer nomination process for the National Māori Entity, and greater accountability of Independent Hearing Panels (IHP). They also seek greater clarity and direction in several areas, such as funding arrangements for Regional Planning Committees (RPCs), the role of water service entities, and the transition to the new system. They suggest integrating the NBE Bill and SP Bill into one piece of legislation and providing greater detail and direction in various aspects of the bills.\n",
      "\n"
     ]
    },
    {
     "data": {
      "text/html": [
       "<a href=https:////////www.parliament.nz////resource////en-NZ////53SCEN_EVI_129831_EN15602////4f511d87f32eee708ae092f5db4a0d4ccadd6e0c>Read the full submission</a>"
      ],
      "text/plain": [
       "<IPython.core.display.HTML object>"
      ]
     },
     "metadata": {},
     "output_type": "display_data"
    },
    {
     "data": {
      "text/html": [
       "<b>Summerset – Submission</b>"
      ],
      "text/plain": [
       "<IPython.core.display.HTML object>"
      ]
     },
     "metadata": {},
     "output_type": "display_data"
    },
    {
     "name": "stdout",
     "output_type": "stream",
     "text": [
      "Summerset Group Holdings Limited has submitted feedback on the Natural and Built Environments Bill and the Spatial Planning Bill. They support the implementation of new legislation that regulates the management of the environment and land use planning. They encourage the enhancement of the natural environment while enabling environmentally responsible resource management and development. However, they express concerns about unintended consequences and the need for practical implementation. They also address their concerns with the Bills, including the need for stronger outcomes for promoting and enabling development and protection of built environments, efficient implementation of new processes, balancing certainty and flexibility, and key changes for the plan-making and consenting processes. They also support the inclusion of the fast-track consenting process and propose amendments to ensure its effectiveness. They also support simplifying the notification process and oppose the presumption of public notification for discretionary activities.\n",
      "\n"
     ]
    },
    {
     "data": {
      "text/html": [
       "<a href=https:////////www.parliament.nz////resource////en-NZ////53SCEN_EVI_129831_EN15505////497e858426485e2d940fa880f403122686ef1c68>Read the full submission</a>"
      ],
      "text/plain": [
       "<IPython.core.display.HTML object>"
      ]
     },
     "metadata": {},
     "output_type": "display_data"
    },
    {
     "data": {
      "text/html": [
       "<b>Kevin Moran Supp 2 – Submission</b>"
      ],
      "text/plain": [
       "<IPython.core.display.HTML object>"
      ]
     },
     "metadata": {},
     "output_type": "display_data"
    },
    {
     "name": "stdout",
     "output_type": "stream",
     "text": [
      "The main argument in this submission is that Te Waikoropupū Springs, also known as Marble Mountain, represents Creation and our connection to the natural world. The author emphasizes the spiritual and peaceful nature of the springs and describes them as a place where humans can reconnect with their origins. They argue that the human mind often separates itself from the natural world, leading to a loss of touch with our evolutionary purposes within Creation. The author also highlights the importance of recognizing that humanity is a late-arriving species and that we are still evolving and reaching for our full potential within Creation. The Springs are seen as a representative of primordial Nature and serve as a reminder of where we come from and what we are a part of.\n",
      "\n"
     ]
    },
    {
     "data": {
      "text/html": [
       "<a href=https:////////www.parliament.nz////resource////en-NZ////53SCEN_EVI_129831_EN15876////295ab52bca7128f6c9eba81588ce4d69555cd20e>Read the full submission</a>"
      ],
      "text/plain": [
       "<IPython.core.display.HTML object>"
      ]
     },
     "metadata": {},
     "output_type": "display_data"
    },
    {
     "data": {
      "text/html": [
       "<b>Save the Basin Campaign Incorporated Supp 2 – Submission</b>"
      ],
      "text/plain": [
       "<IPython.core.display.HTML object>"
      ]
     },
     "metadata": {},
     "output_type": "display_data"
    },
    {
     "name": "stdout",
     "output_type": "stream",
     "text": [
      "The submission suggests amendments to the Natural and Built Environment Bill in order to improve outcomes for the environment. The main arguments for the amendments include:\n",
      "\n",
      "1. The purpose of the Act should be to protect the environment and uphold te Oranga o te Taiao (the well-being of the natural environment) while supporting the well-being of present and future generations.\n",
      "\n",
      "2. Infrastructure should be included as a system outcome in the national planning framework, with a focus on supporting the well-being of the natural environment, people, and communities.\n",
      "\n",
      "3. The national planning framework should provide direction on system outcomes and resolve conflicts between them, giving priority to the natural environment in case of conflicts.\n",
      "\n",
      "4. Public health, safety, and public participation should be added to the list of outcomes in the Act.\n",
      "\n",
      "5. Regional spatial strategies should undergo a more robust and participatory process, including public consultation and hearings.\n",
      "\n",
      "6. The Minister should have limited powers to direct amendments to regional spatial strategies, based on credible scientific evidence and with reasons provided.\n",
      "\n",
      "7. Plans should be consistent with regional spatial strategies, unless sufficient attention has been given to all system outcomes and there is new information or a significant change in circumstances.\n",
      "\n",
      "8. The fast-track planning process for infrastructure projects should have more public consultation and appeal rights.\n",
      "\n",
      "9. The protection of the natural environment should be given priority in the criteria for approval as a requiring authority.\n",
      "\n",
      "10. Hearings should be mandatory for notices of requirement, except in specific circumstances.\n",
      "\n",
      "11. Designations that have not been given effect to should lapse after a certain period, unless substantial progress has been made towards their implementation.\n",
      "\n",
      "Overall, the submission argues for stronger environmental protection measures, increased public participation, and a more balanced approach to infrastructure development.\n",
      "\n"
     ]
    },
    {
     "data": {
      "text/html": [
       "<a href=https:////////www.parliament.nz////resource////en-NZ////53SCEN_EVI_129831_EN16136////9425b7ce3677155efdb26c645df6f0edbd4e8c12>Read the full submission</a>"
      ],
      "text/plain": [
       "<IPython.core.display.HTML object>"
      ]
     },
     "metadata": {},
     "output_type": "display_data"
    },
    {
     "data": {
      "text/html": [
       "<b>Herenga a Nuku Aotearoa, the Outdoor Access Commission Supp 1 – Submission</b>"
      ],
      "text/plain": [
       "<IPython.core.display.HTML object>"
      ]
     },
     "metadata": {},
     "output_type": "display_data"
    },
    {
     "name": "stdout",
     "output_type": "stream",
     "text": [
      "The main argument presented in this submission is that the preservation, expansion, and utilization of public access in all its forms directly reinforces the mana (authority) of the land for hapu (sub-tribes). The submission argues that public access aligns with old world values of free access and avoids the confines of Western ownership. It is stated that public access is vital to maintaining any semblance of old world manawhenua (authority over the land). The submission also emphasizes the importance of public access for cultural unity, health and wellbeing, mental health, and community cohesion. Additionally, the submission asserts the importance of allowing tangata whenua (people of the land) leadership in legal land classes and matters, particularly in relation to treaty settlement land. The submission proposes key changes to the Natural & Built Environment Bill, including recognizing the mauri (life force) of the land as a key system outcome and broadening the scope of public access to support connectivity between tangata whenua and the land.\n",
      "\n"
     ]
    },
    {
     "data": {
      "text/html": [
       "<a href=https:////////www.parliament.nz////resource////en-NZ////53SCEN_EVI_129831_EN16115////2cdf2a9bba250b0ca595b70810719a0cfb7957de>Read the full submission</a>"
      ],
      "text/plain": [
       "<IPython.core.display.HTML object>"
      ]
     },
     "metadata": {},
     "output_type": "display_data"
    },
    {
     "data": {
      "text/html": [
       "<b>Paul Hodgson Supp 10 – Submission</b>"
      ],
      "text/plain": [
       "<IPython.core.display.HTML object>"
      ]
     },
     "metadata": {},
     "output_type": "display_data"
    },
    {
     "name": "stdout",
     "output_type": "stream",
     "text": [
      "The main argument in this submission is that the bill does not have enough clarity or requirements to restore Canterbury rivers back to a healthy state. The submitter argues that the bill should include provisions for rivers to have room to move naturally, similar to how rivers are managed in Holland. They also highlight the recent floods in the Ashburton and Rangitata Rivers as examples of the consequences of converting flood plains into agricultural land. The submitter calls for the bill to consider land use consent conditions in relation to climate change and the need for rivers to move on flood plains. They also advocate for the inclusion of an adequately resourced environmental ombudsman and an independent environment agency to ensure compliance and corrective actions are taken. The submitter criticizes the lack of detailed monitoring and corrective action processes in the Resource Management Act (RMA) and suggests that these should be included in the new bill. They also argue for the inclusion of NGO comments on consents and the requirement for empirical data to be gathered before environmental decisions are made. The submitter emphasizes the need for a statutory requirement for best practice in land use and environmental regulations and the establishment of an independent authority and ombudsman to address environmental issues. They conclude by urging the committee not to look away from the issues that the bill needs to address and to ensure that the rivers are in a healthy state because of the bill.\n",
      "\n"
     ]
    },
    {
     "data": {
      "text/html": [
       "<a href=https:////////www.parliament.nz////resource////en-NZ////53SCEN_EVI_129831_EN15928////b340431d3467846d21ff4688b2a015a695bc5560>Read the full submission</a>"
      ],
      "text/plain": [
       "<IPython.core.display.HTML object>"
      ]
     },
     "metadata": {},
     "output_type": "display_data"
    },
    {
     "data": {
      "text/html": [
       "<b>Te Whakakitenga o Waikato Incorporated (Waikato-Tainui) – Submission</b>"
      ],
      "text/plain": [
       "<IPython.core.display.HTML object>"
      ]
     },
     "metadata": {},
     "output_type": "display_data"
    },
    {
     "name": "stdout",
     "output_type": "stream",
     "text": [
      "The submission argues that the Natural and Built Environment Bill (NBE Bill) and the Spatial Planning Bill (SP Bill) fail to uphold the River Settlement and other Treaty settlements and arrangements. It criticizes the lack of provisions in the Bills that reflect the principles and co-governance and co-management arrangements of the River Settlement. The submission also argues that there has not been enough time to ensure that the reform is done right and that the Bills fail to meet their stated aims. It calls for the recognition and preservation of iwi and hapuu rights and interests in freshwater and the rightful recognition of the relationship of iwi and hapuu with te Taiao. The submission also raises concerns about the proposed National Maaori Entity and the resourcing of iwi and hapuu to participate in the system. It calls for a recasting of the process to set environmental limits and targets to ensure the recognition and upholding of Te Oranga o te Taiao. The submission also addresses specific issues related to the Regional Planning Committees and the appointment process for Maaori representation on these committees.\n",
      "\n"
     ]
    },
    {
     "data": {
      "text/html": [
       "<a href=https:////////www.parliament.nz////resource////en-NZ////53SCEN_EVI_129831_EN15732////d2f4fcc90c6262dfbcd142fc23b7254564a2e79d>Read the full submission</a>"
      ],
      "text/plain": [
       "<IPython.core.display.HTML object>"
      ]
     },
     "metadata": {},
     "output_type": "display_data"
    },
    {
     "data": {
      "text/html": [
       "<b>King Country Energy Supp 1 – Submission</b>"
      ],
      "text/plain": [
       "<IPython.core.display.HTML object>"
      ]
     },
     "metadata": {},
     "output_type": "display_data"
    },
    {
     "name": "stdout",
     "output_type": "stream",
     "text": [
      "The main argument against the bill is that it limits the maximum consent term for embedded hydro generation to 10 years, while those connected to the Transpower grid can attain a maximum consent term of 35 years. This is seen as anti-competitive and creates an uneven playing field. The reconsenting process for hydro schemes is time-consuming and resource-intensive, and requiring more frequent reconsenting disrupts long-term investment plans. It is argued that the focus should be on consenting new schemes rather than existing ones. The bill also poses challenges for investment in new generation opportunities with long payback periods. The impact of Cyclone Gabrielle on grid power supplies in the Hawkes Bay is cited as evidence of the importance of local embedded generation for resilience. The competition provided by the embedded generation sector is seen as a check on wholesale power prices. The argument is made that renewable generation should be exempt from the bill to support the long-term sustainability of existing schemes.\n",
      "\n"
     ]
    },
    {
     "data": {
      "text/html": [
       "<a href=https:////////www.parliament.nz////resource////en-NZ////53SCEN_EVI_129831_EN16142////69043a65d3e2934c21476ca3995a760dd166a9e1>Read the full submission</a>"
      ],
      "text/plain": [
       "<IPython.core.display.HTML object>"
      ]
     },
     "metadata": {},
     "output_type": "display_data"
    },
    {
     "data": {
      "text/html": [
       "<b>Emily Grace (Notification procedure) – Official advice</b>"
      ],
      "text/plain": [
       "<IPython.core.display.HTML object>"
      ]
     },
     "metadata": {},
     "output_type": "display_data"
    },
    {
     "name": "stdout",
     "output_type": "stream",
     "text": [
      "This briefing explains the notification procedure for anticipated activities and discretionary activities as outlined in the NBE Bill clauses 199-207. The main recommendation is to reorganize and amend the provisions to make the process flow clearer. \n",
      "\n",
      "For anticipated activities, there is a presumption of non-notification in the legislation. This presumption is checked at the plan-making stage and can be confirmed, overridden, or deferred to the consent stage based on criteria set in the legislation. If the presumption is confirmed, a non-notification statement is included in the plan along with either a statement that there are no affected parties, a list of affected parties requiring written approval, or a requirement for the consent authority to identify affected parties on a case-by-case basis. If the presumption is overridden, the plan includes a notification statement requiring full or limited notification of the activity, or for this decision to be made at the consent stage. The plan also includes a requirement to apply the criteria in the legislation for notification and affected parties. If the presumption is to be checked at the consent stage, the plan includes a requirement for this to occur along with a requirement to apply the criteria in the legislation.\n",
      "\n",
      "For discretionary activities, there is a presumption of notification in the legislation. This presumption is checked at the plan-making stage and can be confirmed, overridden, or deferred to the consent stage based on criteria set in the legislation. If the presumption is confirmed, the plan includes a notification statement requiring full or limited notification of the activity, or for this decision to be made at the consent stage. The plan also includes a requirement to apply the criteria in the legislation for notification and affected parties. If the presumption is overridden, a non-notification statement is included in the plan along with either a statement that there are no affected parties, a list of affected parties requiring written approval, or a requirement for the consent authority to identify affected parties on a case-by-case basis. If the presumption is to be checked at the consent stage, the plan includes a requirement for this to occur along with a requirement to apply the criteria in the legislation.\n",
      "\n",
      "Overall, the briefing recommends reorganizing and amending the provisions to improve the clarity of the notification procedure.\n",
      "\n"
     ]
    },
    {
     "data": {
      "text/html": [
       "<a href=https:////////www.parliament.nz////resource////en-NZ////53SCEN_ADV_129831_EN16957////ef539316c56e9208ba1b322e19a60d424a66e185>Read the full submission</a>"
      ],
      "text/plain": [
       "<IPython.core.display.HTML object>"
      ]
     },
     "metadata": {},
     "output_type": "display_data"
    },
    {
     "data": {
      "text/html": [
       "<b>Paul Hodgson Supp 12 – Submission</b>"
      ],
      "text/plain": [
       "<IPython.core.display.HTML object>"
      ]
     },
     "metadata": {},
     "output_type": "display_data"
    },
    {
     "name": "stdout",
     "output_type": "stream",
     "text": [
      "areas of the river that are disconnected from the main flow and often have stagnant or slow-moving water.\n",
      "2 The classification of backwaters only includes pools, as they do not typically have riffles or runs.\n",
      "\n"
     ]
    },
    {
     "data": {
      "text/html": [
       "<a href=https:////////www.parliament.nz////resource////en-NZ////53SCEN_EVI_129831_EN15926////554964c4663bb5ad7a6eaa687970da845367c0dd>Read the full submission</a>"
      ],
      "text/plain": [
       "<IPython.core.display.HTML object>"
      ]
     },
     "metadata": {},
     "output_type": "display_data"
    },
    {
     "data": {
      "text/html": [
       "<b>Mackenzie District Council – Submission</b>"
      ],
      "text/plain": [
       "<IPython.core.display.HTML object>"
      ]
     },
     "metadata": {},
     "output_type": "display_data"
    },
    {
     "name": "stdout",
     "output_type": "stream",
     "text": [
      "The Mackenzie District Council has submitted a response to the Natural and Built Environment Bill, expressing concerns and requesting amendments. The council supports the objectives of the new resource management system, but believes that the proposed four-year plan making period is unrealistic and will lead to poor planning decisions and inadequate community consultation. They argue that the timeframe does not allow for meaningful community engagement and may result in plans that have negative long-term impacts. The council also raises concerns about the lack of public participation opportunities, the need for clarity in the bill's purpose and outcomes, the promotion of good urban design, and the reduction of human resources required to implement the bill. They request amendments to extend the plan making period, broaden the scope of engagement, remove the requirement for evidence with submissions, ensure inclusionary hearings panels, and trigger consent notification based on adverse effects thresholds. The council also calls for clarity on implementation timing and the transition process, as well as representation on regional planning committees. They emphasize the importance of the National Planning Framework and the need for clear direction and a timeframe for its implementation. Overall, the council supports the intent of the bill but believes that without addressing these concerns, the new system may face similar failures to the current system.\n",
      "\n"
     ]
    },
    {
     "data": {
      "text/html": [
       "<a href=https:////////www.parliament.nz////resource////en-NZ////53SCEN_EVI_129831_EN15590////1da1caffff44f58580ed15e618727df138b07f6a>Read the full submission</a>"
      ],
      "text/plain": [
       "<IPython.core.display.HTML object>"
      ]
     },
     "metadata": {},
     "output_type": "display_data"
    },
    {
     "data": {
      "text/html": [
       "<b>Porirua City Council – Submission</b>"
      ],
      "text/plain": [
       "<IPython.core.display.HTML object>"
      ]
     },
     "metadata": {},
     "output_type": "display_data"
    },
    {
     "name": "stdout",
     "output_type": "stream",
     "text": [
      "The Porirua City Council has submitted its recommendations on the Natural and Built Environment Bill. They argue that the overall purpose of the bill is conflicting and should be revised to include reference to the built environment. They also suggest that the focus should be on achieving targets rather than complying with environmental limits. The council supports the inclusion of te Oranga o te Taiao but believes that further guidance is needed on its implementation. They also express concerns about the lack of guidance on managing conflicts between different outcomes and priorities. The council supports the inclusion of strengthened Te Tiriti o Waitangi principles but believes that further direction is needed on how these principles should be implemented. They also suggest that the timeframe for preparing NBE plans should be extended to five years and that sub-regional plans should be allowed in larger metropolitan regions. The council supports the inclusion of an effects management framework but suggests that compensation should be included as an option for redress. They also recommend further clarity on the role of the Minister in the decision-making process and the establishment of independent hearing panels. The council suggests that the transitional provisions in the bill are too light and that more guidance is needed on transitioning from the RMA to the NBE.\n",
      "\n"
     ]
    },
    {
     "data": {
      "text/html": [
       "<a href=https:////////www.parliament.nz////resource////en-NZ////53SCEN_EVI_129831_EN15495////9aa250e3604da6b7e8adbe12ba856e4d981898aa>Read the full submission</a>"
      ],
      "text/plain": [
       "<IPython.core.display.HTML object>"
      ]
     },
     "metadata": {},
     "output_type": "display_data"
    },
    {
     "data": {
      "text/html": [
       "<b>Paua Industry Council Supp 2 – Submission</b>"
      ],
      "text/plain": [
       "<IPython.core.display.HTML object>"
      ]
     },
     "metadata": {},
     "output_type": "display_data"
    },
    {
     "name": "stdout",
     "output_type": "stream",
     "text": [
      "The submission argues against the NBE Bill's provisions that enable the prohibition of pāua harvesting in various circumstances. It states that pāua harvesting has negligible environmental impacts and is already comprehensively controlled under the Fisheries Act. The submission argues that the NBE Bill imposes unnecessary costs and uncertainty on the pāua industry and threatens the sustainable management of pāua. It highlights that the NBE Bill allows for the prohibition of pāua harvesting in significant biodiversity areas, areas of national importance, highly vulnerable biodiversity areas, customary marine title areas, and other areas where rules are made in NBE plans. The submission also argues that the prohibition of pāua harvesting under the NBE Bill would have significant fisheries management implications, including reducing local pāua populations, increasing competition between fishers, increasing costs for operators, and threatening the sustainability of pāua stocks.\n",
      "\n"
     ]
    },
    {
     "data": {
      "text/html": [
       "<a href=https:////////www.parliament.nz////resource////en-NZ////53SCEN_EVI_129831_EN15893////dae313e841b34042f62081c4a9fb1a99e06999a3>Read the full submission</a>"
      ],
      "text/plain": [
       "<IPython.core.display.HTML object>"
      ]
     },
     "metadata": {},
     "output_type": "display_data"
    },
    {
     "data": {
      "text/html": [
       "<b>Oji Fibre Solutions – Submission</b>"
      ],
      "text/plain": [
       "<IPython.core.display.HTML object>"
      ]
     },
     "metadata": {},
     "output_type": "display_data"
    },
    {
     "name": "stdout",
     "output_type": "stream",
     "text": [
      "Oji Fibre Solutions (NZ) Limited has submitted their concerns about the Natural and Built Environment Bill and the Spatial Planning Bill. They support streamlining consenting processes and improving certainty in resource management, but they believe that the current bills lack clarity and practicality in achieving environmental outcomes. They are particularly concerned about the \"no net effects\" approach, which brings uncertainty to businesses. They also have concerns about consenting costs and certainty, the relationship with existing national policy statements and environmental standards, the setting of targets and limits, hearings processes, and the management of forestry activities. They make recommendations for amendments to specific clauses in the bills to address their concerns.\n",
      "\n"
     ]
    },
    {
     "data": {
      "text/html": [
       "<a href=https:////////www.parliament.nz////resource////en-NZ////53SCEN_EVI_129831_EN15491////874ee661a9e54522403bfd50cf525d0bf1266945>Read the full submission</a>"
      ],
      "text/plain": [
       "<IPython.core.display.HTML object>"
      ]
     },
     "metadata": {},
     "output_type": "display_data"
    },
    {
     "data": {
      "text/html": [
       "<b>Aotearoa Water Action – Submission</b>"
      ],
      "text/plain": [
       "<IPython.core.display.HTML object>"
      ]
     },
     "metadata": {},
     "output_type": "display_data"
    },
    {
     "name": "stdout",
     "output_type": "stream",
     "text": [
      "The Aotearoa Water Action (AWA) does not support the Natural and Built Environment Bill as drafted. They believe that the bill does not adequately address the conflicts between positive system outcomes, growth, and the opportunity costs of development proposals in a resource-constrained world. They argue that the bill lacks clarity, includes undefined terms, and grants significant Ministerial discretion. AWA supports the inclusion of Te Oranga o te Taiao within the purpose clause, the setting of environmental limits, the inclusion of positive outcomes, and the allocation of fresh water in a way that benefits communities. However, their overriding concern is that the bill does not commit strongly enough to these provisions. They also express concerns about the shift away from the 'Randerson' purpose statement, regionalization, the reliance on secondary legislation, the retention of a fast-track process, and the market-based system for resource allocation. AWA supports the submission of the Environmental Defence Society and the Chief Ombudsman, and they make general comments regarding the approach of the bill, the protection of aquifers, the exclusion of offsetting and compensation as methods of mitigation, and the need to address plastics in the legislation. They also provide suggested drafting changes to various provisions of the bill.\n",
      "\n"
     ]
    },
    {
     "data": {
      "text/html": [
       "<a href=https:////////www.parliament.nz////resource////en-NZ////53SCEN_EVI_129831_EN15620////8d9d8c0073d2f7ea8931ec2f5592a4d5986ce8eb>Read the full submission</a>"
      ],
      "text/plain": [
       "<IPython.core.display.HTML object>"
      ]
     },
     "metadata": {},
     "output_type": "display_data"
    },
    {
     "data": {
      "text/html": [
       "<b>Ministry for the Environment (Departmental report - Tranche 4) – Official advice</b>"
      ],
      "text/plain": [
       "<IPython.core.display.HTML object>"
      ]
     },
     "metadata": {},
     "output_type": "display_data"
    },
    {
     "name": "stdout",
     "output_type": "stream",
     "text": [
      "The briefing provides an overview and analysis of the Natural and Built Environment Bill. It includes information on the submissions received, the cross-cutting aspects of the new system, and the interface with the Spatial Planning Bill. The briefing also discusses the achievement of the purpose, outcomes and effects management, limits and targets, places of national importance, allocation, and the National Planning Framework. \n",
      "\n",
      "The main recommendation is to retain the purpose and system outcomes of the NBA and to ensure that the NPF provides direction on the integrated management of the environment. The briefing also recommends the establishment of a Freshwater Working Group to address matters of freshwater allocation with iwi and hapū.\n",
      "\n"
     ]
    },
    {
     "data": {
      "text/html": [
       "<a href=https:////////www.parliament.nz////resource////en-NZ////53SCEN_ADV_129831_EN16799////4a817647dea37cc35114dd797dfefb57197380fc>Read the full submission</a>"
      ],
      "text/plain": [
       "<IPython.core.display.HTML object>"
      ]
     },
     "metadata": {},
     "output_type": "display_data"
    },
    {
     "data": {
      "text/html": [
       "<b>Waikato River Authority – Submission</b>"
      ],
      "text/plain": [
       "<IPython.core.display.HTML object>"
      ]
     },
     "metadata": {},
     "output_type": "display_data"
    },
    {
     "name": "stdout",
     "output_type": "stream",
     "text": [
      "The submission is made by the Waikato River Authority (WRA) in support of the Natural and Built Environment Bill and Spatial Planning Bill. The WRA emphasizes the importance of protecting the statutory provisions that enable the WRA to fulfill its objectives and preserve the mana of Te Ture Whaimana o te Awa o Waikato (the Vision and Strategy) for the Waikato and Waipaa Rivers. The WRA highlights the unique and influential relationship between Te Ture Whaimana and the Resource Management Act 1991. The submission argues that all provisions and statutory functions that afford the WRA its 'mana' should not be affected in any way by the new bills. The WRA also supports the retention of clauses that require the principles of Te Tiriti o Waitangi to be given effect to and raises concerns about potential conflicts with the River Settlement Act and the need for amendments to uphold Tiriti settlements. The submission concludes by requesting that the Environmental Select Committee read this submission alongside the submissions of Waikato-Tainui and Waikato River Iwi.\n",
      "\n"
     ]
    },
    {
     "data": {
      "text/html": [
       "<a href=https:////////www.parliament.nz////resource////en-NZ////53SCEN_EVI_129831_EN15511////61aac91d069353025904598244a0d403b602aec6>Read the full submission</a>"
      ],
      "text/plain": [
       "<IPython.core.display.HTML object>"
      ]
     },
     "metadata": {},
     "output_type": "display_data"
    },
    {
     "data": {
      "text/html": [
       "<b>Wellington Electricity – Submission</b>"
      ],
      "text/plain": [
       "<IPython.core.display.HTML object>"
      ]
     },
     "metadata": {},
     "output_type": "display_data"
    },
    {
     "name": "stdout",
     "output_type": "stream",
     "text": [
      "The submission is made by Wellington Electricity Lines Limited (WE) regarding the Natural and Built Environments Bill. WE is an electricity operator and network utility operator responsible for managing the electricity network in the Wellington region of New Zealand. The submission highlights the importance of a clear framework for the ongoing operation, maintenance, and development of the electricity distribution network, especially in light of urban growth and the need to support decarbonization goals. The submission also raises concerns about the potential hierarchy of natural environment outcomes over built environment outcomes and calls for strengthened wording to uphold the importance of infrastructure services. It also addresses various definitions and provisions in the bill related to activities, exemptions, environmental limits, and the designation process. The submission emphasizes the need for flexibility, certainty, and stakeholder engagement in the development of the bill and its implementation.\n",
      "\n"
     ]
    },
    {
     "data": {
      "text/html": [
       "<a href=https:////////www.parliament.nz////resource////en-NZ////53SCEN_EVI_129831_EN15453////57b2cc7ba5fde7b94548b7eb19fabcd80ab63ffb>Read the full submission</a>"
      ],
      "text/plain": [
       "<IPython.core.display.HTML object>"
      ]
     },
     "metadata": {},
     "output_type": "display_data"
    },
    {
     "data": {
      "text/html": [
       "<b>Koi Tū and Ngā Ara Whetu Centres – Submission</b>"
      ],
      "text/plain": [
       "<IPython.core.display.HTML object>"
      ]
     },
     "metadata": {},
     "output_type": "display_data"
    },
    {
     "name": "stdout",
     "output_type": "stream",
     "text": [
      "The submission argues that while there is a need for the transformation of the current Resource Management Act 1991 (RMA), the Natural and Built Environment Bill (NBE Bill) and the Spatial Planning Bill (SP Bill) in their current form potentially generate overlapping and complex risks for the future. The submission argues that there needs to be a greater emphasis on the intrinsic value of nature and on how the Bills should directly tackle the climate crisis. It also raises concerns about the lack of clarity and prioritization among the stated outcomes, the lack of attention to addressing the climate crisis, and the level of ministerial control and influence. The submission recommends reconciling the bills, establishing independent oversight, clarifying the interrelationships between the purpose, decision-making principles, and system outcomes, and promoting beneficial outcomes.\n",
      "\n"
     ]
    },
    {
     "data": {
      "text/html": [
       "<a href=https:////////www.parliament.nz////resource////en-NZ////53SCEN_EVI_129831_EN15731////8067492cdf1051ee846ab034ebf6b62460fa47ae>Read the full submission</a>"
      ],
      "text/plain": [
       "<IPython.core.display.HTML object>"
      ]
     },
     "metadata": {},
     "output_type": "display_data"
    },
    {
     "data": {
      "text/html": [
       "<b>Pioneer Energy – Submission</b>"
      ],
      "text/plain": [
       "<IPython.core.display.HTML object>"
      ]
     },
     "metadata": {},
     "output_type": "display_data"
    },
    {
     "name": "stdout",
     "output_type": "stream",
     "text": [
      "Pioneer Energy has submitted a letter expressing concerns about the Natural and Built Environment Bill. The company argues that the bill places them at a competitive disadvantage compared to other hydro generators due to the shorter consent duration of 10 years compared to 35 years for exempt hydro generators. This lack of certainty about fuel availability for electricity generation and the increased costs of reconsenting every 10 years will have a detrimental impact on Pioneer's ability to invest in new capacity or refurbishment. The company also highlights the negative impact of the bill on the local community and the Central Lakes Trust, which supports the trust. Pioneer argues that all hydro generation should be treated equally and eligible for a 35-year consent duration. They recommend amendments to the bill to include all hydro generation in the infrastructure exempt from the 10-year consent duration.\n",
      "\n"
     ]
    },
    {
     "data": {
      "text/html": [
       "<a href=https:////////www.parliament.nz////resource////en-NZ////53SCEN_EVI_129831_EN15787////19c4651b999a6882a50a0ac714afc80c351eb91f>Read the full submission</a>"
      ],
      "text/plain": [
       "<IPython.core.display.HTML object>"
      ]
     },
     "metadata": {},
     "output_type": "display_data"
    },
    {
     "data": {
      "text/html": [
       "<b>Linda Conning Supp 1 – Submission</b>"
      ],
      "text/plain": [
       "<IPython.core.display.HTML object>"
      ]
     },
     "metadata": {},
     "output_type": "display_data"
    },
    {
     "name": "stdout",
     "output_type": "stream",
     "text": [
      "The main argument in this submission is that the Natural and Built Environments and Spatial Planning Bills should prioritize public participation and protect the natural environment. The submitter is disappointed that the principle of public participation has been dropped in the bill and argues that ordinary people's voices should be heard, not just developers and professionals. They also raise concerns about the notification process, stating that it should be determined nationally to avoid inconsistencies and bias. \n",
      "\n",
      "The submitter argues that the bill does not effectively protect the environment and calls for a differentiation between the natural and built environment. They suggest revising the purpose of the bill to prioritize the natural environment and remove the term \"enabling\" which has hindered environmental protection in the past. \n",
      "\n",
      "The submitter also expresses concerns about exemptions from environmental limits and the effects management framework, stating that there should be no ability to trade off threatened species and habitats. They argue that exemptions will lead to cumulative loss and that the bill's approach to protection is flawed. \n",
      "\n",
      "In regards to the Spatial Planning Bill, the submitter suggests changes to ensure effective coordination with the Natural and Built Environments Bill. They propose that the National Planning Framework should precede Regional Spatial Strategies and that specific timeframes for public submission and hearings should be included for Regional Spatial Strategies. They also call for the inclusion of environmental NGOs as interested parties.\n",
      "\n"
     ]
    },
    {
     "data": {
      "text/html": [
       "<a href=https:////////www.parliament.nz////resource////en-NZ////53SCEN_EVI_129831_EN15919////7b1a207c4f949df76e6f5f9378121d320766a716>Read the full submission</a>"
      ],
      "text/plain": [
       "<IPython.core.display.HTML object>"
      ]
     },
     "metadata": {},
     "output_type": "display_data"
    },
    {
     "data": {
      "text/html": [
       "<b>Irrigation NZ Supp 6 – Submission</b>"
      ],
      "text/plain": [
       "<IPython.core.display.HTML object>"
      ]
     },
     "metadata": {},
     "output_type": "display_data"
    },
    {
     "name": "stdout",
     "output_type": "stream",
     "text": [
      "Central Plains Water Limited (CPWL) has submitted their concerns about the Natural and Built Environment Bill (NBEB) and the Spatial Planning Bill (SPB). They argue that these bills could significantly constrain their use of existing irrigation infrastructure and environmental management systems. CPWL requests an opportunity to present their concerns to the Environment Select Committee. They highlight the need for regulatory certainty when investing in infrastructure, good decision-making processes, and the avoidance of reverse sensitivity effects. CPWL also criticizes the structure and drafting of the bills, stating that they lack clarity and certainty for users. They provide examples of specific issues with the bills, such as inconsistencies in the use of terms like \"avoid, minimise, remedy, mitigate, offset, and provide redress.\" CPWL suggests amendments to improve clarity and ensure the full suite of management options is available. They also express concerns about the loss of existing use rights and the confusing language in clause 26 of the NBEB. Overall, CPWL argues that the bills could hinder investment in infrastructure and create uncertainty for businesses and the environment.\n",
      "\n"
     ]
    },
    {
     "data": {
      "text/html": [
       "<a href=https:////////www.parliament.nz////resource////en-NZ////53SCEN_EVI_129831_EN15833////9e6fc36b38f8d1b1ffc485ff760299a7a2c36bcf>Read the full submission</a>"
      ],
      "text/plain": [
       "<IPython.core.display.HTML object>"
      ]
     },
     "metadata": {},
     "output_type": "display_data"
    },
    {
     "data": {
      "text/html": [
       "<b>Ministry for the Environment (Departmental report - Tranche 4 - Natural and Built Environment Bill - Version 2) – Official advice</b>"
      ],
      "text/plain": [
       "<IPython.core.display.HTML object>"
      ]
     },
     "metadata": {},
     "output_type": "display_data"
    },
    {
     "name": "stdout",
     "output_type": "stream",
     "text": [
      "The briefing provides an overview and analysis of the Natural and Built Environment Bill. It includes information on the submissions received, cross-cutting aspects of the new system, interface with the Spatial Planning Bill, achieving the purpose, outcomes and effects management, limits and targets, places of national importance, allocation, and other legislative interfaces. \n",
      "\n",
      "The main recommendation is to retain the separate Spatial Planning Act (SPA) and Natural and Built Environment Act (NBA) while ensuring they work together as a coherent system. The briefing also highlights the importance of an outcomes-driven approach, managing adverse effects, setting limits and targets, protecting places of national importance, and implementing an allocation framework. Additionally, it mentions the establishment of a Freshwater Working Group to address freshwater allocation issues.\n",
      "\n"
     ]
    },
    {
     "data": {
      "text/html": [
       "<a href=https:////////www.parliament.nz////resource////en-NZ////53SCEN_ADV_129831_EN17079////78e0082bb1082ddb9120cabe2607b25a88fd0303>Read the full submission</a>"
      ],
      "text/plain": [
       "<IPython.core.display.HTML object>"
      ]
     },
     "metadata": {},
     "output_type": "display_data"
    },
    {
     "data": {
      "text/html": [
       "<b>Beef and Lamb New Zealand – Submission</b>"
      ],
      "text/plain": [
       "<IPython.core.display.HTML object>"
      ]
     },
     "metadata": {},
     "output_type": "display_data"
    },
    {
     "name": "stdout",
     "output_type": "stream",
     "text": [
      "Beef + Lamb New Zealand (B+LNZ) supports the intent of reforming New Zealand's resource management system but opposes the Natural and Built Environment Bill (NBE Bill) and the Spatial Planning Bill (SP Bill) in their current form. B+LNZ argues that the Bills introduce new processes, terminology, and concepts that will result in complexity and require substantial litigation. They also express concerns about the lack of detail on environmental limits, targets, and the establishment of management units, as well as the significant level of responsibility and power given to the Minister for the Environment and central government. B+LNZ calls for the Bills to be withdrawn and reworked to ensure they are fit for purpose and improve on the current Resource Management Act. They also highlight issues with unclear terminology and concepts, inconsistency with current national policies and standards, and the potential for diminished local voice and lack of public participation in decision-making processes. B+LNZ questions the effectiveness of the proposed modified resource consenting regime and raises concerns about the lack of clarity on the National Planning Framework and its impact on farmers.\n",
      "\n"
     ]
    },
    {
     "data": {
      "text/html": [
       "<a href=https:////////www.parliament.nz////resource////en-NZ////53SCEN_EVI_129831_EN15429////ff5cb7f7554217251c720e30f7f9cce5d5f7868a>Read the full submission</a>"
      ],
      "text/plain": [
       "<IPython.core.display.HTML object>"
      ]
     },
     "metadata": {},
     "output_type": "display_data"
    },
    {
     "data": {
      "text/html": [
       "<b>Irrigation NZ – Submission</b>"
      ],
      "text/plain": [
       "<IPython.core.display.HTML object>"
      ]
     },
     "metadata": {},
     "output_type": "display_data"
    },
    {
     "name": "stdout",
     "output_type": "stream",
     "text": [
      "The submission from Irrigation NZ expresses support for the need for reform in the Resource Management Act (RMA) and the development of the Natural and Built Environment Bill (NBEB) and Spatial Planning Bill. However, Irrigation NZ does not support the current form of the bills and raises concerns about certain provisions.\n",
      "\n",
      "One of the main arguments made by Irrigation NZ is the need for certainty within the legislation. They argue that certainty is crucial for irrigation schemes and water users to make plans and investments for the future. They emphasize the importance of stable regulatory frameworks that can adapt to evolving needs and strike a balance between flexibility and specificity.\n",
      "\n",
      "Irrigation NZ also raises concerns about the complexity and ambiguity of the NBEB, which they believe will lead to lengthy litigation and little benefit to the environment or community aspirations. They call for consistency of terminology throughout the bill and careful review of its structure.\n",
      "\n",
      "The submission also addresses issues related to consent durations, the Freshwater Working Group, reduction in the number of plans, notification requirements, water conservation orders, and protection of places of national importance. Irrigation NZ provides specific recommendations and requests for amendments to address these issues.\n",
      "\n",
      "Overall, Irrigation NZ supports the need for reform but calls for improvements to the current form of the bills to ensure certainty, clarity, and practicality for irrigation schemes and water users.\n",
      "\n"
     ]
    },
    {
     "data": {
      "text/html": [
       "<a href=https:////////www.parliament.nz////resource////en-NZ////53SCEN_EVI_129831_EN15839////d12d4336291ec714dfe588de2a59f47da8d1ec70>Read the full submission</a>"
      ],
      "text/plain": [
       "<IPython.core.display.HTML object>"
      ]
     },
     "metadata": {},
     "output_type": "display_data"
    },
    {
     "data": {
      "text/html": [
       "<b>Roderick Aldridge – Submission</b>"
      ],
      "text/plain": [
       "<IPython.core.display.HTML object>"
      ]
     },
     "metadata": {},
     "output_type": "display_data"
    },
    {
     "name": "stdout",
     "output_type": "stream",
     "text": [
      "The main argument against the bill is that it infringes on personal privacy and civil liberties. The bill would allow the government to collect and store large amounts of personal data without proper oversight or safeguards. This could lead to abuse of power and violations of individual rights. Supporters of the bill argue that it is necessary for national security and to combat terrorism. They believe that the government needs access to this data in order to prevent and investigate potential threats.\n",
      "\n"
     ]
    },
    {
     "data": {
      "text/html": [
       "<a href=https:////////www.parliament.nz////resource////en-NZ////53SCEN_EVI_129831_EN15809////f001acf3234548f314fd226a2813a20d8012ff73>Read the full submission</a>"
      ],
      "text/plain": [
       "<IPython.core.display.HTML object>"
      ]
     },
     "metadata": {},
     "output_type": "display_data"
    },
    {
     "data": {
      "text/html": [
       "<b>Te Rūnanga o Ngāi Tahu Supp 1 – Submission</b>"
      ],
      "text/plain": [
       "<IPython.core.display.HTML object>"
      ]
     },
     "metadata": {},
     "output_type": "display_data"
    },
    {
     "name": "stdout",
     "output_type": "stream",
     "text": [
      "Te Rūnanga o Ngāi Tahu, the representative tribal body of Ngāi Tahu whānui, has provided a response to the Natural and Built Environment Bill and Spatial Planning Bill. They emphasize the importance of recognizing Ngāi Tahu rangatiratanga (authority) and the Ngāi Tahu Takiwā (tribal area) in the legislation. They argue that the Bills should not undermine or breach existing Settlement and statutory obligations between the Crown and Ngāi Tahu. They also call for direct engagement and representation of Ngāi Tahu in the establishment of policies and plans that apply in their Takiwā. Additionally, they highlight the need for adequate resourcing for iwi and hapū to participate in the new system and for the protection of Ngāi Tahu settlements and taonga (treasures). They express concerns about the allocation of natural resources, particularly freshwater, and call for a new system that recognizes and accommodates Ngāi Tahu's rights and interests. They propose amendments to the Bills, including the inclusion of a new Schedule 3, to address their concerns.\n",
      "\n"
     ]
    },
    {
     "data": {
      "text/html": [
       "<a href=https:////////www.parliament.nz////resource////en-NZ////53SCEN_EVI_129831_EN16122////2c6cc3bd846568f7695532347c487727b9db21db>Read the full submission</a>"
      ],
      "text/plain": [
       "<IPython.core.display.HTML object>"
      ]
     },
     "metadata": {},
     "output_type": "display_data"
    },
    {
     "data": {
      "text/html": [
       "<b>Hastings District Council – Submission</b>"
      ],
      "text/plain": [
       "<IPython.core.display.HTML object>"
      ]
     },
     "metadata": {},
     "output_type": "display_data"
    },
    {
     "name": "stdout",
     "output_type": "stream",
     "text": [
      "The Hastings District Council has submitted its comments on the Natural and Built Environments Bill. The council agrees with many of the points raised in the submission by Local Government New Zealand but highlights several specific concerns. \n",
      "\n",
      "One major concern is the loss of local voice in the new system. The council believes that the new provisions result in a lack of community input into the decision-making process. They argue that the new system does not adequately reflect the sense of place and characteristics of individual communities. The council suggests that the new plan should provide an opportunity for the local community to comment on the draft plan, excluding rezoning requests. They also call for a wider scope for the content of Statements of Community Outcomes and Statements of Regional Environmental Outcomes.\n",
      "\n",
      "The council also raises concerns about the composition of the Regional Planning Committees (RPC). They believe that only elected representatives should be appointed to the RPC to ensure accountability to the community. They also argue that the RPC should be required to \"give effect to\" the Statements of Community Outcomes and Statements of Regional and Environmental Outcomes, rather than just having \"particular regard to\" them.\n",
      "\n",
      "The council calls for greater clarity on the transitional provisions of the bill, particularly regarding the timing of the transition period and the management of resource consents during this period. They also suggest that model projects around the Regional Spatial Strategies should be advanced quickly to provide guidance for other local authorities.\n",
      "\n",
      "In terms of systems outcomes, the council supports the inclusion of outcomes for climate change and infrastructure provision but calls for further clarification on the protection or restoration of outstanding natural features and landscapes. They also argue for greater clarity on the priorities and hierarchies of system outcomes.\n",
      "\n",
      "The council raises concerns about the funding and administrative details of the Secretariat and the RPC. They suggest that the set-up costs of the new system should be funded at the central government level and that funding for Māori participation should also come from central government.\n",
      "\n",
      "In terms of consenting matters, the council highlights the need for a definition of the term \"trivial effect\" and raises concerns about the potential for a precautionary approach leading to complex and time-delayed consenting. They also express concerns about the capacity of the Environment Court to handle declarations on notification decisions.\n",
      "\n",
      "Finally, the council suggests that waste and resource recovery services should be included as a utility service and that the location of storage areas should be considered in the consent process. They also call for the consideration of resource recovery infrastructure in Regional Spatial Plans and the prioritization of waste minimization and\n",
      "\n"
     ]
    },
    {
     "data": {
      "text/html": [
       "<a href=https:////////www.parliament.nz////resource////en-NZ////53SCEN_EVI_129831_EN15623////12efe01ade3f2a9a0aa81257b86f7eb8317e3bb8>Read the full submission</a>"
      ],
      "text/plain": [
       "<IPython.core.display.HTML object>"
      ]
     },
     "metadata": {},
     "output_type": "display_data"
    },
    {
     "data": {
      "text/html": [
       "<b>Powerco Supp 1 – Submission</b>"
      ],
      "text/plain": [
       "<IPython.core.display.HTML object>"
      ]
     },
     "metadata": {},
     "output_type": "display_data"
    },
    {
     "name": "stdout",
     "output_type": "stream",
     "text": [
      "The submission argues for the improvement of the Natural and Built Environment Bill and the Spatial Planning Bill to enable New Zealand's energy future. It emphasizes the importance of protecting and enabling the full energy system, supporting decarbonization efforts, and involving lifeline utility providers in regional spatial strategies. The submission also calls for a national planning framework that provides direction for the full energy system and aligns with key national policies. It recommends the inclusion of designation route protection and options for utility providers in different situations. Additionally, the submission highlights the importance of infrastructure outcomes, renewable electricity generation, and excluding notification of route protection. The submission also mentions the significant investment made in maintaining and developing the network and addresses key tensions related to vegetation management, structures in specified areas, wetlands, waterways, urban intensification, and setbacks.\n",
      "\n"
     ]
    },
    {
     "data": {
      "text/html": [
       "<a href=https:////////www.parliament.nz////resource////en-NZ////53SCEN_EVI_129831_EN16120////72a16c830e15ceb3bf515a70ac2580c372c2efa7>Read the full submission</a>"
      ],
      "text/plain": [
       "<IPython.core.display.HTML object>"
      ]
     },
     "metadata": {},
     "output_type": "display_data"
    },
    {
     "data": {
      "text/html": [
       "<b>Tony Watkins – Submission</b>"
      ],
      "text/plain": [
       "<IPython.core.display.HTML object>"
      ]
     },
     "metadata": {},
     "output_type": "display_data"
    },
    {
     "name": "stdout",
     "output_type": "stream",
     "text": [
      "The submission by Tony Watkins argues that the Natural and Built Environment Bill is irrelevant to the current climate crisis. Watkins criticizes Judge Randerson, who is involved in the bill, for being an anthropocentric lawyer with no knowledge of holocentric architecture or the built environment. Watkins also mentions that there is nothing wrong with Raewyn Peart, but does not provide further details.\n",
      "\n"
     ]
    },
    {
     "data": {
      "text/html": [
       "<a href=https:////////www.parliament.nz////resource////en-NZ////53SCEN_EVI_129831_EN15816////9456989cae742414b472f6c3ab0629de36d2d349>Read the full submission</a>"
      ],
      "text/plain": [
       "<IPython.core.display.HTML object>"
      ]
     },
     "metadata": {},
     "output_type": "display_data"
    },
    {
     "data": {
      "text/html": [
       "<b>Te Kahu o Taonui – Submission</b>"
      ],
      "text/plain": [
       "<IPython.core.display.HTML object>"
      ]
     },
     "metadata": {},
     "output_type": "display_data"
    },
    {
     "name": "stdout",
     "output_type": "stream",
     "text": [
      "The submission is made on behalf of Te Kahu o Taonui, a collective of authorities in Te Tai Tokerau, and addresses the Natural and Built Environment Bill and Spatial Planning Bill. The submission argues that there has not been enough time to ensure that the reform is done properly and that the drafting of the bills has been rushed. It also criticizes the bills for failing to meet their stated aims and for not adequately addressing iwi and hapū rights and interests in freshwater. The submission calls for the retention of Te Oranga o te Taiao as a foundational principle, the upholding of Te Tiriti o Waitangi settlements, and the recognition of iwi and hapū planning documents. It also raises concerns about the resourcing of iwi and hapū participation in the system and the powers and functions of the National Māori Entity. The submission concludes by stating that the bill needs multiple amendments before it would be acceptable and requesting to make an oral submission.\n",
      "\n"
     ]
    },
    {
     "data": {
      "text/html": [
       "<a href=https:////////www.parliament.nz////resource////en-NZ////53SCEN_EVI_129831_EN15606////d393a08b2fe599acf27b2104e425011bf0f2dbe4>Read the full submission</a>"
      ],
      "text/plain": [
       "<IPython.core.display.HTML object>"
      ]
     },
     "metadata": {},
     "output_type": "display_data"
    },
    {
     "data": {
      "text/html": [
       "<b>Otago Regional Council Supp1 – Submission</b>"
      ],
      "text/plain": [
       "<IPython.core.display.HTML object>"
      ]
     },
     "metadata": {},
     "output_type": "display_data"
    },
    {
     "name": "stdout",
     "output_type": "stream",
     "text": [
      "The main arguments presented in this submission against the NBE and SP Bills are as follows:\n",
      "\n",
      "1. Freshwater Working Group: The submission argues that the proposed Freshwater Working Group and its process will introduce significant uncertainty and conflict with the water allocation work already being done by the Otago Regional Council (ORC). The process and timeframes do not align with ORC's notification timeframes or the requirements of the National Policy Statement for Freshwater Management (NPSFM). The submission asks the committee to carefully consider the purpose, structure, and process of the Freshwater Working Group to ensure it does not conflict with existing regional direction.\n",
      "\n",
      "2. Mandatory content for NBE Plans: The submission expresses concern about the disconnect between the proposed NBE Bill and the NPSFM. It argues that the \"must\" and \"may\" regional plan content in the Bill cannot be reconciled with the mandatory requirements of the NPSFM. The submission suggests that more of the matters for which regional councils are responsible should be included as mandatory requirements in NBE plans.\n",
      "\n",
      "3. Consents with grouped expiry dates: The submission raises concerns about the provision in the NBE Bill that allows for consents to have the same expiry date in specified circumstances. It cites the negative consequences experienced in Otago when Deemed Permits expired and argues that common expiry dates should not be the first option. The submission recommends that the committee consider whether this provision is necessary given the alternative allocation methodologies available in the NBE Bill and the significant resource burden it places on all parties involved in the consenting process.\n",
      "\n",
      "4. Regional Planning Committees: The submission expresses concerns about the implementation of Regional Planning Committees (RPCs) and the ability to sufficiently resource them. It highlights the challenge of finding skilled secretariats and the potential for resourcing shortages if all councils need to conduct hearings at the same time. The submission suggests that the roll-out of the NBE Act should be staggered and the learnings from the initial implementation should be carefully reviewed to address resourcing shortages.\n",
      "\n",
      "The submission also notes support for the Regional Spatial Strategies (RSS) and the potential for them to address important regional and local issues. However, it suggests that the statement instruments should be better focused to capture important outcomes and that hearings should be mandatory to ensure community engagement.\n",
      "\n"
     ]
    },
    {
     "data": {
      "text/html": [
       "<a href=https:////////www.parliament.nz////resource////en-NZ////53SCEN_EVI_129831_EN16159////cd7bdce5c6095c9eeeaf65aae8fb7d4618d8ca6d>Read the full submission</a>"
      ],
      "text/plain": [
       "<IPython.core.display.HTML object>"
      ]
     },
     "metadata": {},
     "output_type": "display_data"
    },
    {
     "data": {
      "text/html": [
       "<b>Ngati Tahu-Ngati Whaoa Runanga Trust Supp 1 – Submission</b>"
      ],
      "text/plain": [
       "<IPython.core.display.HTML object>"
      ]
     },
     "metadata": {},
     "output_type": "display_data"
    },
    {
     "name": "stdout",
     "output_type": "stream",
     "text": [
      "The Ngati Tahu-Ngati Whaoa Runanga Trust has submitted a response to the Natural and Built Environment (NBE) and Spatial Planning Bills. They argue that the government has failed to address the issue of iwi and hapū rights and interests in freshwater and geothermal resources, which is unacceptable. They also criticize the bills for not upholding existing Tiriti settlements and arrangements, and for not meeting their stated aims of transforming the resource management system. The trust supports the retention of Te Oranga o te Taiao (the health of the natural environment) as a foundational principle in the bills, but argues that it needs to be elevated and recognized throughout the legislation. They also oppose the creation of a National Māori Entity, as they believe it would undermine the rights and interests of individual iwi and hapū. The trust calls for adequate resourcing for iwi and hapū to participate in the system and for a recasting of the process for setting environmental limits and targets. They also make specific suggestions for amendments to various clauses in the bills.\n",
      "\n"
     ]
    },
    {
     "data": {
      "text/html": [
       "<a href=https:////////www.parliament.nz////resource////en-NZ////53SCEN_EVI_129831_EN15577////6786a1634e9a8f9a8cc292f4282e431b33741fbb>Read the full submission</a>"
      ],
      "text/plain": [
       "<IPython.core.display.HTML object>"
      ]
     },
     "metadata": {},
     "output_type": "display_data"
    },
    {
     "data": {
      "text/html": [
       "<b>IEGA – Submission</b>"
      ],
      "text/plain": [
       "<IPython.core.display.HTML object>"
      ]
     },
     "metadata": {},
     "output_type": "display_data"
    },
    {
     "name": "stdout",
     "output_type": "stream",
     "text": [
      "The Independent Electricity Generators Association (IEGA) has submitted a letter to the Environment Committee expressing their concerns about the Natural and Built Environment Bill. They argue that the Bill will have a detrimental impact on hydro generation connected to local electricity distribution networks, imposing additional costs and uncertainty on businesses that own and operate these hydro schemes. They claim that the Bill will make it financially unviable to re-consent existing hydro generation plants and that investment in new capacity will be unbankable. They also argue that the Bill will make it more costly for New Zealand to achieve a low emissions economy and delay the transition. The IEGA recommends amending the Bill to ensure distribution and grid connected hydro generation are treated equally for consenting purposes. They also express concern that these proposals were not foreshadowed in the Exposure Draft or any stakeholder consultation.\n",
      "\n"
     ]
    },
    {
     "data": {
      "text/html": [
       "<a href=https:////////www.parliament.nz////resource////en-NZ////53SCEN_EVI_129831_EN15742////91a7b3145bdf621292d2db327873569fb65bd9a1>Read the full submission</a>"
      ],
      "text/plain": [
       "<IPython.core.display.HTML object>"
      ]
     },
     "metadata": {},
     "output_type": "display_data"
    },
    {
     "data": {
      "text/html": [
       "<b>Hamilton City Council Supp2 – Submission</b>"
      ],
      "text/plain": [
       "<IPython.core.display.HTML object>"
      ]
     },
     "metadata": {},
     "output_type": "display_data"
    },
    {
     "name": "stdout",
     "output_type": "stream",
     "text": [
      "The submission discusses the Future Proof strategy, which is a partnership between local government, iwi, and central government in New Zealand. The strategy aims to achieve an integrated settlement pattern and transport system, guide regional and sub-regional strategy and policy, and advocate collectively on agreed matters. The submission highlights the importance of including Te Ture Whaimana, the Vision and Strategy for the Waikato River, in the decision-making process. It also mentions the Future Proof Sub Region's partners and the structure of the organization. The submission provides updates on the achievements of the strategy, including investment in infrastructure, adoption of corridor strategies, and government funding for various projects. It also discusses the Hamilton-Auckland Corridor initiative, the Hamilton-Waikato Metro Spatial Plan, and the Future Proof Strategy Update for 2022. The submission outlines the key changes in the updated strategy, such as incorporating iwi aspirations, putting the Waikato River at the heart of planning, and promoting a multi-modal transport network. It also mentions the implementation of the strategy, including input to changes in regional policy, boundary-less planning for water and wastewater, and the development of a transport program. The submission concludes by discussing the next steps in implementing the recommendations, including long-term planning, infrastructure upgrades, and partnerships with various stakeholders.\n",
      "\n"
     ]
    },
    {
     "data": {
      "text/html": [
       "<a href=https:////////www.parliament.nz////resource////en-NZ////53SCEN_EVI_129831_EN16151////3ccca2c03b7fb4e3276225a227010000735ba302>Read the full submission</a>"
      ],
      "text/plain": [
       "<IPython.core.display.HTML object>"
      ]
     },
     "metadata": {},
     "output_type": "display_data"
    },
    {
     "data": {
      "text/html": [
       "<b>Royal Forest and Bird Protection Society of New Zealand Inc – Submission</b>"
      ],
      "text/plain": [
       "<IPython.core.display.HTML object>"
      ]
     },
     "metadata": {},
     "output_type": "display_data"
    },
    {
     "name": "stdout",
     "output_type": "stream",
     "text": [
      "The Royal Forest and Bird Protection Society of New Zealand (Forest & Bird) has submitted a response to the Natural and Built Environment Bill and Spatial Planning Bill. Forest & Bird argues that the current legislation fails to adequately protect New Zealand's unique biodiversity and ecosystems. They highlight the loss of biodiversity globally and in New Zealand, and the need for stronger laws to address habitat transformation. Forest & Bird calls for changes to the bill, including setting environmental limits at a healthy state, prohibiting exemptions from meeting limits, and implementing mandatory targets for improvement. They also express concerns about the protection of special places, the role of spatial planning, and the overall purpose and outcomes of the bill. Forest & Bird suggests amendments to the purpose clause to prioritize the protection of natural heritage and the management of adverse effects. They also propose a stepped approach or a priorities approach to clarify the direction of the legislation.\n",
      "\n"
     ]
    },
    {
     "data": {
      "text/html": [
       "<a href=https:////////www.parliament.nz////resource////en-NZ////53SCEN_EVI_129831_EN15855////5aa5fecb921c10b7b6ff5101713f085f2cbf46ed>Read the full submission</a>"
      ],
      "text/plain": [
       "<IPython.core.display.HTML object>"
      ]
     },
     "metadata": {},
     "output_type": "display_data"
    },
    {
     "data": {
      "text/html": [
       "<b>Kapiti Coast District Council Supp 1 – Submission</b>"
      ],
      "text/plain": [
       "<IPython.core.display.HTML object>"
      ]
     },
     "metadata": {},
     "output_type": "display_data"
    },
    {
     "name": "stdout",
     "output_type": "stream",
     "text": [
      "The KCDC (Kapiti Coast District Council) has provided comments on the Natural and Built Environment Bill. They have raised concerns and suggested changes regarding various clauses in the bill. Some of the main arguments include:\n",
      "\n",
      "1. Climate change objective: The KCDC believes that the requirement to \"achieve\" outcomes related to climate change may be too high of a threshold. They also seek clarification on what \"reduction\" means and at what level it should be achieved.\n",
      "\n",
      "2. Well-functioning rural and urban areas: The KCDC is concerned about the subjective and ill-defined terminology used in this clause. They suggest redrafting it to mirror the language of the NPS-UD (National Policy Statement on Urban Development) for clarity.\n",
      "\n",
      "3. Adverse effect definition: The KCDC believes that the term \"adverse effect\" should be defined separately from \"trivial effect\" and suggests using an alternate term such as \"minor\" that has an established case law.\n",
      "\n",
      "4. Cultural heritage definition: The KCDC is concerned that the term \"cultural heritage\" could be interpreted broadly and used to protect amenity values. They suggest defining \"cultural landscapes\" more narrowly to ensure clarity.\n",
      "\n",
      "5. Public notice requirements: The KCDC believes that the obligation to publish public notices in newspapers is outdated and suggests providing for online and email public notifications instead.\n",
      "\n",
      "6. Effects management framework: The KCDC is concerned about the inconsistent use of directive terms throughout the bill and suggests using the terms set out in clause 61 for greater clarity.\n",
      "\n",
      "7. Resource allocation principles: The KCDC seeks further explanation and clarification on how the three resource allocation principles are intended to be implemented and how conflicts between them should be resolved.\n",
      "\n",
      "8. Limits and targets: The KCDC believes that there is little information in the bill about how limits and targets will operate in practice and suggests developing them in partnership with local government to ensure practicality and achievability.\n",
      "\n",
      "9. Compensation for esplanade reserves: The KCDC suggests combining two clauses related to compensation for esplanade reserves into a single clause for easier navigation and understanding.\n",
      "\n",
      "10. Transfer of powers: The KCDC is concerned about the broad exemption provided for the transfer of powers to iwi or hapū and suggests that both parties should agree to the transfer for it to be desirable.\n",
      "\n",
      "Overall, the KCDC has provided feedback and suggestions to improve the clarity, practicality, and effectiveness of the Natural and Built Environment Bill.\n",
      "\n"
     ]
    },
    {
     "data": {
      "text/html": [
       "<a href=https:////////www.parliament.nz////resource////en-NZ////53SCEN_EVI_129831_EN15792////4d5d8222862617578fb739d28c2094c385446101>Read the full submission</a>"
      ],
      "text/plain": [
       "<IPython.core.display.HTML object>"
      ]
     },
     "metadata": {},
     "output_type": "display_data"
    },
    {
     "data": {
      "text/html": [
       "<b>The Association for Resource Management Practitioners – Submission</b>"
      ],
      "text/plain": [
       "<IPython.core.display.HTML object>"
      ]
     },
     "metadata": {},
     "output_type": "display_data"
    },
    {
     "name": "stdout",
     "output_type": "stream",
     "text": [
      "ure is logical and intuitive, with key provisions placed in appropriate parts of the Bill. This will help to reduce complexity and make the Bill easier to understand and navigate.\n",
      "\n",
      "b. The use of schedules should be minimized, and important provisions should be incorporated directly into the main body of the Bill. This will ensure that key information is easily accessible and not buried in separate schedules.\n",
      "\n",
      "c. The drafting of the NBA should be improved to eliminate typos, errors, and inconsistencies in terminology. This will enhance the clarity and quality of the Bill.\n",
      "\n",
      "d. The NBA should be revised to ensure that key reform objectives are not undermined by other provisions in the Bill. This includes addressing issues such as exceptions to environmental limits and the potential conflict between the new purpose clause and other parts of the Bill.\n",
      "\n",
      "Overall, RMLA supports the reform objectives of the NBA but believes that significant work is needed to improve the content and structure of the Bill. This will help to ensure that the NBA provides a solid foundation for effective environmental management in New Zealand.\n",
      "\n"
     ]
    },
    {
     "data": {
      "text/html": [
       "<a href=https:////////www.parliament.nz////resource////en-NZ////53SCEN_EVI_129831_EN15607////baba70c5ec177f36ec7d5eb8947846a07ab2aefc>Read the full submission</a>"
      ],
      "text/plain": [
       "<IPython.core.display.HTML object>"
      ]
     },
     "metadata": {},
     "output_type": "display_data"
    },
    {
     "data": {
      "text/html": [
       "<b>Rangitata Diversion Race Management Limited Supp 2 – Submission</b>"
      ],
      "text/plain": [
       "<IPython.core.display.HTML object>"
      ]
     },
     "metadata": {},
     "output_type": "display_data"
    },
    {
     "name": "stdout",
     "output_type": "stream",
     "text": [
      "The Rangitata River Monitoring Framework outlines the need for a comprehensive monitoring plan to assess the potential effects of water abstraction on the Rangitata River in New Zealand. The framework highlights the lack of empirical data on the river's form and process, as well as the difficulty in isolating the specific effects of water abstraction from cumulative effects. The experts involved in the framework propose using LiDAR technology to map the river's sediment train and riverbed topography, as well as developing a 2D numerical model to simulate sediment dynamics. The framework also suggests implementing flow and turbidity monitoring, as well as conducting surveys of fine sediment cover on the riverbed. The goal of the monitoring plan is to provide detailed system-wide data and understanding of the river's behavior and sediment transport processes. The framework concludes that investing in a comprehensive monitoring program is likely to have better environmental outcomes than going through another hearing before the Environment Court.\n",
      "\n"
     ]
    },
    {
     "data": {
      "text/html": [
       "<a href=https:////////www.parliament.nz////resource////en-NZ////53SCEN_EVI_129831_EN15940////f2777a217056348cdb395ec82cbd615c5454b349>Read the full submission</a>"
      ],
      "text/plain": [
       "<IPython.core.display.HTML object>"
      ]
     },
     "metadata": {},
     "output_type": "display_data"
    },
    {
     "data": {
      "text/html": [
       "<b>Raukawa Charitable Trust – Submission</b>"
      ],
      "text/plain": [
       "<IPython.core.display.HTML object>"
      ]
     },
     "metadata": {},
     "output_type": "display_data"
    },
    {
     "name": "stdout",
     "output_type": "stream",
     "text": [
      "Raukawa, an iwi in New Zealand, has submitted a consolidated submission on the Natural and Built Environment Bill and the Spatial Planning Bill. They express disappointment with the lack of meaningful engagement with iwi during the development of the bills and argue that the process has not been consistent with the Crown's obligations as a Treaty partner. Raukawa supports the general purposes of the bills and the inclusion of Te Tiriti o Waitangi principles, but they have concerns about the impact on Treaty settlements, the Waikato River co-management arrangements, and water and geothermal rights and interests. They argue that the bills undermine existing commitments and call for substantial re-engagement with iwi before the bills proceed.\n",
      "\n"
     ]
    },
    {
     "data": {
      "text/html": [
       "<a href=https:////////www.parliament.nz////resource////en-NZ////53SCEN_EVI_129831_EN15604////12f43279650b98a119bb44711af651b58b3f6b09>Read the full submission</a>"
      ],
      "text/plain": [
       "<IPython.core.display.HTML object>"
      ]
     },
     "metadata": {},
     "output_type": "display_data"
    },
    {
     "data": {
      "text/html": [
       "<b>Meat Industry Association of New Zealand (Incoporated) – Submission</b>"
      ],
      "text/plain": [
       "<IPython.core.display.HTML object>"
      ]
     },
     "metadata": {},
     "output_type": "display_data"
    },
    {
     "name": "stdout",
     "output_type": "stream",
     "text": [
      "The Meat Industry Association of New Zealand (MIA) has submitted its concerns about the Natural and Built Environment Bill (NBEB) and the Spatial Planning Bill (SPB) to the Environment Select Committee. The MIA represents the meat processing sector, which is New Zealand's largest manufacturing sector and a significant employer in rural communities. \n",
      "\n",
      "The MIA is concerned about the uncertainty introduced by the Bills, particularly as it is not clear how all three components of the new resource management system will work together. They are also concerned about the concentration and centralization of power and decision-making on resource management and planning, as well as the lack of clarity on local engagement. \n",
      "\n",
      "The MIA believes that the sequencing of reforms is problematic, as the National Planning Framework, which is a key component of the proposed system, is still under development and not expected to be released for consultation until after the NBEB and SPB have passed. This makes it difficult to understand how the system will work as a coherent whole. \n",
      "\n",
      "The MIA also raises concerns about the concepts and objectives outlined in the NBEB, stating that they are unclear and will not aid decision-making. They argue that the vague purpose statement and conflicting system outcomes will lead to more conflict and litigation. \n",
      "\n",
      "Another major concern for the MIA is the centralization of decision-making and implementation in the proposed system. They believe that this will be to the detriment of considering local conditions and circumstances, and that it erodes democratic principles and representation. They also express concerns about the possible tension between local economic development goals and centrally set parameters. \n",
      "\n",
      "The MIA is also worried about the proposed changes in the duration of resource consents, particularly for water and discharge permits. They argue that the maximum consent duration of 10 years will hamper long-term operations and investment in infrastructure and environmental improvements. They call for a more reasonable duration that allows for long-term planning and investment. \n",
      "\n",
      "Lastly, the MIA raises concerns about the centralization of resource allocation methods, which they believe will be driven by the National Planning Framework and/or Regional Committees. They argue that the move away from the existing first in, first served approach towards decisions based on sustainability, efficiency, and equity principles raises concerns about transparency and fairness.\n",
      "\n"
     ]
    },
    {
     "data": {
      "text/html": [
       "<a href=https:////////www.parliament.nz////resource////en-NZ////53SCEN_EVI_129831_EN15593////de65fa2581057e20e57ba0b8c7619f80f8de37e9>Read the full submission</a>"
      ],
      "text/plain": [
       "<IPython.core.display.HTML object>"
      ]
     },
     "metadata": {},
     "output_type": "display_data"
    },
    {
     "data": {
      "text/html": [
       "<b>Auckland District Law Society – Submission</b>"
      ],
      "text/plain": [
       "<IPython.core.display.HTML object>"
      ]
     },
     "metadata": {},
     "output_type": "display_data"
    },
    {
     "name": "stdout",
     "output_type": "stream",
     "text": [
      "The Auckland District Law Society (ADLS) has made a submission on the Natural and Built Environment Bill and Spatial Planning Bill. The ADLS focuses on workability issues identified in the Bills rather than supporting or opposing matters of policy direction. The main argument of the submission is that the Bills are lengthy, complex, and undeveloped, and more time should be taken to develop and refine them to ensure they deliver on their promises of system efficiency, simplicity, and workability. The submission also raises concerns about the structure and organization of the legislation, the removal or replacement of principles and concepts developed through case law, and the lack of clarity and consistency in the provisions related to consenting and notification, plan-making, and the National Planning Framework. The ADLS recommends several improvements and clarifications to address these issues.\n",
      "\n"
     ]
    },
    {
     "data": {
      "text/html": [
       "<a href=https:////////www.parliament.nz////resource////en-NZ////53SCEN_EVI_129831_EN15428////189cebc6955cc5feb0c5f09eec89cc7133c7e821>Read the full submission</a>"
      ],
      "text/plain": [
       "<IPython.core.display.HTML object>"
      ]
     },
     "metadata": {},
     "output_type": "display_data"
    },
    {
     "data": {
      "text/html": [
       "<b>Canterbury Mayoral Forum – Submission</b>"
      ],
      "text/plain": [
       "<IPython.core.display.HTML object>"
      ]
     },
     "metadata": {},
     "output_type": "display_data"
    },
    {
     "name": "stdout",
     "output_type": "stream",
     "text": [
      "The Canterbury Mayoral Forum (CMF) has submitted a response to the Natural and Built Environment (NBE) Bill, expressing general support for the need for a new resource management system. However, the CMF argues that several important amendments are required to ensure the bill meets its reform objectives. \n",
      "\n",
      "One of the key amendments requested is an extension of the plan making period from four years to six years. The CMF believes that the current timeframe is too short and will lead to poor planning decisions, inadequate community consultation, and insufficient technical input. They also argue that the short plan making period will undermine engagement with Māori and the public.\n",
      "\n",
      "The CMF also raises concerns about the lack of public participation opportunities provided in the bill, both in the plan making and consent processes. They argue that the limited engagement opportunities will reduce the quality of plans and create discontent among those affected by development.\n",
      "\n",
      "Another issue raised by the CMF is the potential for political interference in the planning system. They argue that the bill provides opportunities for central government to make changes for political gain, which could undermine the integrity of the planning system. They suggest that any changes should be directed by an independent authority to ensure decisions are based on evidence and good practice.\n",
      "\n",
      "The CMF also calls for amendments to clarify the purpose of the bill, resolve conflicting objectives, promote good urban design outcomes, and reduce the human resources required to implement the bill. They also highlight the need for clarification of various sections of the bill to avoid confusion and misinterpretation.\n",
      "\n",
      "Overall, the CMF supports the need for a new resource management system but believes that several amendments are necessary to ensure the bill meets its reform objectives and addresses the concerns raised.\n",
      "\n"
     ]
    },
    {
     "data": {
      "text/html": [
       "<a href=https:////////www.parliament.nz////resource////en-NZ////53SCEN_EVI_129831_EN15432////f93d3280d3884bce2a9999094ee9603152829453>Read the full submission</a>"
      ],
      "text/plain": [
       "<IPython.core.display.HTML object>"
      ]
     },
     "metadata": {},
     "output_type": "display_data"
    },
    {
     "data": {
      "text/html": [
       "<b>New Zealand Sport Fishing Council Supp 2 – Submission</b>"
      ],
      "text/plain": [
       "<IPython.core.display.HTML object>"
      ]
     },
     "metadata": {},
     "output_type": "display_data"
    },
    {
     "name": "stdout",
     "output_type": "stream",
     "text": [
      "The New Zealand Sport Fishing Council (NZSFC) opposes the proposed overlapping jurisdiction between the Natural and Built Environment Bill and the Fisheries Act 1996. They argue that the management of the effects of fishing should be the sole domain of the Fisheries Act, which has the power to regulate how much biomass is removed from the marine environment. They also point out that the High Court has recently held that the Fisheries Act contains mandatory environmental bottom lines for the maintenance of indigenous biodiversity, indicating that the adverse effects on biodiversity from overfishing stem from the failure of Fisheries New Zealand to correctly interpret and apply the Act. The NZSFC believes that the solution is to ensure the proper application of the Fisheries Act, rather than creating regulatory duplication. They argue that regional councils lack the competency and capacity to administer fishing controls and should stick to their core business of managing land-based pollution and other activities that affect the marine environment. The NZSFC suggests drawing a clear jurisdictional line with the Fisheries Act, with the obligation to manage the effects of fishing squarely at the feet of Fisheries New Zealand, while regional councils maintain a complementary role in managing other activities that can affect marine biodiversity. They believe that this would improve system efficiency and effectiveness and reduce the complexity of the Natural and Built Environment Bill.\n",
      "\n"
     ]
    },
    {
     "data": {
      "text/html": [
       "<a href=https:////////www.parliament.nz////resource////en-NZ////53SCEN_EVI_129831_EN15870////f1413941feb30b6b72320ed035f792c121337661>Read the full submission</a>"
      ],
      "text/plain": [
       "<IPython.core.display.HTML object>"
      ]
     },
     "metadata": {},
     "output_type": "display_data"
    },
    {
     "data": {
      "text/html": [
       "<b>NZFOA – Submission</b>"
      ],
      "text/plain": [
       "<IPython.core.display.HTML object>"
      ]
     },
     "metadata": {},
     "output_type": "display_data"
    },
    {
     "name": "stdout",
     "output_type": "stream",
     "text": [
      "The New Zealand Forest Owners Association (FOA) has submitted its comments on the Natural and Built Environment Bill and the Spatial Planning Bill. FOA represents the commercial plantation forest growing industry and has expressed concerns about the proposed reforms of New Zealand's environmental legislation. \n",
      "\n",
      "FOA supports the policy intent to address conflicts in resource use and the shift towards consistent national and regional planning. However, they are not convinced that the new bills will better reconcile resource use and believe that there is a lack of balance between environmental protection and resource use goals. They argue that the bills may set back the goals of sustainable and integrated management.\n",
      "\n",
      "FOA is particularly concerned about the new bottom lines and the no net effects approach in the legislation. They believe that the details regarding the effects management framework should be left to regulation and that a \"no net effects approach\" is unworkable. They also express concerns about the lack of alignment between the draft regulations and the effects management framework, as well as the lack of a cohesive approach to these issues.\n",
      "\n",
      "The relationship with existing regulations is another area of concern for FOA. They are worried about the unclear amalgamation of existing regulations into the new legislation and the potential for further resource requirements to redevelop existing regulations. They specifically mention the Resource Management (National Environmental Standards for Plantation Forestry) Regulations 2017 and the proposed changes to the controlled and restricted discretionary classifications.\n",
      "\n",
      "FOA also raises concerns about the management of biodiversity, the changes to consent duration, the allocation of resources, and the hearing processes. They argue that the proposed changes to existing use rights under the legislation are unclear and unnecessary, and they propose retaining the existing RMA approach to existing use rights. They also express concerns about the potential for existing land uses to have no certainty under the new legislation.\n",
      "\n",
      "Overall, FOA believes that the proposed reforms may have unintended consequences and may not achieve the desired outcomes. They recommend further clarification and consideration of the issues raised in their submission.\n",
      "\n"
     ]
    },
    {
     "data": {
      "text/html": [
       "<a href=https:////////www.parliament.nz////resource////en-NZ////53SCEN_EVI_129831_EN15490////e4107c3608483cac3e6559aae11d06b794c9f382>Read the full submission</a>"
      ],
      "text/plain": [
       "<IPython.core.display.HTML object>"
      ]
     },
     "metadata": {},
     "output_type": "display_data"
    },
    {
     "data": {
      "text/html": [
       "<b>DairyNZ – Submission</b>"
      ],
      "text/plain": [
       "<IPython.core.display.HTML object>"
      ]
     },
     "metadata": {},
     "output_type": "display_data"
    },
    {
     "name": "stdout",
     "output_type": "stream",
     "text": [
      "DairyNZ opposes the Natural and Built Environment Bill (NBEA) as it currently stands. While supportive of efforts to reform New Zealand's resource management legislation, DairyNZ believes that the NBEA will not achieve better outcomes for communities or the environment without significant reworking. The bill adds further complexity to an already complex system and lacks specific detail and a clear implementation plan. Dairy farmers rely heavily on resource management legislation for their businesses and believe that the bill will have significant impacts on their ability to farm and access freshwater. They are concerned about the uncertainty and lack of consultation surrounding the reform and the potential adverse impacts on long-term investment and development. DairyNZ also raises concerns about the lack of specific information, the potential carryover of existing issues from the Resource Management Act, the need for sound science in setting environmental limits, the lack of guidance for managing greenhouse gases, the need for appropriate representation in the freshwater working group, and the significant ministerial powers and infringement penalties proposed in the bill.\n",
      "\n"
     ]
    },
    {
     "data": {
      "text/html": [
       "<a href=https:////////www.parliament.nz////resource////en-NZ////53SCEN_EVI_129831_EN15585////2576d01acead640a280cd125e44c748095011bee>Read the full submission</a>"
      ],
      "text/plain": [
       "<IPython.core.display.HTML object>"
      ]
     },
     "metadata": {},
     "output_type": "display_data"
    },
    {
     "data": {
      "text/html": [
       "<b>Ministry of the Environment (Indicative purpose drafting - NBE Bill - 31 March) – Official advice</b>"
      ],
      "text/plain": [
       "<IPython.core.display.HTML object>"
      ]
     },
     "metadata": {},
     "output_type": "display_data"
    },
    {
     "name": "stdout",
     "output_type": "stream",
     "text": [
      "This briefing outlines the purpose and means for achieving the purpose of an Act that aims to uphold the well-being of the natural environment (Oranga o te Taiao). The purpose of the Act is to protect the health of the natural environment and enable its use and development in a way that promotes the well-being of present and future generations. The briefing recommends several key means to achieve this purpose, including providing system outcomes at the national and regional levels, setting limits and mandatory targets, setting discretionary targets, preparing regional spatial strategies, applying decision-making principles, and protecting places of national importance and highly vulnerable biosecurity areas.\n",
      "\n"
     ]
    },
    {
     "data": {
      "text/html": [
       "<a href=https:////////www.parliament.nz////resource////en-NZ////53SCEN_ADV_129831_EN16773////f1bb2b95802b49dbd8afdbd2484e0704f27e68b7>Read the full submission</a>"
      ],
      "text/plain": [
       "<IPython.core.display.HTML object>"
      ]
     },
     "metadata": {},
     "output_type": "display_data"
    },
    {
     "data": {
      "text/html": [
       "<b>New Zealand Sport Fishing Council Supp 1 – Submission</b>"
      ],
      "text/plain": [
       "<IPython.core.display.HTML object>"
      ]
     },
     "metadata": {},
     "output_type": "display_data"
    },
    {
     "name": "stdout",
     "output_type": "stream",
     "text": [
      "The main argument made by Andrew Johnson, Vice President of the New Zealand Sport Fishing Council, is that the management of the effects of fishing should remain under the Fisheries Act 1996, rather than introducing a new bill. Johnson argues that regional councils lack the competency and capacity to effectively manage fisheries resources and that their primary responsibility should be preventing habitat loss resulting from land use. He also criticizes the failings of regional councils in managing the marine environment, such as sediment runoff, invasive pests, and pollution. Johnson believes that the Fisheries Act 1996 already provides the necessary tools for managing fisheries and that any changes should take into account the social, economic, and cultural well-being of people who rely on fishing. He calls for a clear delineation between the roles of regional councils and the Fisheries Act in managing biodiversity in the marine environment.\n",
      "\n"
     ]
    },
    {
     "data": {
      "text/html": [
       "<a href=https:////////www.parliament.nz////resource////en-NZ////53SCEN_EVI_129831_EN15869////4987af4b6a0bdb8270d38b4ac9c95bddc9ef9c06>Read the full submission</a>"
      ],
      "text/plain": [
       "<IPython.core.display.HTML object>"
      ]
     },
     "metadata": {},
     "output_type": "display_data"
    },
    {
     "data": {
      "text/html": [
       "<b>Te Arawa River Iwi Trust – Submission</b>"
      ],
      "text/plain": [
       "<IPython.core.display.HTML object>"
      ]
     },
     "metadata": {},
     "output_type": "display_data"
    },
    {
     "name": "stdout",
     "output_type": "stream",
     "text": [
      "The Te Arawa River Iwi Trust has submitted a response to the Environment Select Committee on the Natural and Built Environment Bill and Spatial Planning Bill. The submission highlights several key issues with the bills, including the failure to uphold the River Settlement and other Treaty settlements and arrangements. The trust argues that the bills do not adequately reflect the principles and co-governance arrangements of the River Settlement and that the protection of this redress should have been foundational to the creation of the new system. The submission also raises concerns about the lack of time given to ensure the reform is done right, the failure to address iwi and hapuu rights and interests in freshwater, and the need for proper recognition of the relationship between iwi and hapuu with the environment. The trust also opposes the creation of a National Māori Entity and calls for adequate resourcing for iwi and hapuu to participate in the system. Additionally, the submission criticizes the appointment process for Regional Planning Committees, arguing that it falls short of a Treaty-compliant partnership model and is overly complex and burdensome for Māori participants. The trust suggests an alternative model based on the Water Services Entities Act 2022. The submission also calls for amendments to ensure the integrity of Treaty settlements is upheld and for adequate funding for iwi and hapuu participation.\n",
      "\n"
     ]
    },
    {
     "data": {
      "text/html": [
       "<a href=https:////////www.parliament.nz////resource////en-NZ////53SCEN_EVI_129831_EN15317////0133e9c2ecc5a9af1e96b9a04fe4241c5f662373>Read the full submission</a>"
      ],
      "text/plain": [
       "<IPython.core.display.HTML object>"
      ]
     },
     "metadata": {},
     "output_type": "display_data"
    },
    {
     "data": {
      "text/html": [
       "<b>Opuha Water Limited Supp 1 – Submission</b>"
      ],
      "text/plain": [
       "<IPython.core.display.HTML object>"
      ]
     },
     "metadata": {},
     "output_type": "display_data"
    },
    {
     "name": "stdout",
     "output_type": "stream",
     "text": [
      "The main argument in this submission is that the proposed bill, which introduces short consent timeframes of 10 years for water storage and distribution infrastructure, poses a significant threat to the Opuha Water Ltd's ability to maintain and enhance their assets. The CEO argues that obtaining funding for future capital expenditure will be near impossible with short-term consents, and it will force the company to make difficult decisions about which parts of their infrastructure to maintain and which environmental programs to cease. The submission also criticizes the short consent timeframes, stating that they will require the company to reconsent three times as frequently as grid-connected power stations, resulting in wasteful expenditure and uncertainty. The submission calls for longer consent durations, inclusion on the engagement register for the Regional Planning Committee, flexibility in planning frameworks for water resource management, and consideration of existing investments in reconsenting applications.\n",
      "\n"
     ]
    },
    {
     "data": {
      "text/html": [
       "<a href=https:////////www.parliament.nz////resource////en-NZ////53SCEN_EVI_129831_EN15909////1b5569f42b68f48fdecb83961c1bcbcae1f1a7f8>Read the full submission</a>"
      ],
      "text/plain": [
       "<IPython.core.display.HTML object>"
      ]
     },
     "metadata": {},
     "output_type": "display_data"
    },
    {
     "data": {
      "text/html": [
       "<b>New Zealand Winegrowers – Submission</b>"
      ],
      "text/plain": [
       "<IPython.core.display.HTML object>"
      ]
     },
     "metadata": {},
     "output_type": "display_data"
    },
    {
     "name": "stdout",
     "output_type": "stream",
     "text": [
      "The New Zealand Winegrowers (NZW) has submitted their concerns about the Natural and Built Environment Bill and the Spatial Planning Bill. They argue that while they support the government's goal of reforming the resource management system, they are concerned that the proposed bills will not achieve the desired improvements and may result in a costly and uncertain system. They highlight the lack of clarity in key aspects of the system, such as environmental limits and targets, conflicts between system outcomes, and allocation principles. They also express concerns about the role of Regional Planning Committees and the potential for reduced local government input and public participation. The NZW opposes the proposed 10-year maximum consent duration for freshwater takes and discharges, arguing that a 25-year duration would be more appropriate. They also believe that the threshold for vineyards to require a Freshwater Farm Plan is too low and should be raised to 20 hectares. The NZW supports the inclusion of greenhouse gas emissions reduction and highly productive land protection in the system outcomes but calls for stronger recognition of economic and social development. They also express concerns about the lack of public and stakeholder participation in the creation of Regional Spatial Strategies. Overall, the NZW requests that the government pause the consultation process to allow for more meaningful consultation and the release of missing information.\n",
      "\n"
     ]
    },
    {
     "data": {
      "text/html": [
       "<a href=https:////////www.parliament.nz////resource////en-NZ////53SCEN_EVI_129831_EN15487////302f690972ee45c389a3fcecd0c1a9dd4f3e8a1c>Read the full submission</a>"
      ],
      "text/plain": [
       "<IPython.core.display.HTML object>"
      ]
     },
     "metadata": {},
     "output_type": "display_data"
    },
    {
     "data": {
      "text/html": [
       "<b>LGNZ – Submission</b>"
      ],
      "text/plain": [
       "<IPython.core.display.HTML object>"
      ]
     },
     "metadata": {},
     "output_type": "display_data"
    },
    {
     "name": "stdout",
     "output_type": "stream",
     "text": [
      "The submission raises concerns about the proposed Natural and Built Environments and Spatial Planning Bills in New Zealand. The main arguments against the bills include the loss of local voice in the new regional planning system, limited input and influence for councils in implementing plans, complex arrangements for supporting Regional Planning Committees (RPCs), potential costs and legal issues related to new definitions and concepts, lack of funding from central government, misalignment with other major reforms, lack of direction on transition and implementation, and the need for stronger local government involvement in decision-making. The submission recommends amendments to address these concerns and ensure that the reform achieves its objectives and delivers a better system.\n",
      "\n"
     ]
    },
    {
     "data": {
      "text/html": [
       "<a href=https:////////www.parliament.nz////resource////en-NZ////53SCEN_EVI_129831_EN15478////67211f6f41f1f09cc1f4ada969ea3cd85d686f61>Read the full submission</a>"
      ],
      "text/plain": [
       "<IPython.core.display.HTML object>"
      ]
     },
     "metadata": {},
     "output_type": "display_data"
    },
    {
     "data": {
      "text/html": [
       "<b>Kevin Moran Supp 1 – Submission</b>"
      ],
      "text/plain": [
       "<IPython.core.display.HTML object>"
      ]
     },
     "metadata": {},
     "output_type": "display_data"
    },
    {
     "name": "stdout",
     "output_type": "stream",
     "text": [
      "The main argument in this submission is that Te Waikoropupū Springs in Golden Bay, New Zealand, should be protected due to its outstanding spiritual characteristics. The author, Kevin Moran, provides evidence of the campaign by Save Our Springs (SOS) to protect the springs and the public support for this cause. He also argues that the springs have significant spiritual value, as evidenced by the experiences of visitors and the symbolism associated with sacred springs and water. Moran emphasizes the need to protect the springs from nitrate pollution and other threats in order to maintain its spiritual nature. He concludes by urging the court to uphold the Water Conservation Order and align with the voices of the thousands of people who have signed SOS's petitions.\n",
      "\n"
     ]
    },
    {
     "data": {
      "text/html": [
       "<a href=https:////////www.parliament.nz////resource////en-NZ////53SCEN_EVI_129831_EN15877////aff6ae1fcb5bf4574188d17185662ffa6149c391>Read the full submission</a>"
      ],
      "text/plain": [
       "<IPython.core.display.HTML object>"
      ]
     },
     "metadata": {},
     "output_type": "display_data"
    },
    {
     "data": {
      "text/html": [
       "<b>Straterra – Submission</b>"
      ],
      "text/plain": [
       "<IPython.core.display.HTML object>"
      ]
     },
     "metadata": {},
     "output_type": "display_data"
    },
    {
     "name": "stdout",
     "output_type": "stream",
     "text": [
      "Straterra, an industry association representing the New Zealand minerals and mining sector, opposes the Natural and Built Environment (NBE) and Spatial Planning (SP) Bills. They believe that there are too many unresolved issues and flaws in the bills for them to be fixed. They are concerned about the haste with which the bills are proceeding and the lack of clarity regarding the National Planning Framework (NPF). They argue that the existing Resource Management Act (RMA) does a better job of managing conflicts between the environment and economic development and that the proposed system under the new bills is too reliant on political solutions. They also highlight the importance of minerals for modern society and argue that a robust resource management system is important for the mining sector. They criticize various aspects of the bills, including the inflexibility associated with environmental limits and targets, the lack of clarity in the purpose statement, the potential loss of existing use rights, and the ambiguity and contradictions in the bills' provisions. They also express concerns about the regional planning committees, the duration of consents, the requirements for contaminated land, and the inadequately defined terms in the bills. They conclude by stating that the bills do not provide a good framework for managing conflicts between the environment and economic development and that they oppose the bills.\n",
      "\n"
     ]
    },
    {
     "data": {
      "text/html": [
       "<a href=https:////////www.parliament.nz////resource////en-NZ////53SCEN_EVI_129831_EN15319////fde173b2ff6dcfdae7d135f89682cb3423ebefae>Read the full submission</a>"
      ],
      "text/plain": [
       "<IPython.core.display.HTML object>"
      ]
     },
     "metadata": {},
     "output_type": "display_data"
    },
    {
     "data": {
      "text/html": [
       "<b>New Zealand Institute of Landscape Architects Tuia Pito Ora Supp 1 – Submission</b>"
      ],
      "text/plain": [
       "<IPython.core.display.HTML object>"
      ]
     },
     "metadata": {},
     "output_type": "display_data"
    },
    {
     "name": "stdout",
     "output_type": "stream",
     "text": [
      "The New Zealand Institute of Landscape Architects (NZILA) supports the Natural and Built Environment Bill and emphasizes the importance of the relationship between well-being and place. They argue that landscapes reflect the relationships between people and place, and that all places contribute to our identity and well-being. They believe that in order to achieve the purpose of the Act, system outcomes must recognize the importance of the relationships between communities and place. They suggest that the national planning framework and all plans should provide for system outcomes that recognize these relationships and contribute to the identity and well-being of present and future generations.\n",
      "\n"
     ]
    },
    {
     "data": {
      "text/html": [
       "<a href=https:////////www.parliament.nz////resource////en-NZ////53SCEN_EVI_129831_EN15480////6ae25fad68bf6fb865939b83f79a44fbaecabe9d>Read the full submission</a>"
      ],
      "text/plain": [
       "<IPython.core.display.HTML object>"
      ]
     },
     "metadata": {},
     "output_type": "display_data"
    },
    {
     "data": {
      "text/html": [
       "<b>Waimakariri District Council – Submission</b>"
      ],
      "text/plain": [
       "<IPython.core.display.HTML object>"
      ]
     },
     "metadata": {},
     "output_type": "display_data"
    },
    {
     "name": "stdout",
     "output_type": "stream",
     "text": [
      "The Waimakariri District Council supports the need for resource management system reform but has concerns about the current form of the Natural and Built Environment Bill (NBE Bill) and the Spatial Planning Bill (SP Bill). The council believes that the current bills may not achieve the government's objectives for resource management system reform, including better environmental protection, timely housing and infrastructure supply, and streamlined processes. They argue that the proposed planning regime reflects a centralization of environmental planning, which may result in the loss of local knowledge, meaningful community participation, and local decision-making. \n",
      "\n",
      "The council supports the concept of regional spatial strategies overseen by a Regional Planning Committee but disagrees with the need for a separate Regional Planning Committee to prepare NBE plans. They suggest that local authorities should retain the function of preparing NBE plans and that these plans should be required to give effect to regional spatial strategies. The council also recommends that the purpose of the NBE Bill be replaced with the purpose of the Resource Management Act (RMA) and that established terms and tests from the RMA be used in the new bills to ensure continuity and minimize uncertainty. \n",
      "\n",
      "Overall, the council believes that the current bills are too complex and may not achieve the desired outcomes for resource management system reform. They recommend that the SP Bill be abandoned and that regional spatial planning provisions be included in the NBE Act. They also suggest alternative models for streamlining the planning process and emphasize the importance of localism and local knowledge in environmental planning.\n",
      "\n"
     ]
    },
    {
     "data": {
      "text/html": [
       "<a href=https:////////www.parliament.nz////resource////en-NZ////53SCEN_EVI_129831_EN15622////a1ff21dc7c0f321df04d36210929efac1237d1c3>Read the full submission</a>"
      ],
      "text/plain": [
       "<IPython.core.display.HTML object>"
      ]
     },
     "metadata": {},
     "output_type": "display_data"
    },
    {
     "data": {
      "text/html": [
       "<b>Gore District Council – Submission</b>"
      ],
      "text/plain": [
       "<IPython.core.display.HTML object>"
      ]
     },
     "metadata": {},
     "output_type": "display_data"
    },
    {
     "name": "stdout",
     "output_type": "stream",
     "text": [
      "The Gore District Council has submitted a response to the Natural and Built Environment Bill and Spatial Planning Bill, expressing concerns about the proposed legislation. The council supports the need for resource management law reform but believes that the current bills do not effectively address the issues. \n",
      "\n",
      "One of the main concerns raised by the council is the lack of clear definitions for key terms in the legislation, such as \"te Oranga o te Taiao\" and the principles of te Tiriti o Waitangi. The council argues that without clear definitions, there will be uncertainty and potential for litigation in interpreting these terms.\n",
      "\n",
      "The council also raises concerns about the provisions regarding existing use rights. While the legislation provides some clarity on this issue, there are still provisions that create ambiguity and undermine the objective of certainty and simplicity.\n",
      "\n",
      "Another concern raised by the council is the development of the National Planning Framework (NPF). The council argues that the lack of information about the NPF creates uncertainty and hinders the ability to assess the effectiveness of the new system. The council also believes that the NPF should be co-designed with local authorities to ensure local circumstances are taken into account.\n",
      "\n",
      "The council also raises concerns about the Regional Planning Committee (RPC) and the appointment of members to the Independent Hearings Panel (IHP). The council believes that the RPC should be accountable to the communities they represent and that the criteria for appointing members to the IHP should be transparent.\n",
      "\n",
      "The council supports the limitations on appeals to decisions made by the IHP and RPC, as it believes that excessive appeals undermine democracy and local choice. However, the council also expresses concerns about the usability of the Natural and Built Environment Act, suggesting that it may add more bureaucracy and complexity to the resource management process.\n",
      "\n",
      "Overall, the council argues that the proposed legislation does not effectively address the issues with the current resource management system and calls for key amendments to be made to ensure certainty, simplicity, and local input.\n",
      "\n"
     ]
    },
    {
     "data": {
      "text/html": [
       "<a href=https:////////www.parliament.nz////resource////en-NZ////53SCEN_EVI_129831_EN15603////751e417031fe0745d2dc33bc9b153fe04d27ae39>Read the full submission</a>"
      ],
      "text/plain": [
       "<IPython.core.display.HTML object>"
      ]
     },
     "metadata": {},
     "output_type": "display_data"
    },
    {
     "data": {
      "text/html": [
       "<b>Opuha Water Limited – Submission</b>"
      ],
      "text/plain": [
       "<IPython.core.display.HTML object>"
      ]
     },
     "metadata": {},
     "output_type": "display_data"
    },
    {
     "name": "stdout",
     "output_type": "stream",
     "text": [
      "OWL (Opuha Water Limited) has submitted their concerns about the Natural and Built Environments Bill. They argue that the Bill represents a step backwards from the Resource Management Act (RMA) and that the drafting of the Bill has compromised its quality. They express concerns about the lack of clear direction on system outcomes, the reduction of public participation, and the uncertainty for existing water infrastructure investment. They also raise specific concerns about the omission of water shortage directions, the definitions of \"bed\" and \"river,\" and the proposed existing use rights regime. They request amendments to address these concerns.\n",
      "\n"
     ]
    },
    {
     "data": {
      "text/html": [
       "<a href=https:////////www.parliament.nz////resource////en-NZ////53SCEN_EVI_129831_EN15831////bf2035eebb98aa9ff6a5b5621c2c5fd34ed6ff20>Read the full submission</a>"
      ],
      "text/plain": [
       "<IPython.core.display.HTML object>"
      ]
     },
     "metadata": {},
     "output_type": "display_data"
    },
    {
     "data": {
      "text/html": [
       "<b>Energy Resources Aotearoa – Submission</b>"
      ],
      "text/plain": [
       "<IPython.core.display.HTML object>"
      ]
     },
     "metadata": {},
     "output_type": "display_data"
    },
    {
     "name": "stdout",
     "output_type": "stream",
     "text": [
      "Energy Resources Aotearoa, New Zealand's peak energy advocacy organization, has submitted a response to the Natural and Built Environment Bill 2022. While they support the need for resource management reform, they argue that the proposed legislation is complex and will not deliver meaningful improvements over existing legislation. They express concerns about the structure and cross-referencing of the bill, as well as the short duration and potential alteration of consents, which they believe will undermine investor confidence. They also criticize the speed at which the legislation is being progressed and the lack of clarity and certainty in the proposed system outcomes and decision-making principles. They recommend that the Select Committee focuses on ensuring clear outcomes and decision-making principles rather than specific details in the bill. They also raise concerns about the erosion of property rights, the lack of clarity in the purpose statement and decision-making principles, and the flawed approach to setting environmental limits. They suggest that the New Zealand Emissions Trading Scheme should be the primary tool for controlling greenhouse gas emissions and that an independent body should be responsible for setting and reviewing environmental limits. They also argue for a lifecycle approach to resource use in consenting processes and the inclusion of transitional provisions for existing operations. They call for the depoliticization of decision-making and the establishment of an independent advisory board. Additionally, they express concerns about the unreasonable expectations on landowners to manage contaminated land and the potential duplication of financial security requirements with the Crown Minerals Act. They recommend the exclusion of oil and gas mining activities from the requirement to make payments into an Environmental Restoration Account. Finally, they argue for an explicit strategic national direction for Crown minerals and carbon capture and storage and highlight a drafting error in the bill.\n",
      "\n"
     ]
    },
    {
     "data": {
      "text/html": [
       "<a href=https:////////www.parliament.nz////resource////en-NZ////53SCEN_EVI_129831_EN15441////98e4610c0b34840d01bd8fb08b0650cb122fec33>Read the full submission</a>"
      ],
      "text/plain": [
       "<IPython.core.display.HTML object>"
      ]
     },
     "metadata": {},
     "output_type": "display_data"
    },
    {
     "data": {
      "text/html": [
       "<b>Paua Industry Council Supp 1 – Submission</b>"
      ],
      "text/plain": [
       "<IPython.core.display.HTML object>"
      ]
     },
     "metadata": {},
     "output_type": "display_data"
    },
    {
     "name": "stdout",
     "output_type": "stream",
     "text": [
      "The submission argues against the ability for regional councils to control fishing for the purpose of protecting biodiversity. It states that this could undermine the Crown's obligations under the Fisheries Settlement and Fisheries New Zealand's ability to manage fisheries resources coherently. It also suggests that controls under the Resource Management Act may not have the flexibility of measures available under the Fisheries Act, and that significant controls by councils could have undue impacts on stakeholders. The submission raises concerns about jurisdictional overlap, increased costs for government and stakeholders, difficulty in compliance and enforcement, limited consultation and guidance for regional councils.\n",
      "\n"
     ]
    },
    {
     "data": {
      "text/html": [
       "<a href=https:////////www.parliament.nz////resource////en-NZ////53SCEN_EVI_129831_EN15892////ee67d17d149d7d1378e19fee52d36d30a9f6c145>Read the full submission</a>"
      ],
      "text/plain": [
       "<IPython.core.display.HTML object>"
      ]
     },
     "metadata": {},
     "output_type": "display_data"
    },
    {
     "data": {
      "text/html": [
       "<b>Te Ihu o te Waka o Te Arawa and Te Kāhui Mana Whenua o Tauranga Moana – Submission</b>"
      ],
      "text/plain": [
       "<IPython.core.display.HTML object>"
      ]
     },
     "metadata": {},
     "output_type": "display_data"
    },
    {
     "name": "stdout",
     "output_type": "stream",
     "text": [
      "The submission is made by Te Ihu o Te Waka o Te Arawa and Te Kāhui Mana Whenua o Tauranga Moana, representing iwi and hapū in the Western Bay of Plenty District Council. The submission raises several concerns and criticisms of the Natural and Built Environment (NBE) Bill and Spatial Planning Bills (SPA Bill), which aim to reform the Resource Management Act. \n",
      "\n",
      "The main arguments against the bills include:\n",
      "1. Insufficient time for proper consideration: The submission argues that there has not been enough time to ensure that the bills are achieving their stated aims and that iwi and hapū have not had enough time to respond to the reforms.\n",
      "2. Failure to meet stated aims: The bills are criticized for lacking clear direction, integration, and Tiriti-compliant standards for Māori participation.\n",
      "3. Lack of recognition of Te Oranga o te Taiao: The submission argues that the bills should prioritize the recognition and upholding of Te Oranga o te Taiao (the health of the natural environment) as a foundational principle.\n",
      "4. Failure to address iwi and hapū rights and interests in freshwater: The submission criticizes the government for not addressing the issue of iwi and hapū rights and interests in freshwater, which it considers a fundamental shortcoming of the bills.\n",
      "5. Upholding Te Tiriti o Waitangi settlements: The submission argues that the bills should uphold Te Tiriti o Waitangi settlements and provide flexibility to modify the bills to give effect to existing settlements.\n",
      "6. Upholding existing arrangements under the RMA: The submission argues that bespoke arrangements negotiated by iwi and hapū under the Resource Management Act should be upheld through the transition to the new system.\n",
      "7. Resourcing iwi and hapū participation: The submission calls for adequate resources to support iwi and hapū participation in the transitional phase and beyond.\n",
      "\n",
      "The submission also includes specific topic-based submissions on terminology, the purpose and related provisions of the bills, Te Tiriti o Waitangi, system outcomes, regional planning committees, and iwi and hapū rights and interests in freshwater. It provides recommendations for amendments to address the concerns raised.\n",
      "\n"
     ]
    },
    {
     "data": {
      "text/html": [
       "<a href=https:////////www.parliament.nz////resource////en-NZ////53SCEN_EVI_129831_EN15611////da299d7c3ab851eb6f280c82751531a3ca55a5da>Read the full submission</a>"
      ],
      "text/plain": [
       "<IPython.core.display.HTML object>"
      ]
     },
     "metadata": {},
     "output_type": "display_data"
    },
    {
     "data": {
      "text/html": [
       "<b>Hamilton City Council – Submission</b>"
      ],
      "text/plain": [
       "<IPython.core.display.HTML object>"
      ]
     },
     "metadata": {},
     "output_type": "display_data"
    },
    {
     "name": "stdout",
     "output_type": "stream",
     "text": [
      "The Hamilton City Council opposes the passing of the Natural and Built Environment Bill in its current form. They argue that while they support the intent of the reforms, the proposed legislation will not achieve its objectives and represents a step backwards from current resource management practices in New Zealand. The council identifies several flaws in the bill, including a fundamental flaw that makes it impossible for them to effectively perform their roles and responsibilities. They also criticize the lack of integration with other sector reforms, the complexity and cost of implementation, and the extreme response to resolving concerns under the current Resource Management Act regime. The council suggests solutions such as amending the bill to address these flaws and ensuring proper representation and accountability in decision-making processes. They also question the value of a combined plan for the Waikato region and propose alternative approaches that reflect local issues and contexts.\n",
      "\n"
     ]
    },
    {
     "data": {
      "text/html": [
       "<a href=https:////////www.parliament.nz////resource////en-NZ////53SCEN_EVI_129831_EN15579////62c299e7a1478bd75cd79c81c86465f2c1f2782e>Read the full submission</a>"
      ],
      "text/plain": [
       "<IPython.core.display.HTML object>"
      ]
     },
     "metadata": {},
     "output_type": "display_data"
    },
    {
     "data": {
      "text/html": [
       "<b>Te Arawa Lakes Trust Supp 1 – Submission</b>"
      ],
      "text/plain": [
       "<IPython.core.display.HTML object>"
      ]
     },
     "metadata": {},
     "output_type": "display_data"
    },
    {
     "name": "stdout",
     "output_type": "stream",
     "text": [
      "The Te Arawa Lakes Trust argues that the Natural and Built Environment and Spatial Planning Bills fail to uphold the integrity and effect of the Te Arawa Lakes Trust - Te Tiriti Settlement. They believe that the Bills do not provide a strong enough voice for hapū and iwi and do not adequately reflect the principles of Te Tiriti. They also argue that the Bills do not uphold the integrity and effect of the Te Arawa lakes Settlement and the Rotorua Lakes Strategy Agreement. They propose solutions such as elevating Te Oranga o te Taiao in the purpose and implementation mechanisms of the Bills, giving more agency to the Statutory Acknowledgement holder, and including protections for settlement arrangements such as the Rotorua Lakes Strategy Agreement and Group. The Trust also raises concerns about the lack of recognition of iwi and hapū rights and interests in freshwater and geothermal resources and the need for adequate resources to support iwi and hapū participation in the system.\n",
      "\n"
     ]
    },
    {
     "data": {
      "text/html": [
       "<a href=https:////////www.parliament.nz////resource////en-NZ////53SCEN_EVI_129831_EN16124////816fda316935aef0eb4b6cbbf05de427c63875a2>Read the full submission</a>"
      ],
      "text/plain": [
       "<IPython.core.display.HTML object>"
      ]
     },
     "metadata": {},
     "output_type": "display_data"
    },
    {
     "data": {
      "text/html": [
       "<b>New Zealand Game Animal Council Supp 4 – Submission</b>"
      ],
      "text/plain": [
       "<IPython.core.display.HTML object>"
      ]
     },
     "metadata": {},
     "output_type": "display_data"
    },
    {
     "name": "stdout",
     "output_type": "stream",
     "text": [
      "The main argument of this submission is that successful marine protected areas (MPAs) require a governance strategy that balances conservation goals with the interests of different stakeholders, such as the fishery and tourism sectors. The author explores the case of the Torre Guaceto MPA in south-east Italy, which has been successful in both ecological and economic terms. The success of Torre Guaceto can be attributed to the use of multiple economic and non-economic incentives, as well as strong leadership by local leaders. The author argues that co-management and engagement of local communities are essential for the success of MPAs. The Torre Guaceto MPA has led to the recovery of ecosystems and provided economic benefits to the tourism and fishery sectors.\n",
      "\n"
     ]
    },
    {
     "data": {
      "text/html": [
       "<a href=https:////////www.parliament.nz////resource////en-NZ////53SCEN_EVI_129831_EN15935////235fee8bd1cc44cd76796b36073097bfe7c2acbd>Read the full submission</a>"
      ],
      "text/plain": [
       "<IPython.core.display.HTML object>"
      ]
     },
     "metadata": {},
     "output_type": "display_data"
    },
    {
     "data": {
      "text/html": [
       "<b>Herenga a Nuku Aotearoa, the Outdoor Access Commission Supp 2 – Submission</b>"
      ],
      "text/plain": [
       "<IPython.core.display.HTML object>"
      ]
     },
     "metadata": {},
     "output_type": "display_data"
    },
    {
     "name": "stdout",
     "output_type": "stream",
     "text": [
      "The submission does not provide any information or arguments for or against the bill.\n",
      "\n"
     ]
    },
    {
     "data": {
      "text/html": [
       "<a href=https:////////www.parliament.nz////resource////en-NZ////53SCEN_EVI_129831_EN16117////820f79b97ea43886db6b72e2fc679c50e4f1e312>Read the full submission</a>"
      ],
      "text/plain": [
       "<IPython.core.display.HTML object>"
      ]
     },
     "metadata": {},
     "output_type": "display_data"
    },
    {
     "data": {
      "text/html": [
       "<b>Irrigation NZ Supp 5 – Submission</b>"
      ],
      "text/plain": [
       "<IPython.core.display.HTML object>"
      ]
     },
     "metadata": {},
     "output_type": "display_data"
    },
    {
     "name": "stdout",
     "output_type": "stream",
     "text": [
      "The submission does not provide any specific information or arguments for or against the bill.\n",
      "\n"
     ]
    },
    {
     "data": {
      "text/html": [
       "<a href=https:////////www.parliament.nz////resource////en-NZ////53SCEN_EVI_129831_EN15834////c9b8c3c5b60c7928dc0d3a0beb78c872a84465ff>Read the full submission</a>"
      ],
      "text/plain": [
       "<IPython.core.display.HTML object>"
      ]
     },
     "metadata": {},
     "output_type": "display_data"
    }
   ],
   "source": [
    "display(HTML(f\"<h3>Paragraph-length summaries</h3>\"))\n",
    "df = df.sort_values(by=\"sentiment\")\n",
    "for row in df.iterrows():\n",
    "        name = (f\"<b>{row[1].Name} – {row[1].doc_type}</b>\")\n",
    "        display(HTML(name))\n",
    "        print (row[1].summary+\"\\n\")\n",
    "        hyperlink = (f\"<a href={row[1].submission_url}>Read the full submission</a>\")\n",
    "        display(HTML(hyperlink))"
   ]
  },
  {
   "cell_type": "code",
   "execution_count": 31,
   "id": "e373aeec-589f-4213-b54d-3188e00fc5c9",
   "metadata": {
    "jupyter": {
     "source_hidden": true
    },
    "tags": []
   },
   "outputs": [
    {
     "data": {
      "text/html": [
       "<h2> Show how positive or negative submissions are by category</h2>"
      ],
      "text/plain": [
       "<IPython.core.display.HTML object>"
      ]
     },
     "metadata": {},
     "output_type": "display_data"
    },
    {
     "data": {
      "text/html": [
       "<iframe src='https://flo.uri.sh/visualisation/15207362/embed' title='Interactive or visual content' class='flourish-embed-iframe' frameborder='0' scrolling='no' style='width:100%;height:600px;' sandbox='allow-same-origin allow-forms allow-scripts allow-downloads allow-popups allow-popups-to-escape-sandbox allow-top-navigation-by-user-activation'></iframe><div style='width:100%!;margin-top:4px!important;text-align:right!important;'><a class='flourish-credit' href='https://public.flourish.studio/visualisation/15207362/?utm_source=embed&utm_campaign=visualisation/15207362' target='_top' style='text-decoration:none!important'><img alt='Made with Flourish' src='https://public.flourish.studio/resources/made_with_flourish.svg' style='width:105px!important;height:16px!important;border:none!important;margin:0!important;'> </a></div>"
      ],
      "text/plain": [
       "<IPython.core.display.HTML object>"
      ]
     },
     "metadata": {},
     "output_type": "display_data"
    }
   ],
   "source": [
    "\n",
    "# Sort the DataFrame by the numeric column (Value) if needed\n",
    "display(HTML(f\"<h2> Show how positive or negative submissions are by category</h2>\"))\n",
    "display(HTML(f\"<iframe src='https://flo.uri.sh/visualisation/15207362/embed' title='Interactive or visual content' class='flourish-embed-iframe' frameborder='0' scrolling='no' style='width:100%;height:600px;' sandbox='allow-same-origin allow-forms allow-scripts allow-downloads allow-popups allow-popups-to-escape-sandbox allow-top-navigation-by-user-activation'></iframe><div style='width:100%!;margin-top:4px!important;text-align:right!important;'><a class='flourish-credit' href='https://public.flourish.studio/visualisation/15207362/?utm_source=embed&utm_campaign=visualisation/15207362' target='_top' style='text-decoration:none!important'><img alt='Made with Flourish' src='https://public.flourish.studio/resources/made_with_flourish.svg' style='width:105px!important;height:16px!important;border:none!important;margin:0!important;'> </a></div>\"))"
   ]
  },
  {
   "cell_type": "code",
   "execution_count": null,
   "id": "398ea6b8-d9b6-41d3-b122-dec1235aebdf",
   "metadata": {},
   "outputs": [],
   "source": []
  }
 ],
 "metadata": {
  "kernelspec": {
   "display_name": "Python 3 (ipykernel)",
   "language": "python",
   "name": "python3"
  },
  "language_info": {
   "codemirror_mode": {
    "name": "ipython",
    "version": 3
   },
   "file_extension": ".py",
   "mimetype": "text/x-python",
   "name": "python",
   "nbconvert_exporter": "python",
   "pygments_lexer": "ipython3",
   "version": "3.10.0"
  }
 },
 "nbformat": 4,
 "nbformat_minor": 5
}
